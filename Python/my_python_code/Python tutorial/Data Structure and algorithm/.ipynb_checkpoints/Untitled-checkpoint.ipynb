{
 "cells": [
  {
   "cell_type": "code",
   "execution_count": 29,
   "metadata": {},
   "outputs": [],
   "source": [
    "class Node:\n",
    "    \n",
    "    def __init__(self, data):\n",
    "        self.data = data\n",
    "        self.link = []\n",
    "        self.visit = False\n",
    "        \n",
    "class BreadthFirstSearch:\n",
    "    \n",
    "    def bfs(self,start_node):\n",
    "        \n",
    "        queue = []\n",
    "        queue.append(start_node)\n",
    "        \n",
    "        while queue:\n",
    "            current_queue = queue.pop(0)\n",
    "            print(current_queue.data)\n",
    "            current_queue.visit = True\n",
    "            for n in current_queue.link:\n",
    "                if not n.visit:\n",
    "                    queue.append(n)\n",
    "        \n",
    "        \n",
    "        \n",
    "        \n",
    "        "
   ]
  },
  {
   "cell_type": "code",
   "execution_count": 30,
   "metadata": {},
   "outputs": [],
   "source": [
    "\n",
    "node1 = Node('A')\n",
    "node2 = Node('B')\n",
    "node3 = Node('C')\n",
    "node4 = Node('D')\n",
    "node5 = Node('E')\n",
    "node6 = Node('F')"
   ]
  },
  {
   "cell_type": "code",
   "execution_count": 31,
   "metadata": {},
   "outputs": [],
   "source": [
    "node1.link.append(node2)\n",
    "node1.link.append(node3)\n",
    "node2.link.append(node4)\n",
    "node2.link.append(node5)\n",
    "node3.link.append(node6)"
   ]
  },
  {
   "cell_type": "code",
   "execution_count": 32,
   "metadata": {},
   "outputs": [],
   "source": [
    "bfs = BreadthFirstSearch()"
   ]
  },
  {
   "cell_type": "code",
   "execution_count": 33,
   "metadata": {},
   "outputs": [
    {
     "name": "stdout",
     "output_type": "stream",
     "text": [
      "A\n",
      "B\n",
      "C\n",
      "D\n",
      "E\n",
      "F\n"
     ]
    }
   ],
   "source": [
    "bfs.bfs(node1)"
   ]
  },
  {
   "cell_type": "code",
   "execution_count": 34,
   "metadata": {},
   "outputs": [
    {
     "data": {
      "text/plain": [
       "False"
      ]
     },
     "execution_count": 34,
     "metadata": {},
     "output_type": "execute_result"
    }
   ],
   "source": [
    "node1.visit"
   ]
  },
  {
   "cell_type": "markdown",
   "metadata": {},
   "source": [
    "# stack으로 dfs 구현해보기"
   ]
  },
  {
   "cell_type": "code",
   "execution_count": 40,
   "metadata": {},
   "outputs": [],
   "source": [
    "class Node:\n",
    "    \n",
    "    def __init__(self, data):\n",
    "        self.data = data\n",
    "        self.link = []\n",
    "        self.visited = False\n",
    "        \n",
    "class DepthFirstSearch:\n",
    "    \n",
    "    def dfs(self,start_node):\n",
    "        stack = []\n",
    "        stack.append(start_node)\n",
    "        \n",
    "        \n",
    "        while stack:\n",
    "            current = stack.pop()\n",
    "            print(current.data)\n",
    "            for i in current.link:\n",
    "                stack.append(i)\n",
    "\n",
    "        "
   ]
  },
  {
   "cell_type": "code",
   "execution_count": 41,
   "metadata": {},
   "outputs": [],
   "source": [
    "node1 = Node('A')\n",
    "node2 = Node('B')\n",
    "node3 = Node('C')\n",
    "node4 = Node('D')\n",
    "node5 = Node('E')\n",
    "node6 = Node('F')"
   ]
  },
  {
   "cell_type": "code",
   "execution_count": 42,
   "metadata": {},
   "outputs": [],
   "source": [
    "node1.link.append(node2)\n",
    "node1.link.append(node3)\n",
    "node2.link.append(node4)\n",
    "node2.link.append(node5)\n",
    "node3.link.append(node6)"
   ]
  },
  {
   "cell_type": "code",
   "execution_count": 43,
   "metadata": {},
   "outputs": [],
   "source": [
    "dfs = DepthFirstSearch()"
   ]
  },
  {
   "cell_type": "code",
   "execution_count": 44,
   "metadata": {},
   "outputs": [
    {
     "name": "stdout",
     "output_type": "stream",
     "text": [
      "A\n",
      "C\n",
      "F\n",
      "B\n",
      "E\n",
      "D\n"
     ]
    }
   ],
   "source": [
    "dfs.dfs(node1)"
   ]
  },
  {
   "cell_type": "code",
   "execution_count": 1,
   "metadata": {},
   "outputs": [],
   "source": [
    "import sys"
   ]
  },
  {
   "cell_type": "code",
   "execution_count": 2,
   "metadata": {},
   "outputs": [],
   "source": [
    "min_distance = sys.maxsize"
   ]
  },
  {
   "cell_type": "code",
   "execution_count": 3,
   "metadata": {},
   "outputs": [
    {
     "data": {
      "text/plain": [
       "9223372036854775807"
      ]
     },
     "execution_count": 3,
     "metadata": {},
     "output_type": "execute_result"
    }
   ],
   "source": [
    "min_distance"
   ]
  },
  {
   "cell_type": "code",
   "execution_count": 4,
   "metadata": {},
   "outputs": [],
   "source": [
    "import sys\n",
    "import heapq"
   ]
  },
  {
   "cell_type": "code",
   "execution_count": 5,
   "metadata": {},
   "outputs": [],
   "source": [
    "class Node:\n",
    "    \n",
    "    def __init__(self,data):\n",
    "        self.data = data\n",
    "        self.precedessor = None\n",
    "        self.link = []\n",
    "        self.min_distance = sys.maxsize"
   ]
  },
  {
   "cell_type": "code",
   "execution_count": 6,
   "metadata": {},
   "outputs": [],
   "source": [
    "class Edge:\n",
    "    \n",
    "    def __init__(self, weight, start_vertex, target_vertex):\n",
    "        self.weight = weight\n",
    "        self.start_vertex = None\n",
    "        self.target_vertex = None"
   ]
  },
  {
   "cell_type": "code",
   "execution_count": null,
   "metadata": {},
   "outputs": [],
   "source": [
    "class Algorithm:\n",
    "    \n",
    "    def cal_shortest_path(self, start_vertex):\n",
    "        \n",
    "        queue = []\n",
    "        start_vertex.min_distance = 0\n",
    "        \n",
    "        heapq.push(queue,start_vertex)\n",
    "        \n",
    "        while queue > 0:\n",
    "            current_vertex = heapq.pop(queue)\n",
    "            \n",
    "            for edge in current_vertex.link:\n",
    "                u = edge.start_vertex\n",
    "                v = edge.tartget_vertex\n",
    "                \n",
    "                if u.min_distance + edge.weight < v.min_distance:\n",
    "                    v.precedessor =u\n",
    "                    v.min_distance = u.min_distance + edge.weight\n",
    "                    heapq.push(queue,v)\n",
    "    \n",
    "    def get_shortest_path(self, target_vertex):\n",
    "        print('최단거리는 ', target_vertex.min_distance)\n",
    "        \n",
    "        node = target_vertex\n",
    "        while node is not None:\n",
    "            print(node.data)\n",
    "            node = node.precedessor\n",
    "            \n",
    "        \n",
    "        \n",
    "            \n",
    "    \n",
    "    "
   ]
  },
  {
   "cell_type": "code",
   "execution_count": 11,
   "metadata": {},
   "outputs": [
    {
     "data": {
      "text/plain": [
       "0"
      ]
     },
     "execution_count": 11,
     "metadata": {},
     "output_type": "execute_result"
    }
   ],
   "source": [
    "4%2"
   ]
  },
  {
   "cell_type": "code",
   "execution_count": null,
   "metadata": {},
   "outputs": [],
   "source": []
  },
  {
   "cell_type": "code",
   "execution_count": 12,
   "metadata": {},
   "outputs": [],
   "source": [
    "def choidae(a,b):\n",
    "    if a%b == 0:\n",
    "        return b\n",
    "    if a%b !=0:\n",
    "        while c == 0:\n",
    "            c = a%b\n",
    "            a,b = b,c\n",
    "        return c"
   ]
  },
  {
   "cell_type": "code",
   "execution_count": 13,
   "metadata": {},
   "outputs": [
    {
     "data": {
      "text/plain": [
       "2"
      ]
     },
     "execution_count": 13,
     "metadata": {},
     "output_type": "execute_result"
    }
   ],
   "source": [
    "choidae(4,2)"
   ]
  },
  {
   "cell_type": "code",
   "execution_count": null,
   "metadata": {},
   "outputs": [],
   "source": []
  }
 ],
 "metadata": {
  "kernelspec": {
   "display_name": "Python 3",
   "language": "python",
   "name": "python3"
  },
  "language_info": {
   "codemirror_mode": {
    "name": "ipython",
    "version": 3
   },
   "file_extension": ".py",
   "mimetype": "text/x-python",
   "name": "python",
   "nbconvert_exporter": "python",
   "pygments_lexer": "ipython3",
   "version": "3.7.3"
  }
 },
 "nbformat": 4,
 "nbformat_minor": 2
}
