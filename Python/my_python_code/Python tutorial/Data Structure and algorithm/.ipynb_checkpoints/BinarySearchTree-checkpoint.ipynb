{
 "cells": [
  {
   "cell_type": "code",
   "execution_count": 257,
   "metadata": {},
   "outputs": [],
   "source": [
    "import gc\n",
    "import sys"
   ]
  },
  {
   "cell_type": "code",
   "execution_count": 265,
   "metadata": {},
   "outputs": [],
   "source": [
    "class Node:\n",
    "    \n",
    "    def __init__(self,data):\n",
    "        self.data = data\n",
    "        self.leftchild = None\n",
    "        self.rightchild = None\n",
    "        \n",
    "\n",
    "class BinarySearchTree:\n",
    "    \n",
    "    def __init__(self):\n",
    "        self.root = None\n",
    "    \n",
    "    def insert(self, data):\n",
    "        if not self.root:\n",
    "            self.root = Node(data)\n",
    "        \n",
    "        else:\n",
    "            self.insert_node(data,self.root)\n",
    "    \n",
    "    def insert_node(self,data, node):\n",
    "        \n",
    "        if data < node.data:\n",
    "            if node.leftchild:\n",
    "                self.insert_node(data, node.leftchild)\n",
    "            else:\n",
    "                node.leftchild = Node(data)\n",
    "        else:\n",
    "            if node.rightchild:\n",
    "                self.insert_node(data, node.rightchild)\n",
    "            else:\n",
    "                node.rightchild = Node(data)\n",
    "    \n",
    "    def remove(self, data):\n",
    "        if self.root:\n",
    "            self.root = self.remove_node(data, self.root)\n",
    "    \n",
    "    def remove_node(self, data, node):\n",
    "        if not node:\n",
    "            return node\n",
    "        \n",
    "        if data < node.data:\n",
    "            node.leftchild = self.remove_node(data, node.leftchild)\n",
    "            \n",
    "        elif data > node.data:\n",
    "            node.rightchild = self.remove_node(data, node.rightchild)\n",
    "            \n",
    "        else:\n",
    "            \n",
    "            if not node.leftchild and not node.rightchild:\n",
    "                print('removing leaf node')\n",
    "                del node\n",
    "                return None\n",
    "            \n",
    "            if not node.leftchild:\n",
    "                print('removing the node with single rightchild')\n",
    "                tempnode = node.rightchild\n",
    "                del node\n",
    "                return tempnode\n",
    "            \n",
    "            elif not node.rightchild:\n",
    "                print('removing the node with single lefttchild')\n",
    "                tempnode = node.leftchild\n",
    "                del node\n",
    "                \n",
    "                return tempnode\n",
    "            \n",
    "            print('removing the node with two childs')\n",
    "            tempnode = self.get_predessor(node.leftchild)\n",
    "            node.data = tempnode.data\n",
    "            node.leftchild = self.remove_node(tempnode.data, node.leftchild)\n",
    "            \n",
    "\n",
    "        return node\n",
    "            \n",
    "    def get_predessor(self, node):\n",
    "        \n",
    "        if node.rightchild:\n",
    "            return self.get_predessor(node.rightchild)\n",
    "        \n",
    "        return node\n",
    "\n",
    "    \n",
    "            \n",
    "                \n",
    "    def get_min_value(self):\n",
    "        if self.root:\n",
    "            return self.get_min(self.root)\n",
    "    \n",
    "    def get_min(self, node):\n",
    "        if node.leftchild:\n",
    "            return self.get_min(node.leftchild)\n",
    "        \n",
    "        return node.data\n",
    "        \n",
    "    def get_max_value(self):\n",
    "        if self.root:\n",
    "            return self.get_max(self.root)\n",
    "    \n",
    "    def get_max(self, node):\n",
    "        if node.rightchild:\n",
    "            return self.get_max(node.rightchild)\n",
    "        return node.data\n",
    "    \n",
    "    def traverse(self):\n",
    "        if self.root:\n",
    "            self.traverse_in_order(self.root)\n",
    "        \n",
    "    def traverse_in_order(self, node):\n",
    "        if node.leftchild:\n",
    "            self.traverse_in_order(node.leftchild)\n",
    "        \n",
    "        print(node.data)\n",
    "        \n",
    "        if node.rightchild:\n",
    "            self.traverse_in_order(node.rightchild)\n",
    "            \n",
    "            "
   ]
  },
  {
   "cell_type": "code",
   "execution_count": 266,
   "metadata": {},
   "outputs": [],
   "source": [
    "bst = BinarySearchTree()"
   ]
  },
  {
   "cell_type": "code",
   "execution_count": 267,
   "metadata": {},
   "outputs": [],
   "source": [
    "bst.insert(100)\n",
    "bst.insert(150)\n",
    "bst.insert(50)\n",
    "bst.insert(35)\n",
    "bst.insert(70)\n",
    "bst.insert(25)"
   ]
  },
  {
   "cell_type": "code",
   "execution_count": 268,
   "metadata": {},
   "outputs": [
    {
     "data": {
      "text/plain": [
       "25"
      ]
     },
     "execution_count": 268,
     "metadata": {},
     "output_type": "execute_result"
    }
   ],
   "source": [
    "bst.get_min_value()"
   ]
  },
  {
   "cell_type": "code",
   "execution_count": 269,
   "metadata": {},
   "outputs": [
    {
     "data": {
      "text/plain": [
       "150"
      ]
     },
     "execution_count": 269,
     "metadata": {},
     "output_type": "execute_result"
    }
   ],
   "source": [
    "bst.get_max_value()"
   ]
  },
  {
   "cell_type": "code",
   "execution_count": 270,
   "metadata": {},
   "outputs": [
    {
     "name": "stdout",
     "output_type": "stream",
     "text": [
      "25\n",
      "35\n",
      "50\n",
      "70\n",
      "100\n",
      "150\n"
     ]
    }
   ],
   "source": [
    "\n",
    "bst.traverse()"
   ]
  },
  {
   "cell_type": "code",
   "execution_count": 271,
   "metadata": {},
   "outputs": [
    {
     "name": "stdout",
     "output_type": "stream",
     "text": [
      "removing the node with single lefttchild\n"
     ]
    }
   ],
   "source": [
    "bst.remove(35)"
   ]
  },
  {
   "cell_type": "code",
   "execution_count": 272,
   "metadata": {},
   "outputs": [
    {
     "name": "stdout",
     "output_type": "stream",
     "text": [
      "25\n",
      "50\n",
      "70\n",
      "100\n",
      "150\n"
     ]
    }
   ],
   "source": [
    "bst.traverse()"
   ]
  },
  {
   "cell_type": "code",
   "execution_count": null,
   "metadata": {},
   "outputs": [],
   "source": []
  }
 ],
 "metadata": {
  "kernelspec": {
   "display_name": "mypython",
   "language": "python",
   "name": "myenv"
  },
  "language_info": {
   "codemirror_mode": {
    "name": "ipython",
    "version": 3
   },
   "file_extension": ".py",
   "mimetype": "text/x-python",
   "name": "python",
   "nbconvert_exporter": "python",
   "pygments_lexer": "ipython3",
   "version": "3.6.5"
  }
 },
 "nbformat": 4,
 "nbformat_minor": 2
}
