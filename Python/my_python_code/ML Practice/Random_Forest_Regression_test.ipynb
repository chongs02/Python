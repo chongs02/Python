{
 "cells": [
  {
   "cell_type": "code",
   "execution_count": 1,
   "metadata": {},
   "outputs": [],
   "source": [
    "import pandas as pd\n",
    "import matplotlib.pyplot as plt\n",
    "import numpy as np\n",
    "import datetime as dt\n",
    "%matplotlib inline\n"
   ]
  },
  {
   "cell_type": "code",
   "execution_count": 10,
   "metadata": {},
   "outputs": [],
   "source": [
    "#DATA preprocessing\n",
    "#Load dataset\n",
    "x_data = pd.read_csv(r'C:\\Users\\chongs\\BDANALYSIS\\furnace_bd.csv')\n",
    "x_data = x_data.iloc[:,2:]\n",
    "#epoch time 수정\n",
    "x_data['3'] = x_data['3'].astype(str).str[:-3].astype(np.int64)\n",
    "x_data['3'] = x_data['3'].astype(str).str[4:].astype(np.int64)\n",
    "#구간 선택\n",
    "x_data = x_data[x_data['3'].values > 890472]\n",
    "x_data = x_data[x_data['3'].values < 901000]\n",
    "#pivot table 사용 query 진행\n",
    "x_data = x_data.pivot_table(index = x_data['3'],columns = x_data['1'])\n",
    "#dataframe 재설정\n",
    "x_data = x_data['2'][['temp_zone7_10', 'temp_zone7_12', 'temp_zone7_14', 'temp_zone7_16', 'temp_zone7_4', 'temp_zone7_6', 'temp_zone7_8', 'temp_zone7_top', 'temp_zone8_25', 'temp_zone8_27', 'temp_zone8_29', 'temp_zone8_31', 'temp_zone8_33', 'temp_zone8_35', 'temp_zone8_37', 'temp_zone8_top']]\n",
    "x_data = x_data.interpolate()\n",
    "\n",
    "y_data = pd.read_csv(r\"C:\\Users\\chongs\\BDANALYSIS\\14_Gls_org.csv\", engine = 'python', index_col = False)\n",
    "#원하는 columns 선택\n",
    "\n",
    "y_data['time'] = y_data['날짜'] + ' ' + y_data['시간']\n",
    "\n",
    "#시간 delay 수정 및 epoch 시간으로 convert\n",
    "total_delay = dt.timedelta(minutes = 8, seconds=5)\n",
    "\n",
    "y_data['time']=(pd.to_datetime(y_data['time']) + total_delay).apply(dt.datetime.timestamp).astype(np.int64)\n",
    "y_data['time'] = y_data['time'].astype(str).str[4:].astype(np.int64)\n",
    "\n",
    "y_data = y_data[['time','A', 'B', 'C', 'D', 'E', 'F', 'G', 'H', 'I', 'J','K', 'L', 'M', 'N', 'O']]\n",
    "\n",
    "y_data.set_index('time', inplace = True)\n",
    "\n",
    "\n",
    "# X, Y data의 index를 y_data의 인덱스에 맞춰 Join 실행(NaN 값 : drop)\n",
    "xy = pd.concat([x_data, y_data], axis=1, join='inner', join_axes = [x_data.index] )\n",
    "xy.dropna(inplace=True)\n",
    "\n",
    "#x,y값 재추출\n",
    "x = xy[['temp_zone7_10', 'temp_zone7_12', 'temp_zone7_14', 'temp_zone7_16',\n",
    "       'temp_zone7_6', 'temp_zone7_8','temp_zone8_25', 'temp_zone8_27', 'temp_zone8_29', 'temp_zone8_31',\n",
    "       'temp_zone8_33', 'temp_zone8_35']]\n",
    "y = xy[['A', 'B', 'C', 'D', 'E', 'F', 'G', 'H', 'I', 'J','K', 'L', 'M', 'N', 'O']]\n",
    "\n",
    "# Train / Test set 나누기\n",
    "from sklearn.cross_validation import train_test_split\n",
    "X_train, X_test, y_train, y_test = train_test_split(x, y, test_size=0.33, random_state=100)"
   ]
  },
  {
   "cell_type": "code",
   "execution_count": 36,
   "metadata": {},
   "outputs": [
    {
     "name": "stdout",
     "output_type": "stream",
     "text": [
      "R2 - Train : 0.920, Test: 0.867\n",
      "Explain_variance_score - uniform_average: 0.8673438575977439\n",
      "Explain_variance_score - variance_weighted: 0.8928133238040983\n",
      "Mean Absolute Error: 0.09356463710586237\n",
      "Mean Squared Error: 0.0175403239930312\n"
     ]
    }
   ],
   "source": [
    "# MultiOutput regressor\n",
    "from sklearn.multioutput import MultiOutputRegressor\n",
    "from sklearn.ensemble import RandomForestRegressor\n",
    "\n",
    "mor = MultiOutputRegressor(RandomForestRegressor(n_estimators = 10, random_state = 0,min_impurity_decrease=0.001))\n",
    "mor.fit(X_train, y_train)\n",
    "\n",
    "#결정계수 r2 score 계싼\n",
    "from sklearn.metrics import r2_score\n",
    "y_train_pred_mor = mor.predict(X_train)\n",
    "y_test_pred_mor = mor.predict(X_test)\n",
    "\n",
    "r2_train_mor = r2_score(y_train, y_train_pred_mor)\n",
    "r2_test_mor = r2_score(y_test, y_test_pred_mor)\n",
    "\n",
    "print('R2 - Train : %.3f, Test: %.3f' %(r2_train_mor, r2_test_mor))\n",
    "\n",
    "from sklearn import metrics\n",
    "\n",
    "\n",
    "from sklearn.metrics import explained_variance_score\n",
    "\n",
    "# print('Explain_variance_score:', explained_variance_score(y_test, y_test_pred_mor))  \n",
    "print('Explain_variance_score - uniform_average:', explained_variance_score(y_test, y_test_pred_mor,multioutput='uniform_average'))  \n",
    "# print('Explain_variance_score - multi:', explained_variance_score(y_test, y_test_pred_mor,multioutput='raw_values'))  \n",
    "print('Explain_variance_score - variance_weighted:', explained_variance_score(y_test, y_test_pred_mor,multioutput='variance_weighted'))  \n",
    "\n",
    "\n",
    "print('Mean Absolute Error:', metrics.mean_absolute_error(y_test, y_test_pred_mor))  \n",
    "print('Mean Squared Error:', metrics.mean_squared_error(y_test, y_test_pred_mor))  \n",
    "# print('Root Mean Squared Error:', np.sqrt(metrics.mean_squared_error(y_test, y_test_pred_mor)))  "
   ]
  },
  {
   "cell_type": "code",
   "execution_count": 37,
   "metadata": {},
   "outputs": [
    {
     "data": {
      "image/svg+xml": [
       "<?xml version=\"1.0\" encoding=\"UTF-8\" standalone=\"no\"?>\r\n",
       "<!DOCTYPE svg PUBLIC \"-//W3C//DTD SVG 1.1//EN\"\r\n",
       " \"http://www.w3.org/Graphics/SVG/1.1/DTD/svg11.dtd\">\r\n",
       "<!-- Generated by graphviz version 2.38.0 (20140413.2041)\r\n",
       " -->\r\n",
       "<!-- Title: Tree Pages: 1 -->\r\n",
       "<svg width=\"240pt\" height=\"165pt\"\r\n",
       " viewBox=\"0.00 0.00 240.00 165.00\" xmlns=\"http://www.w3.org/2000/svg\" xmlns:xlink=\"http://www.w3.org/1999/xlink\">\r\n",
       "<g id=\"graph0\" class=\"graph\" transform=\"scale(1 1) rotate(0) translate(4 161)\">\r\n",
       "<title>Tree</title>\r\n",
       "<polygon fill=\"white\" stroke=\"none\" points=\"-4,4 -4,-161 236,-161 236,4 -4,4\"/>\r\n",
       "<!-- 0 -->\r\n",
       "<g id=\"node1\" class=\"node\"><title>0</title>\r\n",
       "<path fill=\"#e58139\" fill-opacity=\"0.913725\" stroke=\"black\" d=\"M183.5,-157C183.5,-157 43.5,-157 43.5,-157 37.5,-157 31.5,-151 31.5,-145 31.5,-145 31.5,-101 31.5,-101 31.5,-95 37.5,-89 43.5,-89 43.5,-89 183.5,-89 183.5,-89 189.5,-89 195.5,-95 195.5,-101 195.5,-101 195.5,-145 195.5,-145 195.5,-151 189.5,-157 183.5,-157\"/>\r\n",
       "<text text-anchor=\"start\" x=\"39.5\" y=\"-141.8\" font-family=\"Helvetica,sans-Serif\" font-size=\"14.00\">temp_zone7_8 ≤ 707.5</text>\r\n",
       "<text text-anchor=\"start\" x=\"81.5\" y=\"-126.8\" font-family=\"Helvetica,sans-Serif\" font-size=\"14.00\">mse = 0.0</text>\r\n",
       "<text text-anchor=\"start\" x=\"66\" y=\"-111.8\" font-family=\"Helvetica,sans-Serif\" font-size=\"14.00\">samples = 357</text>\r\n",
       "<text text-anchor=\"start\" x=\"78.5\" y=\"-96.8\" font-family=\"Helvetica,sans-Serif\" font-size=\"14.00\">value = 0.5</text>\r\n",
       "</g>\r\n",
       "<!-- 1 -->\r\n",
       "<g id=\"node2\" class=\"node\"><title>1</title>\r\n",
       "<path fill=\"none\" stroke=\"black\" d=\"M91,-53C91,-53 12,-53 12,-53 6,-53 0,-47 0,-41 0,-41 0,-12 0,-12 0,-6 6,-0 12,-0 12,-0 91,-0 91,-0 97,-0 103,-6 103,-12 103,-12 103,-41 103,-41 103,-47 97,-53 91,-53\"/>\r\n",
       "<text text-anchor=\"start\" x=\"19.5\" y=\"-37.8\" font-family=\"Helvetica,sans-Serif\" font-size=\"14.00\">mse = 0.0</text>\r\n",
       "<text text-anchor=\"start\" x=\"8\" y=\"-22.8\" font-family=\"Helvetica,sans-Serif\" font-size=\"14.00\">samples = 30</text>\r\n",
       "<text text-anchor=\"start\" x=\"16.5\" y=\"-7.8\" font-family=\"Helvetica,sans-Serif\" font-size=\"14.00\">value = 0.1</text>\r\n",
       "</g>\r\n",
       "<!-- 0&#45;&gt;1 -->\r\n",
       "<g id=\"edge1\" class=\"edge\"><title>0&#45;&gt;1</title>\r\n",
       "<path fill=\"none\" stroke=\"black\" d=\"M91.8154,-88.9485C86.0536,-80.1664 79.8185,-70.6629 74.0136,-61.815\"/>\r\n",
       "<polygon fill=\"black\" stroke=\"black\" points=\"76.7975,-59.6779 68.3855,-53.2367 70.9447,-63.5178 76.7975,-59.6779\"/>\r\n",
       "<text text-anchor=\"middle\" x=\"63.3022\" y=\"-74.0145\" font-family=\"Helvetica,sans-Serif\" font-size=\"14.00\">True</text>\r\n",
       "</g>\r\n",
       "<!-- 2 -->\r\n",
       "<g id=\"node3\" class=\"node\"><title>2</title>\r\n",
       "<path fill=\"#e58139\" stroke=\"black\" d=\"M220,-53C220,-53 133,-53 133,-53 127,-53 121,-47 121,-41 121,-41 121,-12 121,-12 121,-6 127,-0 133,-0 133,-0 220,-0 220,-0 226,-0 232,-6 232,-12 232,-12 232,-41 232,-41 232,-47 226,-53 220,-53\"/>\r\n",
       "<text text-anchor=\"start\" x=\"144.5\" y=\"-37.8\" font-family=\"Helvetica,sans-Serif\" font-size=\"14.00\">mse = 0.0</text>\r\n",
       "<text text-anchor=\"start\" x=\"129\" y=\"-22.8\" font-family=\"Helvetica,sans-Serif\" font-size=\"14.00\">samples = 327</text>\r\n",
       "<text text-anchor=\"start\" x=\"141.5\" y=\"-7.8\" font-family=\"Helvetica,sans-Serif\" font-size=\"14.00\">value = 0.5</text>\r\n",
       "</g>\r\n",
       "<!-- 0&#45;&gt;2 -->\r\n",
       "<g id=\"edge2\" class=\"edge\"><title>0&#45;&gt;2</title>\r\n",
       "<path fill=\"none\" stroke=\"black\" d=\"M135.534,-88.9485C141.389,-80.1664 147.725,-70.6629 153.623,-61.815\"/>\r\n",
       "<polygon fill=\"black\" stroke=\"black\" points=\"156.707,-63.4987 159.342,-53.2367 150.883,-59.6158 156.707,-63.4987\"/>\r\n",
       "<text text-anchor=\"middle\" x=\"164.245\" y=\"-74.0512\" font-family=\"Helvetica,sans-Serif\" font-size=\"14.00\">False</text>\r\n",
       "</g>\r\n",
       "</g>\r\n",
       "</svg>\r\n"
      ],
      "text/plain": [
       "<graphviz.files.Source at 0x24fee826710>"
      ]
     },
     "execution_count": 37,
     "metadata": {},
     "output_type": "execute_result"
    }
   ],
   "source": [
    "from sklearn import tree\n",
    "import graphviz \n",
    "estimator = mor.estimators_[1][1]\n",
    "dot_data = tree.export_graphviz(estimator, out_file=None) \n",
    "graph = graphviz.Source(dot_data)\n",
    "from subprocess import call\n",
    "call(['dot', '-Tpng', 'tree.dot', '-o', 'tree.png', '-Gdpi=600'])\n",
    "\n",
    "dot_data = tree.export_graphviz(estimator, out_file=None, \n",
    "                         feature_names=np.array(X_train.columns),  \n",
    "                         class_names=np.array(y_train.columns),  \n",
    "                         filled=True, rounded=True,  \n",
    "                         special_characters=True, precision = 1)  \n",
    "\n",
    "graph = graphviz.Source(dot_data)  \n",
    "graph.render('tree2')\n",
    "graph"
   ]
  },
  {
   "cell_type": "code",
   "execution_count": null,
   "metadata": {},
   "outputs": [],
   "source": []
  },
  {
   "cell_type": "code",
   "execution_count": 38,
   "metadata": {},
   "outputs": [],
   "source": [
    "#DATA preprocessing\n",
    "#Load dataset\n",
    "x_data = pd.read_csv(r'C:\\Users\\chongs\\BDANALYSIS\\furnace_BD_1030.csv')\n",
    "x_data = x_data.iloc[:,2:]\n",
    "#epoch time 수정\n",
    "x_data['3'] = x_data['3'].astype(str).str[:-3].astype(np.int64)\n",
    "x_data['3'] = x_data['3'].astype(str).str[4:].astype(np.int64)\n",
    "# #구간 선택\n",
    "# x_data = x_data[x_data['3'].values > 890472]\n",
    "# x_data = x_data[x_data['3'].values < 901000]\n",
    "#pivot table 사용 query 진행\n",
    "x_data = x_data.pivot_table(index = x_data['3'],columns = x_data['1'])\n",
    "#dataframe 재설정\n",
    "x_data = x_data['2'][['temp_zone7_10', 'temp_zone7_12', 'temp_zone7_14', 'temp_zone7_16', 'temp_zone7_4', 'temp_zone7_6', 'temp_zone7_8', 'temp_zone7_top', 'temp_zone8_25', 'temp_zone8_27', 'temp_zone8_29', 'temp_zone8_31', 'temp_zone8_33', 'temp_zone8_35', 'temp_zone8_37', 'temp_zone8_top']]\n",
    "x_data = x_data.interpolate()\n",
    "\n",
    "y_data = pd.read_csv(r\"C:\\Users\\chongs\\BDANALYSIS\\test_set.csv\", engine = 'python', index_col = False)\n",
    "#원하는 columns 선택\n",
    "\n",
    "y_data['time'] = y_data['날짜'] + ' ' + y_data['시간']\n",
    "\n",
    "#시간 delay 수정 및 epoch 시간으로 convert\n",
    "total_delay = dt.timedelta(minutes = 8, seconds=5)\n",
    "\n",
    "y_data['time']=(pd.to_datetime(y_data['time']) + total_delay).apply(dt.datetime.timestamp).astype(np.int64)\n",
    "y_data['time'] = y_data['time'].astype(str).str[4:].astype(np.int64)\n",
    "\n",
    "y_data = y_data[['time','A', 'B', 'C', 'D', 'E', 'F', 'G', 'H', 'I', 'J','K', 'L', 'M', 'N', 'O']]\n",
    "\n",
    "y_data.set_index('time', inplace = True)\n",
    "\n",
    "\n",
    "# X, Y data의 index를 y_data의 인덱스에 맞춰 Join 실행(NaN 값 : drop)\n",
    "xy = pd.concat([x_data, y_data], axis=1, join='inner', join_axes = [x_data.index] )\n",
    "xy.dropna(inplace=True)\n",
    "\n",
    "#x,y값 재추출\n",
    "x = xy[['temp_zone7_10', 'temp_zone7_12', 'temp_zone7_14', 'temp_zone7_16',\n",
    "       'temp_zone7_6', 'temp_zone7_8','temp_zone8_25', 'temp_zone8_27', 'temp_zone8_29', 'temp_zone8_31',\n",
    "       'temp_zone8_33', 'temp_zone8_35']]\n",
    "y = xy[['A', 'B', 'C', 'D', 'E', 'F', 'G', 'H', 'I', 'J','K', 'L', 'M', 'N', 'O']]\n"
   ]
  },
  {
   "cell_type": "code",
   "execution_count": 39,
   "metadata": {},
   "outputs": [
    {
     "name": "stdout",
     "output_type": "stream",
     "text": [
      "R2 : -0.422, Test: 0.867\n"
     ]
    }
   ],
   "source": [
    "from sklearn.metrics import r2_score\n",
    "prediction = mor.predict(x)\n",
    "\n",
    "r2_test_set = r2_score(y, prediction)\n",
    "\n",
    "print('R2 : %.3f, Test: %.3f' %(r2_test_set, r2_test_mor))\n"
   ]
  },
  {
   "cell_type": "code",
   "execution_count": null,
   "metadata": {},
   "outputs": [],
   "source": []
  }
 ],
 "metadata": {
  "kernelspec": {
   "display_name": "mypython",
   "language": "python",
   "name": "myenv"
  },
  "language_info": {
   "codemirror_mode": {
    "name": "ipython",
    "version": 3
   },
   "file_extension": ".py",
   "mimetype": "text/x-python",
   "name": "python",
   "nbconvert_exporter": "python",
   "pygments_lexer": "ipython3",
   "version": "3.6.5"
  }
 },
 "nbformat": 4,
 "nbformat_minor": 2
}
