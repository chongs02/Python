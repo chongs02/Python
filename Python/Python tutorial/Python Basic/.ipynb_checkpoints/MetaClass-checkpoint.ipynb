{
 "cells": [
  {
   "cell_type": "markdown",
   "metadata": {},
   "source": [
    "## Python의 metaclasses 이해하기"
   ]
  },
  {
   "cell_type": "markdown",
   "metadata": {},
   "source": [
    "**class 키워드를 사용할 때 python은 실행하며 객체를 만듬**  \n",
    "**아래 코드는 메모리에 ObjectCreator라는 객체를 만듬**"
   ]
  },
  {
   "cell_type": "code",
   "execution_count": 2,
   "metadata": {},
   "outputs": [
    {
     "name": "stdout",
     "output_type": "stream",
     "text": [
      "<__main__.ObjectCreator object at 0x0000000005C6E278>\n"
     ]
    }
   ],
   "source": [
    "class ObjectCreator:\n",
    "    pass\n",
    "\n",
    "my_object = ObjectCreator()\n",
    "print(my_object)"
   ]
  },
  {
   "cell_type": "code",
   "execution_count": 3,
   "metadata": {},
   "outputs": [
    {
     "name": "stdout",
     "output_type": "stream",
     "text": [
      "<class '__main__.ObjectCreator'>\n",
      "<class '__main__.ObjectCreator'>\n",
      "False\n",
      "True\n",
      "foo\n",
      "foo\n",
      "<__main__.ObjectCreator object at 0x0000000005C6E8D0>\n"
     ]
    }
   ],
   "source": [
    "print(ObjectCreator) # 클래스를 출력할 수 있습니다. 클래스가 객체이기 때문입니다.\n",
    "\n",
    "def echo(o):\n",
    "    print(o)\n",
    "\n",
    "echo(ObjectCreator) # 클래스를 함수의 인자로 넘길 수 있습니다.\n",
    "\n",
    "print(hasattr(ObjectCreator, 'new_attribute'))\n",
    "\n",
    "ObjectCreator.new_attribute = 'foo' # 클래스에 새로운 속성을 추가할 수 있습니다.\n",
    "\n",
    "print(hasattr(ObjectCreator, 'new_attribute'))\n",
    "\n",
    "print(ObjectCreator.new_attribute)\n",
    "\n",
    "ObjectCreatorMirror = ObjectCreator # 클래스를 변수에 할당할 수 있습니다.\n",
    "\n",
    "print(ObjectCreatorMirror.new_attribute)\n",
    "\n",
    "print(ObjectCreatorMirror())"
   ]
  },
  {
   "cell_type": "markdown",
   "metadata": {},
   "source": [
    "**동적으로 클래스 생성하기**"
   ]
  },
  {
   "cell_type": "markdown",
   "metadata": {},
   "source": [
    "###### class 키워드를 이용해 함수에서 클래스 만들기"
   ]
  },
  {
   "cell_type": "code",
   "execution_count": 4,
   "metadata": {},
   "outputs": [
    {
     "name": "stdout",
     "output_type": "stream",
     "text": [
      "<class '__main__.choose_class.<locals>.Foo'>\n",
      "<__main__.choose_class.<locals>.Foo object at 0x0000000005C6E5C0>\n"
     ]
    }
   ],
   "source": [
    "def choose_class(name):\n",
    "    if name == 'foo':\n",
    "        class Foo(object):\n",
    "            pass\n",
    "        return Foo # 클래스 반환 (인스턴스 X)\n",
    "    else:\n",
    "        class Bar(object):\n",
    "            pass\n",
    "        return Bar\n",
    "\n",
    "MyClass = choose_class('foo') \n",
    "\n",
    "print(MyClass) # 이 함수는 인스턴스가 아닌, 클래스를 반환합니다\n",
    "\n",
    "print(MyClass()) # 이 클래스로 새로운 객체를 만들 수 있습니다"
   ]
  },
  {
   "cell_type": "markdown",
   "metadata": {},
   "source": [
    "**type함수로 클래스만들기**  \n",
    "type(name of the class,   \n",
    "     tuple of the parent class (for inheritance, can be empty),   \n",
    "     dictionary containing attributes names and values)  "
   ]
  },
  {
   "cell_type": "code",
   "execution_count": 6,
   "metadata": {},
   "outputs": [
    {
     "name": "stdout",
     "output_type": "stream",
     "text": [
      "<class '__main__.MyShinyClass'>\n",
      "<__main__.MyShinyClass object at 0x0000000005C6E7B8>\n"
     ]
    }
   ],
   "source": [
    "class MyShinyClass(object):\n",
    "        pass\n",
    "\n",
    "# ↓ 와 같이 만들 수 있음\n",
    "\n",
    "MyShinyClass = type('MyShinyClass', (), {}) # 클래스 객체 반환\n",
    "print(MyShinyClass)\n",
    "\n",
    "print(MyShinyClass()) # 클래스 인스턴스 생성\n"
   ]
  },
  {
   "cell_type": "code",
   "execution_count": 7,
   "metadata": {},
   "outputs": [],
   "source": [
    "class Foo(object):\n",
    "    bar = True\n",
    "    \n",
    "# ↓ 와 같이 만들 수 있음\n",
    "\n",
    "Foo = type('Foo', (), {'bar':True})"
   ]
  },
  {
   "cell_type": "markdown",
   "metadata": {},
   "source": [
    "클래스와 동일하게 사용할 수 있음"
   ]
  },
  {
   "cell_type": "code",
   "execution_count": 8,
   "metadata": {},
   "outputs": [
    {
     "name": "stdout",
     "output_type": "stream",
     "text": [
      "<class '__main__.Foo'>\n",
      "True\n",
      "<__main__.Foo object at 0x0000000005C6E5C0>\n",
      "True\n"
     ]
    }
   ],
   "source": [
    "print(Foo)\n",
    "\n",
    "print(Foo.bar)\n",
    "\n",
    "f = Foo()\n",
    "\n",
    "print(f)\n",
    "\n",
    "print(f.bar)\n"
   ]
  },
  {
   "cell_type": "markdown",
   "metadata": {},
   "source": [
    "상속도 할수 있음"
   ]
  },
  {
   "cell_type": "code",
   "execution_count": 10,
   "metadata": {},
   "outputs": [
    {
     "name": "stdout",
     "output_type": "stream",
     "text": [
      "<class '__main__.FooChild'>\n",
      "True\n"
     ]
    }
   ],
   "source": [
    "class FooChild(Foo):\n",
    "    pass\n",
    "\n",
    "# ↓ 와 같이 만들 수 있음\n",
    "FooChild = type('FooChild', (Foo,), {})\n",
    "print(FooChild)\n",
    "\n",
    "print(FooChild.bar) # bar is inherited from Foo\n"
   ]
  },
  {
   "cell_type": "markdown",
   "metadata": {},
   "source": [
    "메소드도 추가할 수있음 (외부에 함수 생성하여)"
   ]
  },
  {
   "cell_type": "code",
   "execution_count": 12,
   "metadata": {},
   "outputs": [
    {
     "name": "stdout",
     "output_type": "stream",
     "text": [
      "False\n",
      "True\n",
      "True\n"
     ]
    }
   ],
   "source": [
    "def echo_bar(self):\n",
    "    print(self.bar)\n",
    "\n",
    "FooChild = type('FooChild', (Foo,), {'echo_bar': echo_bar})\n",
    "\n",
    "print(hasattr(Foo, 'echo_bar'))\n",
    "\n",
    "print(hasattr(FooChild, 'echo_bar'))\n",
    "\n",
    "my_foo = FooChild()\n",
    "\n",
    "my_foo.echo_bar()"
   ]
  },
  {
   "cell_type": "markdown",
   "metadata": {},
   "source": [
    "일반 클래스 처럼 속성과 메소드를 추가 할 수도 있음"
   ]
  },
  {
   "cell_type": "code",
   "execution_count": 13,
   "metadata": {},
   "outputs": [
    {
     "data": {
      "text/plain": [
       "True"
      ]
     },
     "execution_count": 13,
     "metadata": {},
     "output_type": "execute_result"
    }
   ],
   "source": [
    "def echo_bar_more(self):\n",
    "    print('yet another method')\n",
    "\n",
    "FooChild.echo_bar_more = echo_bar_more\n",
    "hasattr(FooChild, 'echo_bar_more')"
   ]
  },
  {
   "cell_type": "markdown",
   "metadata": {},
   "source": [
    "## 최종: metaclasses는 무엇인가"
   ]
  },
  {
   "cell_type": "markdown",
   "metadata": {},
   "source": [
    "메타클래스는 이러한 객체를 만드는 '무언가'입니다. 메타클래스는 '클래스'의 '클래스'이며, 다음과 같은 방법으로 묘사할 수 있습니다  \n",
    "\n",
    "MyClass = MetaClass()  \n",
    "MyObject = MyClass()  "
   ]
  },
  {
   "cell_type": "code",
   "execution_count": 16,
   "metadata": {},
   "outputs": [],
   "source": [
    "#type 함수는 실제로 메타클래스\n",
    "#type은 Python이 실제로 보이는 코드 뒤에서 클래스를 생성하는 메타클래스\n",
    "MyClass = type('MyClass', (), {})"
   ]
  },
  {
   "cell_type": "markdown",
   "metadata": {},
   "source": [
    "Python에서의 모든 것은 객체입니다.  \n",
    "여기에는 정수, 문자열, 함수, 클래스를 포함합니다. 이 모든 것들은 객체입니다.  \n",
    "그리고 이 모든 것들은 클래스로부터 생성됩니다"
   ]
  },
  {
   "cell_type": "code",
   "execution_count": 18,
   "metadata": {},
   "outputs": [
    {
     "name": "stdout",
     "output_type": "stream",
     "text": [
      "<class 'int'>\n",
      "<class 'str'>\n",
      "<class 'function'>\n",
      "<class '__main__.Bar'>\n"
     ]
    }
   ],
   "source": [
    "age = 35\n",
    "print(age.__class__)\n",
    "\n",
    "name = 'bob'\n",
    "print(name.__class__)\n",
    "\n",
    "def foo(): \n",
    "    pass\n",
    "\n",
    "print(foo.__class__)\n",
    "\n",
    "class Bar(object): \n",
    "    pass\n",
    "b = Bar()\n",
    "print(b.__class__)"
   ]
  },
  {
   "cell_type": "code",
   "execution_count": 19,
   "metadata": {},
   "outputs": [
    {
     "name": "stdout",
     "output_type": "stream",
     "text": [
      "<class 'type'>\n",
      "<class 'type'>\n",
      "<class 'type'>\n",
      "<class 'type'>\n"
     ]
    }
   ],
   "source": [
    "print(age.__class__.__class__)\n",
    "print(name.__class__.__class__)\n",
    "print(foo.__class__.__class__)\n",
    "print(b.__class__.__class__)"
   ]
  },
  {
   "cell_type": "markdown",
   "metadata": {},
   "source": [
    "**메타클래스는 그저 클래스 객체를 만드는 '무언가'라고 할 수 있음**"
   ]
  },
  {
   "cell_type": "markdown",
   "metadata": {},
   "source": [
    "## __metaclass__ 속성"
   ]
  },
  {
   "cell_type": "markdown",
   "metadata": {},
   "source": [
    "우리는 클래스 코드를 작성할 때 __metaclass__ 속성을 직접 추가할 수 있습니다.  \n",
    "  \n",
    "class Foo(object):  \n",
    "  __metaclass__ = something...  \n",
    "  \n",
    "이렇게 하면 Python은 Foo 클래스를 생성하기 위해 직접 설정된 메타클래스를 사용하게 됩니다. 다만 약간의 주의가 필요합니다.  \n",
    "  \n",
    "우리는 class Foo(object) 코드를 먼저 작성했습니다, 하지만 Foo 클래스 객체는 메모리상에 아직 생성되지 않은 상태입니다.  \n",
    "  \n",
    "Python은 클래스 정의에 __metaclass__가 있는지 먼저 확인하게 될거고, 발견된 경우에 Foo 클래스를 만들기 위해 해당 메타클래스를 사용합니다. 발견하지 못한 경우에는 클래스를 만들기 위해 type을 사용하게 됩니다.  "
   ]
  },
  {
   "cell_type": "code",
   "execution_count": 20,
   "metadata": {},
   "outputs": [],
   "source": [
    "class Foo(Bar):\n",
    "    pass"
   ]
  },
  {
   "cell_type": "markdown",
   "metadata": {},
   "source": [
    "Foo에 __metaclass__ 속성이 있나요?  \n",
    "  \n",
    "있으면, __metaclass__에 있는 걸로 Foo 클래스 객체(클래스 객체라고 말했습니다.)를 만듭니다.  \n",
    "  \n",
    "Python이 __metaclass__를 찾지 못했으면, Python은 __metaclass__를 모듈 레벨에서 찾고 위와 같은 방법으로 작동합니다. (단 상속받지 않은 클래스에 한해서만 그렇습니다, old-style classes 말이죠 - py2.)  \n",
    "  \n",
    "그래도 __metaclass__를 찾지 못했으면, Python은 Bar(가장 첫번째 부모 클래스)가 가진 메타클래스(여기서는 기본 메타클래스인 type)를 사용해서 클래스 객체를 만듭니다."
   ]
  },
  {
   "cell_type": "markdown",
   "metadata": {},
   "source": [
    "## 커스텀 메타클래스"
   ]
  },
  {
   "cell_type": "code",
   "execution_count": 25,
   "metadata": {},
   "outputs": [],
   "source": [
    "# 메타클래스는 우리가 보통 `type`에 전달하는 객체와 같은 객체를 받습니다.\n",
    "def upper_attr(future_class_name, future_class_parents, future_class_attr):\n",
    "\n",
    "    \"\"\"\n",
    "    대문자로 변환된 속성의 리스트와 함께 클래스 객체를 반환합니다.\n",
    "    \"\"\"\n",
    "\n",
    "    # '__'로 시작하지 않는 모든 객체를 가져와 대문자로 변환합니다.\n",
    "    uppercase_attr = {}\n",
    "    for name, val in future_class_attr.items():\n",
    "        if not name.startswith('__'):\n",
    "            uppercase_attr[name.upper()] = val\n",
    "        else:\n",
    "            uppercase_attr[name] = val\n",
    "\n",
    "    # `type`으로 클래스를 생성합니다.\n",
    "    return type(future_class_name, future_class_parents, uppercase_attr)\n"
   ]
  },
  {
   "cell_type": "code",
   "execution_count": 26,
   "metadata": {},
   "outputs": [],
   "source": [
    "__metaclass__ = upper_attr # 이리하여 모듈 내에 있는 모든 클래스가 영향을 받게 됩니다."
   ]
  },
  {
   "cell_type": "code",
   "execution_count": 36,
   "metadata": {},
   "outputs": [
    {
     "name": "stdout",
     "output_type": "stream",
     "text": [
      "False\n",
      "True\n",
      "bip\n"
     ]
    }
   ],
   "source": [
    "\n",
    "#python 3.7\n",
    "class Foo(metaclass=upper_attr):# 하지만 글로벌 메타클래스는 object와 함께 작동하지 않습니다\n",
    "  # 하지만 우리는 이 클래스에만 영향을 주고자 여기에 __metaclss__를 정의하면\n",
    "  # object 자식(children)과 함께 작동하게 됩니다.\n",
    "    bar = 'bip'\n",
    "\n",
    "print(hasattr(Foo, 'bar'))\n",
    "# Out: False\n",
    "print(hasattr(Foo, 'BAR'))\n",
    "# Out: True\n",
    "\n",
    "f = Foo()\n",
    "print(f.BAR)\n",
    "# Out: 'bip'"
   ]
  },
  {
   "cell_type": "markdown",
   "metadata": {},
   "source": [
    "이제 완전히 같은 코드를 작성하는데, 실제 클래스로 메타클래스를 작성해봅시다"
   ]
  },
  {
   "cell_type": "code",
   "execution_count": 37,
   "metadata": {},
   "outputs": [],
   "source": [
    "# `type`이 실제로는 `str`, `int`와 같은 클래스라는 것을 기억해야 합니다.\n",
    "# 따라서 우리는 `type`을 상속받을 수 있습니다.\n",
    "class UpperAttrMetaclass(type): \n",
    "    # __new__는 __init__가 호출되기 전에 먼저 호출되는 메소드입니다.\n",
    "    # 이 메소드는 실제 객체를 만들고 반환합니다.\n",
    "    # __init__가 넘겨받은 인자로 객체를 초기화하는데 반해\n",
    "    # 우리는 여기서 __new__를 사용합니다.\n",
    "    # 여기서 생성되는 객체는 클래스이고 우리는 해당 클래스를 커스텀하기 위해 __new__를\n",
    "    # 오버라이드해서 사용합니다.\n",
    "    # 원하는 추가적인 행동에 대해서는 __init__에서 할 수 있습니다.\n",
    "    # 몇몇 더 복잡한 사용 예에서는 __call__도 오버라이드해서 사용합니다\n",
    "    # 하지만 이 예에서는 하지 않습니다.\n",
    "    def __new__(upperattr_metaclass, future_class_name, \n",
    "                future_class_parents, future_class_attr):\n",
    "\n",
    "        uppercase_attr = {}\n",
    "        for name, val in future_class_attr.items():\n",
    "            if not name.startswith('__'):\n",
    "                uppercase_attr[name.upper()] = val\n",
    "            else:\n",
    "                uppercase_attr[name] = val\n",
    "\n",
    "        return type(future_class_name, future_class_parents, uppercase_attr)"
   ]
  },
  {
   "cell_type": "markdown",
   "metadata": {},
   "source": [
    "하지만 위 코드는 완전한 OOP 코드가 아닙니다. 우리는 type을 직접 호출했고 부모의 __new__ 코드를 오버라이드하거나 호출하지도 않았습니다."
   ]
  },
  {
   "cell_type": "code",
   "execution_count": 38,
   "metadata": {},
   "outputs": [],
   "source": [
    "class UpperAttrMetaclass(type): \n",
    "\n",
    "    def __new__(upperattr_metaclass, future_class_name, \n",
    "                future_class_parents, future_class_attr):\n",
    "\n",
    "        uppercase_attr = {}\n",
    "        for name, val in future_class_attr.items():\n",
    "            if not name.startswith('__'):\n",
    "                uppercase_attr[name.upper()] = val\n",
    "            else:\n",
    "                uppercase_attr[name] = val\n",
    "\n",
    "        # type.__new__ 메소드를 재사용합니다.\n",
    "        # 이 예는 간단한 OOP 사용 예입니다, 흑마법은 없습니다.\n",
    "        return type.__new__(upperattr_metaclass, future_class_name, \n",
    "                            future_class_parents, uppercase_attr)"
   ]
  },
  {
   "cell_type": "markdown",
   "metadata": {},
   "source": [
    " __new__는 항상 첫번째 인자로 정의된 클래스를 받습니다. 우리가 Python에서 클래스를 정의하고 클래스 메소드를 정의할 때 인스턴스를 받기 위해 첫번째 인자로 넣는 self와 같이 말이죠."
   ]
  },
  {
   "cell_type": "code",
   "execution_count": 39,
   "metadata": {},
   "outputs": [],
   "source": [
    "class UpperAttrMetaclass(type): \n",
    "\n",
    "    def __new__(cls, clsname, bases, dct):\n",
    "\n",
    "        uppercase_attr = {}\n",
    "        for name, val in dct.items():\n",
    "            if not name.startswith('__'):\n",
    "                uppercase_attr[name.upper()] = val\n",
    "            else:\n",
    "                uppercase_attr[name] = val\n",
    "\n",
    "        return type.__new__(cls, clsname, bases, uppercase_attr)"
   ]
  },
  {
   "cell_type": "markdown",
   "metadata": {},
   "source": [
    "우리는 위 코드를 간편하게 상속을 처리해주는 super를 이용해 더 깔끔하게 만들 수 있습니다"
   ]
  },
  {
   "cell_type": "code",
   "execution_count": 40,
   "metadata": {},
   "outputs": [],
   "source": [
    "class UpperAttrMetaclass(type): \n",
    "\n",
    "    def __new__(cls, clsname, bases, dct):\n",
    "\n",
    "        uppercase_attr = {}\n",
    "        for name, val in dct.items():\n",
    "            if not name.startswith('__'):\n",
    "                uppercase_attr[name.upper()] = val\n",
    "            else:\n",
    "                uppercase_attr[name] = val\n",
    "\n",
    "        return super(UpperAttrMetaclass, cls).__new__(cls, clsname, bases, uppercase_attr)"
   ]
  },
  {
   "cell_type": "code",
   "execution_count": null,
   "metadata": {},
   "outputs": [],
   "source": []
  }
 ],
 "metadata": {
  "kernelspec": {
   "display_name": "Python 3",
   "language": "python",
   "name": "python3"
  },
  "language_info": {
   "codemirror_mode": {
    "name": "ipython",
    "version": 3
   },
   "file_extension": ".py",
   "mimetype": "text/x-python",
   "name": "python",
   "nbconvert_exporter": "python",
   "pygments_lexer": "ipython3",
   "version": "3.7.3"
  }
 },
 "nbformat": 4,
 "nbformat_minor": 2
}
