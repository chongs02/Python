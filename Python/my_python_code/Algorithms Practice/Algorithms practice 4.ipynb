{
 "cells": [
  {
   "cell_type": "markdown",
   "metadata": {},
   "source": [
    "# 숫자의 표현\n",
    "\n",
    "### 수학을 공부하던 민지는 재미있는 사실을 발견하였습니다. \n",
    "### 그 사실은 바로 연속된 자연수의 합으로 어떤 숫자를 표현하는 방법이 여러 가지라는 것입니다. \n",
    "### 예를 들어, 15를 표현하는 방법은 (1+2+3+4+5) (4+5+6) (7+8) (15) 로 총 4가지가 존재합니다. \n",
    "### 숫자를 입력받아 연속된 수로 표현하는 방법을 반환하는 expressions 함수를 만들어 민지를 도와주세요. \n",
    "### 예를 들어 15가 입력된다면 4를 반환해 주면 됩니다."
   ]
  },
  {
   "cell_type": "code",
   "execution_count": 134,
   "metadata": {},
   "outputs": [],
   "source": [
    "def expressions(n):\n",
    "    result = []\n",
    "    a = [i for i in range(1,n+1)]\n",
    "    for i in range(0,n+1):\n",
    "        for j in range(0,n+1):\n",
    "            b = sum(a[i:j])\n",
    "            if b ==n :\n",
    "                result.append(sum(a[i:j]))\n",
    "    return len(result)"
   ]
  },
  {
   "cell_type": "code",
   "execution_count": 138,
   "metadata": {},
   "outputs": [
    {
     "data": {
      "text/plain": [
       "3"
      ]
     },
     "execution_count": 138,
     "metadata": {},
     "output_type": "execute_result"
    }
   ],
   "source": [
    "expressions(15)"
   ]
  },
  {
   "cell_type": "code",
   "execution_count": 137,
   "metadata": {},
   "outputs": [],
   "source": [
    "#줄임 버전\n",
    "def expressions(n):\n",
    "    a = [i for i in range(1,n+1)]\n",
    "    result = [[sum(a[i:j]) for j in range(1,n+1) if sum(a[i:j]) == n]for i in range(1,n+1)]\n",
    "    sub_matrix = [row_element for row in result for row_element in row]                        # 리스트 벗기기\n",
    "    return len(sub_matrix)"
   ]
  },
  {
   "cell_type": "code",
   "execution_count": 145,
   "metadata": {},
   "outputs": [
    {
     "name": "stdout",
     "output_type": "stream",
     "text": [
      "4\n"
     ]
    }
   ],
   "source": [
    "# 다른사람 풀이\n",
    "def expressions(num):\n",
    "    answer = 0\n",
    "    for i in range(1, num + 1):\n",
    "        s = 0\n",
    "        while s < num:\n",
    "            s += i\n",
    "            i += 1\n",
    "        if s == num:\n",
    "            answer += 1\n",
    "\n",
    "    return answer\n",
    "\n",
    "\n",
    "# 아래는 테스트로 출력해 보기 위한 코드입니다.\n",
    "print(expressions(15));"
   ]
  },
  {
   "cell_type": "markdown",
   "metadata": {},
   "source": [
    "# 최고의 집합\n",
    "\n",
    "### 자연수 N개로 이루어진 집합 중에, 각 원소의 합이 S가 되는 수의 집합은 여러 가지가 존재합니다.\n",
    "### 최고의 집합은, 위의 조건을 만족하는 집합 중 각 원소의 곱이 최대가 되는 집합을 의미합니다.\n",
    "\n",
    "### 집합 원소의 개수 n과 원소들의 합 s가 주어지면,\n",
    "### 최고의 집합을 찾아 원소를 오름차순으로 반환해주는 bestSet 함수를 만들어 보세요.\n",
    "### 만약 조건을 만족하는 집합이 없을 때는 배열 맨 앞에 –1을 담아 반환하면 됩니다.\n",
    "### 예를 들어 n=3, s=13이면 [4,4,5]가 반환됩니다.\n",
    "### (자바는 집합이 없는 경우 크기가 1인 배열에 -1을 담아 반환해주세요.)"
   ]
  },
  {
   "cell_type": "code",
   "execution_count": 188,
   "metadata": {},
   "outputs": [],
   "source": [
    "def bestSet(n,s):\n",
    "    if n>s:\n",
    "        return [-1]\n",
    "    b = []\n",
    "    for i in range(s):\n",
    "        for j in range(s):\n",
    "            for k in range(s):\n",
    "                a = [i,j,k]\n",
    "                if sum(a) == s:\n",
    "                    b.append(a)\n",
    "\n",
    "    return max([i[0]*i[1]*i[2] for i in b])"
   ]
  },
  {
   "cell_type": "code",
   "execution_count": 189,
   "metadata": {},
   "outputs": [
    {
     "data": {
      "text/plain": [
       "80"
      ]
     },
     "execution_count": 189,
     "metadata": {},
     "output_type": "execute_result"
    }
   ],
   "source": [
    "bestSet(3,13)"
   ]
  },
  {
   "cell_type": "code",
   "execution_count": 186,
   "metadata": {},
   "outputs": [],
   "source": [
    "#다른사람 풀이\n",
    "\n",
    "def bestSet(n, s):\n",
    "    if n > s:\n",
    "        return [-1]\n",
    "    portion, remainder = divmod(s, n)\n",
    "    li = [portion] * n\n",
    "    while remainder > 0:\n",
    "        li[li.index(min(li))] += 1\n",
    "        remainder -= 1\n",
    "\n",
    "    return sorted(li)"
   ]
  },
  {
   "cell_type": "code",
   "execution_count": 190,
   "metadata": {},
   "outputs": [],
   "source": [
    "# divmod(13,3)"
   ]
  },
  {
   "cell_type": "code",
   "execution_count": null,
   "metadata": {},
   "outputs": [],
   "source": []
  },
  {
   "cell_type": "code",
   "execution_count": null,
   "metadata": {},
   "outputs": [],
   "source": []
  },
  {
   "cell_type": "code",
   "execution_count": null,
   "metadata": {},
   "outputs": [],
   "source": []
  },
  {
   "cell_type": "code",
   "execution_count": null,
   "metadata": {},
   "outputs": [],
   "source": []
  }
 ],
 "metadata": {
  "kernelspec": {
   "display_name": "Python 3",
   "language": "python",
   "name": "python3"
  },
  "language_info": {
   "codemirror_mode": {
    "name": "ipython",
    "version": 3
   },
   "file_extension": ".py",
   "mimetype": "text/x-python",
   "name": "python",
   "nbconvert_exporter": "python",
   "pygments_lexer": "ipython3",
   "version": "3.7.3"
  }
 },
 "nbformat": 4,
 "nbformat_minor": 2
}
