{
 "cells": [
  {
   "cell_type": "markdown",
   "metadata": {},
   "source": [
    "### doubly linked list"
   ]
  },
  {
   "cell_type": "code",
   "execution_count": 49,
   "metadata": {},
   "outputs": [],
   "source": [
    "class DList:\n",
    "    class Node:\n",
    "        def __init__(self,item,prev,link):\n",
    "            self.item = item\n",
    "            self.prev = prev\n",
    "            self.next = link\n",
    "    \n",
    "    def __init__(self):\n",
    "        self.head = self.Node(None,None,None)\n",
    "        self.tail = self.Node(None,self.head,None)\n",
    "        self.head.next = self.tail\n",
    "        self.size = 0\n",
    "        \n",
    "    def size(self):\n",
    "        return self.size\n",
    "    \n",
    "    def isEmpty(self):\n",
    "        return self.size == 0\n",
    "    \n",
    "    \n",
    "    def insertBefore(self,p,item):\n",
    "        t = p.prev\n",
    "        n = self.Node(item, t, p)\n",
    "        p.prev = n\n",
    "        t.next = n\n",
    "        self.size += 1\n",
    "        \n",
    "    def insertAfter(self, p, item):\n",
    "        t = p.next\n",
    "        n = self.Node(item, p, t)\n",
    "        t.prev = n\n",
    "        p.next = n\n",
    "        self.size += 1\n",
    "        \n",
    "    def delete(self, x):\n",
    "        f = x.prev\n",
    "        r = x.next\n",
    "        f.next = r\n",
    "        r.prev = f\n",
    "        self.size -= 1\n",
    "        return x.item\n",
    "    \n",
    "    def printList(self):\n",
    "        if self.isEmpty():\n",
    "            print('The list is empty!')\n",
    "        else:\n",
    "            p = self.head.next\n",
    "            while p != self.tail:\n",
    "                if p.next != self.tail:\n",
    "                    print(p.item, '<=>', end='')\n",
    "                else:\n",
    "                    print(p.item)\n",
    "                \n",
    "                p = p.next\n",
    "                \n",
    "    class EmptyError(Exception):\n",
    "        pass\n",
    "    \n",
    "    \n",
    "                \n",
    "            \n",
    "    \n",
    "    "
   ]
  },
  {
   "cell_type": "code",
   "execution_count": null,
   "metadata": {},
   "outputs": [],
   "source": []
  }
 ],
 "metadata": {
  "kernelspec": {
   "display_name": "Python 3",
   "language": "python",
   "name": "python3"
  },
  "language_info": {
   "codemirror_mode": {
    "name": "ipython",
    "version": 3
   },
   "file_extension": ".py",
   "mimetype": "text/x-python",
   "name": "python",
   "nbconvert_exporter": "python",
   "pygments_lexer": "ipython3",
   "version": "3.7.3"
  }
 },
 "nbformat": 4,
 "nbformat_minor": 2
}
