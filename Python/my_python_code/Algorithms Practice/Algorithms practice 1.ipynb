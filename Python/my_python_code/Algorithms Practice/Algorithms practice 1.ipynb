{
 "cells": [
  {
   "cell_type": "markdown",
   "metadata": {},
   "source": [
    "### 문제1.  alpha_string46함수는 문자열 s를 매개변수로 입력받습니다. s의 길이가 4혹은 6이고, 숫자로만 구성되있는지 확인해주는 함수를 완성하세요. \n",
    "### 예를들어 s가 “a234”이면 False를 리턴하고 “1234”라면 True를 리턴하면 됩니다\n"
   ]
  },
  {
   "cell_type": "code",
   "execution_count": 1,
   "metadata": {},
   "outputs": [],
   "source": [
    "def alpha_string46(s):\n",
    "    if (len(s) == 4 or len(s) == 6) and s.isdigit():\n",
    "        result = True\n",
    "    else:\n",
    "        result = False\n",
    "    return result"
   ]
  },
  {
   "cell_type": "code",
   "execution_count": 2,
   "metadata": {},
   "outputs": [
    {
     "data": {
      "text/plain": [
       "False"
      ]
     },
     "execution_count": 2,
     "metadata": {},
     "output_type": "execute_result"
    }
   ],
   "source": [
    "alpha_string46('123')"
   ]
  },
  {
   "cell_type": "markdown",
   "metadata": {},
   "source": [
    "### 문제numPY함수는 대문자와 소문자가 섞여있는 문자열 s를 매개변수로 입력받습니다. \n",
    "### s에 ‘p’의 개수와 ‘y’의 개수를 비교해 같으면 True, 다르면 False를 리턴하도록 함수를 완성하세요. \n",
    "### ‘p’, ‘y’ 모두 하나도 없는 경우는 항상 True를 리턴합니다. \n",
    "### 예를들어 s가 “pPoooyY”면 True를 리턴하고 “Pyy”라면 False를 리턴합니다"
   ]
  },
  {
   "cell_type": "code",
   "execution_count": 3,
   "metadata": {},
   "outputs": [],
   "source": [
    "import re\n",
    "def numPY(s):\n",
    "    s = s.lower()\n",
    "    a = re.findall('p',s)\n",
    "    b = re.findall('y',s)\n",
    "    if len(a) == len(b):\n",
    "        return True\n",
    "    return False"
   ]
  },
  {
   "cell_type": "code",
   "execution_count": 4,
   "metadata": {},
   "outputs": [],
   "source": [
    "#권재 풀이\n",
    "def numPY(s:str):\n",
    "    if s.count('p') != s.count('y'):\n",
    "        return False\n",
    "    return True"
   ]
  },
  {
   "cell_type": "code",
   "execution_count": 5,
   "metadata": {},
   "outputs": [
    {
     "data": {
      "text/plain": [
       "True"
      ]
     },
     "execution_count": 5,
     "metadata": {},
     "output_type": "execute_result"
    }
   ],
   "source": [
    "numPY('an')"
   ]
  },
  {
   "cell_type": "markdown",
   "metadata": {},
   "source": [
    "### 문제3. printTriangle 메소드는 양의 정수 num을 매개변수로 입력받습니다. \n",
    "### 다음을 참고해 *(별)로 높이가 num인 삼각형을 문자열로 리턴하는 printTriangle 메소드를 완성하세요 \n",
    "### printTriangle이 return하는 String은 개행문자(‘\\n’)로 끝나야 합니다."
   ]
  },
  {
   "cell_type": "code",
   "execution_count": 6,
   "metadata": {},
   "outputs": [],
   "source": [
    "def printTriangle(num):\n",
    "    for num in range(num+1):\n",
    "        a = num*'*' \n",
    "        print (a +'\\n')"
   ]
  },
  {
   "cell_type": "code",
   "execution_count": 7,
   "metadata": {},
   "outputs": [
    {
     "name": "stdout",
     "output_type": "stream",
     "text": [
      "\n",
      "\n",
      "*\n",
      "\n",
      "**\n",
      "\n",
      "***\n",
      "\n",
      "****\n",
      "\n",
      "*****\n",
      "\n"
     ]
    }
   ],
   "source": [
    "printTriangle(5)"
   ]
  },
  {
   "cell_type": "markdown",
   "metadata": {},
   "source": [
    "### 문제4. strToInt 메소드는 String형 str을 매개변수로 받습니다. \n",
    "### str을 숫자로 변환한 결과를 반환하도록 strToInt를 완성하세요.\n",
    "### 예를들어 str이 “1234”이면 1234를 반환하고, “-1234”이면 -1234를 반환하면 됩니다. \n",
    "### str은 부호(+,-)와 숫자로만 구성되어 있고, 잘못된 값이 입력되는 경우는 없습니다"
   ]
  },
  {
   "cell_type": "code",
   "execution_count": 8,
   "metadata": {},
   "outputs": [],
   "source": [
    "def strToInt(s):\n",
    "    a = int(s)\n",
    "    return a"
   ]
  },
  {
   "cell_type": "code",
   "execution_count": 9,
   "metadata": {},
   "outputs": [
    {
     "data": {
      "text/plain": [
       "1234"
      ]
     },
     "execution_count": 9,
     "metadata": {},
     "output_type": "execute_result"
    }
   ],
   "source": [
    "strToInt('1234')"
   ]
  },
  {
   "cell_type": "code",
<<<<<<< HEAD
   "execution_count": 10,
   "metadata": {},
   "outputs": [
    {
     "data": {
      "text/plain": [
       "-1234"
      ]
     },
     "execution_count": 10,
     "metadata": {},
     "output_type": "execute_result"
=======
   "execution_count": 20,
   "metadata": {},
   "outputs": [
    {
     "ename": "NameError",
     "evalue": "name 'strToInt' is not defined",
     "output_type": "error",
     "traceback": [
      "\u001b[1;31m---------------------------------------------------------------------------\u001b[0m",
      "\u001b[1;31mNameError\u001b[0m                                 Traceback (most recent call last)",
      "\u001b[1;32m<ipython-input-20-11e36074b9ed>\u001b[0m in \u001b[0;36m<module>\u001b[1;34m\u001b[0m\n\u001b[1;32m----> 1\u001b[1;33m \u001b[0mstrToInt\u001b[0m\u001b[1;33m(\u001b[0m\u001b[1;34m'-1234'\u001b[0m\u001b[1;33m)\u001b[0m\u001b[1;33m\u001b[0m\u001b[1;33m\u001b[0m\u001b[0m\n\u001b[0m",
      "\u001b[1;31mNameError\u001b[0m: name 'strToInt' is not defined"
     ]
>>>>>>> ac65c8444ba1064e6c8e0cb632efa009dfbaa146
    }
   ],
   "source": [
    "strToInt('-1234')"
   ]
  },
  {
   "cell_type": "markdown",
   "metadata": {},
   "source": [
    "### 문제5. 행렬의 덧셈은 행과 열의 크기가 같은 두 행렬의 같은 행,같은 열의 값을 서로 더한 결과가 됩니다.\n",
    "### 2개의 행렬을 입력받는 sumMatrix 함수를 완성하여 행렬 덧셈의 결과를 반환해 주세요.\n",
    "\n",
    "### 예를 들어 2x2 행렬인 A = ((1, 2), (2, 3)), B = ((3, 4), (5, 6)) 가 주어지면, \n",
    "### 같은 2x2 행렬인 ((4, 6), (7, 9))를 반환하면 됩니다. (어떠한 행렬에도 대응하는 함수를 완성해주세요.)"
   ]
  },
  {
   "cell_type": "code",
   "execution_count": 11,
   "metadata": {},
   "outputs": [],
   "source": [
    "def sumMatrix(a, b):\n",
    "    return\n",
    "\n",
    "\n",
    "### 못품"
   ]
  },
  {
   "cell_type": "code",
   "execution_count": 12,
   "metadata": {},
   "outputs": [],
   "source": [
    "a = [[1,2], [2,3]]\n",
    "b = [[3,4], [5,6]]"
   ]
  },
  {
   "cell_type": "code",
   "execution_count": 13,
   "metadata": {},
   "outputs": [
    {
     "name": "stdout",
     "output_type": "stream",
     "text": [
      "4\n",
      "6\n",
      "7\n",
      "9\n"
     ]
    }
   ],
   "source": [
    "for i,j in zip(a,b):\n",
    "    for k,r in zip(i,j):\n",
    "        print(k+r)"
   ]
  },
  {
   "cell_type": "code",
   "execution_count": 14,
   "metadata": {},
   "outputs": [
    {
     "name": "stdout",
     "output_type": "stream",
     "text": [
      "[3, 4]\n",
      "[5, 6]\n"
     ]
    }
   ],
   "source": [
    "for i in b:\n",
    "    print(i)"
   ]
  },
  {
   "cell_type": "code",
   "execution_count": 15,
   "metadata": {},
   "outputs": [],
   "source": [
    "a = [1,2,3,4,5]\n",
    "b = ['a','b','c','d','e']\n"
   ]
  },
  {
   "cell_type": "code",
   "execution_count": null,
   "metadata": {},
   "outputs": [],
   "source": []
  },
  {
   "cell_type": "code",
   "execution_count": 16,
   "metadata": {},
   "outputs": [],
   "source": [
    "## 다른사람 풀이"
   ]
  },
  {
   "cell_type": "code",
   "execution_count": 17,
   "metadata": {},
   "outputs": [],
   "source": [
    "def codemonkey(A,B):\n",
    "    answer = [[c+d for c, d in zip(a,b)] for a, b in zip(A,B)]\n",
    "    return answer"
   ]
  },
  {
   "cell_type": "code",
   "execution_count": 18,
   "metadata": {},
   "outputs": [
    {
     "data": {
      "text/plain": [
       "[[4, 6], [7, 9]]"
      ]
     },
     "execution_count": 18,
     "metadata": {},
     "output_type": "execute_result"
    }
   ],
   "source": [
    "codemonkey([[1,2], [2,3]], [[3,4],[5,6]])"
   ]
  },
  {
   "cell_type": "code",
   "execution_count": null,
   "metadata": {},
   "outputs": [],
   "source": []
  },
  {
   "cell_type": "code",
   "execution_count": null,
   "metadata": {},
   "outputs": [],
   "source": []
  },
  {
   "cell_type": "markdown",
   "metadata": {},
   "source": [
    "### 문제6. 별이는 헬로월드텔레콤에서 고지서를 보내는 일을 하고 있습니다. \n",
    "### 개인정보 보호를 위해 고객들의 전화번호는 맨 뒷자리 4자리를 제외한 나머지를 \"*\"으로 바꿔야 합니다.\n",
    "### 전화번호를 문자열 s로 입력받는 hide_numbers함수를 완성해 별이를 도와주세요\n",
    "### 예를들어 s가 \"01033334444\"면 \"*******4444\"를 리턴하고, \"027778888\"인 경우는 \"*****8888\"을 리턴하면 됩니다."
   ]
  },
  {
   "cell_type": "code",
   "execution_count": 19,
   "metadata": {},
   "outputs": [],
   "source": [
    "def hide_numbers(s):\n",
    "    a = len(s[:-4])*'*'\n",
    "    s = s[-4:]\n",
    "    new = a+s\n",
    "    answer = new[-5:]\n",
    "    return answer"
   ]
  },
  {
   "cell_type": "code",
   "execution_count": 20,
   "metadata": {},
   "outputs": [
    {
     "data": {
      "text/plain": [
       "'*8888'"
      ]
     },
     "execution_count": 20,
     "metadata": {},
     "output_type": "execute_result"
    }
   ],
   "source": [
    "hide_numbers('027778888')"
   ]
  },
  {
   "cell_type": "code",
   "execution_count": null,
   "metadata": {},
   "outputs": [],
   "source": []
  },
  {
   "cell_type": "markdown",
   "metadata": {},
   "source": [
    "### 문제7. number_generator함수는 x와 n을 입력 받습니다. \n",
    "### 2와 5를 입력 받으면 2부터 시작해서 2씩 증가하는 숫자를 5개 가지는 리스트를 만들어서 리턴합니다. [2,4,6,8,10]\n",
    "\n",
    "### 4와 3을 입력 받으면 4부터 시작해서 4씩 증가하는 숫자를 3개 가지는 리스트를 만들어서 리턴합니다. [4,8,12]\n",
    "\n",
    "### 이를 일반화 하면 x부터 시작해서 x씩 증가하는 숫자를 n개 가지는 리스트를 리턴하도록 함수 number_generator를 완성하면 됩니다."
   ]
  },
  {
   "cell_type": "code",
   "execution_count": 21,
   "metadata": {},
   "outputs": [],
   "source": [
    "def number_generator(x,n):\n",
    "    result = []\n",
    "    for i in range(n):\n",
    "        i = i + 1\n",
    "        tmp = x * i\n",
    "        result.append(tmp)\n",
    "    return result"
   ]
  },
  {
   "cell_type": "code",
   "execution_count": 22,
   "metadata": {},
   "outputs": [
    {
     "data": {
      "text/plain": [
       "[4, 8, 12]"
      ]
     },
     "execution_count": 22,
     "metadata": {},
     "output_type": "execute_result"
    }
   ],
   "source": [
    "number_generator(4,3)"
   ]
  },
  {
   "cell_type": "code",
   "execution_count": null,
   "metadata": {},
   "outputs": [],
   "source": []
  },
  {
   "cell_type": "code",
   "execution_count": null,
   "metadata": {},
   "outputs": [],
   "source": []
  },
  {
   "cell_type": "markdown",
   "metadata": {},
   "source": [
    "### 문제8. def average(list): 함수를 완성해서 매개변수 list의 평균값을 return하도록 만들어 보세요. \n",
    "### 어떠한 크기의 list가 와도 평균값을 구할 수 있어야 합니다."
   ]
  },
  {
   "cell_type": "code",
<<<<<<< HEAD
   "execution_count": 23,
=======
   "execution_count": 1,
>>>>>>> ac65c8444ba1064e6c8e0cb632efa009dfbaa146
   "metadata": {},
   "outputs": [],
   "source": [
    "def average(list):\n",
    "    a = 0\n",
    "    for i in range(len(list)):\n",
    "        a += list[i]\n",
    "    return a/len(list)"
   ]
  },
  {
   "cell_type": "code",
<<<<<<< HEAD
   "execution_count": 24,
=======
   "execution_count": 2,
>>>>>>> ac65c8444ba1064e6c8e0cb632efa009dfbaa146
   "metadata": {},
   "outputs": [],
   "source": [
    "a = [1,2,3,6,10]"
   ]
  },
  {
   "cell_type": "code",
<<<<<<< HEAD
   "execution_count": 25,
=======
   "execution_count": 3,
>>>>>>> ac65c8444ba1064e6c8e0cb632efa009dfbaa146
   "metadata": {},
   "outputs": [
    {
     "data": {
      "text/plain": [
       "4.4"
      ]
     },
<<<<<<< HEAD
     "execution_count": 25,
=======
     "execution_count": 3,
>>>>>>> ac65c8444ba1064e6c8e0cb632efa009dfbaa146
     "metadata": {},
     "output_type": "execute_result"
    }
   ],
   "source": [
    "average(a)"
   ]
  },
  {
   "cell_type": "code",
   "execution_count": null,
   "metadata": {},
   "outputs": [],
   "source": []
  },
  {
   "cell_type": "markdown",
   "metadata": {},
   "source": [
<<<<<<< HEAD
    "### rm_small함수는 list타입 변수 mylist을 매개변수로 입력받습니다.\n",
    "### mylist 에서 가장 작은 수를 제거한 리스트를 리턴하고, mylist의 원소가 1개 이하인 경우는 []를 리턴하는 함수를 완성하세요.\n",
=======
    "### 문제9. rm_small함수는 list타입 변수 mylist을 매개변수로 입력받습니다. \n",
    "### mylist 에서 가장 작은 수를 제거한 리스트를 리턴하고, \n",
    "### mylist의 원소가 1개 이하인 경우는 []를 리턴하는 함수를 완성하세요. \n",
>>>>>>> ac65c8444ba1064e6c8e0cb632efa009dfbaa146
    "### 예를들어 mylist가 [4,3,2,1]인 경우는 [4,3,2]를 리턴 하고, [10, 8, 22]면 [10, 22]를 리턴 합니다."
   ]
  },
  {
   "cell_type": "code",
<<<<<<< HEAD
   "execution_count": 100,
=======
   "execution_count": 21,
>>>>>>> ac65c8444ba1064e6c8e0cb632efa009dfbaa146
   "metadata": {},
   "outputs": [],
   "source": [
    "def rm_small(mylist):\n",
    "    mylist.remove(min(mylist))\n",
<<<<<<< HEAD
    "    return mylist\n"
   ]
  },
  {
   "cell_type": "code",
   "execution_count": 110,
   "metadata": {},
   "outputs": [
    {
     "data": {
      "text/plain": [
       "[56, 20, 87, 60, 71, 23, 96, 66, 12, 25]"
      ]
     },
     "execution_count": 110,
     "metadata": {},
     "output_type": "execute_result"
    }
   ],
   "source": [
    "import random\n",
    "a = sample(range(1,100),10)\n",
    "a"
=======
    "    return mylist\n",
    "    "
>>>>>>> ac65c8444ba1064e6c8e0cb632efa009dfbaa146
   ]
  },
  {
   "cell_type": "code",
<<<<<<< HEAD
   "execution_count": 111,
=======
   "execution_count": 23,
>>>>>>> ac65c8444ba1064e6c8e0cb632efa009dfbaa146
   "metadata": {},
   "outputs": [
    {
     "data": {
      "text/plain": [
<<<<<<< HEAD
       "[56, 20, 87, 60, 71, 23, 96, 66, 25]"
      ]
     },
     "execution_count": 111,
=======
       "[4, 3, 2]"
      ]
     },
     "execution_count": 23,
>>>>>>> ac65c8444ba1064e6c8e0cb632efa009dfbaa146
     "metadata": {},
     "output_type": "execute_result"
    }
   ],
   "source": [
<<<<<<< HEAD
    "rm_small(a)"
   ]
  },
  {
   "cell_type": "markdown",
   "metadata": {},
   "source": [
    "### sum_digit함수는 자연수를 전달 받아서 숫자의 각 자릿수의 합을 구해서 return합니다.\n",
    "### 예를들어 number = 123이면 1 + 2 + 3 = 6을 return하면 됩니다. \n",
    "### sum_digit함수를 완성해보세요"
   ]
  },
  {
   "cell_type": "code",
   "execution_count": 158,
   "metadata": {},
   "outputs": [],
   "source": [
    "#풀이 1\n",
    "def sum_digit(number):\n",
    "    n = str(number)\n",
    "    k = []\n",
    "    for i in n:\n",
    "        i = int(i)\n",
    "        k.append(i)\n",
    "        result = sum(k)\n",
    "    return result"
=======
    "rm_small([4,3,2,1])"
>>>>>>> ac65c8444ba1064e6c8e0cb632efa009dfbaa146
   ]
  },
  {
   "cell_type": "code",
<<<<<<< HEAD
   "execution_count": 160,
   "metadata": {},
   "outputs": [],
   "source": [
    "#풀이 2\n",
    "def sum_digit(number):\n",
    "    return sum([int(i) for i in str(number)])"
=======
   "execution_count": 24,
   "metadata": {},
   "outputs": [],
   "source": [
    "\n",
    "# 다른사람 풀이- filter 사용\n",
    "def rm_small(mylist):\n",
    "    return list(filter(lambda x: x > min(mylist), mylist))\n",
    "\n",
    "\n",
    "# 다른사람 풀이\n",
    "def rm_samll(mylist):\n",
    "    return [i for i in mylist if i > min(mylist)]"
>>>>>>> ac65c8444ba1064e6c8e0cb632efa009dfbaa146
   ]
  },
  {
   "cell_type": "code",
   "execution_count": null,
   "metadata": {},
   "outputs": [],
   "source": []
  },
  {
   "cell_type": "markdown",
   "metadata": {},
   "source": [
<<<<<<< HEAD
    "### water_melon함수는 정수 n을 매개변수로 입력받습니다. \n",
    "### 길이가 n이고, 수박수박수…와 같은 패턴을 유지하는 문자열을 리턴하도록 함수를 완성하세요.\n",
    "### 예를들어 n이 4이면 ‘수박수박’을 리턴하고 3이라면 ‘수박수’를 리턴하면 됩니다"
=======
    "### evenOrOdd 메소드는 int형 num을 매개변수로 받습니다. \n",
    "### num이 짝수일 경우 “Even”을 반환하고 홀수인 경우  “Odd”를 반환하도록 evenOrOdd에 코드를 작성해 보세요. \n",
    "### num은 0이상의 정수이며, num이 음수인 경우는 없습니다."
>>>>>>> ac65c8444ba1064e6c8e0cb632efa009dfbaa146
   ]
  },
  {
   "cell_type": "code",
<<<<<<< HEAD
   "execution_count": 180,
   "metadata": {},
   "outputs": [],
   "source": [
    "def water_melon(n):\n",
    "    return (n//2 * '수박' + n%2*'수')\n",
    "    "
=======
   "execution_count": 26,
   "metadata": {},
   "outputs": [],
   "source": [
    "def evenOrOdd(num):\n",
    "    if num%2 == 0:\n",
    "        return 'Even'\n",
    "    else:\n",
    "        return 'Odd'\n",
    " "
>>>>>>> ac65c8444ba1064e6c8e0cb632efa009dfbaa146
   ]
  },
  {
   "cell_type": "code",
<<<<<<< HEAD
   "execution_count": 185,
   "metadata": {},
   "outputs": [
    {
     "name": "stdout",
     "output_type": "stream",
     "text": [
      "n이 3인 경우: 수박수\n",
      "n이 4인 경우: 수박수박\n"
     ]
    }
   ],
   "source": [
    "# 다른사람 풀이\n",
    "def water_melon(n):\n",
    "    return (\"수박\"*n)[:n]\n",
    "\n",
    "# 실행을 위한 테스트코드입니다.\n",
    "print(\"n이 3인 경우: \" + water_melon(3));\n",
    "print(\"n이 4인 경우: \" + water_melon(4));"
   ]
  },
  {
   "cell_type": "markdown",
   "metadata": {},
   "source": [
    "### no_continuous함수는 스트링 s를 매개변수로 입력받습니다.\n",
    "### s의 글자들의 순서를 유지하면서, 글자들 중 연속적으로 나타나는 아이템은 제거된 배열(파이썬은 list)을 리턴하도록 함수를 완성하세요. \n",
    "### 예를들어 다음과 같이 동작하면 됩니다.\n",
    "### s가 ‘133303’이라면 [‘1’, ‘3’, ‘0’, ‘3’]를 리턴 s가 ‘47330’이라면 [4, 7, 3, 0]을 리턴"
   ]
  },
  {
   "cell_type": "code",
   "execution_count": 205,
   "metadata": {},
   "outputs": [],
   "source": [
    "def no_continuous(s):\n",
    "    nc = []\n",
    "    for i in range(len(s)):\n",
    "        if s[i] == s[i-1]:\n",
    "            pass\n",
    "        else:\n",
    "            nc.append(s[i])\n",
    "    return nc"
   ]
  },
  {
   "cell_type": "code",
   "execution_count": 220,
=======
   "execution_count": 38,
>>>>>>> ac65c8444ba1064e6c8e0cb632efa009dfbaa146
   "metadata": {},
   "outputs": [
    {
     "data": {
      "text/plain": [
<<<<<<< HEAD
       "['1', '3', '0', '3']"
      ]
     },
     "execution_count": 220,
=======
       "'Odd'"
      ]
     },
     "execution_count": 38,
>>>>>>> ac65c8444ba1064e6c8e0cb632efa009dfbaa146
     "metadata": {},
     "output_type": "execute_result"
    }
   ],
   "source": [
<<<<<<< HEAD
    "no_continuous('133303')"
=======
    "evenOrOdd(3)"
>>>>>>> ac65c8444ba1064e6c8e0cb632efa009dfbaa146
   ]
  },
  {
   "cell_type": "code",
<<<<<<< HEAD
   "execution_count": 218,
   "metadata": {},
   "outputs": [],
   "source": [
    "# enumerate 활용\n",
    "def no_continuous(s):\n",
    "    result =[]\n",
    "    for i,v in enumerate(s):\n",
    "        \n",
    "        if s[i-1] == v:\n",
    "            pass\n",
    "        else:\n",
    "            result.append(v)\n",
    "    return result"
   ]
  },
  {
   "cell_type": "code",
   "execution_count": 221,
   "metadata": {},
   "outputs": [
    {
     "data": {
      "text/plain": [
       "['1', '3', '0', '3']"
      ]
     },
     "execution_count": 221,
     "metadata": {},
     "output_type": "execute_result"
    }
   ],
   "source": [
    "no_continuous('133303')"
=======
   "execution_count": 42,
   "metadata": {},
   "outputs": [],
   "source": [
    "# 다른사람 풀이\n",
    "def evenOrOdd(num):\n",
    "    return 'Odd' if num % 2 else 'Even'"
>>>>>>> ac65c8444ba1064e6c8e0cb632efa009dfbaa146
   ]
  },
  {
   "cell_type": "code",
<<<<<<< HEAD
   "execution_count": 202,
   "metadata": {},
   "outputs": [
    {
     "name": "stdout",
     "output_type": "stream",
     "text": [
      "['1', '3', '0', '3']\n"
     ]
    }
   ],
   "source": [
    "# 다른사람 풀이\n",
    "def no_continuous(s):\n",
    "    # 함수를 완성하세요\n",
    "\treturn [v for i, v in enumerate(s) if i==0 or s[i-1] != s[i]]\n",
    "\n",
    "# 아래는 테스트로 출력해 보기 위한 코드입니다.\n",
    "print( no_continuous( \"133303\" ))"
   ]
=======
   "execution_count": null,
   "metadata": {},
   "outputs": [],
   "source": []
>>>>>>> ac65c8444ba1064e6c8e0cb632efa009dfbaa146
  },
  {
   "cell_type": "markdown",
   "metadata": {},
   "source": [
<<<<<<< HEAD
    "### strange_sort함수는 strings와 n이라는 매개변수를 받아들입니다. \n",
    "### strings는 문자열로 구성된 리스트인데, 각 문자열을 인덱스 n인 글자를 기준으로 정렬하면 됩니다.\n",
    "### 예를들어 strings가 [“sun”, “bed”, “car”]이고 n이 1이면 각 단어의 인덱스 1인 문자 u, e ,a를 기준으로 정렬해야 하므로 결과는 [“car”, “bed”, “sun”]이 됩니다.\n",
    "### strange_sort함수를 완성해 보세요."
=======
    "### findKim 함수(메소드)는 String형 배열 seoul을 매개변수로 받습니다.\n",
    "\n",
    "### seoul의 element중 “Kim”의 위치 x를 찾아, “김서방은 x에 있다”는 String을 반환하세요.\n",
    "### seoul에 “Kim”은 오직 한 번만 나타나며 잘못된 값이 입력되는 경우는 없습니다."
>>>>>>> ac65c8444ba1064e6c8e0cb632efa009dfbaa146
   ]
  },
  {
   "cell_type": "code",
<<<<<<< HEAD
   "execution_count": 1,
   "metadata": {},
   "outputs": [],
   "source": [
    "def strange_sort(strings,n):\n",
    "    sorted(strings,key=lambda element:element[n])\n",
    "    return strings"
=======
   "execution_count": 81,
   "metadata": {},
   "outputs": [],
   "source": [
    "def findKim(seoul):\n",
    "    for i,j in zip(seoul, range(len(seoul))):\n",
    "        if i == 'kim':\n",
    "            j = str(j)\n",
    "            result = print('김서방은 {}에 있다.'.format(j))\n",
    "    return result"
>>>>>>> ac65c8444ba1064e6c8e0cb632efa009dfbaa146
   ]
  },
  {
   "cell_type": "code",
<<<<<<< HEAD
   "execution_count": 5,
   "metadata": {},
   "outputs": [
    {
     "data": {
      "text/plain": [
       "['sun', 'bed', 'car']"
      ]
     },
     "execution_count": 5,
     "metadata": {},
     "output_type": "execute_result"
    }
   ],
   "source": [
    "strange_sort(strings,1)"
   ]
  },
  {
   "cell_type": "code",
   "execution_count": 6,
   "metadata": {},
   "outputs": [],
   "source": [
    "## 다른방법이없을지 고민해보자\n"
   ]
  },
  {
   "cell_type": "markdown",
   "metadata": {},
   "source": [
    "### 피보나치 수는 F(0) = 0, F(1) = 1일 때, 2 이상의 n에 대하여 F(n) = F(n-1) + F(n-2) 가 적용되는 점화식입니다. \n",
    "### 2 이상의 n이 입력되었을 때, fibonacci 함수를 제작하여 n번째 피보나치 수를 반환해 주세요.\n",
    "### 예를 들어 n = 3이라면 2를 반환해주면 됩니다."
   ]
  },
  {
   "cell_type": "code",
   "execution_count": 67,
   "metadata": {},
   "outputs": [],
   "source": [
    "def fibonacci(n):\n",
    "    a, b = 0 ,1\n",
    "    for i in range(n):\n",
    "        a ,b = b, a+b\n",
    "    return a"
   ]
  },
  {
   "cell_type": "code",
   "execution_count": 68,
   "metadata": {},
   "outputs": [],
   "source": [
    "n=7\n"
=======
   "execution_count": 84,
   "metadata": {},
   "outputs": [
    {
     "name": "stdout",
     "output_type": "stream",
     "text": [
      "김서방은 1에 있다.\n"
     ]
    }
   ],
   "source": [
    "findKim(['a', 'kim', 'b'])"
>>>>>>> ac65c8444ba1064e6c8e0cb632efa009dfbaa146
   ]
  },
  {
   "cell_type": "code",
<<<<<<< HEAD
   "execution_count": 69,
   "metadata": {},
   "outputs": [
    {
     "data": {
      "text/plain": [
       "13"
      ]
     },
     "execution_count": 69,
     "metadata": {},
     "output_type": "execute_result"
    }
   ],
   "source": [
    "fibonacci(7)"
=======
   "execution_count": 85,
   "metadata": {},
   "outputs": [
    {
     "name": "stdout",
     "output_type": "stream",
     "text": [
      "김서방은 2에 있다\n"
     ]
    }
   ],
   "source": [
    "#다른사람 풀이\n",
    "\n",
    "def findKim(seoul):\n",
    "    kimIdx = seoul.index('Kim')\n",
    "    return \"김서방은 {}에 있다\".format(kimIdx)\n",
    "\n",
    "# 실행을 위한 테스트코드입니다.\n",
    "print(findKim([\"Queen\", \"Tod\", \"Kim\"]))"
>>>>>>> ac65c8444ba1064e6c8e0cb632efa009dfbaa146
   ]
  },
  {
   "cell_type": "markdown",
   "metadata": {},
   "source": [
<<<<<<< HEAD
    "### 두 수를 입력받아 두 수의 최대공약수와 최소공배수를 반환해주는 gcdlcm 함수를 완성해 보세요.\n",
    "### 배열의 맨 앞에 최대공약수, 그 다음 최소공배수를 넣어 반환하면 됩니다.\n",
    "### 예를 들어 gcdlcm(3,12) 가 입력되면, [3, 12]를 반환해주면 됩니다"
   ]
  },
  {
   "cell_type": "code",
   "execution_count": 129,
   "metadata": {},
   "outputs": [],
   "source": [
    "def gcdlcm(a,b):\n",
    "    k =[]\n",
    "    for i,v in zip(range(a+1),range(b+1)):\n",
    "        if i!= 0 and a%i == 0 and v%i == 0:\n",
    "            k.append(i)\n",
    "    return max(k), int(a*b/max(k))\n",
    "\n",
    "#최소공배수 = a*b/최대공약수"
=======
    "### nextSqaure함수는 정수 n을 매개변수로 입력받습니다. \n",
    "### n이 임의의 정수 x의 제곱이라면 x+1의 제곱을 리턴하고, n이 임의의 정수 x의 제곱이 아니라면 ‘no’을 리턴하는 함수를 완성하세요.\n",
    "### 예를들어 n이 121이라면 이는 정수 11의 제곱이므로 (11+1)의 제곱인 144를 리턴하고, 3이라면 ‘no’을 리턴하면 됩니다.\n"
>>>>>>> ac65c8444ba1064e6c8e0cb632efa009dfbaa146
   ]
  },
  {
   "cell_type": "code",
<<<<<<< HEAD
   "execution_count": 130,
   "metadata": {},
   "outputs": [],
   "source": [
    "a=3\n",
    "b=12"
=======
   "execution_count": 101,
   "metadata": {},
   "outputs": [],
   "source": [
    "def nextSqaure(n):\n",
    "    x = n**(1/2)\n",
    "    if x%1 == 0:\n",
    "        return (x+1)**2\n",
    "    else:\n",
    "        return 'no'\n",
    "    "
>>>>>>> ac65c8444ba1064e6c8e0cb632efa009dfbaa146
   ]
  },
  {
   "cell_type": "code",
<<<<<<< HEAD
   "execution_count": 131,
=======
   "execution_count": 105,
>>>>>>> ac65c8444ba1064e6c8e0cb632efa009dfbaa146
   "metadata": {},
   "outputs": [
    {
     "data": {
      "text/plain": [
<<<<<<< HEAD
       "(3, 12)"
      ]
     },
     "execution_count": 131,
=======
       "144.0"
      ]
     },
     "execution_count": 105,
>>>>>>> ac65c8444ba1064e6c8e0cb632efa009dfbaa146
     "metadata": {},
     "output_type": "execute_result"
    }
   ],
   "source": [
<<<<<<< HEAD
    "gcdlcm(3,12)"
=======
    "nextSqaure(121)"
>>>>>>> ac65c8444ba1064e6c8e0cb632efa009dfbaa146
   ]
  },
  {
   "cell_type": "code",
<<<<<<< HEAD
   "execution_count": 132,
   "metadata": {},
   "outputs": [],
   "source": [
    "## 다른사람 풀이\n",
    "def gcdlcm(a, b):\n",
    "    big, small = max(a, b), min(a, b)\n",
    "    while small > 0:\n",
    "        big, small = small, big % small\n",
    "    return [big, int((a*b)/big)]"
   ]
  },
  {
   "cell_type": "markdown",
   "metadata": {},
   "source": [
    "### 자연수로 이루어진 길이가 같은 수열 A,B가 있습니다.\n",
    "### 최솟값 만들기는 A, B에서 각각 한 개의 숫자를 뽑아 두 수를 곱한 값을 누적하여 더합니다.\n",
    "### 이러한 과정을 수열의 길이만큼 반복하여 최종적으로 누적된 값이 최소가 되도록 만드는 것이 목표입니다.\n",
    "\n",
    "### 예를 들어 A = [1, 2] , B = [3, 4] 라면\n",
    "\n",
    "### A에서 1, B에서 4를 뽑아 곱하여 더합니다.\n",
    "### A에서 2, B에서 3을 뽑아 곱하여 더합니다.\n",
    "### 수열의 길이만큼 반복하여 최솟값 10을 얻을 수 있으며, 이 10이 최솟값이 됩니다.\n",
    "### 수열 A,B가 주어질 때, 최솟값을 반환해주는 getMinSum 함수를 완성하세요."
   ]
  },
  {
   "cell_type": "code",
   "execution_count": 133,
   "metadata": {},
   "outputs": [],
   "source": [
    "def getMinSum(a,b):\n",
    "    return"
   ]
  },
  {
   "cell_type": "code",
   "execution_count": 178,
   "metadata": {},
   "outputs": [],
   "source": [
    "a = [1,2,3,4,5]\n",
    "b = [1,2,3,4,5]"
   ]
  },
  {
   "cell_type": "code",
   "execution_count": 179,
   "metadata": {},
   "outputs": [],
   "source": [
    "one = sorted(a)"
   ]
  },
  {
   "cell_type": "code",
   "execution_count": 180,
   "metadata": {},
   "outputs": [],
   "source": [
    "two = sorted(b)"
   ]
  },
  {
   "cell_type": "code",
   "execution_count": 181,
   "metadata": {},
   "outputs": [],
   "source": [
    "two = two.reverse()"
   ]
  },
  {
   "cell_type": "code",
   "execution_count": 182,
   "metadata": {},
   "outputs": [
    {
     "ename": "TypeError",
     "evalue": "zip argument #2 must support iteration",
     "output_type": "error",
     "traceback": [
      "\u001b[1;31m---------------------------------------------------------------------------\u001b[0m",
      "\u001b[1;31mTypeError\u001b[0m                                 Traceback (most recent call last)",
      "\u001b[1;32m<ipython-input-182-e4980a8a63ba>\u001b[0m in \u001b[0;36m<module>\u001b[1;34m()\u001b[0m\n\u001b[1;32m----> 1\u001b[1;33m \u001b[1;32mfor\u001b[0m \u001b[0mi\u001b[0m\u001b[1;33m,\u001b[0m\u001b[0mv\u001b[0m \u001b[1;32min\u001b[0m \u001b[0mlist\u001b[0m\u001b[1;33m(\u001b[0m\u001b[0mzip\u001b[0m\u001b[1;33m(\u001b[0m\u001b[0mone\u001b[0m\u001b[1;33m,\u001b[0m\u001b[0mtwo\u001b[0m\u001b[1;33m)\u001b[0m\u001b[1;33m)\u001b[0m\u001b[1;33m:\u001b[0m\u001b[1;33m\u001b[0m\u001b[0m\n\u001b[0m\u001b[0;32m      2\u001b[0m     \u001b[0mprint\u001b[0m\u001b[1;33m(\u001b[0m\u001b[0mi\u001b[0m\u001b[1;33m+\u001b[0m\u001b[0mv\u001b[0m\u001b[1;33m)\u001b[0m\u001b[1;33m\u001b[0m\u001b[0m\n",
      "\u001b[1;31mTypeError\u001b[0m: zip argument #2 must support iteration"
     ]
    }
   ],
   "source": [
    "for i,v in list(zip(one,two)):\n",
    "    print(i+v)"
   ]
  },
  {
   "cell_type": "code",
   "execution_count": 156,
   "metadata": {},
   "outputs": [
    {
     "data": {
      "text/plain": [
       "<zip at 0x1f47baa4748>"
      ]
     },
     "execution_count": 156,
     "metadata": {},
     "output_type": "execute_result"
    }
   ],
   "source": [
    "zip(a)"
   ]
  },
  {
   "cell_type": "code",
   "execution_count": 162,
   "metadata": {},
   "outputs": [],
   "source": [
    "k=[]\n",
    "for i in range(len(a)):\n",
    "    for j in range(len(b)):\n",
    "        k.append(a[j] * b[j])\n",
    "        min(k)"
   ]
  },
  {
   "cell_type": "code",
   "execution_count": 163,
   "metadata": {},
   "outputs": [
    {
     "data": {
      "text/plain": [
       "1"
      ]
     },
     "execution_count": 163,
     "metadata": {},
     "output_type": "execute_result"
    }
   ],
   "source": [
    "min(k)"
   ]
=======
   "execution_count": null,
   "metadata": {},
   "outputs": [],
   "source": []
  },
  {
   "cell_type": "code",
   "execution_count": null,
   "metadata": {},
   "outputs": [],
   "source": []
  },
  {
   "cell_type": "code",
   "execution_count": null,
   "metadata": {},
   "outputs": [],
   "source": []
  },
  {
   "cell_type": "code",
   "execution_count": null,
   "metadata": {},
   "outputs": [],
   "source": []
  },
  {
   "cell_type": "code",
   "execution_count": null,
   "metadata": {},
   "outputs": [],
   "source": []
>>>>>>> ac65c8444ba1064e6c8e0cb632efa009dfbaa146
  },
  {
   "cell_type": "code",
   "execution_count": null,
   "metadata": {},
   "outputs": [],
   "source": []
  },
  {
   "cell_type": "code",
   "execution_count": null,
   "metadata": {},
   "outputs": [],
   "source": []
  }
 ],
 "metadata": {
  "kernelspec": {
   "display_name": "Python 3",
   "language": "python",
   "name": "python3"
  },
  "language_info": {
   "codemirror_mode": {
    "name": "ipython",
    "version": 3
   },
   "file_extension": ".py",
   "mimetype": "text/x-python",
   "name": "python",
   "nbconvert_exporter": "python",
   "pygments_lexer": "ipython3",
   "version": "3.7.3"
  }
 },
 "nbformat": 4,
 "nbformat_minor": 2
}
