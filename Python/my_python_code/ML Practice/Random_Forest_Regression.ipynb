{
 "cells": [
  {
   "cell_type": "code",
   "execution_count": 1,
   "metadata": {},
   "outputs": [],
   "source": [
    "import pandas as pd\n",
    "import matplotlib.pyplot as plt\n",
    "import numpy as np\n",
    "import datetime as dt\n",
    "%matplotlib inline\n"
   ]
  },
  {
   "cell_type": "code",
   "execution_count": 2,
   "metadata": {},
   "outputs": [],
   "source": [
    "#DATA preprocessing\n",
    "#Load dataset\n",
    "x_data = pd.read_csv(r'C:\\Users\\chongs\\BDANALYSIS\\furnace_bd.csv')\n",
    "x_data = x_data.iloc[:,2:]\n",
    "#epoch time 수정\n",
    "x_data['3'] = x_data['3'].astype(str).str[:-3].astype(np.int64)"
   ]
  },
  {
   "cell_type": "code",
   "execution_count": 3,
   "metadata": {},
   "outputs": [],
   "source": [
    "#구간 선택\n",
    "x_data = x_data[x_data['3'].values > 1536890472]\n",
    "x_data = x_data[x_data['3'].values < 1536900762]"
   ]
  },
  {
   "cell_type": "code",
   "execution_count": 4,
   "metadata": {},
   "outputs": [],
   "source": [
    "#pivot table 사용 query 진행\n",
    "x_data = x_data.pivot_table(index = x_data['3'],columns = x_data['1'])\n",
    "#dataframe 재설정\n",
    "x_data = x_data['2'][['temp_zone7_10', 'temp_zone7_12', 'temp_zone7_14', 'temp_zone7_16', 'temp_zone7_4', 'temp_zone7_6', 'temp_zone7_8', 'temp_zone7_top', 'temp_zone8_25', 'temp_zone8_27', 'temp_zone8_29', 'temp_zone8_31', 'temp_zone8_33', 'temp_zone8_35', 'temp_zone8_37', 'temp_zone8_top']]\n",
    "x_data = x_data.interpolate()"
   ]
  },
  {
   "cell_type": "code",
   "execution_count": 5,
   "metadata": {},
   "outputs": [],
   "source": [
    "y_data = pd.read_csv(r\"C:\\Users\\chongs\\BDANALYSIS\\14_Gls_org.csv\", engine = 'python', index_col = False)\n",
    "#원하는 columns 선택\n",
    "\n",
    "y_data['time'] = y_data['날짜'] + ' ' + y_data['시간']\n",
    "\n",
    "#시간 delay 수정 및 epoch 시간으로 convert\n",
    "total_delay = dt.timedelta(minutes = 8, seconds=5)\n",
    "\n",
    "y_data['time']=(pd.to_datetime(y_data['time']) - total_delay).apply(dt.datetime.timestamp).astype(np.int64)\n",
    "\n",
    "y_data = y_data[['time','A', 'B', 'C', 'D', 'E', 'F', 'G', 'H', 'I', 'J','K', 'L', 'M', 'N', 'O']]\n",
    "\n",
    "y_data.set_index('time', inplace = True)\n"
   ]
  },
  {
   "cell_type": "code",
   "execution_count": 6,
   "metadata": {},
   "outputs": [],
   "source": [
    "# X, Y data의 index를 y_data의 인덱스에 맞춰 Join 실행(NaN 값 : drop)\n",
    "xy = pd.concat([x_data, y_data], axis=1, join='inner', join_axes = [x_data.index] )\n",
    "xy.dropna(inplace=True)"
   ]
  },
  {
   "cell_type": "code",
   "execution_count": 30,
   "metadata": {},
   "outputs": [],
   "source": [
    "#x,y값 재추출\n",
    "x = xy[['temp_zone7_10', 'temp_zone7_12', 'temp_zone7_14', 'temp_zone7_16',\n",
    "       'temp_zone7_6', 'temp_zone7_8','temp_zone8_25', 'temp_zone8_27', 'temp_zone8_29', 'temp_zone8_31',\n",
    "       'temp_zone8_33', 'temp_zone8_35']]\n",
    "y = xy[['A', 'B', 'C', 'D', 'E', 'F', 'G', 'H', 'I', 'J','K', 'L', 'M', 'N', 'O']]"
   ]
  },
  {
   "cell_type": "code",
   "execution_count": 61,
   "metadata": {},
   "outputs": [],
   "source": [
    "# def featurenormalization(X):\n",
    "#     X_norm = X\n",
    "\n",
    "#     mu = np.zeros((1, np.size(X,axis = 1)))\n",
    "#     sigma = np.zeros((1, np.size(X,axis = 1)))\n",
    "\n",
    "#     mu = np.mean(X,axis = 0)\n",
    "#     sigma = np.std(X,axis = 0)\n",
    "\n",
    "#     X_norm = (X_norm - mu)/sigma\n",
    "    \n",
    "#     return X_norm, mu, sigma"
   ]
  },
  {
   "cell_type": "code",
   "execution_count": 34,
   "metadata": {},
   "outputs": [],
   "source": [
    "# Train / Test set 나누기\n",
    "from sklearn.cross_validation import train_test_split\n",
    "X_train, X_test, y_train, y_test = train_test_split(x, y, test_size=0.33, random_state=100)"
   ]
  },
  {
   "cell_type": "code",
   "execution_count": 35,
   "metadata": {},
   "outputs": [
    {
     "name": "stdout",
     "output_type": "stream",
     "text": [
      "R2 - Train : 0.969, Test: 0.844\n",
      "Mean Absolute Error: 0.0727622839704555\n",
      "Mean Squared Error: 0.009388261763411652\n",
      "Root Mean Squared Error: 0.09689304290511085\n"
     ]
    }
   ],
   "source": [
    "# MultiOutput regressor\n",
    "from sklearn.multioutput import MultiOutputRegressor\n",
    "from sklearn.ensemble import RandomForestRegressor\n",
    "\n",
    "mor = MultiOutputRegressor(RandomForestRegressor(n_estimators = 175, random_state = 100))\n",
    "mor.fit(X_train, y_train)\n",
    "\n",
    "#결정계수 r2 score 계싼\n",
    "from sklearn.metrics import r2_score\n",
    "y_train_pred_mor = mor.predict(X_train)\n",
    "y_test_pred_mor = mor.predict(X_test)\n",
    "\n",
    "r2_train_mor = r2_score(y_train, y_train_pred_mor)\n",
    "r2_test_mor = r2_score(y_test, y_test_pred_mor)\n",
    "\n",
    "print('R2 - Train : %.3f, Test: %.3f' %(r2_train_mor, r2_test_mor))\n",
    "\n",
    "from sklearn import metrics\n",
    "\n",
    "print('Mean Absolute Error:', metrics.mean_absolute_error(y_test, y_test_pred_mor))  \n",
    "print('Mean Squared Error:', metrics.mean_squared_error(y_test, y_test_pred_mor))  \n",
    "print('Root Mean Squared Error:', np.sqrt(metrics.mean_squared_error(y_test, y_test_pred_mor)))  "
   ]
  },
  {
   "cell_type": "code",
   "execution_count": 36,
   "metadata": {},
   "outputs": [],
   "source": [
    "# #sk learn 랜덤포레스트 리그레션 피팅\n",
    "# from sklearn.ensemble import RandomForestRegressor\n",
    "# regressor = RandomForestRegressor(n_estimators = 175, random_state = 100)\n",
    "# regressor.fit(X_train,y_train)\n",
    "\n",
    "# #결정계수 r2 score 계싼\n",
    "# from sklearn.metrics import r2_score\n",
    "# y_train_pred = regressor.predict(X_train)\n",
    "# y_test_pred = regressor.predict(X_test)\n",
    "\n",
    "# r2_train = r2_score(y_train, y_train_pred)\n",
    "# r2_test = r2_score(y_test, y_test_pred)\n",
    "\n",
    "# print('R2 - Train : %.3f, Test: %.3f' %(r2_train, r2_test))\n",
    "\n",
    "# from sklearn import metrics\n",
    "\n",
    "# print('Mean Absolute Error:', metrics.mean_absolute_error(y_test, y_test_pred))  \n",
    "# print('Mean Squared Error:', metrics.mean_squared_error(y_test, y_test_pred))  \n",
    "# print('Root Mean Squared Error:', np.sqrt(metrics.mean_squared_error(y_test, y_test_pred))) "
   ]
  },
  {
   "cell_type": "code",
   "execution_count": 13,
   "metadata": {},
   "outputs": [],
   "source": [
    "# X_grid = np.arange(min(X_train['temp_zone8_31']), max(X_train['temp_zone8_31']), 0.01)\n",
    "# X_grid = X_grid.reshape((len(X_grid), 1))\n",
    "# plt.scatter(X_train['temp_zone8_31'], y_train['E'], color = 'red')\n",
    "# plt.plot(X_grid, regressor.predict(X_grid), color = 'blue')\n",
    "# plt.title('RandomForestRegression_Sample')\n",
    "# plt.xlabel('temp_zone8_31')\n",
    "# plt.ylabel('E')\n",
    "# plt.show()"
   ]
  },
  {
   "cell_type": "code",
   "execution_count": 40,
   "metadata": {
    "scrolled": true
   },
   "outputs": [
    {
     "name": "stderr",
     "output_type": "stream",
     "text": [
      "C:\\Users\\chongs\\Anaconda3\\envs\\mypython\\lib\\site-packages\\ipykernel_launcher.py:16: DataConversionWarning: A column-vector y was passed when a 1d array was expected. Please change the shape of y to (n_samples,), for example using ravel().\n",
      "  app.launch_new_instance()\n"
     ]
    },
    {
     "name": "stdout",
     "output_type": "stream",
     "text": [
      "R2 - Train : 0.435, Test: 0.456\n"
     ]
    },
    {
     "name": "stderr",
     "output_type": "stream",
     "text": [
      "C:\\Users\\chongs\\Anaconda3\\envs\\mypython\\lib\\site-packages\\ipykernel_launcher.py:16: DataConversionWarning: A column-vector y was passed when a 1d array was expected. Please change the shape of y to (n_samples,), for example using ravel().\n",
      "  app.launch_new_instance()\n"
     ]
    },
    {
     "name": "stdout",
     "output_type": "stream",
     "text": [
      "R2 - Train : 0.114, Test: -0.011\n"
     ]
    },
    {
     "name": "stderr",
     "output_type": "stream",
     "text": [
      "C:\\Users\\chongs\\Anaconda3\\envs\\mypython\\lib\\site-packages\\ipykernel_launcher.py:16: DataConversionWarning: A column-vector y was passed when a 1d array was expected. Please change the shape of y to (n_samples,), for example using ravel().\n",
      "  app.launch_new_instance()\n"
     ]
    },
    {
     "name": "stdout",
     "output_type": "stream",
     "text": [
      "R2 - Train : 0.382, Test: 0.287\n"
     ]
    },
    {
     "name": "stderr",
     "output_type": "stream",
     "text": [
      "C:\\Users\\chongs\\Anaconda3\\envs\\mypython\\lib\\site-packages\\ipykernel_launcher.py:16: DataConversionWarning: A column-vector y was passed when a 1d array was expected. Please change the shape of y to (n_samples,), for example using ravel().\n",
      "  app.launch_new_instance()\n"
     ]
    },
    {
     "name": "stdout",
     "output_type": "stream",
     "text": [
      "R2 - Train : 0.416, Test: 0.410\n"
     ]
    },
    {
     "name": "stderr",
     "output_type": "stream",
     "text": [
      "C:\\Users\\chongs\\Anaconda3\\envs\\mypython\\lib\\site-packages\\ipykernel_launcher.py:16: DataConversionWarning: A column-vector y was passed when a 1d array was expected. Please change the shape of y to (n_samples,), for example using ravel().\n",
      "  app.launch_new_instance()\n"
     ]
    },
    {
     "name": "stdout",
     "output_type": "stream",
     "text": [
      "R2 - Train : 0.368, Test: 0.409\n"
     ]
    },
    {
     "name": "stderr",
     "output_type": "stream",
     "text": [
      "C:\\Users\\chongs\\Anaconda3\\envs\\mypython\\lib\\site-packages\\ipykernel_launcher.py:16: DataConversionWarning: A column-vector y was passed when a 1d array was expected. Please change the shape of y to (n_samples,), for example using ravel().\n",
      "  app.launch_new_instance()\n"
     ]
    },
    {
     "name": "stdout",
     "output_type": "stream",
     "text": [
      "R2 - Train : 0.385, Test: 0.397\n"
     ]
    },
    {
     "name": "stderr",
     "output_type": "stream",
     "text": [
      "C:\\Users\\chongs\\Anaconda3\\envs\\mypython\\lib\\site-packages\\ipykernel_launcher.py:16: DataConversionWarning: A column-vector y was passed when a 1d array was expected. Please change the shape of y to (n_samples,), for example using ravel().\n",
      "  app.launch_new_instance()\n"
     ]
    },
    {
     "name": "stdout",
     "output_type": "stream",
     "text": [
      "R2 - Train : 0.312, Test: 0.372\n"
     ]
    },
    {
     "name": "stderr",
     "output_type": "stream",
     "text": [
      "C:\\Users\\chongs\\Anaconda3\\envs\\mypython\\lib\\site-packages\\ipykernel_launcher.py:16: DataConversionWarning: A column-vector y was passed when a 1d array was expected. Please change the shape of y to (n_samples,), for example using ravel().\n",
      "  app.launch_new_instance()\n"
     ]
    },
    {
     "name": "stdout",
     "output_type": "stream",
     "text": [
      "R2 - Train : 0.342, Test: 0.360\n"
     ]
    },
    {
     "name": "stderr",
     "output_type": "stream",
     "text": [
      "C:\\Users\\chongs\\Anaconda3\\envs\\mypython\\lib\\site-packages\\ipykernel_launcher.py:16: DataConversionWarning: A column-vector y was passed when a 1d array was expected. Please change the shape of y to (n_samples,), for example using ravel().\n",
      "  app.launch_new_instance()\n"
     ]
    },
    {
     "name": "stdout",
     "output_type": "stream",
     "text": [
      "R2 - Train : 0.364, Test: 0.385\n"
     ]
    },
    {
     "name": "stderr",
     "output_type": "stream",
     "text": [
      "C:\\Users\\chongs\\Anaconda3\\envs\\mypython\\lib\\site-packages\\ipykernel_launcher.py:16: DataConversionWarning: A column-vector y was passed when a 1d array was expected. Please change the shape of y to (n_samples,), for example using ravel().\n",
      "  app.launch_new_instance()\n"
     ]
    },
    {
     "name": "stdout",
     "output_type": "stream",
     "text": [
      "R2 - Train : 0.315, Test: 0.268\n"
     ]
    },
    {
     "name": "stderr",
     "output_type": "stream",
     "text": [
      "C:\\Users\\chongs\\Anaconda3\\envs\\mypython\\lib\\site-packages\\ipykernel_launcher.py:16: DataConversionWarning: A column-vector y was passed when a 1d array was expected. Please change the shape of y to (n_samples,), for example using ravel().\n",
      "  app.launch_new_instance()\n"
     ]
    },
    {
     "name": "stdout",
     "output_type": "stream",
     "text": [
      "R2 - Train : 0.345, Test: 0.358\n"
     ]
    },
    {
     "name": "stderr",
     "output_type": "stream",
     "text": [
      "C:\\Users\\chongs\\Anaconda3\\envs\\mypython\\lib\\site-packages\\ipykernel_launcher.py:16: DataConversionWarning: A column-vector y was passed when a 1d array was expected. Please change the shape of y to (n_samples,), for example using ravel().\n",
      "  app.launch_new_instance()\n"
     ]
    },
    {
     "name": "stdout",
     "output_type": "stream",
     "text": [
      "R2 - Train : 0.316, Test: 0.336\n"
     ]
    },
    {
     "name": "stderr",
     "output_type": "stream",
     "text": [
      "C:\\Users\\chongs\\Anaconda3\\envs\\mypython\\lib\\site-packages\\ipykernel_launcher.py:16: DataConversionWarning: A column-vector y was passed when a 1d array was expected. Please change the shape of y to (n_samples,), for example using ravel().\n",
      "  app.launch_new_instance()\n"
     ]
    },
    {
     "name": "stdout",
     "output_type": "stream",
     "text": [
      "R2 - Train : 0.241, Test: 0.109\n"
     ]
    },
    {
     "name": "stderr",
     "output_type": "stream",
     "text": [
      "C:\\Users\\chongs\\Anaconda3\\envs\\mypython\\lib\\site-packages\\ipykernel_launcher.py:16: DataConversionWarning: A column-vector y was passed when a 1d array was expected. Please change the shape of y to (n_samples,), for example using ravel().\n",
      "  app.launch_new_instance()\n"
     ]
    },
    {
     "name": "stdout",
     "output_type": "stream",
     "text": [
      "R2 - Train : 0.350, Test: 0.328\n"
     ]
    },
    {
     "name": "stderr",
     "output_type": "stream",
     "text": [
      "C:\\Users\\chongs\\Anaconda3\\envs\\mypython\\lib\\site-packages\\ipykernel_launcher.py:16: DataConversionWarning: A column-vector y was passed when a 1d array was expected. Please change the shape of y to (n_samples,), for example using ravel().\n",
      "  app.launch_new_instance()\n"
     ]
    },
    {
     "name": "stdout",
     "output_type": "stream",
     "text": [
      "R2 - Train : 0.294, Test: 0.191\n"
     ]
    },
    {
     "name": "stderr",
     "output_type": "stream",
     "text": [
      "C:\\Users\\chongs\\Anaconda3\\envs\\mypython\\lib\\site-packages\\ipykernel_launcher.py:16: DataConversionWarning: A column-vector y was passed when a 1d array was expected. Please change the shape of y to (n_samples,), for example using ravel().\n",
      "  app.launch_new_instance()\n"
     ]
    },
    {
     "name": "stdout",
     "output_type": "stream",
     "text": [
      "R2 - Train : 0.471, Test: 0.472\n"
     ]
    },
    {
     "name": "stderr",
     "output_type": "stream",
     "text": [
      "C:\\Users\\chongs\\Anaconda3\\envs\\mypython\\lib\\site-packages\\ipykernel_launcher.py:16: DataConversionWarning: A column-vector y was passed when a 1d array was expected. Please change the shape of y to (n_samples,), for example using ravel().\n",
      "  app.launch_new_instance()\n"
     ]
    },
    {
     "name": "stdout",
     "output_type": "stream",
     "text": [
      "R2 - Train : 0.134, Test: 0.002\n"
     ]
    },
    {
     "name": "stderr",
     "output_type": "stream",
     "text": [
      "C:\\Users\\chongs\\Anaconda3\\envs\\mypython\\lib\\site-packages\\ipykernel_launcher.py:16: DataConversionWarning: A column-vector y was passed when a 1d array was expected. Please change the shape of y to (n_samples,), for example using ravel().\n",
      "  app.launch_new_instance()\n"
     ]
    },
    {
     "name": "stdout",
     "output_type": "stream",
     "text": [
      "R2 - Train : 0.408, Test: 0.298\n"
     ]
    },
    {
     "name": "stderr",
     "output_type": "stream",
     "text": [
      "C:\\Users\\chongs\\Anaconda3\\envs\\mypython\\lib\\site-packages\\ipykernel_launcher.py:16: DataConversionWarning: A column-vector y was passed when a 1d array was expected. Please change the shape of y to (n_samples,), for example using ravel().\n",
      "  app.launch_new_instance()\n"
     ]
    },
    {
     "name": "stdout",
     "output_type": "stream",
     "text": [
      "R2 - Train : 0.458, Test: 0.419\n"
     ]
    },
    {
     "name": "stderr",
     "output_type": "stream",
     "text": [
      "C:\\Users\\chongs\\Anaconda3\\envs\\mypython\\lib\\site-packages\\ipykernel_launcher.py:16: DataConversionWarning: A column-vector y was passed when a 1d array was expected. Please change the shape of y to (n_samples,), for example using ravel().\n",
      "  app.launch_new_instance()\n"
     ]
    },
    {
     "name": "stdout",
     "output_type": "stream",
     "text": [
      "R2 - Train : 0.403, Test: 0.414\n"
     ]
    },
    {
     "name": "stderr",
     "output_type": "stream",
     "text": [
      "C:\\Users\\chongs\\Anaconda3\\envs\\mypython\\lib\\site-packages\\ipykernel_launcher.py:16: DataConversionWarning: A column-vector y was passed when a 1d array was expected. Please change the shape of y to (n_samples,), for example using ravel().\n",
      "  app.launch_new_instance()\n"
     ]
    },
    {
     "name": "stdout",
     "output_type": "stream",
     "text": [
      "R2 - Train : 0.420, Test: 0.397\n"
     ]
    },
    {
     "name": "stderr",
     "output_type": "stream",
     "text": [
      "C:\\Users\\chongs\\Anaconda3\\envs\\mypython\\lib\\site-packages\\ipykernel_launcher.py:16: DataConversionWarning: A column-vector y was passed when a 1d array was expected. Please change the shape of y to (n_samples,), for example using ravel().\n",
      "  app.launch_new_instance()\n"
     ]
    },
    {
     "name": "stdout",
     "output_type": "stream",
     "text": [
      "R2 - Train : 0.343, Test: 0.383\n"
     ]
    },
    {
     "name": "stderr",
     "output_type": "stream",
     "text": [
      "C:\\Users\\chongs\\Anaconda3\\envs\\mypython\\lib\\site-packages\\ipykernel_launcher.py:16: DataConversionWarning: A column-vector y was passed when a 1d array was expected. Please change the shape of y to (n_samples,), for example using ravel().\n",
      "  app.launch_new_instance()\n"
     ]
    },
    {
     "name": "stdout",
     "output_type": "stream",
     "text": [
      "R2 - Train : 0.382, Test: 0.370\n"
     ]
    },
    {
     "name": "stderr",
     "output_type": "stream",
     "text": [
      "C:\\Users\\chongs\\Anaconda3\\envs\\mypython\\lib\\site-packages\\ipykernel_launcher.py:16: DataConversionWarning: A column-vector y was passed when a 1d array was expected. Please change the shape of y to (n_samples,), for example using ravel().\n",
      "  app.launch_new_instance()\n"
     ]
    },
    {
     "name": "stdout",
     "output_type": "stream",
     "text": [
      "R2 - Train : 0.393, Test: 0.388\n"
     ]
    },
    {
     "name": "stderr",
     "output_type": "stream",
     "text": [
      "C:\\Users\\chongs\\Anaconda3\\envs\\mypython\\lib\\site-packages\\ipykernel_launcher.py:16: DataConversionWarning: A column-vector y was passed when a 1d array was expected. Please change the shape of y to (n_samples,), for example using ravel().\n",
      "  app.launch_new_instance()\n"
     ]
    },
    {
     "name": "stdout",
     "output_type": "stream",
     "text": [
      "R2 - Train : 0.354, Test: 0.272\n"
     ]
    },
    {
     "name": "stderr",
     "output_type": "stream",
     "text": [
      "C:\\Users\\chongs\\Anaconda3\\envs\\mypython\\lib\\site-packages\\ipykernel_launcher.py:16: DataConversionWarning: A column-vector y was passed when a 1d array was expected. Please change the shape of y to (n_samples,), for example using ravel().\n",
      "  app.launch_new_instance()\n"
     ]
    },
    {
     "name": "stdout",
     "output_type": "stream",
     "text": [
      "R2 - Train : 0.382, Test: 0.363\n"
     ]
    },
    {
     "name": "stderr",
     "output_type": "stream",
     "text": [
      "C:\\Users\\chongs\\Anaconda3\\envs\\mypython\\lib\\site-packages\\ipykernel_launcher.py:16: DataConversionWarning: A column-vector y was passed when a 1d array was expected. Please change the shape of y to (n_samples,), for example using ravel().\n",
      "  app.launch_new_instance()\n"
     ]
    },
    {
     "name": "stdout",
     "output_type": "stream",
     "text": [
      "R2 - Train : 0.349, Test: 0.346\n"
     ]
    },
    {
     "name": "stderr",
     "output_type": "stream",
     "text": [
      "C:\\Users\\chongs\\Anaconda3\\envs\\mypython\\lib\\site-packages\\ipykernel_launcher.py:16: DataConversionWarning: A column-vector y was passed when a 1d array was expected. Please change the shape of y to (n_samples,), for example using ravel().\n",
      "  app.launch_new_instance()\n"
     ]
    },
    {
     "name": "stdout",
     "output_type": "stream",
     "text": [
      "R2 - Train : 0.278, Test: 0.140\n"
     ]
    },
    {
     "name": "stderr",
     "output_type": "stream",
     "text": [
      "C:\\Users\\chongs\\Anaconda3\\envs\\mypython\\lib\\site-packages\\ipykernel_launcher.py:16: DataConversionWarning: A column-vector y was passed when a 1d array was expected. Please change the shape of y to (n_samples,), for example using ravel().\n",
      "  app.launch_new_instance()\n"
     ]
    },
    {
     "name": "stdout",
     "output_type": "stream",
     "text": [
      "R2 - Train : 0.391, Test: 0.331\n"
     ]
    },
    {
     "name": "stderr",
     "output_type": "stream",
     "text": [
      "C:\\Users\\chongs\\Anaconda3\\envs\\mypython\\lib\\site-packages\\ipykernel_launcher.py:16: DataConversionWarning: A column-vector y was passed when a 1d array was expected. Please change the shape of y to (n_samples,), for example using ravel().\n",
      "  app.launch_new_instance()\n"
     ]
    },
    {
     "name": "stdout",
     "output_type": "stream",
     "text": [
      "R2 - Train : 0.334, Test: 0.217\n"
     ]
    },
    {
     "name": "stderr",
     "output_type": "stream",
     "text": [
      "C:\\Users\\chongs\\Anaconda3\\envs\\mypython\\lib\\site-packages\\ipykernel_launcher.py:16: DataConversionWarning: A column-vector y was passed when a 1d array was expected. Please change the shape of y to (n_samples,), for example using ravel().\n",
      "  app.launch_new_instance()\n"
     ]
    },
    {
     "name": "stdout",
     "output_type": "stream",
     "text": [
      "R2 - Train : 0.348, Test: 0.433\n"
     ]
    },
    {
     "name": "stderr",
     "output_type": "stream",
     "text": [
      "C:\\Users\\chongs\\Anaconda3\\envs\\mypython\\lib\\site-packages\\ipykernel_launcher.py:16: DataConversionWarning: A column-vector y was passed when a 1d array was expected. Please change the shape of y to (n_samples,), for example using ravel().\n",
      "  app.launch_new_instance()\n"
     ]
    },
    {
     "name": "stdout",
     "output_type": "stream",
     "text": [
      "R2 - Train : 0.056, Test: 0.001\n"
     ]
    },
    {
     "name": "stderr",
     "output_type": "stream",
     "text": [
      "C:\\Users\\chongs\\Anaconda3\\envs\\mypython\\lib\\site-packages\\ipykernel_launcher.py:16: DataConversionWarning: A column-vector y was passed when a 1d array was expected. Please change the shape of y to (n_samples,), for example using ravel().\n",
      "  app.launch_new_instance()\n"
     ]
    },
    {
     "name": "stdout",
     "output_type": "stream",
     "text": [
      "R2 - Train : 0.272, Test: 0.279\n"
     ]
    },
    {
     "name": "stderr",
     "output_type": "stream",
     "text": [
      "C:\\Users\\chongs\\Anaconda3\\envs\\mypython\\lib\\site-packages\\ipykernel_launcher.py:16: DataConversionWarning: A column-vector y was passed when a 1d array was expected. Please change the shape of y to (n_samples,), for example using ravel().\n",
      "  app.launch_new_instance()\n"
     ]
    },
    {
     "name": "stdout",
     "output_type": "stream",
     "text": [
      "R2 - Train : 0.312, Test: 0.367\n"
     ]
    },
    {
     "name": "stderr",
     "output_type": "stream",
     "text": [
      "C:\\Users\\chongs\\Anaconda3\\envs\\mypython\\lib\\site-packages\\ipykernel_launcher.py:16: DataConversionWarning: A column-vector y was passed when a 1d array was expected. Please change the shape of y to (n_samples,), for example using ravel().\n",
      "  app.launch_new_instance()\n"
     ]
    },
    {
     "name": "stdout",
     "output_type": "stream",
     "text": [
      "R2 - Train : 0.266, Test: 0.344\n"
     ]
    },
    {
     "name": "stderr",
     "output_type": "stream",
     "text": [
      "C:\\Users\\chongs\\Anaconda3\\envs\\mypython\\lib\\site-packages\\ipykernel_launcher.py:16: DataConversionWarning: A column-vector y was passed when a 1d array was expected. Please change the shape of y to (n_samples,), for example using ravel().\n",
      "  app.launch_new_instance()\n"
     ]
    },
    {
     "name": "stdout",
     "output_type": "stream",
     "text": [
      "R2 - Train : 0.282, Test: 0.351\n"
     ]
    },
    {
     "name": "stderr",
     "output_type": "stream",
     "text": [
      "C:\\Users\\chongs\\Anaconda3\\envs\\mypython\\lib\\site-packages\\ipykernel_launcher.py:16: DataConversionWarning: A column-vector y was passed when a 1d array was expected. Please change the shape of y to (n_samples,), for example using ravel().\n",
      "  app.launch_new_instance()\n"
     ]
    },
    {
     "name": "stdout",
     "output_type": "stream",
     "text": [
      "R2 - Train : 0.229, Test: 0.289\n"
     ]
    },
    {
     "name": "stderr",
     "output_type": "stream",
     "text": [
      "C:\\Users\\chongs\\Anaconda3\\envs\\mypython\\lib\\site-packages\\ipykernel_launcher.py:16: DataConversionWarning: A column-vector y was passed when a 1d array was expected. Please change the shape of y to (n_samples,), for example using ravel().\n",
      "  app.launch_new_instance()\n"
     ]
    },
    {
     "name": "stdout",
     "output_type": "stream",
     "text": [
      "R2 - Train : 0.237, Test: 0.304\n"
     ]
    },
    {
     "name": "stderr",
     "output_type": "stream",
     "text": [
      "C:\\Users\\chongs\\Anaconda3\\envs\\mypython\\lib\\site-packages\\ipykernel_launcher.py:16: DataConversionWarning: A column-vector y was passed when a 1d array was expected. Please change the shape of y to (n_samples,), for example using ravel().\n",
      "  app.launch_new_instance()\n"
     ]
    },
    {
     "name": "stdout",
     "output_type": "stream",
     "text": [
      "R2 - Train : 0.270, Test: 0.332\n"
     ]
    },
    {
     "name": "stderr",
     "output_type": "stream",
     "text": [
      "C:\\Users\\chongs\\Anaconda3\\envs\\mypython\\lib\\site-packages\\ipykernel_launcher.py:16: DataConversionWarning: A column-vector y was passed when a 1d array was expected. Please change the shape of y to (n_samples,), for example using ravel().\n",
      "  app.launch_new_instance()\n"
     ]
    },
    {
     "name": "stdout",
     "output_type": "stream",
     "text": [
      "R2 - Train : 0.207, Test: 0.218\n"
     ]
    },
    {
     "name": "stderr",
     "output_type": "stream",
     "text": [
      "C:\\Users\\chongs\\Anaconda3\\envs\\mypython\\lib\\site-packages\\ipykernel_launcher.py:16: DataConversionWarning: A column-vector y was passed when a 1d array was expected. Please change the shape of y to (n_samples,), for example using ravel().\n",
      "  app.launch_new_instance()\n"
     ]
    },
    {
     "name": "stdout",
     "output_type": "stream",
     "text": [
      "R2 - Train : 0.247, Test: 0.309\n"
     ]
    },
    {
     "name": "stderr",
     "output_type": "stream",
     "text": [
      "C:\\Users\\chongs\\Anaconda3\\envs\\mypython\\lib\\site-packages\\ipykernel_launcher.py:16: DataConversionWarning: A column-vector y was passed when a 1d array was expected. Please change the shape of y to (n_samples,), for example using ravel().\n",
      "  app.launch_new_instance()\n"
     ]
    },
    {
     "name": "stdout",
     "output_type": "stream",
     "text": [
      "R2 - Train : 0.199, Test: 0.268\n"
     ]
    },
    {
     "name": "stderr",
     "output_type": "stream",
     "text": [
      "C:\\Users\\chongs\\Anaconda3\\envs\\mypython\\lib\\site-packages\\ipykernel_launcher.py:16: DataConversionWarning: A column-vector y was passed when a 1d array was expected. Please change the shape of y to (n_samples,), for example using ravel().\n",
      "  app.launch_new_instance()\n"
     ]
    },
    {
     "name": "stdout",
     "output_type": "stream",
     "text": [
      "R2 - Train : 0.142, Test: 0.058\n"
     ]
    },
    {
     "name": "stderr",
     "output_type": "stream",
     "text": [
      "C:\\Users\\chongs\\Anaconda3\\envs\\mypython\\lib\\site-packages\\ipykernel_launcher.py:16: DataConversionWarning: A column-vector y was passed when a 1d array was expected. Please change the shape of y to (n_samples,), for example using ravel().\n",
      "  app.launch_new_instance()\n"
     ]
    },
    {
     "name": "stdout",
     "output_type": "stream",
     "text": [
      "R2 - Train : 0.234, Test: 0.283\n"
     ]
    },
    {
     "name": "stderr",
     "output_type": "stream",
     "text": [
      "C:\\Users\\chongs\\Anaconda3\\envs\\mypython\\lib\\site-packages\\ipykernel_launcher.py:16: DataConversionWarning: A column-vector y was passed when a 1d array was expected. Please change the shape of y to (n_samples,), for example using ravel().\n",
      "  app.launch_new_instance()\n"
     ]
    },
    {
     "name": "stdout",
     "output_type": "stream",
     "text": [
      "R2 - Train : 0.224, Test: 0.145\n"
     ]
    },
    {
     "name": "stderr",
     "output_type": "stream",
     "text": [
      "C:\\Users\\chongs\\Anaconda3\\envs\\mypython\\lib\\site-packages\\ipykernel_launcher.py:16: DataConversionWarning: A column-vector y was passed when a 1d array was expected. Please change the shape of y to (n_samples,), for example using ravel().\n",
      "  app.launch_new_instance()\n"
     ]
    },
    {
     "name": "stdout",
     "output_type": "stream",
     "text": [
      "R2 - Train : 0.386, Test: 0.438\n"
     ]
    },
    {
     "name": "stderr",
     "output_type": "stream",
     "text": [
      "C:\\Users\\chongs\\Anaconda3\\envs\\mypython\\lib\\site-packages\\ipykernel_launcher.py:16: DataConversionWarning: A column-vector y was passed when a 1d array was expected. Please change the shape of y to (n_samples,), for example using ravel().\n",
      "  app.launch_new_instance()\n"
     ]
    },
    {
     "name": "stdout",
     "output_type": "stream",
     "text": [
      "R2 - Train : 0.055, Test: -0.011\n"
     ]
    },
    {
     "name": "stderr",
     "output_type": "stream",
     "text": [
      "C:\\Users\\chongs\\Anaconda3\\envs\\mypython\\lib\\site-packages\\ipykernel_launcher.py:16: DataConversionWarning: A column-vector y was passed when a 1d array was expected. Please change the shape of y to (n_samples,), for example using ravel().\n",
      "  app.launch_new_instance()\n"
     ]
    },
    {
     "name": "stdout",
     "output_type": "stream",
     "text": [
      "R2 - Train : 0.302, Test: 0.304\n"
     ]
    },
    {
     "name": "stderr",
     "output_type": "stream",
     "text": [
      "C:\\Users\\chongs\\Anaconda3\\envs\\mypython\\lib\\site-packages\\ipykernel_launcher.py:16: DataConversionWarning: A column-vector y was passed when a 1d array was expected. Please change the shape of y to (n_samples,), for example using ravel().\n",
      "  app.launch_new_instance()\n"
     ]
    },
    {
     "name": "stdout",
     "output_type": "stream",
     "text": [
      "R2 - Train : 0.352, Test: 0.389\n"
     ]
    },
    {
     "name": "stderr",
     "output_type": "stream",
     "text": [
      "C:\\Users\\chongs\\Anaconda3\\envs\\mypython\\lib\\site-packages\\ipykernel_launcher.py:16: DataConversionWarning: A column-vector y was passed when a 1d array was expected. Please change the shape of y to (n_samples,), for example using ravel().\n",
      "  app.launch_new_instance()\n"
     ]
    },
    {
     "name": "stdout",
     "output_type": "stream",
     "text": [
      "R2 - Train : 0.297, Test: 0.349\n"
     ]
    },
    {
     "name": "stderr",
     "output_type": "stream",
     "text": [
      "C:\\Users\\chongs\\Anaconda3\\envs\\mypython\\lib\\site-packages\\ipykernel_launcher.py:16: DataConversionWarning: A column-vector y was passed when a 1d array was expected. Please change the shape of y to (n_samples,), for example using ravel().\n",
      "  app.launch_new_instance()\n"
     ]
    },
    {
     "name": "stdout",
     "output_type": "stream",
     "text": [
      "R2 - Train : 0.320, Test: 0.366\n"
     ]
    },
    {
     "name": "stderr",
     "output_type": "stream",
     "text": [
      "C:\\Users\\chongs\\Anaconda3\\envs\\mypython\\lib\\site-packages\\ipykernel_launcher.py:16: DataConversionWarning: A column-vector y was passed when a 1d array was expected. Please change the shape of y to (n_samples,), for example using ravel().\n",
      "  app.launch_new_instance()\n"
     ]
    },
    {
     "name": "stdout",
     "output_type": "stream",
     "text": [
      "R2 - Train : 0.274, Test: 0.308\n"
     ]
    },
    {
     "name": "stderr",
     "output_type": "stream",
     "text": [
      "C:\\Users\\chongs\\Anaconda3\\envs\\mypython\\lib\\site-packages\\ipykernel_launcher.py:16: DataConversionWarning: A column-vector y was passed when a 1d array was expected. Please change the shape of y to (n_samples,), for example using ravel().\n",
      "  app.launch_new_instance()\n"
     ]
    },
    {
     "name": "stdout",
     "output_type": "stream",
     "text": [
      "R2 - Train : 0.271, Test: 0.311\n"
     ]
    },
    {
     "name": "stderr",
     "output_type": "stream",
     "text": [
      "C:\\Users\\chongs\\Anaconda3\\envs\\mypython\\lib\\site-packages\\ipykernel_launcher.py:16: DataConversionWarning: A column-vector y was passed when a 1d array was expected. Please change the shape of y to (n_samples,), for example using ravel().\n",
      "  app.launch_new_instance()\n"
     ]
    },
    {
     "name": "stdout",
     "output_type": "stream",
     "text": [
      "R2 - Train : 0.314, Test: 0.341\n"
     ]
    },
    {
     "name": "stderr",
     "output_type": "stream",
     "text": [
      "C:\\Users\\chongs\\Anaconda3\\envs\\mypython\\lib\\site-packages\\ipykernel_launcher.py:16: DataConversionWarning: A column-vector y was passed when a 1d array was expected. Please change the shape of y to (n_samples,), for example using ravel().\n",
      "  app.launch_new_instance()\n"
     ]
    },
    {
     "name": "stdout",
     "output_type": "stream",
     "text": [
      "R2 - Train : 0.230, Test: 0.230\n"
     ]
    },
    {
     "name": "stderr",
     "output_type": "stream",
     "text": [
      "C:\\Users\\chongs\\Anaconda3\\envs\\mypython\\lib\\site-packages\\ipykernel_launcher.py:16: DataConversionWarning: A column-vector y was passed when a 1d array was expected. Please change the shape of y to (n_samples,), for example using ravel().\n",
      "  app.launch_new_instance()\n"
     ]
    },
    {
     "name": "stdout",
     "output_type": "stream",
     "text": [
      "R2 - Train : 0.280, Test: 0.311\n"
     ]
    },
    {
     "name": "stderr",
     "output_type": "stream",
     "text": [
      "C:\\Users\\chongs\\Anaconda3\\envs\\mypython\\lib\\site-packages\\ipykernel_launcher.py:16: DataConversionWarning: A column-vector y was passed when a 1d array was expected. Please change the shape of y to (n_samples,), for example using ravel().\n",
      "  app.launch_new_instance()\n"
     ]
    },
    {
     "name": "stdout",
     "output_type": "stream",
     "text": [
      "R2 - Train : 0.222, Test: 0.266\n"
     ]
    },
    {
     "name": "stderr",
     "output_type": "stream",
     "text": [
      "C:\\Users\\chongs\\Anaconda3\\envs\\mypython\\lib\\site-packages\\ipykernel_launcher.py:16: DataConversionWarning: A column-vector y was passed when a 1d array was expected. Please change the shape of y to (n_samples,), for example using ravel().\n",
      "  app.launch_new_instance()\n"
     ]
    },
    {
     "name": "stdout",
     "output_type": "stream",
     "text": [
      "R2 - Train : 0.147, Test: 0.059\n"
     ]
    },
    {
     "name": "stderr",
     "output_type": "stream",
     "text": [
      "C:\\Users\\chongs\\Anaconda3\\envs\\mypython\\lib\\site-packages\\ipykernel_launcher.py:16: DataConversionWarning: A column-vector y was passed when a 1d array was expected. Please change the shape of y to (n_samples,), for example using ravel().\n",
      "  app.launch_new_instance()\n"
     ]
    },
    {
     "name": "stdout",
     "output_type": "stream",
     "text": [
      "R2 - Train : 0.267, Test: 0.291\n"
     ]
    },
    {
     "name": "stderr",
     "output_type": "stream",
     "text": [
      "C:\\Users\\chongs\\Anaconda3\\envs\\mypython\\lib\\site-packages\\ipykernel_launcher.py:16: DataConversionWarning: A column-vector y was passed when a 1d array was expected. Please change the shape of y to (n_samples,), for example using ravel().\n",
      "  app.launch_new_instance()\n"
     ]
    },
    {
     "name": "stdout",
     "output_type": "stream",
     "text": [
      "R2 - Train : 0.237, Test: 0.139\n"
     ]
    },
    {
     "name": "stderr",
     "output_type": "stream",
     "text": [
      "C:\\Users\\chongs\\Anaconda3\\envs\\mypython\\lib\\site-packages\\ipykernel_launcher.py:16: DataConversionWarning: A column-vector y was passed when a 1d array was expected. Please change the shape of y to (n_samples,), for example using ravel().\n",
      "  app.launch_new_instance()\n"
     ]
    },
    {
     "name": "stdout",
     "output_type": "stream",
     "text": [
      "R2 - Train : 0.354, Test: 0.454\n"
     ]
    },
    {
     "name": "stderr",
     "output_type": "stream",
     "text": [
      "C:\\Users\\chongs\\Anaconda3\\envs\\mypython\\lib\\site-packages\\ipykernel_launcher.py:16: DataConversionWarning: A column-vector y was passed when a 1d array was expected. Please change the shape of y to (n_samples,), for example using ravel().\n",
      "  app.launch_new_instance()\n"
     ]
    },
    {
     "name": "stdout",
     "output_type": "stream",
     "text": [
      "R2 - Train : 0.061, Test: -0.009\n"
     ]
    },
    {
     "name": "stderr",
     "output_type": "stream",
     "text": [
      "C:\\Users\\chongs\\Anaconda3\\envs\\mypython\\lib\\site-packages\\ipykernel_launcher.py:16: DataConversionWarning: A column-vector y was passed when a 1d array was expected. Please change the shape of y to (n_samples,), for example using ravel().\n",
      "  app.launch_new_instance()\n"
     ]
    },
    {
     "name": "stdout",
     "output_type": "stream",
     "text": [
      "R2 - Train : 0.291, Test: 0.324\n"
     ]
    },
    {
     "name": "stderr",
     "output_type": "stream",
     "text": [
      "C:\\Users\\chongs\\Anaconda3\\envs\\mypython\\lib\\site-packages\\ipykernel_launcher.py:16: DataConversionWarning: A column-vector y was passed when a 1d array was expected. Please change the shape of y to (n_samples,), for example using ravel().\n",
      "  app.launch_new_instance()\n"
     ]
    },
    {
     "name": "stdout",
     "output_type": "stream",
     "text": [
      "R2 - Train : 0.327, Test: 0.405\n"
     ]
    },
    {
     "name": "stderr",
     "output_type": "stream",
     "text": [
      "C:\\Users\\chongs\\Anaconda3\\envs\\mypython\\lib\\site-packages\\ipykernel_launcher.py:16: DataConversionWarning: A column-vector y was passed when a 1d array was expected. Please change the shape of y to (n_samples,), for example using ravel().\n",
      "  app.launch_new_instance()\n"
     ]
    },
    {
     "name": "stdout",
     "output_type": "stream",
     "text": [
      "R2 - Train : 0.272, Test: 0.371\n"
     ]
    },
    {
     "name": "stderr",
     "output_type": "stream",
     "text": [
      "C:\\Users\\chongs\\Anaconda3\\envs\\mypython\\lib\\site-packages\\ipykernel_launcher.py:16: DataConversionWarning: A column-vector y was passed when a 1d array was expected. Please change the shape of y to (n_samples,), for example using ravel().\n",
      "  app.launch_new_instance()\n"
     ]
    },
    {
     "name": "stdout",
     "output_type": "stream",
     "text": [
      "R2 - Train : 0.291, Test: 0.380\n"
     ]
    },
    {
     "name": "stderr",
     "output_type": "stream",
     "text": [
      "C:\\Users\\chongs\\Anaconda3\\envs\\mypython\\lib\\site-packages\\ipykernel_launcher.py:16: DataConversionWarning: A column-vector y was passed when a 1d array was expected. Please change the shape of y to (n_samples,), for example using ravel().\n",
      "  app.launch_new_instance()\n"
     ]
    },
    {
     "name": "stdout",
     "output_type": "stream",
     "text": [
      "R2 - Train : 0.240, Test: 0.327\n"
     ]
    },
    {
     "name": "stderr",
     "output_type": "stream",
     "text": [
      "C:\\Users\\chongs\\Anaconda3\\envs\\mypython\\lib\\site-packages\\ipykernel_launcher.py:16: DataConversionWarning: A column-vector y was passed when a 1d array was expected. Please change the shape of y to (n_samples,), for example using ravel().\n",
      "  app.launch_new_instance()\n"
     ]
    },
    {
     "name": "stdout",
     "output_type": "stream",
     "text": [
      "R2 - Train : 0.243, Test: 0.335\n"
     ]
    },
    {
     "name": "stderr",
     "output_type": "stream",
     "text": [
      "C:\\Users\\chongs\\Anaconda3\\envs\\mypython\\lib\\site-packages\\ipykernel_launcher.py:16: DataConversionWarning: A column-vector y was passed when a 1d array was expected. Please change the shape of y to (n_samples,), for example using ravel().\n",
      "  app.launch_new_instance()\n"
     ]
    },
    {
     "name": "stdout",
     "output_type": "stream",
     "text": [
      "R2 - Train : 0.275, Test: 0.352\n"
     ]
    },
    {
     "name": "stderr",
     "output_type": "stream",
     "text": [
      "C:\\Users\\chongs\\Anaconda3\\envs\\mypython\\lib\\site-packages\\ipykernel_launcher.py:16: DataConversionWarning: A column-vector y was passed when a 1d array was expected. Please change the shape of y to (n_samples,), for example using ravel().\n",
      "  app.launch_new_instance()\n"
     ]
    },
    {
     "name": "stdout",
     "output_type": "stream",
     "text": [
      "R2 - Train : 0.216, Test: 0.260\n"
     ]
    },
    {
     "name": "stderr",
     "output_type": "stream",
     "text": [
      "C:\\Users\\chongs\\Anaconda3\\envs\\mypython\\lib\\site-packages\\ipykernel_launcher.py:16: DataConversionWarning: A column-vector y was passed when a 1d array was expected. Please change the shape of y to (n_samples,), for example using ravel().\n",
      "  app.launch_new_instance()\n"
     ]
    },
    {
     "name": "stdout",
     "output_type": "stream",
     "text": [
      "R2 - Train : 0.251, Test: 0.338\n"
     ]
    },
    {
     "name": "stderr",
     "output_type": "stream",
     "text": [
      "C:\\Users\\chongs\\Anaconda3\\envs\\mypython\\lib\\site-packages\\ipykernel_launcher.py:16: DataConversionWarning: A column-vector y was passed when a 1d array was expected. Please change the shape of y to (n_samples,), for example using ravel().\n",
      "  app.launch_new_instance()\n"
     ]
    },
    {
     "name": "stdout",
     "output_type": "stream",
     "text": [
      "R2 - Train : 0.199, Test: 0.292\n"
     ]
    },
    {
     "name": "stderr",
     "output_type": "stream",
     "text": [
      "C:\\Users\\chongs\\Anaconda3\\envs\\mypython\\lib\\site-packages\\ipykernel_launcher.py:16: DataConversionWarning: A column-vector y was passed when a 1d array was expected. Please change the shape of y to (n_samples,), for example using ravel().\n",
      "  app.launch_new_instance()\n"
     ]
    },
    {
     "name": "stdout",
     "output_type": "stream",
     "text": [
      "R2 - Train : 0.133, Test: 0.076\n"
     ]
    },
    {
     "name": "stderr",
     "output_type": "stream",
     "text": [
      "C:\\Users\\chongs\\Anaconda3\\envs\\mypython\\lib\\site-packages\\ipykernel_launcher.py:16: DataConversionWarning: A column-vector y was passed when a 1d array was expected. Please change the shape of y to (n_samples,), for example using ravel().\n",
      "  app.launch_new_instance()\n"
     ]
    },
    {
     "name": "stdout",
     "output_type": "stream",
     "text": [
      "R2 - Train : 0.241, Test: 0.316\n"
     ]
    },
    {
     "name": "stderr",
     "output_type": "stream",
     "text": [
      "C:\\Users\\chongs\\Anaconda3\\envs\\mypython\\lib\\site-packages\\ipykernel_launcher.py:16: DataConversionWarning: A column-vector y was passed when a 1d array was expected. Please change the shape of y to (n_samples,), for example using ravel().\n",
      "  app.launch_new_instance()\n"
     ]
    },
    {
     "name": "stdout",
     "output_type": "stream",
     "text": [
      "R2 - Train : 0.223, Test: 0.154\n"
     ]
    },
    {
     "name": "stderr",
     "output_type": "stream",
     "text": [
      "C:\\Users\\chongs\\Anaconda3\\envs\\mypython\\lib\\site-packages\\ipykernel_launcher.py:16: DataConversionWarning: A column-vector y was passed when a 1d array was expected. Please change the shape of y to (n_samples,), for example using ravel().\n",
      "  app.launch_new_instance()\n"
     ]
    },
    {
     "name": "stdout",
     "output_type": "stream",
     "text": [
      "R2 - Train : 0.384, Test: 0.434\n"
     ]
    },
    {
     "name": "stderr",
     "output_type": "stream",
     "text": [
      "C:\\Users\\chongs\\Anaconda3\\envs\\mypython\\lib\\site-packages\\ipykernel_launcher.py:16: DataConversionWarning: A column-vector y was passed when a 1d array was expected. Please change the shape of y to (n_samples,), for example using ravel().\n",
      "  app.launch_new_instance()\n"
     ]
    },
    {
     "name": "stdout",
     "output_type": "stream",
     "text": [
      "R2 - Train : 0.079, Test: 0.003\n"
     ]
    },
    {
     "name": "stderr",
     "output_type": "stream",
     "text": [
      "C:\\Users\\chongs\\Anaconda3\\envs\\mypython\\lib\\site-packages\\ipykernel_launcher.py:16: DataConversionWarning: A column-vector y was passed when a 1d array was expected. Please change the shape of y to (n_samples,), for example using ravel().\n",
      "  app.launch_new_instance()\n"
     ]
    },
    {
     "name": "stdout",
     "output_type": "stream",
     "text": [
      "R2 - Train : 0.310, Test: 0.299\n"
     ]
    },
    {
     "name": "stderr",
     "output_type": "stream",
     "text": [
      "C:\\Users\\chongs\\Anaconda3\\envs\\mypython\\lib\\site-packages\\ipykernel_launcher.py:16: DataConversionWarning: A column-vector y was passed when a 1d array was expected. Please change the shape of y to (n_samples,), for example using ravel().\n",
      "  app.launch_new_instance()\n"
     ]
    },
    {
     "name": "stdout",
     "output_type": "stream",
     "text": [
      "R2 - Train : 0.364, Test: 0.402\n"
     ]
    },
    {
     "name": "stderr",
     "output_type": "stream",
     "text": [
      "C:\\Users\\chongs\\Anaconda3\\envs\\mypython\\lib\\site-packages\\ipykernel_launcher.py:16: DataConversionWarning: A column-vector y was passed when a 1d array was expected. Please change the shape of y to (n_samples,), for example using ravel().\n",
      "  app.launch_new_instance()\n"
     ]
    },
    {
     "name": "stdout",
     "output_type": "stream",
     "text": [
      "R2 - Train : 0.313, Test: 0.351\n"
     ]
    },
    {
     "name": "stderr",
     "output_type": "stream",
     "text": [
      "C:\\Users\\chongs\\Anaconda3\\envs\\mypython\\lib\\site-packages\\ipykernel_launcher.py:16: DataConversionWarning: A column-vector y was passed when a 1d array was expected. Please change the shape of y to (n_samples,), for example using ravel().\n",
      "  app.launch_new_instance()\n"
     ]
    },
    {
     "name": "stdout",
     "output_type": "stream",
     "text": [
      "R2 - Train : 0.329, Test: 0.364\n"
     ]
    },
    {
     "name": "stderr",
     "output_type": "stream",
     "text": [
      "C:\\Users\\chongs\\Anaconda3\\envs\\mypython\\lib\\site-packages\\ipykernel_launcher.py:16: DataConversionWarning: A column-vector y was passed when a 1d array was expected. Please change the shape of y to (n_samples,), for example using ravel().\n",
      "  app.launch_new_instance()\n"
     ]
    },
    {
     "name": "stdout",
     "output_type": "stream",
     "text": [
      "R2 - Train : 0.278, Test: 0.289\n"
     ]
    },
    {
     "name": "stderr",
     "output_type": "stream",
     "text": [
      "C:\\Users\\chongs\\Anaconda3\\envs\\mypython\\lib\\site-packages\\ipykernel_launcher.py:16: DataConversionWarning: A column-vector y was passed when a 1d array was expected. Please change the shape of y to (n_samples,), for example using ravel().\n",
      "  app.launch_new_instance()\n"
     ]
    },
    {
     "name": "stdout",
     "output_type": "stream",
     "text": [
      "R2 - Train : 0.282, Test: 0.317\n"
     ]
    },
    {
     "name": "stderr",
     "output_type": "stream",
     "text": [
      "C:\\Users\\chongs\\Anaconda3\\envs\\mypython\\lib\\site-packages\\ipykernel_launcher.py:16: DataConversionWarning: A column-vector y was passed when a 1d array was expected. Please change the shape of y to (n_samples,), for example using ravel().\n",
      "  app.launch_new_instance()\n"
     ]
    },
    {
     "name": "stdout",
     "output_type": "stream",
     "text": [
      "R2 - Train : 0.310, Test: 0.333\n"
     ]
    },
    {
     "name": "stderr",
     "output_type": "stream",
     "text": [
      "C:\\Users\\chongs\\Anaconda3\\envs\\mypython\\lib\\site-packages\\ipykernel_launcher.py:16: DataConversionWarning: A column-vector y was passed when a 1d array was expected. Please change the shape of y to (n_samples,), for example using ravel().\n",
      "  app.launch_new_instance()\n"
     ]
    },
    {
     "name": "stdout",
     "output_type": "stream",
     "text": [
      "R2 - Train : 0.250, Test: 0.230\n"
     ]
    },
    {
     "name": "stderr",
     "output_type": "stream",
     "text": [
      "C:\\Users\\chongs\\Anaconda3\\envs\\mypython\\lib\\site-packages\\ipykernel_launcher.py:16: DataConversionWarning: A column-vector y was passed when a 1d array was expected. Please change the shape of y to (n_samples,), for example using ravel().\n",
      "  app.launch_new_instance()\n"
     ]
    },
    {
     "name": "stdout",
     "output_type": "stream",
     "text": [
      "R2 - Train : 0.288, Test: 0.318\n"
     ]
    },
    {
     "name": "stderr",
     "output_type": "stream",
     "text": [
      "C:\\Users\\chongs\\Anaconda3\\envs\\mypython\\lib\\site-packages\\ipykernel_launcher.py:16: DataConversionWarning: A column-vector y was passed when a 1d array was expected. Please change the shape of y to (n_samples,), for example using ravel().\n",
      "  app.launch_new_instance()\n"
     ]
    },
    {
     "name": "stdout",
     "output_type": "stream",
     "text": [
      "R2 - Train : 0.246, Test: 0.270\n"
     ]
    },
    {
     "name": "stderr",
     "output_type": "stream",
     "text": [
      "C:\\Users\\chongs\\Anaconda3\\envs\\mypython\\lib\\site-packages\\ipykernel_launcher.py:16: DataConversionWarning: A column-vector y was passed when a 1d array was expected. Please change the shape of y to (n_samples,), for example using ravel().\n",
      "  app.launch_new_instance()\n"
     ]
    },
    {
     "name": "stdout",
     "output_type": "stream",
     "text": [
      "R2 - Train : 0.176, Test: 0.044\n"
     ]
    },
    {
     "name": "stderr",
     "output_type": "stream",
     "text": [
      "C:\\Users\\chongs\\Anaconda3\\envs\\mypython\\lib\\site-packages\\ipykernel_launcher.py:16: DataConversionWarning: A column-vector y was passed when a 1d array was expected. Please change the shape of y to (n_samples,), for example using ravel().\n",
      "  app.launch_new_instance()\n"
     ]
    },
    {
     "name": "stdout",
     "output_type": "stream",
     "text": [
      "R2 - Train : 0.286, Test: 0.310\n"
     ]
    },
    {
     "name": "stderr",
     "output_type": "stream",
     "text": [
      "C:\\Users\\chongs\\Anaconda3\\envs\\mypython\\lib\\site-packages\\ipykernel_launcher.py:16: DataConversionWarning: A column-vector y was passed when a 1d array was expected. Please change the shape of y to (n_samples,), for example using ravel().\n",
      "  app.launch_new_instance()\n"
     ]
    },
    {
     "name": "stdout",
     "output_type": "stream",
     "text": [
      "R2 - Train : 0.253, Test: 0.147\n"
     ]
    },
    {
     "name": "stderr",
     "output_type": "stream",
     "text": [
      "C:\\Users\\chongs\\Anaconda3\\envs\\mypython\\lib\\site-packages\\ipykernel_launcher.py:16: DataConversionWarning: A column-vector y was passed when a 1d array was expected. Please change the shape of y to (n_samples,), for example using ravel().\n",
      "  app.launch_new_instance()\n"
     ]
    },
    {
     "name": "stdout",
     "output_type": "stream",
     "text": [
      "R2 - Train : 0.793, Test: 0.656\n"
     ]
    },
    {
     "name": "stderr",
     "output_type": "stream",
     "text": [
      "C:\\Users\\chongs\\Anaconda3\\envs\\mypython\\lib\\site-packages\\ipykernel_launcher.py:16: DataConversionWarning: A column-vector y was passed when a 1d array was expected. Please change the shape of y to (n_samples,), for example using ravel().\n",
      "  app.launch_new_instance()\n"
     ]
    },
    {
     "name": "stdout",
     "output_type": "stream",
     "text": [
      "R2 - Train : 0.296, Test: 0.094\n"
     ]
    },
    {
     "name": "stderr",
     "output_type": "stream",
     "text": [
      "C:\\Users\\chongs\\Anaconda3\\envs\\mypython\\lib\\site-packages\\ipykernel_launcher.py:16: DataConversionWarning: A column-vector y was passed when a 1d array was expected. Please change the shape of y to (n_samples,), for example using ravel().\n",
      "  app.launch_new_instance()\n"
     ]
    },
    {
     "name": "stdout",
     "output_type": "stream",
     "text": [
      "R2 - Train : 0.723, Test: 0.530\n"
     ]
    },
    {
     "name": "stderr",
     "output_type": "stream",
     "text": [
      "C:\\Users\\chongs\\Anaconda3\\envs\\mypython\\lib\\site-packages\\ipykernel_launcher.py:16: DataConversionWarning: A column-vector y was passed when a 1d array was expected. Please change the shape of y to (n_samples,), for example using ravel().\n",
      "  app.launch_new_instance()\n"
     ]
    },
    {
     "name": "stdout",
     "output_type": "stream",
     "text": [
      "R2 - Train : 0.745, Test: 0.604\n"
     ]
    },
    {
     "name": "stderr",
     "output_type": "stream",
     "text": [
      "C:\\Users\\chongs\\Anaconda3\\envs\\mypython\\lib\\site-packages\\ipykernel_launcher.py:16: DataConversionWarning: A column-vector y was passed when a 1d array was expected. Please change the shape of y to (n_samples,), for example using ravel().\n",
      "  app.launch_new_instance()\n"
     ]
    },
    {
     "name": "stdout",
     "output_type": "stream",
     "text": [
      "R2 - Train : 0.789, Test: 0.630\n"
     ]
    },
    {
     "name": "stderr",
     "output_type": "stream",
     "text": [
      "C:\\Users\\chongs\\Anaconda3\\envs\\mypython\\lib\\site-packages\\ipykernel_launcher.py:16: DataConversionWarning: A column-vector y was passed when a 1d array was expected. Please change the shape of y to (n_samples,), for example using ravel().\n",
      "  app.launch_new_instance()\n"
     ]
    },
    {
     "name": "stdout",
     "output_type": "stream",
     "text": [
      "R2 - Train : 0.768, Test: 0.616\n"
     ]
    },
    {
     "name": "stderr",
     "output_type": "stream",
     "text": [
      "C:\\Users\\chongs\\Anaconda3\\envs\\mypython\\lib\\site-packages\\ipykernel_launcher.py:16: DataConversionWarning: A column-vector y was passed when a 1d array was expected. Please change the shape of y to (n_samples,), for example using ravel().\n",
      "  app.launch_new_instance()\n"
     ]
    },
    {
     "name": "stdout",
     "output_type": "stream",
     "text": [
      "R2 - Train : 0.757, Test: 0.566\n"
     ]
    },
    {
     "name": "stderr",
     "output_type": "stream",
     "text": [
      "C:\\Users\\chongs\\Anaconda3\\envs\\mypython\\lib\\site-packages\\ipykernel_launcher.py:16: DataConversionWarning: A column-vector y was passed when a 1d array was expected. Please change the shape of y to (n_samples,), for example using ravel().\n",
      "  app.launch_new_instance()\n"
     ]
    },
    {
     "name": "stdout",
     "output_type": "stream",
     "text": [
      "R2 - Train : 0.776, Test: 0.616\n"
     ]
    },
    {
     "name": "stderr",
     "output_type": "stream",
     "text": [
      "C:\\Users\\chongs\\Anaconda3\\envs\\mypython\\lib\\site-packages\\ipykernel_launcher.py:16: DataConversionWarning: A column-vector y was passed when a 1d array was expected. Please change the shape of y to (n_samples,), for example using ravel().\n",
      "  app.launch_new_instance()\n"
     ]
    },
    {
     "name": "stdout",
     "output_type": "stream",
     "text": [
      "R2 - Train : 0.792, Test: 0.628\n"
     ]
    },
    {
     "name": "stderr",
     "output_type": "stream",
     "text": [
      "C:\\Users\\chongs\\Anaconda3\\envs\\mypython\\lib\\site-packages\\ipykernel_launcher.py:16: DataConversionWarning: A column-vector y was passed when a 1d array was expected. Please change the shape of y to (n_samples,), for example using ravel().\n",
      "  app.launch_new_instance()\n"
     ]
    },
    {
     "name": "stdout",
     "output_type": "stream",
     "text": [
      "R2 - Train : 0.794, Test: 0.584\n"
     ]
    },
    {
     "name": "stderr",
     "output_type": "stream",
     "text": [
      "C:\\Users\\chongs\\Anaconda3\\envs\\mypython\\lib\\site-packages\\ipykernel_launcher.py:16: DataConversionWarning: A column-vector y was passed when a 1d array was expected. Please change the shape of y to (n_samples,), for example using ravel().\n",
      "  app.launch_new_instance()\n"
     ]
    },
    {
     "name": "stdout",
     "output_type": "stream",
     "text": [
      "R2 - Train : 0.789, Test: 0.618\n"
     ]
    },
    {
     "name": "stderr",
     "output_type": "stream",
     "text": [
      "C:\\Users\\chongs\\Anaconda3\\envs\\mypython\\lib\\site-packages\\ipykernel_launcher.py:16: DataConversionWarning: A column-vector y was passed when a 1d array was expected. Please change the shape of y to (n_samples,), for example using ravel().\n",
      "  app.launch_new_instance()\n"
     ]
    },
    {
     "name": "stdout",
     "output_type": "stream",
     "text": [
      "R2 - Train : 0.782, Test: 0.598\n"
     ]
    },
    {
     "name": "stderr",
     "output_type": "stream",
     "text": [
      "C:\\Users\\chongs\\Anaconda3\\envs\\mypython\\lib\\site-packages\\ipykernel_launcher.py:16: DataConversionWarning: A column-vector y was passed when a 1d array was expected. Please change the shape of y to (n_samples,), for example using ravel().\n",
      "  app.launch_new_instance()\n"
     ]
    },
    {
     "name": "stdout",
     "output_type": "stream",
     "text": [
      "R2 - Train : 0.740, Test: 0.458\n"
     ]
    },
    {
     "name": "stderr",
     "output_type": "stream",
     "text": [
      "C:\\Users\\chongs\\Anaconda3\\envs\\mypython\\lib\\site-packages\\ipykernel_launcher.py:16: DataConversionWarning: A column-vector y was passed when a 1d array was expected. Please change the shape of y to (n_samples,), for example using ravel().\n",
      "  app.launch_new_instance()\n"
     ]
    },
    {
     "name": "stdout",
     "output_type": "stream",
     "text": [
      "R2 - Train : 0.756, Test: 0.564\n"
     ]
    },
    {
     "name": "stderr",
     "output_type": "stream",
     "text": [
      "C:\\Users\\chongs\\Anaconda3\\envs\\mypython\\lib\\site-packages\\ipykernel_launcher.py:16: DataConversionWarning: A column-vector y was passed when a 1d array was expected. Please change the shape of y to (n_samples,), for example using ravel().\n",
      "  app.launch_new_instance()\n"
     ]
    },
    {
     "name": "stdout",
     "output_type": "stream",
     "text": [
      "R2 - Train : 0.703, Test: 0.502\n"
     ]
    },
    {
     "name": "stderr",
     "output_type": "stream",
     "text": [
      "C:\\Users\\chongs\\Anaconda3\\envs\\mypython\\lib\\site-packages\\ipykernel_launcher.py:16: DataConversionWarning: A column-vector y was passed when a 1d array was expected. Please change the shape of y to (n_samples,), for example using ravel().\n",
      "  app.launch_new_instance()\n"
     ]
    },
    {
     "name": "stdout",
     "output_type": "stream",
     "text": [
      "R2 - Train : 0.760, Test: 0.698\n"
     ]
    },
    {
     "name": "stderr",
     "output_type": "stream",
     "text": [
      "C:\\Users\\chongs\\Anaconda3\\envs\\mypython\\lib\\site-packages\\ipykernel_launcher.py:16: DataConversionWarning: A column-vector y was passed when a 1d array was expected. Please change the shape of y to (n_samples,), for example using ravel().\n",
      "  app.launch_new_instance()\n"
     ]
    },
    {
     "name": "stdout",
     "output_type": "stream",
     "text": [
      "R2 - Train : 0.299, Test: 0.088\n"
     ]
    },
    {
     "name": "stderr",
     "output_type": "stream",
     "text": [
      "C:\\Users\\chongs\\Anaconda3\\envs\\mypython\\lib\\site-packages\\ipykernel_launcher.py:16: DataConversionWarning: A column-vector y was passed when a 1d array was expected. Please change the shape of y to (n_samples,), for example using ravel().\n",
      "  app.launch_new_instance()\n"
     ]
    },
    {
     "name": "stdout",
     "output_type": "stream",
     "text": [
      "R2 - Train : 0.704, Test: 0.534\n"
     ]
    },
    {
     "name": "stderr",
     "output_type": "stream",
     "text": [
      "C:\\Users\\chongs\\Anaconda3\\envs\\mypython\\lib\\site-packages\\ipykernel_launcher.py:16: DataConversionWarning: A column-vector y was passed when a 1d array was expected. Please change the shape of y to (n_samples,), for example using ravel().\n",
      "  app.launch_new_instance()\n"
     ]
    },
    {
     "name": "stdout",
     "output_type": "stream",
     "text": [
      "R2 - Train : 0.703, Test: 0.649\n"
     ]
    },
    {
     "name": "stderr",
     "output_type": "stream",
     "text": [
      "C:\\Users\\chongs\\Anaconda3\\envs\\mypython\\lib\\site-packages\\ipykernel_launcher.py:16: DataConversionWarning: A column-vector y was passed when a 1d array was expected. Please change the shape of y to (n_samples,), for example using ravel().\n",
      "  app.launch_new_instance()\n"
     ]
    },
    {
     "name": "stdout",
     "output_type": "stream",
     "text": [
      "R2 - Train : 0.755, Test: 0.677\n"
     ]
    },
    {
     "name": "stderr",
     "output_type": "stream",
     "text": [
      "C:\\Users\\chongs\\Anaconda3\\envs\\mypython\\lib\\site-packages\\ipykernel_launcher.py:16: DataConversionWarning: A column-vector y was passed when a 1d array was expected. Please change the shape of y to (n_samples,), for example using ravel().\n",
      "  app.launch_new_instance()\n"
     ]
    },
    {
     "name": "stdout",
     "output_type": "stream",
     "text": [
      "R2 - Train : 0.726, Test: 0.666\n"
     ]
    },
    {
     "name": "stderr",
     "output_type": "stream",
     "text": [
      "C:\\Users\\chongs\\Anaconda3\\envs\\mypython\\lib\\site-packages\\ipykernel_launcher.py:16: DataConversionWarning: A column-vector y was passed when a 1d array was expected. Please change the shape of y to (n_samples,), for example using ravel().\n",
      "  app.launch_new_instance()\n"
     ]
    },
    {
     "name": "stdout",
     "output_type": "stream",
     "text": [
      "R2 - Train : 0.731, Test: 0.612\n"
     ]
    },
    {
     "name": "stderr",
     "output_type": "stream",
     "text": [
      "C:\\Users\\chongs\\Anaconda3\\envs\\mypython\\lib\\site-packages\\ipykernel_launcher.py:16: DataConversionWarning: A column-vector y was passed when a 1d array was expected. Please change the shape of y to (n_samples,), for example using ravel().\n",
      "  app.launch_new_instance()\n"
     ]
    },
    {
     "name": "stdout",
     "output_type": "stream",
     "text": [
      "R2 - Train : 0.730, Test: 0.660\n"
     ]
    },
    {
     "name": "stderr",
     "output_type": "stream",
     "text": [
      "C:\\Users\\chongs\\Anaconda3\\envs\\mypython\\lib\\site-packages\\ipykernel_launcher.py:16: DataConversionWarning: A column-vector y was passed when a 1d array was expected. Please change the shape of y to (n_samples,), for example using ravel().\n",
      "  app.launch_new_instance()\n"
     ]
    },
    {
     "name": "stdout",
     "output_type": "stream",
     "text": [
      "R2 - Train : 0.747, Test: 0.675\n"
     ]
    },
    {
     "name": "stderr",
     "output_type": "stream",
     "text": [
      "C:\\Users\\chongs\\Anaconda3\\envs\\mypython\\lib\\site-packages\\ipykernel_launcher.py:16: DataConversionWarning: A column-vector y was passed when a 1d array was expected. Please change the shape of y to (n_samples,), for example using ravel().\n",
      "  app.launch_new_instance()\n"
     ]
    },
    {
     "name": "stdout",
     "output_type": "stream",
     "text": [
      "R2 - Train : 0.739, Test: 0.598\n"
     ]
    },
    {
     "name": "stderr",
     "output_type": "stream",
     "text": [
      "C:\\Users\\chongs\\Anaconda3\\envs\\mypython\\lib\\site-packages\\ipykernel_launcher.py:16: DataConversionWarning: A column-vector y was passed when a 1d array was expected. Please change the shape of y to (n_samples,), for example using ravel().\n",
      "  app.launch_new_instance()\n"
     ]
    },
    {
     "name": "stdout",
     "output_type": "stream",
     "text": [
      "R2 - Train : 0.738, Test: 0.659\n"
     ]
    },
    {
     "name": "stderr",
     "output_type": "stream",
     "text": [
      "C:\\Users\\chongs\\Anaconda3\\envs\\mypython\\lib\\site-packages\\ipykernel_launcher.py:16: DataConversionWarning: A column-vector y was passed when a 1d array was expected. Please change the shape of y to (n_samples,), for example using ravel().\n",
      "  app.launch_new_instance()\n"
     ]
    },
    {
     "name": "stdout",
     "output_type": "stream",
     "text": [
      "R2 - Train : 0.733, Test: 0.632\n"
     ]
    },
    {
     "name": "stderr",
     "output_type": "stream",
     "text": [
      "C:\\Users\\chongs\\Anaconda3\\envs\\mypython\\lib\\site-packages\\ipykernel_launcher.py:16: DataConversionWarning: A column-vector y was passed when a 1d array was expected. Please change the shape of y to (n_samples,), for example using ravel().\n",
      "  app.launch_new_instance()\n"
     ]
    },
    {
     "name": "stdout",
     "output_type": "stream",
     "text": [
      "R2 - Train : 0.695, Test: 0.462\n"
     ]
    },
    {
     "name": "stderr",
     "output_type": "stream",
     "text": [
      "C:\\Users\\chongs\\Anaconda3\\envs\\mypython\\lib\\site-packages\\ipykernel_launcher.py:16: DataConversionWarning: A column-vector y was passed when a 1d array was expected. Please change the shape of y to (n_samples,), for example using ravel().\n",
      "  app.launch_new_instance()\n"
     ]
    },
    {
     "name": "stdout",
     "output_type": "stream",
     "text": [
      "R2 - Train : 0.710, Test: 0.602\n"
     ]
    },
    {
     "name": "stderr",
     "output_type": "stream",
     "text": [
      "C:\\Users\\chongs\\Anaconda3\\envs\\mypython\\lib\\site-packages\\ipykernel_launcher.py:16: DataConversionWarning: A column-vector y was passed when a 1d array was expected. Please change the shape of y to (n_samples,), for example using ravel().\n",
      "  app.launch_new_instance()\n"
     ]
    },
    {
     "name": "stdout",
     "output_type": "stream",
     "text": [
      "R2 - Train : 0.682, Test: 0.524\n"
     ]
    },
    {
     "name": "stderr",
     "output_type": "stream",
     "text": [
      "C:\\Users\\chongs\\Anaconda3\\envs\\mypython\\lib\\site-packages\\ipykernel_launcher.py:16: DataConversionWarning: A column-vector y was passed when a 1d array was expected. Please change the shape of y to (n_samples,), for example using ravel().\n",
      "  app.launch_new_instance()\n"
     ]
    },
    {
     "name": "stdout",
     "output_type": "stream",
     "text": [
      "R2 - Train : 0.756, Test: 0.671\n"
     ]
    },
    {
     "name": "stderr",
     "output_type": "stream",
     "text": [
      "C:\\Users\\chongs\\Anaconda3\\envs\\mypython\\lib\\site-packages\\ipykernel_launcher.py:16: DataConversionWarning: A column-vector y was passed when a 1d array was expected. Please change the shape of y to (n_samples,), for example using ravel().\n",
      "  app.launch_new_instance()\n"
     ]
    },
    {
     "name": "stdout",
     "output_type": "stream",
     "text": [
      "R2 - Train : 0.339, Test: 0.212\n"
     ]
    },
    {
     "name": "stderr",
     "output_type": "stream",
     "text": [
      "C:\\Users\\chongs\\Anaconda3\\envs\\mypython\\lib\\site-packages\\ipykernel_launcher.py:16: DataConversionWarning: A column-vector y was passed when a 1d array was expected. Please change the shape of y to (n_samples,), for example using ravel().\n",
      "  app.launch_new_instance()\n"
     ]
    },
    {
     "name": "stdout",
     "output_type": "stream",
     "text": [
      "R2 - Train : 0.697, Test: 0.536\n"
     ]
    },
    {
     "name": "stderr",
     "output_type": "stream",
     "text": [
      "C:\\Users\\chongs\\Anaconda3\\envs\\mypython\\lib\\site-packages\\ipykernel_launcher.py:16: DataConversionWarning: A column-vector y was passed when a 1d array was expected. Please change the shape of y to (n_samples,), for example using ravel().\n",
      "  app.launch_new_instance()\n"
     ]
    },
    {
     "name": "stdout",
     "output_type": "stream",
     "text": [
      "R2 - Train : 0.711, Test: 0.608\n"
     ]
    },
    {
     "name": "stderr",
     "output_type": "stream",
     "text": [
      "C:\\Users\\chongs\\Anaconda3\\envs\\mypython\\lib\\site-packages\\ipykernel_launcher.py:16: DataConversionWarning: A column-vector y was passed when a 1d array was expected. Please change the shape of y to (n_samples,), for example using ravel().\n",
      "  app.launch_new_instance()\n"
     ]
    },
    {
     "name": "stdout",
     "output_type": "stream",
     "text": [
      "R2 - Train : 0.742, Test: 0.645\n"
     ]
    },
    {
     "name": "stderr",
     "output_type": "stream",
     "text": [
      "C:\\Users\\chongs\\Anaconda3\\envs\\mypython\\lib\\site-packages\\ipykernel_launcher.py:16: DataConversionWarning: A column-vector y was passed when a 1d array was expected. Please change the shape of y to (n_samples,), for example using ravel().\n",
      "  app.launch_new_instance()\n"
     ]
    },
    {
     "name": "stdout",
     "output_type": "stream",
     "text": [
      "R2 - Train : 0.724, Test: 0.626\n"
     ]
    },
    {
     "name": "stderr",
     "output_type": "stream",
     "text": [
      "C:\\Users\\chongs\\Anaconda3\\envs\\mypython\\lib\\site-packages\\ipykernel_launcher.py:16: DataConversionWarning: A column-vector y was passed when a 1d array was expected. Please change the shape of y to (n_samples,), for example using ravel().\n",
      "  app.launch_new_instance()\n"
     ]
    },
    {
     "name": "stdout",
     "output_type": "stream",
     "text": [
      "R2 - Train : 0.739, Test: 0.648\n"
     ]
    },
    {
     "name": "stderr",
     "output_type": "stream",
     "text": [
      "C:\\Users\\chongs\\Anaconda3\\envs\\mypython\\lib\\site-packages\\ipykernel_launcher.py:16: DataConversionWarning: A column-vector y was passed when a 1d array was expected. Please change the shape of y to (n_samples,), for example using ravel().\n",
      "  app.launch_new_instance()\n"
     ]
    },
    {
     "name": "stdout",
     "output_type": "stream",
     "text": [
      "R2 - Train : 0.722, Test: 0.611\n"
     ]
    },
    {
     "name": "stderr",
     "output_type": "stream",
     "text": [
      "C:\\Users\\chongs\\Anaconda3\\envs\\mypython\\lib\\site-packages\\ipykernel_launcher.py:16: DataConversionWarning: A column-vector y was passed when a 1d array was expected. Please change the shape of y to (n_samples,), for example using ravel().\n",
      "  app.launch_new_instance()\n"
     ]
    },
    {
     "name": "stdout",
     "output_type": "stream",
     "text": [
      "R2 - Train : 0.747, Test: 0.639\n"
     ]
    },
    {
     "name": "stderr",
     "output_type": "stream",
     "text": [
      "C:\\Users\\chongs\\Anaconda3\\envs\\mypython\\lib\\site-packages\\ipykernel_launcher.py:16: DataConversionWarning: A column-vector y was passed when a 1d array was expected. Please change the shape of y to (n_samples,), for example using ravel().\n",
      "  app.launch_new_instance()\n"
     ]
    },
    {
     "name": "stdout",
     "output_type": "stream",
     "text": [
      "R2 - Train : 0.741, Test: 0.630\n"
     ]
    },
    {
     "name": "stderr",
     "output_type": "stream",
     "text": [
      "C:\\Users\\chongs\\Anaconda3\\envs\\mypython\\lib\\site-packages\\ipykernel_launcher.py:16: DataConversionWarning: A column-vector y was passed when a 1d array was expected. Please change the shape of y to (n_samples,), for example using ravel().\n",
      "  app.launch_new_instance()\n"
     ]
    },
    {
     "name": "stdout",
     "output_type": "stream",
     "text": [
      "R2 - Train : 0.730, Test: 0.612\n"
     ]
    },
    {
     "name": "stderr",
     "output_type": "stream",
     "text": [
      "C:\\Users\\chongs\\Anaconda3\\envs\\mypython\\lib\\site-packages\\ipykernel_launcher.py:16: DataConversionWarning: A column-vector y was passed when a 1d array was expected. Please change the shape of y to (n_samples,), for example using ravel().\n",
      "  app.launch_new_instance()\n"
     ]
    },
    {
     "name": "stdout",
     "output_type": "stream",
     "text": [
      "R2 - Train : 0.712, Test: 0.594\n"
     ]
    },
    {
     "name": "stderr",
     "output_type": "stream",
     "text": [
      "C:\\Users\\chongs\\Anaconda3\\envs\\mypython\\lib\\site-packages\\ipykernel_launcher.py:16: DataConversionWarning: A column-vector y was passed when a 1d array was expected. Please change the shape of y to (n_samples,), for example using ravel().\n",
      "  app.launch_new_instance()\n"
     ]
    },
    {
     "name": "stdout",
     "output_type": "stream",
     "text": [
      "R2 - Train : 0.733, Test: 0.645\n"
     ]
    },
    {
     "name": "stderr",
     "output_type": "stream",
     "text": [
      "C:\\Users\\chongs\\Anaconda3\\envs\\mypython\\lib\\site-packages\\ipykernel_launcher.py:16: DataConversionWarning: A column-vector y was passed when a 1d array was expected. Please change the shape of y to (n_samples,), for example using ravel().\n",
      "  app.launch_new_instance()\n"
     ]
    },
    {
     "name": "stdout",
     "output_type": "stream",
     "text": [
      "R2 - Train : 0.700, Test: 0.567\n"
     ]
    },
    {
     "name": "stderr",
     "output_type": "stream",
     "text": [
      "C:\\Users\\chongs\\Anaconda3\\envs\\mypython\\lib\\site-packages\\ipykernel_launcher.py:16: DataConversionWarning: A column-vector y was passed when a 1d array was expected. Please change the shape of y to (n_samples,), for example using ravel().\n",
      "  app.launch_new_instance()\n"
     ]
    },
    {
     "name": "stdout",
     "output_type": "stream",
     "text": [
      "R2 - Train : 0.719, Test: 0.556\n"
     ]
    },
    {
     "name": "stderr",
     "output_type": "stream",
     "text": [
      "C:\\Users\\chongs\\Anaconda3\\envs\\mypython\\lib\\site-packages\\ipykernel_launcher.py:16: DataConversionWarning: A column-vector y was passed when a 1d array was expected. Please change the shape of y to (n_samples,), for example using ravel().\n",
      "  app.launch_new_instance()\n"
     ]
    },
    {
     "name": "stdout",
     "output_type": "stream",
     "text": [
      "R2 - Train : 0.828, Test: 0.805\n"
     ]
    },
    {
     "name": "stderr",
     "output_type": "stream",
     "text": [
      "C:\\Users\\chongs\\Anaconda3\\envs\\mypython\\lib\\site-packages\\ipykernel_launcher.py:16: DataConversionWarning: A column-vector y was passed when a 1d array was expected. Please change the shape of y to (n_samples,), for example using ravel().\n",
      "  app.launch_new_instance()\n"
     ]
    },
    {
     "name": "stdout",
     "output_type": "stream",
     "text": [
      "R2 - Train : 0.375, Test: 0.184\n"
     ]
    },
    {
     "name": "stderr",
     "output_type": "stream",
     "text": [
      "C:\\Users\\chongs\\Anaconda3\\envs\\mypython\\lib\\site-packages\\ipykernel_launcher.py:16: DataConversionWarning: A column-vector y was passed when a 1d array was expected. Please change the shape of y to (n_samples,), for example using ravel().\n",
      "  app.launch_new_instance()\n"
     ]
    },
    {
     "name": "stdout",
     "output_type": "stream",
     "text": [
      "R2 - Train : 0.768, Test: 0.714\n"
     ]
    },
    {
     "name": "stderr",
     "output_type": "stream",
     "text": [
      "C:\\Users\\chongs\\Anaconda3\\envs\\mypython\\lib\\site-packages\\ipykernel_launcher.py:16: DataConversionWarning: A column-vector y was passed when a 1d array was expected. Please change the shape of y to (n_samples,), for example using ravel().\n",
      "  app.launch_new_instance()\n"
     ]
    },
    {
     "name": "stdout",
     "output_type": "stream",
     "text": [
      "R2 - Train : 0.787, Test: 0.743\n"
     ]
    },
    {
     "name": "stderr",
     "output_type": "stream",
     "text": [
      "C:\\Users\\chongs\\Anaconda3\\envs\\mypython\\lib\\site-packages\\ipykernel_launcher.py:16: DataConversionWarning: A column-vector y was passed when a 1d array was expected. Please change the shape of y to (n_samples,), for example using ravel().\n",
      "  app.launch_new_instance()\n"
     ]
    },
    {
     "name": "stdout",
     "output_type": "stream",
     "text": [
      "R2 - Train : 0.849, Test: 0.819\n"
     ]
    },
    {
     "name": "stderr",
     "output_type": "stream",
     "text": [
      "C:\\Users\\chongs\\Anaconda3\\envs\\mypython\\lib\\site-packages\\ipykernel_launcher.py:16: DataConversionWarning: A column-vector y was passed when a 1d array was expected. Please change the shape of y to (n_samples,), for example using ravel().\n",
      "  app.launch_new_instance()\n"
     ]
    },
    {
     "name": "stdout",
     "output_type": "stream",
     "text": [
      "R2 - Train : 0.825, Test: 0.794\n"
     ]
    },
    {
     "name": "stderr",
     "output_type": "stream",
     "text": [
      "C:\\Users\\chongs\\Anaconda3\\envs\\mypython\\lib\\site-packages\\ipykernel_launcher.py:16: DataConversionWarning: A column-vector y was passed when a 1d array was expected. Please change the shape of y to (n_samples,), for example using ravel().\n",
      "  app.launch_new_instance()\n"
     ]
    },
    {
     "name": "stdout",
     "output_type": "stream",
     "text": [
      "R2 - Train : 0.809, Test: 0.790\n"
     ]
    },
    {
     "name": "stderr",
     "output_type": "stream",
     "text": [
      "C:\\Users\\chongs\\Anaconda3\\envs\\mypython\\lib\\site-packages\\ipykernel_launcher.py:16: DataConversionWarning: A column-vector y was passed when a 1d array was expected. Please change the shape of y to (n_samples,), for example using ravel().\n",
      "  app.launch_new_instance()\n"
     ]
    },
    {
     "name": "stdout",
     "output_type": "stream",
     "text": [
      "R2 - Train : 0.838, Test: 0.807\n"
     ]
    },
    {
     "name": "stderr",
     "output_type": "stream",
     "text": [
      "C:\\Users\\chongs\\Anaconda3\\envs\\mypython\\lib\\site-packages\\ipykernel_launcher.py:16: DataConversionWarning: A column-vector y was passed when a 1d array was expected. Please change the shape of y to (n_samples,), for example using ravel().\n",
      "  app.launch_new_instance()\n"
     ]
    },
    {
     "name": "stdout",
     "output_type": "stream",
     "text": [
      "R2 - Train : 0.847, Test: 0.831\n"
     ]
    },
    {
     "name": "stderr",
     "output_type": "stream",
     "text": [
      "C:\\Users\\chongs\\Anaconda3\\envs\\mypython\\lib\\site-packages\\ipykernel_launcher.py:16: DataConversionWarning: A column-vector y was passed when a 1d array was expected. Please change the shape of y to (n_samples,), for example using ravel().\n",
      "  app.launch_new_instance()\n"
     ]
    },
    {
     "name": "stdout",
     "output_type": "stream",
     "text": [
      "R2 - Train : 0.859, Test: 0.819\n"
     ]
    },
    {
     "name": "stderr",
     "output_type": "stream",
     "text": [
      "C:\\Users\\chongs\\Anaconda3\\envs\\mypython\\lib\\site-packages\\ipykernel_launcher.py:16: DataConversionWarning: A column-vector y was passed when a 1d array was expected. Please change the shape of y to (n_samples,), for example using ravel().\n",
      "  app.launch_new_instance()\n"
     ]
    },
    {
     "name": "stdout",
     "output_type": "stream",
     "text": [
      "R2 - Train : 0.847, Test: 0.810\n"
     ]
    },
    {
     "name": "stderr",
     "output_type": "stream",
     "text": [
      "C:\\Users\\chongs\\Anaconda3\\envs\\mypython\\lib\\site-packages\\ipykernel_launcher.py:16: DataConversionWarning: A column-vector y was passed when a 1d array was expected. Please change the shape of y to (n_samples,), for example using ravel().\n",
      "  app.launch_new_instance()\n"
     ]
    },
    {
     "name": "stdout",
     "output_type": "stream",
     "text": [
      "R2 - Train : 0.829, Test: 0.783\n"
     ]
    },
    {
     "name": "stderr",
     "output_type": "stream",
     "text": [
      "C:\\Users\\chongs\\Anaconda3\\envs\\mypython\\lib\\site-packages\\ipykernel_launcher.py:16: DataConversionWarning: A column-vector y was passed when a 1d array was expected. Please change the shape of y to (n_samples,), for example using ravel().\n",
      "  app.launch_new_instance()\n"
     ]
    },
    {
     "name": "stdout",
     "output_type": "stream",
     "text": [
      "R2 - Train : 0.862, Test: 0.824\n"
     ]
    },
    {
     "name": "stderr",
     "output_type": "stream",
     "text": [
      "C:\\Users\\chongs\\Anaconda3\\envs\\mypython\\lib\\site-packages\\ipykernel_launcher.py:16: DataConversionWarning: A column-vector y was passed when a 1d array was expected. Please change the shape of y to (n_samples,), for example using ravel().\n",
      "  app.launch_new_instance()\n"
     ]
    },
    {
     "name": "stdout",
     "output_type": "stream",
     "text": [
      "R2 - Train : 0.801, Test: 0.735\n"
     ]
    },
    {
     "name": "stderr",
     "output_type": "stream",
     "text": [
      "C:\\Users\\chongs\\Anaconda3\\envs\\mypython\\lib\\site-packages\\ipykernel_launcher.py:16: DataConversionWarning: A column-vector y was passed when a 1d array was expected. Please change the shape of y to (n_samples,), for example using ravel().\n",
      "  app.launch_new_instance()\n"
     ]
    },
    {
     "name": "stdout",
     "output_type": "stream",
     "text": [
      "R2 - Train : 0.810, Test: 0.733\n"
     ]
    },
    {
     "name": "stderr",
     "output_type": "stream",
     "text": [
      "C:\\Users\\chongs\\Anaconda3\\envs\\mypython\\lib\\site-packages\\ipykernel_launcher.py:16: DataConversionWarning: A column-vector y was passed when a 1d array was expected. Please change the shape of y to (n_samples,), for example using ravel().\n",
      "  app.launch_new_instance()\n"
     ]
    },
    {
     "name": "stdout",
     "output_type": "stream",
     "text": [
      "R2 - Train : 0.630, Test: 0.585\n"
     ]
    },
    {
     "name": "stderr",
     "output_type": "stream",
     "text": [
      "C:\\Users\\chongs\\Anaconda3\\envs\\mypython\\lib\\site-packages\\ipykernel_launcher.py:16: DataConversionWarning: A column-vector y was passed when a 1d array was expected. Please change the shape of y to (n_samples,), for example using ravel().\n",
      "  app.launch_new_instance()\n"
     ]
    },
    {
     "name": "stdout",
     "output_type": "stream",
     "text": [
      "R2 - Train : 0.237, Test: 0.055\n"
     ]
    },
    {
     "name": "stderr",
     "output_type": "stream",
     "text": [
      "C:\\Users\\chongs\\Anaconda3\\envs\\mypython\\lib\\site-packages\\ipykernel_launcher.py:16: DataConversionWarning: A column-vector y was passed when a 1d array was expected. Please change the shape of y to (n_samples,), for example using ravel().\n",
      "  app.launch_new_instance()\n"
     ]
    },
    {
     "name": "stdout",
     "output_type": "stream",
     "text": [
      "R2 - Train : 0.541, Test: 0.407\n"
     ]
    },
    {
     "name": "stderr",
     "output_type": "stream",
     "text": [
      "C:\\Users\\chongs\\Anaconda3\\envs\\mypython\\lib\\site-packages\\ipykernel_launcher.py:16: DataConversionWarning: A column-vector y was passed when a 1d array was expected. Please change the shape of y to (n_samples,), for example using ravel().\n",
      "  app.launch_new_instance()\n"
     ]
    },
    {
     "name": "stdout",
     "output_type": "stream",
     "text": [
      "R2 - Train : 0.611, Test: 0.549\n"
     ]
    },
    {
     "name": "stderr",
     "output_type": "stream",
     "text": [
      "C:\\Users\\chongs\\Anaconda3\\envs\\mypython\\lib\\site-packages\\ipykernel_launcher.py:16: DataConversionWarning: A column-vector y was passed when a 1d array was expected. Please change the shape of y to (n_samples,), for example using ravel().\n",
      "  app.launch_new_instance()\n"
     ]
    },
    {
     "name": "stdout",
     "output_type": "stream",
     "text": [
      "R2 - Train : 0.613, Test: 0.549\n"
     ]
    },
    {
     "name": "stderr",
     "output_type": "stream",
     "text": [
      "C:\\Users\\chongs\\Anaconda3\\envs\\mypython\\lib\\site-packages\\ipykernel_launcher.py:16: DataConversionWarning: A column-vector y was passed when a 1d array was expected. Please change the shape of y to (n_samples,), for example using ravel().\n",
      "  app.launch_new_instance()\n"
     ]
    },
    {
     "name": "stdout",
     "output_type": "stream",
     "text": [
      "R2 - Train : 0.621, Test: 0.552\n"
     ]
    },
    {
     "name": "stderr",
     "output_type": "stream",
     "text": [
      "C:\\Users\\chongs\\Anaconda3\\envs\\mypython\\lib\\site-packages\\ipykernel_launcher.py:16: DataConversionWarning: A column-vector y was passed when a 1d array was expected. Please change the shape of y to (n_samples,), for example using ravel().\n",
      "  app.launch_new_instance()\n"
     ]
    },
    {
     "name": "stdout",
     "output_type": "stream",
     "text": [
      "R2 - Train : 0.583, Test: 0.502\n"
     ]
    },
    {
     "name": "stderr",
     "output_type": "stream",
     "text": [
      "C:\\Users\\chongs\\Anaconda3\\envs\\mypython\\lib\\site-packages\\ipykernel_launcher.py:16: DataConversionWarning: A column-vector y was passed when a 1d array was expected. Please change the shape of y to (n_samples,), for example using ravel().\n",
      "  app.launch_new_instance()\n"
     ]
    },
    {
     "name": "stdout",
     "output_type": "stream",
     "text": [
      "R2 - Train : 0.615, Test: 0.540\n"
     ]
    },
    {
     "name": "stderr",
     "output_type": "stream",
     "text": [
      "C:\\Users\\chongs\\Anaconda3\\envs\\mypython\\lib\\site-packages\\ipykernel_launcher.py:16: DataConversionWarning: A column-vector y was passed when a 1d array was expected. Please change the shape of y to (n_samples,), for example using ravel().\n",
      "  app.launch_new_instance()\n"
     ]
    },
    {
     "name": "stdout",
     "output_type": "stream",
     "text": [
      "R2 - Train : 0.636, Test: 0.558\n"
     ]
    },
    {
     "name": "stderr",
     "output_type": "stream",
     "text": [
      "C:\\Users\\chongs\\Anaconda3\\envs\\mypython\\lib\\site-packages\\ipykernel_launcher.py:16: DataConversionWarning: A column-vector y was passed when a 1d array was expected. Please change the shape of y to (n_samples,), for example using ravel().\n",
      "  app.launch_new_instance()\n"
     ]
    },
    {
     "name": "stdout",
     "output_type": "stream",
     "text": [
      "R2 - Train : 0.573, Test: 0.452\n"
     ]
    },
    {
     "name": "stderr",
     "output_type": "stream",
     "text": [
      "C:\\Users\\chongs\\Anaconda3\\envs\\mypython\\lib\\site-packages\\ipykernel_launcher.py:16: DataConversionWarning: A column-vector y was passed when a 1d array was expected. Please change the shape of y to (n_samples,), for example using ravel().\n",
      "  app.launch_new_instance()\n"
     ]
    },
    {
     "name": "stdout",
     "output_type": "stream",
     "text": [
      "R2 - Train : 0.621, Test: 0.553\n"
     ]
    },
    {
     "name": "stderr",
     "output_type": "stream",
     "text": [
      "C:\\Users\\chongs\\Anaconda3\\envs\\mypython\\lib\\site-packages\\ipykernel_launcher.py:16: DataConversionWarning: A column-vector y was passed when a 1d array was expected. Please change the shape of y to (n_samples,), for example using ravel().\n",
      "  app.launch_new_instance()\n"
     ]
    },
    {
     "name": "stdout",
     "output_type": "stream",
     "text": [
      "R2 - Train : 0.603, Test: 0.543\n"
     ]
    },
    {
     "name": "stderr",
     "output_type": "stream",
     "text": [
      "C:\\Users\\chongs\\Anaconda3\\envs\\mypython\\lib\\site-packages\\ipykernel_launcher.py:16: DataConversionWarning: A column-vector y was passed when a 1d array was expected. Please change the shape of y to (n_samples,), for example using ravel().\n",
      "  app.launch_new_instance()\n"
     ]
    },
    {
     "name": "stdout",
     "output_type": "stream",
     "text": [
      "R2 - Train : 0.502, Test: 0.335\n"
     ]
    },
    {
     "name": "stderr",
     "output_type": "stream",
     "text": [
      "C:\\Users\\chongs\\Anaconda3\\envs\\mypython\\lib\\site-packages\\ipykernel_launcher.py:16: DataConversionWarning: A column-vector y was passed when a 1d array was expected. Please change the shape of y to (n_samples,), for example using ravel().\n",
      "  app.launch_new_instance()\n"
     ]
    },
    {
     "name": "stdout",
     "output_type": "stream",
     "text": [
      "R2 - Train : 0.613, Test: 0.534\n"
     ]
    },
    {
     "name": "stderr",
     "output_type": "stream",
     "text": [
      "C:\\Users\\chongs\\Anaconda3\\envs\\mypython\\lib\\site-packages\\ipykernel_launcher.py:16: DataConversionWarning: A column-vector y was passed when a 1d array was expected. Please change the shape of y to (n_samples,), for example using ravel().\n",
      "  app.launch_new_instance()\n"
     ]
    },
    {
     "name": "stdout",
     "output_type": "stream",
     "text": [
      "R2 - Train : 0.568, Test: 0.402\n"
     ]
    },
    {
     "name": "stderr",
     "output_type": "stream",
     "text": [
      "C:\\Users\\chongs\\Anaconda3\\envs\\mypython\\lib\\site-packages\\ipykernel_launcher.py:16: DataConversionWarning: A column-vector y was passed when a 1d array was expected. Please change the shape of y to (n_samples,), for example using ravel().\n",
      "  app.launch_new_instance()\n"
     ]
    },
    {
     "name": "stdout",
     "output_type": "stream",
     "text": [
      "R2 - Train : 0.758, Test: 0.666\n"
     ]
    },
    {
     "name": "stderr",
     "output_type": "stream",
     "text": [
      "C:\\Users\\chongs\\Anaconda3\\envs\\mypython\\lib\\site-packages\\ipykernel_launcher.py:16: DataConversionWarning: A column-vector y was passed when a 1d array was expected. Please change the shape of y to (n_samples,), for example using ravel().\n",
      "  app.launch_new_instance()\n"
     ]
    },
    {
     "name": "stdout",
     "output_type": "stream",
     "text": [
      "R2 - Train : 0.263, Test: 0.047\n"
     ]
    },
    {
     "name": "stderr",
     "output_type": "stream",
     "text": [
      "C:\\Users\\chongs\\Anaconda3\\envs\\mypython\\lib\\site-packages\\ipykernel_launcher.py:16: DataConversionWarning: A column-vector y was passed when a 1d array was expected. Please change the shape of y to (n_samples,), for example using ravel().\n",
      "  app.launch_new_instance()\n"
     ]
    },
    {
     "name": "stdout",
     "output_type": "stream",
     "text": [
      "R2 - Train : 0.673, Test: 0.500\n"
     ]
    },
    {
     "name": "stderr",
     "output_type": "stream",
     "text": [
      "C:\\Users\\chongs\\Anaconda3\\envs\\mypython\\lib\\site-packages\\ipykernel_launcher.py:16: DataConversionWarning: A column-vector y was passed when a 1d array was expected. Please change the shape of y to (n_samples,), for example using ravel().\n",
      "  app.launch_new_instance()\n"
     ]
    },
    {
     "name": "stdout",
     "output_type": "stream",
     "text": [
      "R2 - Train : 0.708, Test: 0.617\n"
     ]
    },
    {
     "name": "stderr",
     "output_type": "stream",
     "text": [
      "C:\\Users\\chongs\\Anaconda3\\envs\\mypython\\lib\\site-packages\\ipykernel_launcher.py:16: DataConversionWarning: A column-vector y was passed when a 1d array was expected. Please change the shape of y to (n_samples,), for example using ravel().\n",
      "  app.launch_new_instance()\n"
     ]
    },
    {
     "name": "stdout",
     "output_type": "stream",
     "text": [
      "R2 - Train : 0.745, Test: 0.650\n"
     ]
    },
    {
     "name": "stderr",
     "output_type": "stream",
     "text": [
      "C:\\Users\\chongs\\Anaconda3\\envs\\mypython\\lib\\site-packages\\ipykernel_launcher.py:16: DataConversionWarning: A column-vector y was passed when a 1d array was expected. Please change the shape of y to (n_samples,), for example using ravel().\n",
      "  app.launch_new_instance()\n"
     ]
    },
    {
     "name": "stdout",
     "output_type": "stream",
     "text": [
      "R2 - Train : 0.722, Test: 0.625\n"
     ]
    },
    {
     "name": "stderr",
     "output_type": "stream",
     "text": [
      "C:\\Users\\chongs\\Anaconda3\\envs\\mypython\\lib\\site-packages\\ipykernel_launcher.py:16: DataConversionWarning: A column-vector y was passed when a 1d array was expected. Please change the shape of y to (n_samples,), for example using ravel().\n",
      "  app.launch_new_instance()\n"
     ]
    },
    {
     "name": "stdout",
     "output_type": "stream",
     "text": [
      "R2 - Train : 0.723, Test: 0.607\n"
     ]
    },
    {
     "name": "stderr",
     "output_type": "stream",
     "text": [
      "C:\\Users\\chongs\\Anaconda3\\envs\\mypython\\lib\\site-packages\\ipykernel_launcher.py:16: DataConversionWarning: A column-vector y was passed when a 1d array was expected. Please change the shape of y to (n_samples,), for example using ravel().\n",
      "  app.launch_new_instance()\n"
     ]
    },
    {
     "name": "stdout",
     "output_type": "stream",
     "text": [
      "R2 - Train : 0.722, Test: 0.624\n"
     ]
    },
    {
     "name": "stderr",
     "output_type": "stream",
     "text": [
      "C:\\Users\\chongs\\Anaconda3\\envs\\mypython\\lib\\site-packages\\ipykernel_launcher.py:16: DataConversionWarning: A column-vector y was passed when a 1d array was expected. Please change the shape of y to (n_samples,), for example using ravel().\n",
      "  app.launch_new_instance()\n"
     ]
    },
    {
     "name": "stdout",
     "output_type": "stream",
     "text": [
      "R2 - Train : 0.740, Test: 0.647\n"
     ]
    },
    {
     "name": "stderr",
     "output_type": "stream",
     "text": [
      "C:\\Users\\chongs\\Anaconda3\\envs\\mypython\\lib\\site-packages\\ipykernel_launcher.py:16: DataConversionWarning: A column-vector y was passed when a 1d array was expected. Please change the shape of y to (n_samples,), for example using ravel().\n",
      "  app.launch_new_instance()\n"
     ]
    },
    {
     "name": "stdout",
     "output_type": "stream",
     "text": [
      "R2 - Train : 0.728, Test: 0.577\n"
     ]
    },
    {
     "name": "stderr",
     "output_type": "stream",
     "text": [
      "C:\\Users\\chongs\\Anaconda3\\envs\\mypython\\lib\\site-packages\\ipykernel_launcher.py:16: DataConversionWarning: A column-vector y was passed when a 1d array was expected. Please change the shape of y to (n_samples,), for example using ravel().\n",
      "  app.launch_new_instance()\n"
     ]
    },
    {
     "name": "stdout",
     "output_type": "stream",
     "text": [
      "R2 - Train : 0.732, Test: 0.637\n"
     ]
    },
    {
     "name": "stderr",
     "output_type": "stream",
     "text": [
      "C:\\Users\\chongs\\Anaconda3\\envs\\mypython\\lib\\site-packages\\ipykernel_launcher.py:16: DataConversionWarning: A column-vector y was passed when a 1d array was expected. Please change the shape of y to (n_samples,), for example using ravel().\n",
      "  app.launch_new_instance()\n"
     ]
    },
    {
     "name": "stdout",
     "output_type": "stream",
     "text": [
      "R2 - Train : 0.723, Test: 0.624\n"
     ]
    },
    {
     "name": "stderr",
     "output_type": "stream",
     "text": [
      "C:\\Users\\chongs\\Anaconda3\\envs\\mypython\\lib\\site-packages\\ipykernel_launcher.py:16: DataConversionWarning: A column-vector y was passed when a 1d array was expected. Please change the shape of y to (n_samples,), for example using ravel().\n",
      "  app.launch_new_instance()\n"
     ]
    },
    {
     "name": "stdout",
     "output_type": "stream",
     "text": [
      "R2 - Train : 0.662, Test: 0.419\n"
     ]
    },
    {
     "name": "stderr",
     "output_type": "stream",
     "text": [
      "C:\\Users\\chongs\\Anaconda3\\envs\\mypython\\lib\\site-packages\\ipykernel_launcher.py:16: DataConversionWarning: A column-vector y was passed when a 1d array was expected. Please change the shape of y to (n_samples,), for example using ravel().\n",
      "  app.launch_new_instance()\n"
     ]
    },
    {
     "name": "stdout",
     "output_type": "stream",
     "text": [
      "R2 - Train : 0.705, Test: 0.597\n"
     ]
    },
    {
     "name": "stderr",
     "output_type": "stream",
     "text": [
      "C:\\Users\\chongs\\Anaconda3\\envs\\mypython\\lib\\site-packages\\ipykernel_launcher.py:16: DataConversionWarning: A column-vector y was passed when a 1d array was expected. Please change the shape of y to (n_samples,), for example using ravel().\n",
      "  app.launch_new_instance()\n"
     ]
    },
    {
     "name": "stdout",
     "output_type": "stream",
     "text": [
      "R2 - Train : 0.645, Test: 0.462\n"
     ]
    }
   ],
   "source": [
    "#sk learn 랜덤포레스트 리그레션 피팅\n",
    "from sklearn.ensemble import RandomForestRegressor\n",
    "from sklearn.metrics import r2_score\n",
    "from sklearn import metrics\n",
    "\n",
    "result_r2 = []\n",
    "for i in X_train.columns:\n",
    "    X_sample_train = X_train[i].values.reshape(-1,1)\n",
    "    X_sample_test = X_test[i].values.reshape(-1,1)\n",
    "  \n",
    "    for j in y_train.columns:\n",
    "        y_sample_train = y_train[j].values.reshape(-1,1)\n",
    "        y_sample_test = y_test[j].values.reshape(-1,1)\n",
    "\n",
    "        regressor = RandomForestRegressor(n_estimators = 175, random_state = 100)\n",
    "        regressor.fit(X_sample_train,y_sample_train)\n",
    "\n",
    "        #결정계수 r2 score 계산\n",
    "        \n",
    "        y_train_pred = regressor.predict(X_sample_train)\n",
    "        y_test_pred = regressor.predict(X_sample_test)\n",
    "        \n",
    "        r2_train = r2_score(y_sample_train, y_train_pred)\n",
    "        r2_test = r2_score(y_sample_test, y_test_pred)\n",
    "        \n",
    "        print('R2 - Train : %.3f, Test: %.3f' %(r2_train, r2_test))\n",
    "\n",
    "        result_r2.append((i,j,r2_train,r2_test))\n",
    "#         print('Mean Absolute Error:', metrics.mean_absolute_error(y_sample_test, y_test_pred))  \n",
    "#         print('Mean Squared Error:', metrics.mean_squared_error(y_sample_test, y_test_pred))  \n",
    "#         print('Root Mean Squared Error:', np.sqrt(metrics.mean_squared_error(y_sample_test, y_test_pred))) "
   ]
  },
  {
   "cell_type": "code",
   "execution_count": 41,
   "metadata": {},
   "outputs": [],
   "source": [
    "result_r2 = pd.DataFrame(result_r2)"
   ]
  },
  {
   "cell_type": "code",
   "execution_count": 42,
   "metadata": {},
   "outputs": [
    {
     "data": {
      "text/html": [
       "<div>\n",
       "<style scoped>\n",
       "    .dataframe tbody tr th:only-of-type {\n",
       "        vertical-align: middle;\n",
       "    }\n",
       "\n",
       "    .dataframe tbody tr th {\n",
       "        vertical-align: top;\n",
       "    }\n",
       "\n",
       "    .dataframe thead th {\n",
       "        text-align: right;\n",
       "    }\n",
       "</style>\n",
       "<table border=\"1\" class=\"dataframe\">\n",
       "  <thead>\n",
       "    <tr style=\"text-align: right;\">\n",
       "      <th></th>\n",
       "      <th>0</th>\n",
       "      <th>1</th>\n",
       "      <th>2</th>\n",
       "      <th>3</th>\n",
       "    </tr>\n",
       "  </thead>\n",
       "  <tbody>\n",
       "    <tr>\n",
       "      <th>0</th>\n",
       "      <td>temp_zone7_10</td>\n",
       "      <td>A</td>\n",
       "      <td>0.435088</td>\n",
       "      <td>0.455651</td>\n",
       "    </tr>\n",
       "    <tr>\n",
       "      <th>1</th>\n",
       "      <td>temp_zone7_10</td>\n",
       "      <td>B</td>\n",
       "      <td>0.114364</td>\n",
       "      <td>-0.010770</td>\n",
       "    </tr>\n",
       "    <tr>\n",
       "      <th>2</th>\n",
       "      <td>temp_zone7_10</td>\n",
       "      <td>C</td>\n",
       "      <td>0.381585</td>\n",
       "      <td>0.286653</td>\n",
       "    </tr>\n",
       "    <tr>\n",
       "      <th>3</th>\n",
       "      <td>temp_zone7_10</td>\n",
       "      <td>D</td>\n",
       "      <td>0.416290</td>\n",
       "      <td>0.409912</td>\n",
       "    </tr>\n",
       "    <tr>\n",
       "      <th>4</th>\n",
       "      <td>temp_zone7_10</td>\n",
       "      <td>E</td>\n",
       "      <td>0.367870</td>\n",
       "      <td>0.409403</td>\n",
       "    </tr>\n",
       "    <tr>\n",
       "      <th>5</th>\n",
       "      <td>temp_zone7_10</td>\n",
       "      <td>F</td>\n",
       "      <td>0.384614</td>\n",
       "      <td>0.396699</td>\n",
       "    </tr>\n",
       "    <tr>\n",
       "      <th>6</th>\n",
       "      <td>temp_zone7_10</td>\n",
       "      <td>G</td>\n",
       "      <td>0.311949</td>\n",
       "      <td>0.372232</td>\n",
       "    </tr>\n",
       "    <tr>\n",
       "      <th>7</th>\n",
       "      <td>temp_zone7_10</td>\n",
       "      <td>H</td>\n",
       "      <td>0.342454</td>\n",
       "      <td>0.360475</td>\n",
       "    </tr>\n",
       "    <tr>\n",
       "      <th>8</th>\n",
       "      <td>temp_zone7_10</td>\n",
       "      <td>I</td>\n",
       "      <td>0.363757</td>\n",
       "      <td>0.384823</td>\n",
       "    </tr>\n",
       "    <tr>\n",
       "      <th>9</th>\n",
       "      <td>temp_zone7_10</td>\n",
       "      <td>J</td>\n",
       "      <td>0.314584</td>\n",
       "      <td>0.268492</td>\n",
       "    </tr>\n",
       "    <tr>\n",
       "      <th>10</th>\n",
       "      <td>temp_zone7_10</td>\n",
       "      <td>K</td>\n",
       "      <td>0.345281</td>\n",
       "      <td>0.357554</td>\n",
       "    </tr>\n",
       "    <tr>\n",
       "      <th>11</th>\n",
       "      <td>temp_zone7_10</td>\n",
       "      <td>L</td>\n",
       "      <td>0.315933</td>\n",
       "      <td>0.335616</td>\n",
       "    </tr>\n",
       "    <tr>\n",
       "      <th>12</th>\n",
       "      <td>temp_zone7_10</td>\n",
       "      <td>M</td>\n",
       "      <td>0.241121</td>\n",
       "      <td>0.108614</td>\n",
       "    </tr>\n",
       "    <tr>\n",
       "      <th>13</th>\n",
       "      <td>temp_zone7_10</td>\n",
       "      <td>N</td>\n",
       "      <td>0.350291</td>\n",
       "      <td>0.328427</td>\n",
       "    </tr>\n",
       "    <tr>\n",
       "      <th>14</th>\n",
       "      <td>temp_zone7_10</td>\n",
       "      <td>O</td>\n",
       "      <td>0.294475</td>\n",
       "      <td>0.191073</td>\n",
       "    </tr>\n",
       "    <tr>\n",
       "      <th>15</th>\n",
       "      <td>temp_zone7_12</td>\n",
       "      <td>A</td>\n",
       "      <td>0.471265</td>\n",
       "      <td>0.471713</td>\n",
       "    </tr>\n",
       "    <tr>\n",
       "      <th>16</th>\n",
       "      <td>temp_zone7_12</td>\n",
       "      <td>B</td>\n",
       "      <td>0.133597</td>\n",
       "      <td>0.001990</td>\n",
       "    </tr>\n",
       "    <tr>\n",
       "      <th>17</th>\n",
       "      <td>temp_zone7_12</td>\n",
       "      <td>C</td>\n",
       "      <td>0.408195</td>\n",
       "      <td>0.298298</td>\n",
       "    </tr>\n",
       "    <tr>\n",
       "      <th>18</th>\n",
       "      <td>temp_zone7_12</td>\n",
       "      <td>D</td>\n",
       "      <td>0.458356</td>\n",
       "      <td>0.418670</td>\n",
       "    </tr>\n",
       "    <tr>\n",
       "      <th>19</th>\n",
       "      <td>temp_zone7_12</td>\n",
       "      <td>E</td>\n",
       "      <td>0.402539</td>\n",
       "      <td>0.413926</td>\n",
       "    </tr>\n",
       "    <tr>\n",
       "      <th>20</th>\n",
       "      <td>temp_zone7_12</td>\n",
       "      <td>F</td>\n",
       "      <td>0.420421</td>\n",
       "      <td>0.396577</td>\n",
       "    </tr>\n",
       "    <tr>\n",
       "      <th>21</th>\n",
       "      <td>temp_zone7_12</td>\n",
       "      <td>G</td>\n",
       "      <td>0.342731</td>\n",
       "      <td>0.382554</td>\n",
       "    </tr>\n",
       "    <tr>\n",
       "      <th>22</th>\n",
       "      <td>temp_zone7_12</td>\n",
       "      <td>H</td>\n",
       "      <td>0.382287</td>\n",
       "      <td>0.370128</td>\n",
       "    </tr>\n",
       "    <tr>\n",
       "      <th>23</th>\n",
       "      <td>temp_zone7_12</td>\n",
       "      <td>I</td>\n",
       "      <td>0.393449</td>\n",
       "      <td>0.388406</td>\n",
       "    </tr>\n",
       "    <tr>\n",
       "      <th>24</th>\n",
       "      <td>temp_zone7_12</td>\n",
       "      <td>J</td>\n",
       "      <td>0.353918</td>\n",
       "      <td>0.271702</td>\n",
       "    </tr>\n",
       "    <tr>\n",
       "      <th>25</th>\n",
       "      <td>temp_zone7_12</td>\n",
       "      <td>K</td>\n",
       "      <td>0.382446</td>\n",
       "      <td>0.362917</td>\n",
       "    </tr>\n",
       "    <tr>\n",
       "      <th>26</th>\n",
       "      <td>temp_zone7_12</td>\n",
       "      <td>L</td>\n",
       "      <td>0.348781</td>\n",
       "      <td>0.346320</td>\n",
       "    </tr>\n",
       "    <tr>\n",
       "      <th>27</th>\n",
       "      <td>temp_zone7_12</td>\n",
       "      <td>M</td>\n",
       "      <td>0.278054</td>\n",
       "      <td>0.139838</td>\n",
       "    </tr>\n",
       "    <tr>\n",
       "      <th>28</th>\n",
       "      <td>temp_zone7_12</td>\n",
       "      <td>N</td>\n",
       "      <td>0.390530</td>\n",
       "      <td>0.331047</td>\n",
       "    </tr>\n",
       "    <tr>\n",
       "      <th>29</th>\n",
       "      <td>temp_zone7_12</td>\n",
       "      <td>O</td>\n",
       "      <td>0.334042</td>\n",
       "      <td>0.216759</td>\n",
       "    </tr>\n",
       "    <tr>\n",
       "      <th>...</th>\n",
       "      <td>...</td>\n",
       "      <td>...</td>\n",
       "      <td>...</td>\n",
       "      <td>...</td>\n",
       "    </tr>\n",
       "    <tr>\n",
       "      <th>150</th>\n",
       "      <td>temp_zone8_33</td>\n",
       "      <td>A</td>\n",
       "      <td>0.630402</td>\n",
       "      <td>0.585481</td>\n",
       "    </tr>\n",
       "    <tr>\n",
       "      <th>151</th>\n",
       "      <td>temp_zone8_33</td>\n",
       "      <td>B</td>\n",
       "      <td>0.237351</td>\n",
       "      <td>0.055280</td>\n",
       "    </tr>\n",
       "    <tr>\n",
       "      <th>152</th>\n",
       "      <td>temp_zone8_33</td>\n",
       "      <td>C</td>\n",
       "      <td>0.540534</td>\n",
       "      <td>0.406559</td>\n",
       "    </tr>\n",
       "    <tr>\n",
       "      <th>153</th>\n",
       "      <td>temp_zone8_33</td>\n",
       "      <td>D</td>\n",
       "      <td>0.610732</td>\n",
       "      <td>0.548957</td>\n",
       "    </tr>\n",
       "    <tr>\n",
       "      <th>154</th>\n",
       "      <td>temp_zone8_33</td>\n",
       "      <td>E</td>\n",
       "      <td>0.613153</td>\n",
       "      <td>0.548922</td>\n",
       "    </tr>\n",
       "    <tr>\n",
       "      <th>155</th>\n",
       "      <td>temp_zone8_33</td>\n",
       "      <td>F</td>\n",
       "      <td>0.620762</td>\n",
       "      <td>0.551944</td>\n",
       "    </tr>\n",
       "    <tr>\n",
       "      <th>156</th>\n",
       "      <td>temp_zone8_33</td>\n",
       "      <td>G</td>\n",
       "      <td>0.583488</td>\n",
       "      <td>0.501584</td>\n",
       "    </tr>\n",
       "    <tr>\n",
       "      <th>157</th>\n",
       "      <td>temp_zone8_33</td>\n",
       "      <td>H</td>\n",
       "      <td>0.615391</td>\n",
       "      <td>0.539850</td>\n",
       "    </tr>\n",
       "    <tr>\n",
       "      <th>158</th>\n",
       "      <td>temp_zone8_33</td>\n",
       "      <td>I</td>\n",
       "      <td>0.636311</td>\n",
       "      <td>0.557604</td>\n",
       "    </tr>\n",
       "    <tr>\n",
       "      <th>159</th>\n",
       "      <td>temp_zone8_33</td>\n",
       "      <td>J</td>\n",
       "      <td>0.572620</td>\n",
       "      <td>0.451885</td>\n",
       "    </tr>\n",
       "    <tr>\n",
       "      <th>160</th>\n",
       "      <td>temp_zone8_33</td>\n",
       "      <td>K</td>\n",
       "      <td>0.621401</td>\n",
       "      <td>0.552776</td>\n",
       "    </tr>\n",
       "    <tr>\n",
       "      <th>161</th>\n",
       "      <td>temp_zone8_33</td>\n",
       "      <td>L</td>\n",
       "      <td>0.603285</td>\n",
       "      <td>0.542900</td>\n",
       "    </tr>\n",
       "    <tr>\n",
       "      <th>162</th>\n",
       "      <td>temp_zone8_33</td>\n",
       "      <td>M</td>\n",
       "      <td>0.502345</td>\n",
       "      <td>0.334822</td>\n",
       "    </tr>\n",
       "    <tr>\n",
       "      <th>163</th>\n",
       "      <td>temp_zone8_33</td>\n",
       "      <td>N</td>\n",
       "      <td>0.612704</td>\n",
       "      <td>0.534419</td>\n",
       "    </tr>\n",
       "    <tr>\n",
       "      <th>164</th>\n",
       "      <td>temp_zone8_33</td>\n",
       "      <td>O</td>\n",
       "      <td>0.568462</td>\n",
       "      <td>0.402222</td>\n",
       "    </tr>\n",
       "    <tr>\n",
       "      <th>165</th>\n",
       "      <td>temp_zone8_35</td>\n",
       "      <td>A</td>\n",
       "      <td>0.758417</td>\n",
       "      <td>0.665991</td>\n",
       "    </tr>\n",
       "    <tr>\n",
       "      <th>166</th>\n",
       "      <td>temp_zone8_35</td>\n",
       "      <td>B</td>\n",
       "      <td>0.263365</td>\n",
       "      <td>0.046642</td>\n",
       "    </tr>\n",
       "    <tr>\n",
       "      <th>167</th>\n",
       "      <td>temp_zone8_35</td>\n",
       "      <td>C</td>\n",
       "      <td>0.673137</td>\n",
       "      <td>0.500493</td>\n",
       "    </tr>\n",
       "    <tr>\n",
       "      <th>168</th>\n",
       "      <td>temp_zone8_35</td>\n",
       "      <td>D</td>\n",
       "      <td>0.707802</td>\n",
       "      <td>0.616940</td>\n",
       "    </tr>\n",
       "    <tr>\n",
       "      <th>169</th>\n",
       "      <td>temp_zone8_35</td>\n",
       "      <td>E</td>\n",
       "      <td>0.744621</td>\n",
       "      <td>0.649570</td>\n",
       "    </tr>\n",
       "    <tr>\n",
       "      <th>170</th>\n",
       "      <td>temp_zone8_35</td>\n",
       "      <td>F</td>\n",
       "      <td>0.722222</td>\n",
       "      <td>0.624684</td>\n",
       "    </tr>\n",
       "    <tr>\n",
       "      <th>171</th>\n",
       "      <td>temp_zone8_35</td>\n",
       "      <td>G</td>\n",
       "      <td>0.722818</td>\n",
       "      <td>0.606701</td>\n",
       "    </tr>\n",
       "    <tr>\n",
       "      <th>172</th>\n",
       "      <td>temp_zone8_35</td>\n",
       "      <td>H</td>\n",
       "      <td>0.722101</td>\n",
       "      <td>0.623648</td>\n",
       "    </tr>\n",
       "    <tr>\n",
       "      <th>173</th>\n",
       "      <td>temp_zone8_35</td>\n",
       "      <td>I</td>\n",
       "      <td>0.740029</td>\n",
       "      <td>0.647334</td>\n",
       "    </tr>\n",
       "    <tr>\n",
       "      <th>174</th>\n",
       "      <td>temp_zone8_35</td>\n",
       "      <td>J</td>\n",
       "      <td>0.728037</td>\n",
       "      <td>0.576998</td>\n",
       "    </tr>\n",
       "    <tr>\n",
       "      <th>175</th>\n",
       "      <td>temp_zone8_35</td>\n",
       "      <td>K</td>\n",
       "      <td>0.731680</td>\n",
       "      <td>0.636630</td>\n",
       "    </tr>\n",
       "    <tr>\n",
       "      <th>176</th>\n",
       "      <td>temp_zone8_35</td>\n",
       "      <td>L</td>\n",
       "      <td>0.722580</td>\n",
       "      <td>0.623531</td>\n",
       "    </tr>\n",
       "    <tr>\n",
       "      <th>177</th>\n",
       "      <td>temp_zone8_35</td>\n",
       "      <td>M</td>\n",
       "      <td>0.662326</td>\n",
       "      <td>0.418785</td>\n",
       "    </tr>\n",
       "    <tr>\n",
       "      <th>178</th>\n",
       "      <td>temp_zone8_35</td>\n",
       "      <td>N</td>\n",
       "      <td>0.704970</td>\n",
       "      <td>0.596549</td>\n",
       "    </tr>\n",
       "    <tr>\n",
       "      <th>179</th>\n",
       "      <td>temp_zone8_35</td>\n",
       "      <td>O</td>\n",
       "      <td>0.645202</td>\n",
       "      <td>0.461519</td>\n",
       "    </tr>\n",
       "  </tbody>\n",
       "</table>\n",
       "<p>180 rows × 4 columns</p>\n",
       "</div>"
      ],
      "text/plain": [
       "                 0  1         2         3\n",
       "0    temp_zone7_10  A  0.435088  0.455651\n",
       "1    temp_zone7_10  B  0.114364 -0.010770\n",
       "2    temp_zone7_10  C  0.381585  0.286653\n",
       "3    temp_zone7_10  D  0.416290  0.409912\n",
       "4    temp_zone7_10  E  0.367870  0.409403\n",
       "5    temp_zone7_10  F  0.384614  0.396699\n",
       "6    temp_zone7_10  G  0.311949  0.372232\n",
       "7    temp_zone7_10  H  0.342454  0.360475\n",
       "8    temp_zone7_10  I  0.363757  0.384823\n",
       "9    temp_zone7_10  J  0.314584  0.268492\n",
       "10   temp_zone7_10  K  0.345281  0.357554\n",
       "11   temp_zone7_10  L  0.315933  0.335616\n",
       "12   temp_zone7_10  M  0.241121  0.108614\n",
       "13   temp_zone7_10  N  0.350291  0.328427\n",
       "14   temp_zone7_10  O  0.294475  0.191073\n",
       "15   temp_zone7_12  A  0.471265  0.471713\n",
       "16   temp_zone7_12  B  0.133597  0.001990\n",
       "17   temp_zone7_12  C  0.408195  0.298298\n",
       "18   temp_zone7_12  D  0.458356  0.418670\n",
       "19   temp_zone7_12  E  0.402539  0.413926\n",
       "20   temp_zone7_12  F  0.420421  0.396577\n",
       "21   temp_zone7_12  G  0.342731  0.382554\n",
       "22   temp_zone7_12  H  0.382287  0.370128\n",
       "23   temp_zone7_12  I  0.393449  0.388406\n",
       "24   temp_zone7_12  J  0.353918  0.271702\n",
       "25   temp_zone7_12  K  0.382446  0.362917\n",
       "26   temp_zone7_12  L  0.348781  0.346320\n",
       "27   temp_zone7_12  M  0.278054  0.139838\n",
       "28   temp_zone7_12  N  0.390530  0.331047\n",
       "29   temp_zone7_12  O  0.334042  0.216759\n",
       "..             ... ..       ...       ...\n",
       "150  temp_zone8_33  A  0.630402  0.585481\n",
       "151  temp_zone8_33  B  0.237351  0.055280\n",
       "152  temp_zone8_33  C  0.540534  0.406559\n",
       "153  temp_zone8_33  D  0.610732  0.548957\n",
       "154  temp_zone8_33  E  0.613153  0.548922\n",
       "155  temp_zone8_33  F  0.620762  0.551944\n",
       "156  temp_zone8_33  G  0.583488  0.501584\n",
       "157  temp_zone8_33  H  0.615391  0.539850\n",
       "158  temp_zone8_33  I  0.636311  0.557604\n",
       "159  temp_zone8_33  J  0.572620  0.451885\n",
       "160  temp_zone8_33  K  0.621401  0.552776\n",
       "161  temp_zone8_33  L  0.603285  0.542900\n",
       "162  temp_zone8_33  M  0.502345  0.334822\n",
       "163  temp_zone8_33  N  0.612704  0.534419\n",
       "164  temp_zone8_33  O  0.568462  0.402222\n",
       "165  temp_zone8_35  A  0.758417  0.665991\n",
       "166  temp_zone8_35  B  0.263365  0.046642\n",
       "167  temp_zone8_35  C  0.673137  0.500493\n",
       "168  temp_zone8_35  D  0.707802  0.616940\n",
       "169  temp_zone8_35  E  0.744621  0.649570\n",
       "170  temp_zone8_35  F  0.722222  0.624684\n",
       "171  temp_zone8_35  G  0.722818  0.606701\n",
       "172  temp_zone8_35  H  0.722101  0.623648\n",
       "173  temp_zone8_35  I  0.740029  0.647334\n",
       "174  temp_zone8_35  J  0.728037  0.576998\n",
       "175  temp_zone8_35  K  0.731680  0.636630\n",
       "176  temp_zone8_35  L  0.722580  0.623531\n",
       "177  temp_zone8_35  M  0.662326  0.418785\n",
       "178  temp_zone8_35  N  0.704970  0.596549\n",
       "179  temp_zone8_35  O  0.645202  0.461519\n",
       "\n",
       "[180 rows x 4 columns]"
      ]
     },
     "execution_count": 42,
     "metadata": {},
     "output_type": "execute_result"
    }
   ],
   "source": [
    "result_r2"
   ]
  },
  {
   "cell_type": "code",
   "execution_count": 168,
   "metadata": {},
   "outputs": [
    {
     "data": {
      "text/plain": [
       "[<matplotlib.lines.Line2D at 0x2b3ba000d68>]"
      ]
     },
     "execution_count": 168,
     "metadata": {},
     "output_type": "execute_result"
    },
    {
     "data": {
      "image/png": "[encoded data removed]",
      "text/plain": [
       "<Figure size 432x288 with 1 Axes>"
      ]
     },
     "metadata": {},
     "output_type": "display_data"
    }
   ],
   "source": [
    "# Try different numbers of n_estimators - this will take a minute or so\n",
    "estimators = np.arange(10, 200, 10)\n",
    "scores = []\n",
    "for n in estimators:\n",
    "    regressor.set_params(n_estimators = n)\n",
    "    regressor.fit(X_train, y_train)\n",
    "    scores.append(regressor.score(X_test, y_test))\n",
    "plt.title(\"Effect of n_estimators\")\n",
    "plt.xlabel(\"n_estimator\")\n",
    "plt.ylabel(\"score\")\n",
    "plt.plot(estimators, scores)"
   ]
  },
  {
   "cell_type": "code",
   "execution_count": 122,
   "metadata": {},
   "outputs": [
    {
     "data": {
      "text/plain": [
       "[1]"
      ]
     },
     "execution_count": 122,
     "metadata": {},
     "output_type": "execute_result"
    }
   ],
   "source": [
    "a"
   ]
  },
  {
   "cell_type": "code",
   "execution_count": 160,
   "metadata": {},
   "outputs": [],
   "source": [
    "# x_new = [[720.0, 720.0, 721.0, 720.0, 720.0, 720.0,728.0,728.0, 726.0,725.0,726.0,728.0],\n",
    "#         [720.0, 720.0, 720.0, 720.0, 720.0, 720.0,730.0,730.0, 725.0,725.0,730.0,730.0],\n",
    "#         [720.0, 720.0, 720.0, 720.0, 720.0, 720.0,728.0,728.0, 728.0,728.0,728.0,728.0]]"
   ]
  },
  {
   "cell_type": "code",
   "execution_count": 29,
   "metadata": {},
   "outputs": [
    {
     "data": {
      "text/html": [
       "<div>\n",
       "<style scoped>\n",
       "    .dataframe tbody tr th:only-of-type {\n",
       "        vertical-align: middle;\n",
       "    }\n",
       "\n",
       "    .dataframe tbody tr th {\n",
       "        vertical-align: top;\n",
       "    }\n",
       "\n",
       "    .dataframe thead th {\n",
       "        text-align: right;\n",
       "    }\n",
       "</style>\n",
       "<table border=\"1\" class=\"dataframe\">\n",
       "  <thead>\n",
       "    <tr style=\"text-align: right;\">\n",
       "      <th></th>\n",
       "      <th>A</th>\n",
       "      <th>B</th>\n",
       "      <th>C</th>\n",
       "      <th>D</th>\n",
       "      <th>E</th>\n",
       "      <th>F</th>\n",
       "      <th>G</th>\n",
       "      <th>H</th>\n",
       "      <th>I</th>\n",
       "      <th>J</th>\n",
       "      <th>K</th>\n",
       "      <th>L</th>\n",
       "      <th>M</th>\n",
       "      <th>N</th>\n",
       "      <th>O</th>\n",
       "    </tr>\n",
       "    <tr>\n",
       "      <th>3</th>\n",
       "      <th></th>\n",
       "      <th></th>\n",
       "      <th></th>\n",
       "      <th></th>\n",
       "      <th></th>\n",
       "      <th></th>\n",
       "      <th></th>\n",
       "      <th></th>\n",
       "      <th></th>\n",
       "      <th></th>\n",
       "      <th></th>\n",
       "      <th></th>\n",
       "      <th></th>\n",
       "      <th></th>\n",
       "      <th></th>\n",
       "    </tr>\n",
       "  </thead>\n",
       "  <tbody>\n",
       "    <tr>\n",
       "      <th>1536896620</th>\n",
       "      <td>1.39</td>\n",
       "      <td>0.55</td>\n",
       "      <td>1.67</td>\n",
       "      <td>1.32</td>\n",
       "      <td>2.35</td>\n",
       "      <td>1.89</td>\n",
       "      <td>1.06</td>\n",
       "      <td>2.09</td>\n",
       "      <td>0.86</td>\n",
       "      <td>1.78</td>\n",
       "      <td>1.81</td>\n",
       "      <td>1.85</td>\n",
       "      <td>1.08</td>\n",
       "      <td>1.27</td>\n",
       "      <td>0.79</td>\n",
       "    </tr>\n",
       "    <tr>\n",
       "      <th>1536898823</th>\n",
       "      <td>1.22</td>\n",
       "      <td>0.50</td>\n",
       "      <td>1.52</td>\n",
       "      <td>1.26</td>\n",
       "      <td>2.02</td>\n",
       "      <td>1.70</td>\n",
       "      <td>0.80</td>\n",
       "      <td>1.92</td>\n",
       "      <td>0.90</td>\n",
       "      <td>1.72</td>\n",
       "      <td>1.68</td>\n",
       "      <td>1.40</td>\n",
       "      <td>1.01</td>\n",
       "      <td>1.12</td>\n",
       "      <td>0.72</td>\n",
       "    </tr>\n",
       "    <tr>\n",
       "      <th>1536897834</th>\n",
       "      <td>1.31</td>\n",
       "      <td>0.50</td>\n",
       "      <td>1.55</td>\n",
       "      <td>1.20</td>\n",
       "      <td>2.16</td>\n",
       "      <td>1.68</td>\n",
       "      <td>1.14</td>\n",
       "      <td>1.85</td>\n",
       "      <td>0.91</td>\n",
       "      <td>1.74</td>\n",
       "      <td>1.67</td>\n",
       "      <td>1.59</td>\n",
       "      <td>1.00</td>\n",
       "      <td>1.12</td>\n",
       "      <td>0.70</td>\n",
       "    </tr>\n",
       "    <tr>\n",
       "      <th>1536896407</th>\n",
       "      <td>0.92</td>\n",
       "      <td>0.58</td>\n",
       "      <td>1.41</td>\n",
       "      <td>0.97</td>\n",
       "      <td>1.48</td>\n",
       "      <td>1.24</td>\n",
       "      <td>0.63</td>\n",
       "      <td>1.25</td>\n",
       "      <td>0.66</td>\n",
       "      <td>1.43</td>\n",
       "      <td>1.19</td>\n",
       "      <td>1.20</td>\n",
       "      <td>1.06</td>\n",
       "      <td>0.84</td>\n",
       "      <td>0.80</td>\n",
       "    </tr>\n",
       "    <tr>\n",
       "      <th>1536892352</th>\n",
       "      <td>0.75</td>\n",
       "      <td>0.48</td>\n",
       "      <td>1.20</td>\n",
       "      <td>0.93</td>\n",
       "      <td>1.39</td>\n",
       "      <td>1.20</td>\n",
       "      <td>0.47</td>\n",
       "      <td>1.29</td>\n",
       "      <td>0.48</td>\n",
       "      <td>1.23</td>\n",
       "      <td>1.02</td>\n",
       "      <td>1.06</td>\n",
       "      <td>1.03</td>\n",
       "      <td>0.74</td>\n",
       "      <td>0.71</td>\n",
       "    </tr>\n",
       "    <tr>\n",
       "      <th>1536891452</th>\n",
       "      <td>0.46</td>\n",
       "      <td>0.55</td>\n",
       "      <td>0.85</td>\n",
       "      <td>0.60</td>\n",
       "      <td>1.02</td>\n",
       "      <td>0.78</td>\n",
       "      <td>0.39</td>\n",
       "      <td>0.80</td>\n",
       "      <td>0.29</td>\n",
       "      <td>0.94</td>\n",
       "      <td>0.63</td>\n",
       "      <td>0.89</td>\n",
       "      <td>0.87</td>\n",
       "      <td>0.48</td>\n",
       "      <td>0.62</td>\n",
       "    </tr>\n",
       "    <tr>\n",
       "      <th>1536890590</th>\n",
       "      <td>0.78</td>\n",
       "      <td>0.52</td>\n",
       "      <td>1.19</td>\n",
       "      <td>0.80</td>\n",
       "      <td>1.06</td>\n",
       "      <td>1.06</td>\n",
       "      <td>0.06</td>\n",
       "      <td>1.23</td>\n",
       "      <td>0.34</td>\n",
       "      <td>1.15</td>\n",
       "      <td>1.03</td>\n",
       "      <td>1.16</td>\n",
       "      <td>1.03</td>\n",
       "      <td>0.68</td>\n",
       "      <td>0.79</td>\n",
       "    </tr>\n",
       "    <tr>\n",
       "      <th>1536892253</th>\n",
       "      <td>0.88</td>\n",
       "      <td>0.52</td>\n",
       "      <td>1.39</td>\n",
       "      <td>1.10</td>\n",
       "      <td>1.64</td>\n",
       "      <td>1.41</td>\n",
       "      <td>0.65</td>\n",
       "      <td>1.54</td>\n",
       "      <td>0.65</td>\n",
       "      <td>1.55</td>\n",
       "      <td>1.29</td>\n",
       "      <td>1.30</td>\n",
       "      <td>1.00</td>\n",
       "      <td>0.98</td>\n",
       "      <td>0.78</td>\n",
       "    </tr>\n",
       "    <tr>\n",
       "      <th>1536891414</th>\n",
       "      <td>0.54</td>\n",
       "      <td>0.42</td>\n",
       "      <td>0.99</td>\n",
       "      <td>0.71</td>\n",
       "      <td>1.14</td>\n",
       "      <td>0.94</td>\n",
       "      <td>0.46</td>\n",
       "      <td>0.89</td>\n",
       "      <td>0.40</td>\n",
       "      <td>1.04</td>\n",
       "      <td>0.74</td>\n",
       "      <td>0.96</td>\n",
       "      <td>0.98</td>\n",
       "      <td>0.56</td>\n",
       "      <td>0.62</td>\n",
       "    </tr>\n",
       "    <tr>\n",
       "      <th>1536893641</th>\n",
       "      <td>0.70</td>\n",
       "      <td>0.52</td>\n",
       "      <td>1.12</td>\n",
       "      <td>0.77</td>\n",
       "      <td>1.24</td>\n",
       "      <td>0.98</td>\n",
       "      <td>0.54</td>\n",
       "      <td>1.03</td>\n",
       "      <td>0.45</td>\n",
       "      <td>1.23</td>\n",
       "      <td>0.96</td>\n",
       "      <td>1.09</td>\n",
       "      <td>1.04</td>\n",
       "      <td>0.69</td>\n",
       "      <td>0.79</td>\n",
       "    </tr>\n",
       "    <tr>\n",
       "      <th>1536890840</th>\n",
       "      <td>0.55</td>\n",
       "      <td>0.47</td>\n",
       "      <td>0.89</td>\n",
       "      <td>0.60</td>\n",
       "      <td>0.83</td>\n",
       "      <td>0.75</td>\n",
       "      <td>-0.03</td>\n",
       "      <td>0.90</td>\n",
       "      <td>0.23</td>\n",
       "      <td>0.85</td>\n",
       "      <td>0.76</td>\n",
       "      <td>0.87</td>\n",
       "      <td>0.86</td>\n",
       "      <td>0.46</td>\n",
       "      <td>0.58</td>\n",
       "    </tr>\n",
       "    <tr>\n",
       "      <th>1536892590</th>\n",
       "      <td>0.80</td>\n",
       "      <td>0.55</td>\n",
       "      <td>1.20</td>\n",
       "      <td>0.81</td>\n",
       "      <td>1.26</td>\n",
       "      <td>0.96</td>\n",
       "      <td>0.50</td>\n",
       "      <td>1.09</td>\n",
       "      <td>0.40</td>\n",
       "      <td>1.16</td>\n",
       "      <td>0.90</td>\n",
       "      <td>0.99</td>\n",
       "      <td>1.02</td>\n",
       "      <td>0.60</td>\n",
       "      <td>0.71</td>\n",
       "    </tr>\n",
       "    <tr>\n",
       "      <th>1536894955</th>\n",
       "      <td>0.92</td>\n",
       "      <td>0.49</td>\n",
       "      <td>1.45</td>\n",
       "      <td>0.96</td>\n",
       "      <td>1.62</td>\n",
       "      <td>1.24</td>\n",
       "      <td>0.70</td>\n",
       "      <td>1.34</td>\n",
       "      <td>0.62</td>\n",
       "      <td>1.49</td>\n",
       "      <td>1.22</td>\n",
       "      <td>1.24</td>\n",
       "      <td>1.01</td>\n",
       "      <td>0.86</td>\n",
       "      <td>0.73</td>\n",
       "    </tr>\n",
       "    <tr>\n",
       "      <th>1536893116</th>\n",
       "      <td>0.72</td>\n",
       "      <td>0.48</td>\n",
       "      <td>1.17</td>\n",
       "      <td>0.81</td>\n",
       "      <td>1.25</td>\n",
       "      <td>1.10</td>\n",
       "      <td>0.59</td>\n",
       "      <td>1.10</td>\n",
       "      <td>0.60</td>\n",
       "      <td>1.36</td>\n",
       "      <td>1.03</td>\n",
       "      <td>1.07</td>\n",
       "      <td>1.06</td>\n",
       "      <td>0.71</td>\n",
       "      <td>0.71</td>\n",
       "    </tr>\n",
       "    <tr>\n",
       "      <th>1536897858</th>\n",
       "      <td>1.12</td>\n",
       "      <td>0.54</td>\n",
       "      <td>1.47</td>\n",
       "      <td>1.20</td>\n",
       "      <td>2.17</td>\n",
       "      <td>1.79</td>\n",
       "      <td>1.06</td>\n",
       "      <td>1.95</td>\n",
       "      <td>0.91</td>\n",
       "      <td>1.83</td>\n",
       "      <td>1.63</td>\n",
       "      <td>1.55</td>\n",
       "      <td>1.14</td>\n",
       "      <td>1.10</td>\n",
       "      <td>0.75</td>\n",
       "    </tr>\n",
       "    <tr>\n",
       "      <th>1536898485</th>\n",
       "      <td>1.50</td>\n",
       "      <td>0.52</td>\n",
       "      <td>1.36</td>\n",
       "      <td>1.53</td>\n",
       "      <td>2.46</td>\n",
       "      <td>2.04</td>\n",
       "      <td>1.23</td>\n",
       "      <td>2.23</td>\n",
       "      <td>1.04</td>\n",
       "      <td>1.80</td>\n",
       "      <td>1.89</td>\n",
       "      <td>1.84</td>\n",
       "      <td>1.06</td>\n",
       "      <td>1.40</td>\n",
       "      <td>0.71</td>\n",
       "    </tr>\n",
       "    <tr>\n",
       "      <th>1536899974</th>\n",
       "      <td>1.25</td>\n",
       "      <td>0.53</td>\n",
       "      <td>1.42</td>\n",
       "      <td>1.28</td>\n",
       "      <td>2.12</td>\n",
       "      <td>1.74</td>\n",
       "      <td>1.08</td>\n",
       "      <td>1.86</td>\n",
       "      <td>0.91</td>\n",
       "      <td>1.77</td>\n",
       "      <td>1.65</td>\n",
       "      <td>1.57</td>\n",
       "      <td>1.07</td>\n",
       "      <td>1.08</td>\n",
       "      <td>0.71</td>\n",
       "    </tr>\n",
       "    <tr>\n",
       "      <th>1536897772</th>\n",
       "      <td>1.26</td>\n",
       "      <td>0.54</td>\n",
       "      <td>1.53</td>\n",
       "      <td>1.19</td>\n",
       "      <td>2.23</td>\n",
       "      <td>1.74</td>\n",
       "      <td>1.14</td>\n",
       "      <td>1.94</td>\n",
       "      <td>0.91</td>\n",
       "      <td>1.76</td>\n",
       "      <td>1.66</td>\n",
       "      <td>1.59</td>\n",
       "      <td>1.06</td>\n",
       "      <td>1.09</td>\n",
       "      <td>0.72</td>\n",
       "    </tr>\n",
       "    <tr>\n",
       "      <th>1536891202</th>\n",
       "      <td>0.86</td>\n",
       "      <td>0.52</td>\n",
       "      <td>1.35</td>\n",
       "      <td>0.80</td>\n",
       "      <td>1.50</td>\n",
       "      <td>1.06</td>\n",
       "      <td>0.87</td>\n",
       "      <td>1.09</td>\n",
       "      <td>0.54</td>\n",
       "      <td>1.44</td>\n",
       "      <td>0.99</td>\n",
       "      <td>1.07</td>\n",
       "      <td>1.03</td>\n",
       "      <td>0.61</td>\n",
       "      <td>0.69</td>\n",
       "    </tr>\n",
       "    <tr>\n",
       "      <th>1536898773</th>\n",
       "      <td>1.42</td>\n",
       "      <td>0.51</td>\n",
       "      <td>1.49</td>\n",
       "      <td>1.35</td>\n",
       "      <td>2.21</td>\n",
       "      <td>1.84</td>\n",
       "      <td>1.01</td>\n",
       "      <td>1.99</td>\n",
       "      <td>0.90</td>\n",
       "      <td>1.82</td>\n",
       "      <td>1.73</td>\n",
       "      <td>1.65</td>\n",
       "      <td>1.05</td>\n",
       "      <td>1.19</td>\n",
       "      <td>0.71</td>\n",
       "    </tr>\n",
       "    <tr>\n",
       "      <th>1536896608</th>\n",
       "      <td>1.33</td>\n",
       "      <td>0.48</td>\n",
       "      <td>1.46</td>\n",
       "      <td>1.29</td>\n",
       "      <td>2.15</td>\n",
       "      <td>1.75</td>\n",
       "      <td>1.00</td>\n",
       "      <td>1.96</td>\n",
       "      <td>0.86</td>\n",
       "      <td>1.69</td>\n",
       "      <td>1.74</td>\n",
       "      <td>1.81</td>\n",
       "      <td>1.01</td>\n",
       "      <td>1.21</td>\n",
       "      <td>0.72</td>\n",
       "    </tr>\n",
       "    <tr>\n",
       "      <th>1536896558</th>\n",
       "      <td>1.20</td>\n",
       "      <td>0.43</td>\n",
       "      <td>1.34</td>\n",
       "      <td>1.22</td>\n",
       "      <td>2.04</td>\n",
       "      <td>1.69</td>\n",
       "      <td>0.85</td>\n",
       "      <td>1.83</td>\n",
       "      <td>0.80</td>\n",
       "      <td>1.69</td>\n",
       "      <td>1.57</td>\n",
       "      <td>1.56</td>\n",
       "      <td>1.05</td>\n",
       "      <td>1.10</td>\n",
       "      <td>0.71</td>\n",
       "    </tr>\n",
       "    <tr>\n",
       "      <th>1536891577</th>\n",
       "      <td>0.46</td>\n",
       "      <td>0.57</td>\n",
       "      <td>0.83</td>\n",
       "      <td>0.55</td>\n",
       "      <td>0.99</td>\n",
       "      <td>0.72</td>\n",
       "      <td>0.25</td>\n",
       "      <td>0.88</td>\n",
       "      <td>0.27</td>\n",
       "      <td>1.02</td>\n",
       "      <td>0.69</td>\n",
       "      <td>0.96</td>\n",
       "      <td>0.92</td>\n",
       "      <td>0.48</td>\n",
       "      <td>0.64</td>\n",
       "    </tr>\n",
       "    <tr>\n",
       "      <th>1536895153</th>\n",
       "      <td>0.92</td>\n",
       "      <td>0.54</td>\n",
       "      <td>1.47</td>\n",
       "      <td>0.95</td>\n",
       "      <td>1.71</td>\n",
       "      <td>1.35</td>\n",
       "      <td>0.76</td>\n",
       "      <td>1.49</td>\n",
       "      <td>0.63</td>\n",
       "      <td>1.62</td>\n",
       "      <td>1.31</td>\n",
       "      <td>1.32</td>\n",
       "      <td>1.02</td>\n",
       "      <td>0.97</td>\n",
       "      <td>0.78</td>\n",
       "    </tr>\n",
       "    <tr>\n",
       "      <th>1536900062</th>\n",
       "      <td>0.98</td>\n",
       "      <td>0.49</td>\n",
       "      <td>1.47</td>\n",
       "      <td>0.92</td>\n",
       "      <td>1.62</td>\n",
       "      <td>1.24</td>\n",
       "      <td>0.69</td>\n",
       "      <td>1.27</td>\n",
       "      <td>0.55</td>\n",
       "      <td>1.33</td>\n",
       "      <td>1.04</td>\n",
       "      <td>1.13</td>\n",
       "      <td>1.07</td>\n",
       "      <td>0.70</td>\n",
       "      <td>0.74</td>\n",
       "    </tr>\n",
       "    <tr>\n",
       "      <th>1536898973</th>\n",
       "      <td>1.36</td>\n",
       "      <td>0.60</td>\n",
       "      <td>1.44</td>\n",
       "      <td>1.31</td>\n",
       "      <td>2.27</td>\n",
       "      <td>1.80</td>\n",
       "      <td>1.14</td>\n",
       "      <td>2.00</td>\n",
       "      <td>0.91</td>\n",
       "      <td>1.84</td>\n",
       "      <td>1.78</td>\n",
       "      <td>1.69</td>\n",
       "      <td>1.04</td>\n",
       "      <td>1.26</td>\n",
       "      <td>0.83</td>\n",
       "    </tr>\n",
       "    <tr>\n",
       "      <th>1536892065</th>\n",
       "      <td>0.97</td>\n",
       "      <td>0.52</td>\n",
       "      <td>1.47</td>\n",
       "      <td>1.19</td>\n",
       "      <td>1.55</td>\n",
       "      <td>1.39</td>\n",
       "      <td>0.56</td>\n",
       "      <td>1.48</td>\n",
       "      <td>0.62</td>\n",
       "      <td>1.56</td>\n",
       "      <td>1.40</td>\n",
       "      <td>1.33</td>\n",
       "      <td>1.07</td>\n",
       "      <td>1.09</td>\n",
       "      <td>0.78</td>\n",
       "    </tr>\n",
       "    <tr>\n",
       "      <th>1536896031</th>\n",
       "      <td>0.95</td>\n",
       "      <td>0.55</td>\n",
       "      <td>1.47</td>\n",
       "      <td>0.99</td>\n",
       "      <td>1.64</td>\n",
       "      <td>1.36</td>\n",
       "      <td>0.75</td>\n",
       "      <td>1.45</td>\n",
       "      <td>0.77</td>\n",
       "      <td>1.65</td>\n",
       "      <td>1.38</td>\n",
       "      <td>1.32</td>\n",
       "      <td>1.06</td>\n",
       "      <td>0.98</td>\n",
       "      <td>0.78</td>\n",
       "    </tr>\n",
       "    <tr>\n",
       "      <th>1536896382</th>\n",
       "      <td>1.07</td>\n",
       "      <td>0.45</td>\n",
       "      <td>1.49</td>\n",
       "      <td>1.05</td>\n",
       "      <td>1.83</td>\n",
       "      <td>1.44</td>\n",
       "      <td>0.83</td>\n",
       "      <td>1.47</td>\n",
       "      <td>0.70</td>\n",
       "      <td>1.62</td>\n",
       "      <td>1.30</td>\n",
       "      <td>1.32</td>\n",
       "      <td>0.93</td>\n",
       "      <td>0.87</td>\n",
       "      <td>0.71</td>\n",
       "    </tr>\n",
       "    <tr>\n",
       "      <th>1536900725</th>\n",
       "      <td>0.33</td>\n",
       "      <td>0.37</td>\n",
       "      <td>0.57</td>\n",
       "      <td>0.42</td>\n",
       "      <td>0.48</td>\n",
       "      <td>0.35</td>\n",
       "      <td>-0.01</td>\n",
       "      <td>0.28</td>\n",
       "      <td>0.06</td>\n",
       "      <td>0.44</td>\n",
       "      <td>0.27</td>\n",
       "      <td>0.54</td>\n",
       "      <td>0.40</td>\n",
       "      <td>0.23</td>\n",
       "      <td>0.25</td>\n",
       "    </tr>\n",
       "    <tr>\n",
       "      <th>...</th>\n",
       "      <td>...</td>\n",
       "      <td>...</td>\n",
       "      <td>...</td>\n",
       "      <td>...</td>\n",
       "      <td>...</td>\n",
       "      <td>...</td>\n",
       "      <td>...</td>\n",
       "      <td>...</td>\n",
       "      <td>...</td>\n",
       "      <td>...</td>\n",
       "      <td>...</td>\n",
       "      <td>...</td>\n",
       "      <td>...</td>\n",
       "      <td>...</td>\n",
       "      <td>...</td>\n",
       "    </tr>\n",
       "    <tr>\n",
       "      <th>1536891090</th>\n",
       "      <td>0.77</td>\n",
       "      <td>0.49</td>\n",
       "      <td>1.24</td>\n",
       "      <td>0.72</td>\n",
       "      <td>1.44</td>\n",
       "      <td>0.97</td>\n",
       "      <td>0.81</td>\n",
       "      <td>1.07</td>\n",
       "      <td>0.51</td>\n",
       "      <td>1.41</td>\n",
       "      <td>1.00</td>\n",
       "      <td>1.06</td>\n",
       "      <td>1.01</td>\n",
       "      <td>0.66</td>\n",
       "      <td>0.78</td>\n",
       "    </tr>\n",
       "    <tr>\n",
       "      <th>1536892165</th>\n",
       "      <td>0.83</td>\n",
       "      <td>0.56</td>\n",
       "      <td>1.30</td>\n",
       "      <td>1.09</td>\n",
       "      <td>1.44</td>\n",
       "      <td>1.30</td>\n",
       "      <td>0.50</td>\n",
       "      <td>1.33</td>\n",
       "      <td>0.58</td>\n",
       "      <td>1.37</td>\n",
       "      <td>1.18</td>\n",
       "      <td>1.18</td>\n",
       "      <td>1.07</td>\n",
       "      <td>0.90</td>\n",
       "      <td>0.83</td>\n",
       "    </tr>\n",
       "    <tr>\n",
       "      <th>1536898009</th>\n",
       "      <td>1.21</td>\n",
       "      <td>0.53</td>\n",
       "      <td>1.48</td>\n",
       "      <td>1.16</td>\n",
       "      <td>2.02</td>\n",
       "      <td>1.57</td>\n",
       "      <td>0.99</td>\n",
       "      <td>1.73</td>\n",
       "      <td>0.82</td>\n",
       "      <td>1.71</td>\n",
       "      <td>1.52</td>\n",
       "      <td>1.48</td>\n",
       "      <td>1.04</td>\n",
       "      <td>1.01</td>\n",
       "      <td>0.72</td>\n",
       "    </tr>\n",
       "    <tr>\n",
       "      <th>1536890527</th>\n",
       "      <td>0.72</td>\n",
       "      <td>0.55</td>\n",
       "      <td>1.09</td>\n",
       "      <td>0.70</td>\n",
       "      <td>1.06</td>\n",
       "      <td>0.82</td>\n",
       "      <td>0.19</td>\n",
       "      <td>0.98</td>\n",
       "      <td>0.24</td>\n",
       "      <td>1.11</td>\n",
       "      <td>0.88</td>\n",
       "      <td>1.19</td>\n",
       "      <td>1.07</td>\n",
       "      <td>0.65</td>\n",
       "      <td>0.81</td>\n",
       "    </tr>\n",
       "    <tr>\n",
       "      <th>1536898122</th>\n",
       "      <td>1.17</td>\n",
       "      <td>0.60</td>\n",
       "      <td>1.47</td>\n",
       "      <td>1.15</td>\n",
       "      <td>1.86</td>\n",
       "      <td>1.52</td>\n",
       "      <td>0.86</td>\n",
       "      <td>1.62</td>\n",
       "      <td>0.80</td>\n",
       "      <td>1.77</td>\n",
       "      <td>1.47</td>\n",
       "      <td>1.39</td>\n",
       "      <td>1.16</td>\n",
       "      <td>1.03</td>\n",
       "      <td>0.78</td>\n",
       "    </tr>\n",
       "    <tr>\n",
       "      <th>1536899511</th>\n",
       "      <td>1.21</td>\n",
       "      <td>0.59</td>\n",
       "      <td>1.46</td>\n",
       "      <td>1.23</td>\n",
       "      <td>2.09</td>\n",
       "      <td>1.70</td>\n",
       "      <td>1.02</td>\n",
       "      <td>1.84</td>\n",
       "      <td>0.94</td>\n",
       "      <td>1.86</td>\n",
       "      <td>1.64</td>\n",
       "      <td>1.60</td>\n",
       "      <td>1.16</td>\n",
       "      <td>1.12</td>\n",
       "      <td>0.85</td>\n",
       "    </tr>\n",
       "    <tr>\n",
       "      <th>1536899937</th>\n",
       "      <td>1.22</td>\n",
       "      <td>0.56</td>\n",
       "      <td>1.51</td>\n",
       "      <td>1.21</td>\n",
       "      <td>2.07</td>\n",
       "      <td>1.62</td>\n",
       "      <td>1.00</td>\n",
       "      <td>1.81</td>\n",
       "      <td>0.83</td>\n",
       "      <td>1.81</td>\n",
       "      <td>1.62</td>\n",
       "      <td>1.60</td>\n",
       "      <td>1.02</td>\n",
       "      <td>1.13</td>\n",
       "      <td>0.71</td>\n",
       "    </tr>\n",
       "    <tr>\n",
       "      <th>1536892240</th>\n",
       "      <td>0.78</td>\n",
       "      <td>0.55</td>\n",
       "      <td>1.28</td>\n",
       "      <td>1.04</td>\n",
       "      <td>1.50</td>\n",
       "      <td>1.32</td>\n",
       "      <td>0.52</td>\n",
       "      <td>1.38</td>\n",
       "      <td>0.54</td>\n",
       "      <td>1.33</td>\n",
       "      <td>1.11</td>\n",
       "      <td>1.16</td>\n",
       "      <td>1.07</td>\n",
       "      <td>0.82</td>\n",
       "      <td>0.79</td>\n",
       "    </tr>\n",
       "    <tr>\n",
       "      <th>1536895668</th>\n",
       "      <td>1.09</td>\n",
       "      <td>0.53</td>\n",
       "      <td>1.52</td>\n",
       "      <td>1.13</td>\n",
       "      <td>1.71</td>\n",
       "      <td>1.46</td>\n",
       "      <td>0.77</td>\n",
       "      <td>1.51</td>\n",
       "      <td>0.73</td>\n",
       "      <td>1.67</td>\n",
       "      <td>1.40</td>\n",
       "      <td>1.36</td>\n",
       "      <td>0.95</td>\n",
       "      <td>1.01</td>\n",
       "      <td>0.78</td>\n",
       "    </tr>\n",
       "    <tr>\n",
       "      <th>1536898811</th>\n",
       "      <td>1.32</td>\n",
       "      <td>0.59</td>\n",
       "      <td>1.67</td>\n",
       "      <td>1.35</td>\n",
       "      <td>2.38</td>\n",
       "      <td>1.94</td>\n",
       "      <td>1.19</td>\n",
       "      <td>2.16</td>\n",
       "      <td>0.97</td>\n",
       "      <td>1.86</td>\n",
       "      <td>1.81</td>\n",
       "      <td>1.75</td>\n",
       "      <td>1.06</td>\n",
       "      <td>1.24</td>\n",
       "      <td>0.79</td>\n",
       "    </tr>\n",
       "    <tr>\n",
       "      <th>1536895305</th>\n",
       "      <td>1.22</td>\n",
       "      <td>0.54</td>\n",
       "      <td>1.41</td>\n",
       "      <td>1.25</td>\n",
       "      <td>1.99</td>\n",
       "      <td>1.64</td>\n",
       "      <td>0.87</td>\n",
       "      <td>1.78</td>\n",
       "      <td>0.78</td>\n",
       "      <td>1.72</td>\n",
       "      <td>1.54</td>\n",
       "      <td>1.46</td>\n",
       "      <td>1.06</td>\n",
       "      <td>1.07</td>\n",
       "      <td>0.79</td>\n",
       "    </tr>\n",
       "    <tr>\n",
       "      <th>1536891552</th>\n",
       "      <td>0.51</td>\n",
       "      <td>0.51</td>\n",
       "      <td>0.87</td>\n",
       "      <td>0.59</td>\n",
       "      <td>1.01</td>\n",
       "      <td>0.75</td>\n",
       "      <td>0.29</td>\n",
       "      <td>0.97</td>\n",
       "      <td>0.34</td>\n",
       "      <td>1.04</td>\n",
       "      <td>0.80</td>\n",
       "      <td>0.91</td>\n",
       "      <td>0.93</td>\n",
       "      <td>0.50</td>\n",
       "      <td>0.61</td>\n",
       "    </tr>\n",
       "    <tr>\n",
       "      <th>1536891640</th>\n",
       "      <td>0.46</td>\n",
       "      <td>0.46</td>\n",
       "      <td>0.82</td>\n",
       "      <td>0.58</td>\n",
       "      <td>0.90</td>\n",
       "      <td>0.70</td>\n",
       "      <td>0.27</td>\n",
       "      <td>0.68</td>\n",
       "      <td>0.24</td>\n",
       "      <td>0.83</td>\n",
       "      <td>0.62</td>\n",
       "      <td>0.83</td>\n",
       "      <td>0.86</td>\n",
       "      <td>0.51</td>\n",
       "      <td>0.64</td>\n",
       "    </tr>\n",
       "    <tr>\n",
       "      <th>1536898585</th>\n",
       "      <td>1.32</td>\n",
       "      <td>0.50</td>\n",
       "      <td>1.43</td>\n",
       "      <td>1.43</td>\n",
       "      <td>2.29</td>\n",
       "      <td>1.94</td>\n",
       "      <td>1.01</td>\n",
       "      <td>2.13</td>\n",
       "      <td>0.95</td>\n",
       "      <td>1.82</td>\n",
       "      <td>1.82</td>\n",
       "      <td>1.75</td>\n",
       "      <td>1.07</td>\n",
       "      <td>1.27</td>\n",
       "      <td>0.70</td>\n",
       "    </tr>\n",
       "    <tr>\n",
       "      <th>1536896808</th>\n",
       "      <td>1.41</td>\n",
       "      <td>0.60</td>\n",
       "      <td>1.49</td>\n",
       "      <td>1.36</td>\n",
       "      <td>2.14</td>\n",
       "      <td>1.78</td>\n",
       "      <td>0.91</td>\n",
       "      <td>1.92</td>\n",
       "      <td>0.86</td>\n",
       "      <td>1.86</td>\n",
       "      <td>1.74</td>\n",
       "      <td>1.70</td>\n",
       "      <td>1.07</td>\n",
       "      <td>1.19</td>\n",
       "      <td>0.81</td>\n",
       "    </tr>\n",
       "    <tr>\n",
       "      <th>1536897609</th>\n",
       "      <td>1.25</td>\n",
       "      <td>0.54</td>\n",
       "      <td>1.44</td>\n",
       "      <td>1.24</td>\n",
       "      <td>2.16</td>\n",
       "      <td>1.73</td>\n",
       "      <td>1.16</td>\n",
       "      <td>1.99</td>\n",
       "      <td>1.03</td>\n",
       "      <td>1.79</td>\n",
       "      <td>1.79</td>\n",
       "      <td>1.56</td>\n",
       "      <td>1.10</td>\n",
       "      <td>1.16</td>\n",
       "      <td>0.78</td>\n",
       "    </tr>\n",
       "    <tr>\n",
       "      <th>1536894430</th>\n",
       "      <td>0.93</td>\n",
       "      <td>0.52</td>\n",
       "      <td>1.50</td>\n",
       "      <td>1.00</td>\n",
       "      <td>1.72</td>\n",
       "      <td>1.34</td>\n",
       "      <td>0.88</td>\n",
       "      <td>1.41</td>\n",
       "      <td>0.71</td>\n",
       "      <td>1.65</td>\n",
       "      <td>1.27</td>\n",
       "      <td>1.29</td>\n",
       "      <td>1.07</td>\n",
       "      <td>0.87</td>\n",
       "      <td>0.78</td>\n",
       "    </tr>\n",
       "    <tr>\n",
       "      <th>1536893328</th>\n",
       "      <td>0.72</td>\n",
       "      <td>0.59</td>\n",
       "      <td>1.26</td>\n",
       "      <td>0.82</td>\n",
       "      <td>1.51</td>\n",
       "      <td>1.23</td>\n",
       "      <td>0.70</td>\n",
       "      <td>1.28</td>\n",
       "      <td>0.63</td>\n",
       "      <td>1.41</td>\n",
       "      <td>1.14</td>\n",
       "      <td>1.21</td>\n",
       "      <td>1.13</td>\n",
       "      <td>0.84</td>\n",
       "      <td>0.82</td>\n",
       "    </tr>\n",
       "    <tr>\n",
       "      <th>1536898660</th>\n",
       "      <td>1.41</td>\n",
       "      <td>0.60</td>\n",
       "      <td>1.70</td>\n",
       "      <td>1.50</td>\n",
       "      <td>2.13</td>\n",
       "      <td>2.03</td>\n",
       "      <td>0.86</td>\n",
       "      <td>2.08</td>\n",
       "      <td>1.02</td>\n",
       "      <td>1.86</td>\n",
       "      <td>1.80</td>\n",
       "      <td>1.65</td>\n",
       "      <td>1.08</td>\n",
       "      <td>1.22</td>\n",
       "      <td>0.79</td>\n",
       "    </tr>\n",
       "    <tr>\n",
       "      <th>1536893979</th>\n",
       "      <td>1.14</td>\n",
       "      <td>0.58</td>\n",
       "      <td>1.46</td>\n",
       "      <td>1.15</td>\n",
       "      <td>1.73</td>\n",
       "      <td>1.43</td>\n",
       "      <td>0.66</td>\n",
       "      <td>1.59</td>\n",
       "      <td>0.70</td>\n",
       "      <td>1.76</td>\n",
       "      <td>1.53</td>\n",
       "      <td>1.52</td>\n",
       "      <td>1.11</td>\n",
       "      <td>1.14</td>\n",
       "      <td>0.80</td>\n",
       "    </tr>\n",
       "    <tr>\n",
       "      <th>1536899874</th>\n",
       "      <td>1.26</td>\n",
       "      <td>0.47</td>\n",
       "      <td>1.34</td>\n",
       "      <td>1.25</td>\n",
       "      <td>2.14</td>\n",
       "      <td>1.72</td>\n",
       "      <td>1.07</td>\n",
       "      <td>1.84</td>\n",
       "      <td>0.86</td>\n",
       "      <td>1.70</td>\n",
       "      <td>1.65</td>\n",
       "      <td>1.64</td>\n",
       "      <td>1.04</td>\n",
       "      <td>1.13</td>\n",
       "      <td>0.64</td>\n",
       "    </tr>\n",
       "    <tr>\n",
       "      <th>1536900500</th>\n",
       "      <td>0.28</td>\n",
       "      <td>0.38</td>\n",
       "      <td>0.55</td>\n",
       "      <td>0.40</td>\n",
       "      <td>0.48</td>\n",
       "      <td>0.42</td>\n",
       "      <td>-0.09</td>\n",
       "      <td>0.29</td>\n",
       "      <td>-0.02</td>\n",
       "      <td>0.38</td>\n",
       "      <td>0.18</td>\n",
       "      <td>0.54</td>\n",
       "      <td>0.37</td>\n",
       "      <td>0.20</td>\n",
       "      <td>0.24</td>\n",
       "    </tr>\n",
       "    <tr>\n",
       "      <th>1536897046</th>\n",
       "      <td>1.15</td>\n",
       "      <td>0.48</td>\n",
       "      <td>1.48</td>\n",
       "      <td>1.19</td>\n",
       "      <td>1.91</td>\n",
       "      <td>1.56</td>\n",
       "      <td>0.74</td>\n",
       "      <td>1.64</td>\n",
       "      <td>0.74</td>\n",
       "      <td>1.68</td>\n",
       "      <td>1.49</td>\n",
       "      <td>1.43</td>\n",
       "      <td>1.01</td>\n",
       "      <td>1.02</td>\n",
       "      <td>0.71</td>\n",
       "    </tr>\n",
       "    <tr>\n",
       "      <th>1536899699</th>\n",
       "      <td>1.28</td>\n",
       "      <td>0.53</td>\n",
       "      <td>1.45</td>\n",
       "      <td>1.24</td>\n",
       "      <td>2.06</td>\n",
       "      <td>1.66</td>\n",
       "      <td>1.02</td>\n",
       "      <td>1.77</td>\n",
       "      <td>0.85</td>\n",
       "      <td>1.81</td>\n",
       "      <td>1.57</td>\n",
       "      <td>1.52</td>\n",
       "      <td>1.06</td>\n",
       "      <td>1.03</td>\n",
       "      <td>0.71</td>\n",
       "    </tr>\n",
       "    <tr>\n",
       "      <th>1536897709</th>\n",
       "      <td>1.21</td>\n",
       "      <td>0.57</td>\n",
       "      <td>1.59</td>\n",
       "      <td>1.18</td>\n",
       "      <td>2.03</td>\n",
       "      <td>1.62</td>\n",
       "      <td>1.03</td>\n",
       "      <td>1.73</td>\n",
       "      <td>0.84</td>\n",
       "      <td>1.81</td>\n",
       "      <td>1.49</td>\n",
       "      <td>1.45</td>\n",
       "      <td>1.06</td>\n",
       "      <td>0.99</td>\n",
       "      <td>0.78</td>\n",
       "    </tr>\n",
       "    <tr>\n",
       "      <th>1536891140</th>\n",
       "      <td>0.74</td>\n",
       "      <td>0.44</td>\n",
       "      <td>1.20</td>\n",
       "      <td>0.73</td>\n",
       "      <td>1.50</td>\n",
       "      <td>1.01</td>\n",
       "      <td>0.95</td>\n",
       "      <td>1.16</td>\n",
       "      <td>0.57</td>\n",
       "      <td>1.53</td>\n",
       "      <td>1.09</td>\n",
       "      <td>1.13</td>\n",
       "      <td>0.91</td>\n",
       "      <td>0.73</td>\n",
       "      <td>0.71</td>\n",
       "    </tr>\n",
       "    <tr>\n",
       "      <th>1536894855</th>\n",
       "      <td>0.90</td>\n",
       "      <td>0.47</td>\n",
       "      <td>1.30</td>\n",
       "      <td>1.02</td>\n",
       "      <td>1.70</td>\n",
       "      <td>1.42</td>\n",
       "      <td>0.75</td>\n",
       "      <td>1.49</td>\n",
       "      <td>0.71</td>\n",
       "      <td>1.57</td>\n",
       "      <td>1.26</td>\n",
       "      <td>1.29</td>\n",
       "      <td>1.00</td>\n",
       "      <td>0.88</td>\n",
       "      <td>0.71</td>\n",
       "    </tr>\n",
       "    <tr>\n",
       "      <th>1536891465</th>\n",
       "      <td>0.44</td>\n",
       "      <td>0.54</td>\n",
       "      <td>0.77</td>\n",
       "      <td>0.54</td>\n",
       "      <td>0.85</td>\n",
       "      <td>0.58</td>\n",
       "      <td>0.30</td>\n",
       "      <td>0.59</td>\n",
       "      <td>0.20</td>\n",
       "      <td>0.87</td>\n",
       "      <td>0.59</td>\n",
       "      <td>0.86</td>\n",
       "      <td>0.82</td>\n",
       "      <td>0.44</td>\n",
       "      <td>0.57</td>\n",
       "    </tr>\n",
       "    <tr>\n",
       "      <th>1536900375</th>\n",
       "      <td>0.34</td>\n",
       "      <td>0.33</td>\n",
       "      <td>0.54</td>\n",
       "      <td>0.34</td>\n",
       "      <td>0.29</td>\n",
       "      <td>0.21</td>\n",
       "      <td>-0.20</td>\n",
       "      <td>0.05</td>\n",
       "      <td>-0.11</td>\n",
       "      <td>0.16</td>\n",
       "      <td>0.06</td>\n",
       "      <td>0.39</td>\n",
       "      <td>0.24</td>\n",
       "      <td>0.11</td>\n",
       "      <td>0.17</td>\n",
       "    </tr>\n",
       "    <tr>\n",
       "      <th>1536896970</th>\n",
       "      <td>1.23</td>\n",
       "      <td>0.56</td>\n",
       "      <td>1.48</td>\n",
       "      <td>1.25</td>\n",
       "      <td>1.92</td>\n",
       "      <td>1.57</td>\n",
       "      <td>0.80</td>\n",
       "      <td>1.68</td>\n",
       "      <td>0.76</td>\n",
       "      <td>1.80</td>\n",
       "      <td>1.53</td>\n",
       "      <td>1.47</td>\n",
       "      <td>1.14</td>\n",
       "      <td>1.02</td>\n",
       "      <td>0.80</td>\n",
       "    </tr>\n",
       "  </tbody>\n",
       "</table>\n",
       "<p>551 rows × 15 columns</p>\n",
       "</div>"
      ],
      "text/plain": [
       "               A     B     C     D     E     F     G     H     I     J     K  \\\n",
       "3                                                                              \n",
       "1536896620  1.39  0.55  1.67  1.32  2.35  1.89  1.06  2.09  0.86  1.78  1.81   \n",
       "1536898823  1.22  0.50  1.52  1.26  2.02  1.70  0.80  1.92  0.90  1.72  1.68   \n",
       "1536897834  1.31  0.50  1.55  1.20  2.16  1.68  1.14  1.85  0.91  1.74  1.67   \n",
       "1536896407  0.92  0.58  1.41  0.97  1.48  1.24  0.63  1.25  0.66  1.43  1.19   \n",
       "1536892352  0.75  0.48  1.20  0.93  1.39  1.20  0.47  1.29  0.48  1.23  1.02   \n",
       "1536891452  0.46  0.55  0.85  0.60  1.02  0.78  0.39  0.80  0.29  0.94  0.63   \n",
       "1536890590  0.78  0.52  1.19  0.80  1.06  1.06  0.06  1.23  0.34  1.15  1.03   \n",
       "1536892253  0.88  0.52  1.39  1.10  1.64  1.41  0.65  1.54  0.65  1.55  1.29   \n",
       "1536891414  0.54  0.42  0.99  0.71  1.14  0.94  0.46  0.89  0.40  1.04  0.74   \n",
       "1536893641  0.70  0.52  1.12  0.77  1.24  0.98  0.54  1.03  0.45  1.23  0.96   \n",
       "1536890840  0.55  0.47  0.89  0.60  0.83  0.75 -0.03  0.90  0.23  0.85  0.76   \n",
       "1536892590  0.80  0.55  1.20  0.81  1.26  0.96  0.50  1.09  0.40  1.16  0.90   \n",
       "1536894955  0.92  0.49  1.45  0.96  1.62  1.24  0.70  1.34  0.62  1.49  1.22   \n",
       "1536893116  0.72  0.48  1.17  0.81  1.25  1.10  0.59  1.10  0.60  1.36  1.03   \n",
       "1536897858  1.12  0.54  1.47  1.20  2.17  1.79  1.06  1.95  0.91  1.83  1.63   \n",
       "1536898485  1.50  0.52  1.36  1.53  2.46  2.04  1.23  2.23  1.04  1.80  1.89   \n",
       "1536899974  1.25  0.53  1.42  1.28  2.12  1.74  1.08  1.86  0.91  1.77  1.65   \n",
       "1536897772  1.26  0.54  1.53  1.19  2.23  1.74  1.14  1.94  0.91  1.76  1.66   \n",
       "1536891202  0.86  0.52  1.35  0.80  1.50  1.06  0.87  1.09  0.54  1.44  0.99   \n",
       "1536898773  1.42  0.51  1.49  1.35  2.21  1.84  1.01  1.99  0.90  1.82  1.73   \n",
       "1536896608  1.33  0.48  1.46  1.29  2.15  1.75  1.00  1.96  0.86  1.69  1.74   \n",
       "1536896558  1.20  0.43  1.34  1.22  2.04  1.69  0.85  1.83  0.80  1.69  1.57   \n",
       "1536891577  0.46  0.57  0.83  0.55  0.99  0.72  0.25  0.88  0.27  1.02  0.69   \n",
       "1536895153  0.92  0.54  1.47  0.95  1.71  1.35  0.76  1.49  0.63  1.62  1.31   \n",
       "1536900062  0.98  0.49  1.47  0.92  1.62  1.24  0.69  1.27  0.55  1.33  1.04   \n",
       "1536898973  1.36  0.60  1.44  1.31  2.27  1.80  1.14  2.00  0.91  1.84  1.78   \n",
       "1536892065  0.97  0.52  1.47  1.19  1.55  1.39  0.56  1.48  0.62  1.56  1.40   \n",
       "1536896031  0.95  0.55  1.47  0.99  1.64  1.36  0.75  1.45  0.77  1.65  1.38   \n",
       "1536896382  1.07  0.45  1.49  1.05  1.83  1.44  0.83  1.47  0.70  1.62  1.30   \n",
       "1536900725  0.33  0.37  0.57  0.42  0.48  0.35 -0.01  0.28  0.06  0.44  0.27   \n",
       "...          ...   ...   ...   ...   ...   ...   ...   ...   ...   ...   ...   \n",
       "1536891090  0.77  0.49  1.24  0.72  1.44  0.97  0.81  1.07  0.51  1.41  1.00   \n",
       "1536892165  0.83  0.56  1.30  1.09  1.44  1.30  0.50  1.33  0.58  1.37  1.18   \n",
       "1536898009  1.21  0.53  1.48  1.16  2.02  1.57  0.99  1.73  0.82  1.71  1.52   \n",
       "1536890527  0.72  0.55  1.09  0.70  1.06  0.82  0.19  0.98  0.24  1.11  0.88   \n",
       "1536898122  1.17  0.60  1.47  1.15  1.86  1.52  0.86  1.62  0.80  1.77  1.47   \n",
       "1536899511  1.21  0.59  1.46  1.23  2.09  1.70  1.02  1.84  0.94  1.86  1.64   \n",
       "1536899937  1.22  0.56  1.51  1.21  2.07  1.62  1.00  1.81  0.83  1.81  1.62   \n",
       "1536892240  0.78  0.55  1.28  1.04  1.50  1.32  0.52  1.38  0.54  1.33  1.11   \n",
       "1536895668  1.09  0.53  1.52  1.13  1.71  1.46  0.77  1.51  0.73  1.67  1.40   \n",
       "1536898811  1.32  0.59  1.67  1.35  2.38  1.94  1.19  2.16  0.97  1.86  1.81   \n",
       "1536895305  1.22  0.54  1.41  1.25  1.99  1.64  0.87  1.78  0.78  1.72  1.54   \n",
       "1536891552  0.51  0.51  0.87  0.59  1.01  0.75  0.29  0.97  0.34  1.04  0.80   \n",
       "1536891640  0.46  0.46  0.82  0.58  0.90  0.70  0.27  0.68  0.24  0.83  0.62   \n",
       "1536898585  1.32  0.50  1.43  1.43  2.29  1.94  1.01  2.13  0.95  1.82  1.82   \n",
       "1536896808  1.41  0.60  1.49  1.36  2.14  1.78  0.91  1.92  0.86  1.86  1.74   \n",
       "1536897609  1.25  0.54  1.44  1.24  2.16  1.73  1.16  1.99  1.03  1.79  1.79   \n",
       "1536894430  0.93  0.52  1.50  1.00  1.72  1.34  0.88  1.41  0.71  1.65  1.27   \n",
       "1536893328  0.72  0.59  1.26  0.82  1.51  1.23  0.70  1.28  0.63  1.41  1.14   \n",
       "1536898660  1.41  0.60  1.70  1.50  2.13  2.03  0.86  2.08  1.02  1.86  1.80   \n",
       "1536893979  1.14  0.58  1.46  1.15  1.73  1.43  0.66  1.59  0.70  1.76  1.53   \n",
       "1536899874  1.26  0.47  1.34  1.25  2.14  1.72  1.07  1.84  0.86  1.70  1.65   \n",
       "1536900500  0.28  0.38  0.55  0.40  0.48  0.42 -0.09  0.29 -0.02  0.38  0.18   \n",
       "1536897046  1.15  0.48  1.48  1.19  1.91  1.56  0.74  1.64  0.74  1.68  1.49   \n",
       "1536899699  1.28  0.53  1.45  1.24  2.06  1.66  1.02  1.77  0.85  1.81  1.57   \n",
       "1536897709  1.21  0.57  1.59  1.18  2.03  1.62  1.03  1.73  0.84  1.81  1.49   \n",
       "1536891140  0.74  0.44  1.20  0.73  1.50  1.01  0.95  1.16  0.57  1.53  1.09   \n",
       "1536894855  0.90  0.47  1.30  1.02  1.70  1.42  0.75  1.49  0.71  1.57  1.26   \n",
       "1536891465  0.44  0.54  0.77  0.54  0.85  0.58  0.30  0.59  0.20  0.87  0.59   \n",
       "1536900375  0.34  0.33  0.54  0.34  0.29  0.21 -0.20  0.05 -0.11  0.16  0.06   \n",
       "1536896970  1.23  0.56  1.48  1.25  1.92  1.57  0.80  1.68  0.76  1.80  1.53   \n",
       "\n",
       "               L     M     N     O  \n",
       "3                                   \n",
       "1536896620  1.85  1.08  1.27  0.79  \n",
       "1536898823  1.40  1.01  1.12  0.72  \n",
       "1536897834  1.59  1.00  1.12  0.70  \n",
       "1536896407  1.20  1.06  0.84  0.80  \n",
       "1536892352  1.06  1.03  0.74  0.71  \n",
       "1536891452  0.89  0.87  0.48  0.62  \n",
       "1536890590  1.16  1.03  0.68  0.79  \n",
       "1536892253  1.30  1.00  0.98  0.78  \n",
       "1536891414  0.96  0.98  0.56  0.62  \n",
       "1536893641  1.09  1.04  0.69  0.79  \n",
       "1536890840  0.87  0.86  0.46  0.58  \n",
       "1536892590  0.99  1.02  0.60  0.71  \n",
       "1536894955  1.24  1.01  0.86  0.73  \n",
       "1536893116  1.07  1.06  0.71  0.71  \n",
       "1536897858  1.55  1.14  1.10  0.75  \n",
       "1536898485  1.84  1.06  1.40  0.71  \n",
       "1536899974  1.57  1.07  1.08  0.71  \n",
       "1536897772  1.59  1.06  1.09  0.72  \n",
       "1536891202  1.07  1.03  0.61  0.69  \n",
       "1536898773  1.65  1.05  1.19  0.71  \n",
       "1536896608  1.81  1.01  1.21  0.72  \n",
       "1536896558  1.56  1.05  1.10  0.71  \n",
       "1536891577  0.96  0.92  0.48  0.64  \n",
       "1536895153  1.32  1.02  0.97  0.78  \n",
       "1536900062  1.13  1.07  0.70  0.74  \n",
       "1536898973  1.69  1.04  1.26  0.83  \n",
       "1536892065  1.33  1.07  1.09  0.78  \n",
       "1536896031  1.32  1.06  0.98  0.78  \n",
       "1536896382  1.32  0.93  0.87  0.71  \n",
       "1536900725  0.54  0.40  0.23  0.25  \n",
       "...          ...   ...   ...   ...  \n",
       "1536891090  1.06  1.01  0.66  0.78  \n",
       "1536892165  1.18  1.07  0.90  0.83  \n",
       "1536898009  1.48  1.04  1.01  0.72  \n",
       "1536890527  1.19  1.07  0.65  0.81  \n",
       "1536898122  1.39  1.16  1.03  0.78  \n",
       "1536899511  1.60  1.16  1.12  0.85  \n",
       "1536899937  1.60  1.02  1.13  0.71  \n",
       "1536892240  1.16  1.07  0.82  0.79  \n",
       "1536895668  1.36  0.95  1.01  0.78  \n",
       "1536898811  1.75  1.06  1.24  0.79  \n",
       "1536895305  1.46  1.06  1.07  0.79  \n",
       "1536891552  0.91  0.93  0.50  0.61  \n",
       "1536891640  0.83  0.86  0.51  0.64  \n",
       "1536898585  1.75  1.07  1.27  0.70  \n",
       "1536896808  1.70  1.07  1.19  0.81  \n",
       "1536897609  1.56  1.10  1.16  0.78  \n",
       "1536894430  1.29  1.07  0.87  0.78  \n",
       "1536893328  1.21  1.13  0.84  0.82  \n",
       "1536898660  1.65  1.08  1.22  0.79  \n",
       "1536893979  1.52  1.11  1.14  0.80  \n",
       "1536899874  1.64  1.04  1.13  0.64  \n",
       "1536900500  0.54  0.37  0.20  0.24  \n",
       "1536897046  1.43  1.01  1.02  0.71  \n",
       "1536899699  1.52  1.06  1.03  0.71  \n",
       "1536897709  1.45  1.06  0.99  0.78  \n",
       "1536891140  1.13  0.91  0.73  0.71  \n",
       "1536894855  1.29  1.00  0.88  0.71  \n",
       "1536891465  0.86  0.82  0.44  0.57  \n",
       "1536900375  0.39  0.24  0.11  0.17  \n",
       "1536896970  1.47  1.14  1.02  0.80  \n",
       "\n",
       "[551 rows x 15 columns]"
      ]
     },
     "execution_count": 29,
     "metadata": {},
     "output_type": "execute_result"
    }
   ],
   "source": [
    "y_train"
   ]
  },
  {
   "cell_type": "code",
   "execution_count": 43,
   "metadata": {
    "scrolled": true
   },
   "outputs": [
    {
     "name": "stdout",
     "output_type": "stream",
     "text": [
      "3.568265306121345e-06\n",
      "temp_zone7_10    720.0\n",
      "temp_zone7_12    720.0\n",
      "temp_zone7_14    721.0\n",
      "temp_zone7_16    720.0\n",
      "temp_zone7_6     720.0\n",
      "temp_zone7_8     720.0\n",
      "temp_zone8_25    728.0\n",
      "temp_zone8_27    728.0\n",
      "temp_zone8_29    726.0\n",
      "temp_zone8_31    725.0\n",
      "temp_zone8_33    726.0\n",
      "temp_zone8_35    728.0\n",
      "Name: 1536896269, dtype: float64\n"
     ]
    }
   ],
   "source": [
    "#MSE를 통한 최적조건\n",
    "result = []\n",
    "for i in range(272):\n",
    "    for j in range(15):\n",
    "        mean = np.mean(y_test_pred_mor[i])\n",
    "        sqrerr = np.asarray(mean - y_test_pred_mor[i][j])**2\n",
    "        cost = (1/2)*np.sum(sqrerr)\n",
    "        result = np.append(result, cost)\n",
    "\n",
    "np.where(result == np.min(result))\n",
    "print(result[31])\n",
    "print(X_test.iloc[31,:])"
   ]
  },
  {
   "cell_type": "code",
   "execution_count": 44,
   "metadata": {},
   "outputs": [
    {
     "name": "stdout",
     "output_type": "stream",
     "text": [
      "0.017728384368305018\n",
      "temp_zone7_10    725.000000\n",
      "temp_zone7_12    725.000000\n",
      "temp_zone7_14    725.000000\n",
      "temp_zone7_16    725.000000\n",
      "temp_zone7_6     725.666667\n",
      "temp_zone7_8     725.000000\n",
      "temp_zone8_25    735.000000\n",
      "temp_zone8_27    736.000000\n",
      "temp_zone8_29    731.000000\n",
      "temp_zone8_31    735.000000\n",
      "temp_zone8_33    737.000000\n",
      "temp_zone8_35    735.000000\n",
      "Name: 1536900124, dtype: float64\n"
     ]
    }
   ],
   "source": [
    "#Mean를 통한 최적조건\n",
    "result2 = []\n",
    "for i in range(272):\n",
    "    mean = np.mean(y_test_pred_mor[i])\n",
    "    \n",
    "    result2 = np.append(result2, mean)\n",
    "\n",
    "np.where(result2 == np.min(result2))\n",
    "print(result[2])\n",
    "print(X_test.iloc[2,:])"
   ]
  },
  {
   "cell_type": "code",
   "execution_count": 46,
   "metadata": {},
   "outputs": [
    {
     "name": "stdout",
     "output_type": "stream",
     "text": [
      "(array([194], dtype=int64),)\n",
      "0.5721714285714294\n",
      "temp_zone7_10    725.0\n",
      "temp_zone7_12    725.0\n",
      "temp_zone7_14    725.0\n",
      "temp_zone7_16    725.0\n",
      "temp_zone7_6     725.0\n",
      "temp_zone7_8     725.0\n",
      "temp_zone8_25    735.0\n",
      "temp_zone8_27    735.0\n",
      "temp_zone8_29    735.0\n",
      "temp_zone8_31    736.0\n",
      "temp_zone8_33    736.0\n",
      "temp_zone8_35    735.0\n",
      "Name: 1536900362, dtype: float64\n"
     ]
    }
   ],
   "source": [
    "#Max를 통한 최적조건\n",
    "result3 = []\n",
    "for i in range(272):\n",
    "    pred_max = np.max(np.abs(y_test_pred_mor[i]))\n",
    "    \n",
    "    result3 = np.append(result3, pred_max)\n",
    "\n",
    "print(np.where(result3 == np.min(result3)))\n",
    "print(result3[21])\n",
    "print(X_test.iloc[21,:])"
   ]
  },
  {
   "cell_type": "code",
   "execution_count": 47,
   "metadata": {},
   "outputs": [],
   "source": [
    "# #Random Forestclassifier https://jakevdp.github.io/PythonDataScienceHandbook/05.08-random-forests.html\n",
    "\n",
    "# #x,y값 재추출\n",
    "# x_cf = xy[['temp_zone7_10', 'temp_zone7_12', 'temp_zone7_14', 'temp_zone7_16',\n",
    "#        'temp_zone7_4', 'temp_zone7_6', 'temp_zone7_8','temp_zone8_25', 'temp_zone8_27', 'temp_zone8_29', 'temp_zone8_31',\n",
    "#        'temp_zone8_33', 'temp_zone8_35', 'temp_zone8_37']]\n",
    "# y_cf = xy[['E']]\n",
    "\n",
    "# # Train / Test set 나누기\n",
    "# from sklearn.cross_validation import train_test_split\n",
    "# X_cf_train, X_cf_test, y_cf_train, y_cf_test = train_test_split(x_cf, y_cf, test_size=0.33, random_state=100)\n",
    "\n",
    "# from sklearn.ensemble import RandomForestClassifier\n",
    "\n",
    "# rfc=RandomForestClassifier(n_estimators=600)\n",
    "\n",
    "# rfc.fit(X_cf_train,y_cf_train)\n",
    "# rfc_pred = rfc.predict(X_cf_test)\n",
    "# from  sklearn.metrics import classification_report,confusion_matrix\n",
    "# prediction = regressor.predict(X_cf_test)\n",
    "# classification_report(y_cf_test,prediction)"
   ]
  },
  {
   "cell_type": "code",
   "execution_count": 48,
   "metadata": {},
   "outputs": [
    {
     "ename": "ValueError",
     "evalue": "Unable to coerce to Series, length must be 15: given 272",
     "output_type": "error",
     "traceback": [
      "\u001b[1;31m---------------------------------------------------------------------------\u001b[0m",
      "\u001b[1;31mValueError\u001b[0m                                Traceback (most recent call last)",
      "\u001b[1;32m<ipython-input-48-782b1c3be9c4>\u001b[0m in \u001b[0;36m<module>\u001b[1;34m()\u001b[0m\n\u001b[0;32m      1\u001b[0m \u001b[1;31m# y_test와 y_test_pred(예측값) 비교\u001b[0m\u001b[1;33m\u001b[0m\u001b[1;33m\u001b[0m\u001b[0m\n\u001b[1;32m----> 2\u001b[1;33m \u001b[0merror\u001b[0m \u001b[1;33m=\u001b[0m \u001b[0my_test\u001b[0m \u001b[1;33m-\u001b[0m \u001b[0my_test_pred\u001b[0m\u001b[1;33m\u001b[0m\u001b[0m\n\u001b[0m\u001b[0;32m      3\u001b[0m \u001b[0msummary\u001b[0m \u001b[1;33m=\u001b[0m \u001b[0merror\u001b[0m\u001b[1;33m.\u001b[0m\u001b[0mdescribe\u001b[0m\u001b[1;33m(\u001b[0m\u001b[1;33m)\u001b[0m\u001b[1;33m\u001b[0m\u001b[0m\n",
      "\u001b[1;32m~\\Anaconda3\\envs\\mypython\\lib\\site-packages\\pandas\\core\\ops.py\u001b[0m in \u001b[0;36mf\u001b[1;34m(self, other, axis, level, fill_value)\u001b[0m\n\u001b[0;32m   1515\u001b[0m     \u001b[1;32mdef\u001b[0m \u001b[0mf\u001b[0m\u001b[1;33m(\u001b[0m\u001b[0mself\u001b[0m\u001b[1;33m,\u001b[0m \u001b[0mother\u001b[0m\u001b[1;33m,\u001b[0m \u001b[0maxis\u001b[0m\u001b[1;33m=\u001b[0m\u001b[0mdefault_axis\u001b[0m\u001b[1;33m,\u001b[0m \u001b[0mlevel\u001b[0m\u001b[1;33m=\u001b[0m\u001b[1;32mNone\u001b[0m\u001b[1;33m,\u001b[0m \u001b[0mfill_value\u001b[0m\u001b[1;33m=\u001b[0m\u001b[1;32mNone\u001b[0m\u001b[1;33m)\u001b[0m\u001b[1;33m:\u001b[0m\u001b[1;33m\u001b[0m\u001b[0m\n\u001b[0;32m   1516\u001b[0m \u001b[1;33m\u001b[0m\u001b[0m\n\u001b[1;32m-> 1517\u001b[1;33m         \u001b[0mother\u001b[0m \u001b[1;33m=\u001b[0m \u001b[0m_align_method_FRAME\u001b[0m\u001b[1;33m(\u001b[0m\u001b[0mself\u001b[0m\u001b[1;33m,\u001b[0m \u001b[0mother\u001b[0m\u001b[1;33m,\u001b[0m \u001b[0maxis\u001b[0m\u001b[1;33m)\u001b[0m\u001b[1;33m\u001b[0m\u001b[0m\n\u001b[0m\u001b[0;32m   1518\u001b[0m \u001b[1;33m\u001b[0m\u001b[0m\n\u001b[0;32m   1519\u001b[0m         \u001b[1;32mif\u001b[0m \u001b[0misinstance\u001b[0m\u001b[1;33m(\u001b[0m\u001b[0mother\u001b[0m\u001b[1;33m,\u001b[0m \u001b[0mABCDataFrame\u001b[0m\u001b[1;33m)\u001b[0m\u001b[1;33m:\u001b[0m  \u001b[1;31m# Another DataFrame\u001b[0m\u001b[1;33m\u001b[0m\u001b[0m\n",
      "\u001b[1;32m~\\Anaconda3\\envs\\mypython\\lib\\site-packages\\pandas\\core\\ops.py\u001b[0m in \u001b[0;36m_align_method_FRAME\u001b[1;34m(left, right, axis)\u001b[0m\n\u001b[0;32m   1431\u001b[0m \u001b[1;33m\u001b[0m\u001b[0m\n\u001b[0;32m   1432\u001b[0m         \u001b[1;32mif\u001b[0m \u001b[0mright\u001b[0m\u001b[1;33m.\u001b[0m\u001b[0mndim\u001b[0m \u001b[1;33m==\u001b[0m \u001b[1;36m1\u001b[0m\u001b[1;33m:\u001b[0m\u001b[1;33m\u001b[0m\u001b[0m\n\u001b[1;32m-> 1433\u001b[1;33m             \u001b[0mright\u001b[0m \u001b[1;33m=\u001b[0m \u001b[0mto_series\u001b[0m\u001b[1;33m(\u001b[0m\u001b[0mright\u001b[0m\u001b[1;33m)\u001b[0m\u001b[1;33m\u001b[0m\u001b[0m\n\u001b[0m\u001b[0;32m   1434\u001b[0m \u001b[1;33m\u001b[0m\u001b[0m\n\u001b[0;32m   1435\u001b[0m         \u001b[1;32melif\u001b[0m \u001b[0mright\u001b[0m\u001b[1;33m.\u001b[0m\u001b[0mndim\u001b[0m \u001b[1;33m==\u001b[0m \u001b[1;36m2\u001b[0m\u001b[1;33m:\u001b[0m\u001b[1;33m\u001b[0m\u001b[0m\n",
      "\u001b[1;32m~\\Anaconda3\\envs\\mypython\\lib\\site-packages\\pandas\\core\\ops.py\u001b[0m in \u001b[0;36mto_series\u001b[1;34m(right)\u001b[0m\n\u001b[0;32m   1424\u001b[0m             \u001b[1;32mif\u001b[0m \u001b[0mlen\u001b[0m\u001b[1;33m(\u001b[0m\u001b[0mleft\u001b[0m\u001b[1;33m.\u001b[0m\u001b[0mcolumns\u001b[0m\u001b[1;33m)\u001b[0m \u001b[1;33m!=\u001b[0m \u001b[0mlen\u001b[0m\u001b[1;33m(\u001b[0m\u001b[0mright\u001b[0m\u001b[1;33m)\u001b[0m\u001b[1;33m:\u001b[0m\u001b[1;33m\u001b[0m\u001b[0m\n\u001b[0;32m   1425\u001b[0m                 raise ValueError(msg.format(req_len=len(left.columns),\n\u001b[1;32m-> 1426\u001b[1;33m                                             given_len=len(right)))\n\u001b[0m\u001b[0;32m   1427\u001b[0m             \u001b[0mright\u001b[0m \u001b[1;33m=\u001b[0m \u001b[0mleft\u001b[0m\u001b[1;33m.\u001b[0m\u001b[0m_constructor_sliced\u001b[0m\u001b[1;33m(\u001b[0m\u001b[0mright\u001b[0m\u001b[1;33m,\u001b[0m \u001b[0mindex\u001b[0m\u001b[1;33m=\u001b[0m\u001b[0mleft\u001b[0m\u001b[1;33m.\u001b[0m\u001b[0mcolumns\u001b[0m\u001b[1;33m)\u001b[0m\u001b[1;33m\u001b[0m\u001b[0m\n\u001b[0;32m   1428\u001b[0m         \u001b[1;32mreturn\u001b[0m \u001b[0mright\u001b[0m\u001b[1;33m\u001b[0m\u001b[0m\n",
      "\u001b[1;31mValueError\u001b[0m: Unable to coerce to Series, length must be 15: given 272"
     ]
    }
   ],
   "source": [
    "# y_test와 y_test_pred(예측값) 비교\n",
    "error = y_test - y_test_pred\n",
    "summary = error.describe()"
   ]
  },
  {
   "cell_type": "code",
   "execution_count": 135,
   "metadata": {},
   "outputs": [
    {
     "data": {
      "text/html": [
       "<div>\n",
       "<style scoped>\n",
       "    .dataframe tbody tr th:only-of-type {\n",
       "        vertical-align: middle;\n",
       "    }\n",
       "\n",
       "    .dataframe tbody tr th {\n",
       "        vertical-align: top;\n",
       "    }\n",
       "\n",
       "    .dataframe thead th {\n",
       "        text-align: right;\n",
       "    }\n",
       "</style>\n",
       "<table border=\"1\" class=\"dataframe\">\n",
       "  <thead>\n",
       "    <tr style=\"text-align: right;\">\n",
       "      <th></th>\n",
       "      <th>A</th>\n",
       "      <th>B</th>\n",
       "      <th>C</th>\n",
       "      <th>D</th>\n",
       "      <th>E</th>\n",
       "      <th>F</th>\n",
       "      <th>G</th>\n",
       "      <th>H</th>\n",
       "      <th>I</th>\n",
       "      <th>J</th>\n",
       "      <th>K</th>\n",
       "      <th>L</th>\n",
       "      <th>M</th>\n",
       "      <th>N</th>\n",
       "      <th>O</th>\n",
       "    </tr>\n",
       "  </thead>\n",
       "  <tbody>\n",
       "    <tr>\n",
       "      <th>count</th>\n",
       "      <td>272.000000</td>\n",
       "      <td>272.000000</td>\n",
       "      <td>272.000000</td>\n",
       "      <td>272.000000</td>\n",
       "      <td>272.000000</td>\n",
       "      <td>272.000000</td>\n",
       "      <td>272.000000</td>\n",
       "      <td>272.000000</td>\n",
       "      <td>272.000000</td>\n",
       "      <td>272.000000</td>\n",
       "      <td>272.000000</td>\n",
       "      <td>272.000000</td>\n",
       "      <td>272.000000</td>\n",
       "      <td>272.000000</td>\n",
       "      <td>272.000000</td>\n",
       "    </tr>\n",
       "    <tr>\n",
       "      <th>mean</th>\n",
       "      <td>-0.006509</td>\n",
       "      <td>0.000207</td>\n",
       "      <td>-0.001607</td>\n",
       "      <td>-0.005771</td>\n",
       "      <td>-0.013052</td>\n",
       "      <td>-0.008457</td>\n",
       "      <td>-0.003445</td>\n",
       "      <td>-0.015501</td>\n",
       "      <td>-0.003139</td>\n",
       "      <td>-0.003798</td>\n",
       "      <td>-0.009862</td>\n",
       "      <td>0.000104</td>\n",
       "      <td>-0.011266</td>\n",
       "      <td>0.001364</td>\n",
       "      <td>0.000765</td>\n",
       "    </tr>\n",
       "    <tr>\n",
       "      <th>std</th>\n",
       "      <td>0.073527</td>\n",
       "      <td>0.064622</td>\n",
       "      <td>0.106310</td>\n",
       "      <td>0.064828</td>\n",
       "      <td>0.127394</td>\n",
       "      <td>0.115169</td>\n",
       "      <td>0.110554</td>\n",
       "      <td>0.128363</td>\n",
       "      <td>0.066326</td>\n",
       "      <td>0.097041</td>\n",
       "      <td>0.101099</td>\n",
       "      <td>0.084405</td>\n",
       "      <td>0.061911</td>\n",
       "      <td>0.070617</td>\n",
       "      <td>0.060963</td>\n",
       "    </tr>\n",
       "    <tr>\n",
       "      <th>min</th>\n",
       "      <td>-0.332125</td>\n",
       "      <td>-0.193667</td>\n",
       "      <td>-0.298650</td>\n",
       "      <td>-0.238517</td>\n",
       "      <td>-0.385822</td>\n",
       "      <td>-0.326861</td>\n",
       "      <td>-0.343583</td>\n",
       "      <td>-0.479824</td>\n",
       "      <td>-0.188768</td>\n",
       "      <td>-0.282200</td>\n",
       "      <td>-0.315201</td>\n",
       "      <td>-0.257893</td>\n",
       "      <td>-0.233478</td>\n",
       "      <td>-0.276100</td>\n",
       "      <td>-0.171325</td>\n",
       "    </tr>\n",
       "    <tr>\n",
       "      <th>25%</th>\n",
       "      <td>-0.049730</td>\n",
       "      <td>-0.044851</td>\n",
       "      <td>-0.065919</td>\n",
       "      <td>-0.046397</td>\n",
       "      <td>-0.097353</td>\n",
       "      <td>-0.087459</td>\n",
       "      <td>-0.074926</td>\n",
       "      <td>-0.094888</td>\n",
       "      <td>-0.042094</td>\n",
       "      <td>-0.065598</td>\n",
       "      <td>-0.067485</td>\n",
       "      <td>-0.053554</td>\n",
       "      <td>-0.045678</td>\n",
       "      <td>-0.044932</td>\n",
       "      <td>-0.040895</td>\n",
       "    </tr>\n",
       "    <tr>\n",
       "      <th>50%</th>\n",
       "      <td>-0.005477</td>\n",
       "      <td>0.011337</td>\n",
       "      <td>-0.004377</td>\n",
       "      <td>-0.005281</td>\n",
       "      <td>-0.022706</td>\n",
       "      <td>-0.019224</td>\n",
       "      <td>0.003465</td>\n",
       "      <td>-0.024247</td>\n",
       "      <td>-0.004267</td>\n",
       "      <td>-0.003167</td>\n",
       "      <td>-0.008215</td>\n",
       "      <td>0.005512</td>\n",
       "      <td>-0.007716</td>\n",
       "      <td>0.002422</td>\n",
       "      <td>0.006590</td>\n",
       "    </tr>\n",
       "    <tr>\n",
       "      <th>75%</th>\n",
       "      <td>0.042230</td>\n",
       "      <td>0.050227</td>\n",
       "      <td>0.063307</td>\n",
       "      <td>0.032611</td>\n",
       "      <td>0.052556</td>\n",
       "      <td>0.056190</td>\n",
       "      <td>0.066957</td>\n",
       "      <td>0.052894</td>\n",
       "      <td>0.038096</td>\n",
       "      <td>0.055378</td>\n",
       "      <td>0.048687</td>\n",
       "      <td>0.050888</td>\n",
       "      <td>0.023175</td>\n",
       "      <td>0.037391</td>\n",
       "      <td>0.044271</td>\n",
       "    </tr>\n",
       "    <tr>\n",
       "      <th>max</th>\n",
       "      <td>0.226450</td>\n",
       "      <td>0.168617</td>\n",
       "      <td>0.332717</td>\n",
       "      <td>0.189933</td>\n",
       "      <td>0.493183</td>\n",
       "      <td>0.339583</td>\n",
       "      <td>0.343271</td>\n",
       "      <td>0.422167</td>\n",
       "      <td>0.209301</td>\n",
       "      <td>0.382217</td>\n",
       "      <td>0.326250</td>\n",
       "      <td>0.268783</td>\n",
       "      <td>0.180295</td>\n",
       "      <td>0.238217</td>\n",
       "      <td>0.138474</td>\n",
       "    </tr>\n",
       "  </tbody>\n",
       "</table>\n",
       "</div>"
      ],
      "text/plain": [
       "                A           B           C           D           E           F  \\\n",
       "count  272.000000  272.000000  272.000000  272.000000  272.000000  272.000000   \n",
       "mean    -0.006509    0.000207   -0.001607   -0.005771   -0.013052   -0.008457   \n",
       "std      0.073527    0.064622    0.106310    0.064828    0.127394    0.115169   \n",
       "min     -0.332125   -0.193667   -0.298650   -0.238517   -0.385822   -0.326861   \n",
       "25%     -0.049730   -0.044851   -0.065919   -0.046397   -0.097353   -0.087459   \n",
       "50%     -0.005477    0.011337   -0.004377   -0.005281   -0.022706   -0.019224   \n",
       "75%      0.042230    0.050227    0.063307    0.032611    0.052556    0.056190   \n",
       "max      0.226450    0.168617    0.332717    0.189933    0.493183    0.339583   \n",
       "\n",
       "                G           H           I           J           K           L  \\\n",
       "count  272.000000  272.000000  272.000000  272.000000  272.000000  272.000000   \n",
       "mean    -0.003445   -0.015501   -0.003139   -0.003798   -0.009862    0.000104   \n",
       "std      0.110554    0.128363    0.066326    0.097041    0.101099    0.084405   \n",
       "min     -0.343583   -0.479824   -0.188768   -0.282200   -0.315201   -0.257893   \n",
       "25%     -0.074926   -0.094888   -0.042094   -0.065598   -0.067485   -0.053554   \n",
       "50%      0.003465   -0.024247   -0.004267   -0.003167   -0.008215    0.005512   \n",
       "75%      0.066957    0.052894    0.038096    0.055378    0.048687    0.050888   \n",
       "max      0.343271    0.422167    0.209301    0.382217    0.326250    0.268783   \n",
       "\n",
       "                M           N           O  \n",
       "count  272.000000  272.000000  272.000000  \n",
       "mean    -0.011266    0.001364    0.000765  \n",
       "std      0.061911    0.070617    0.060963  \n",
       "min     -0.233478   -0.276100   -0.171325  \n",
       "25%     -0.045678   -0.044932   -0.040895  \n",
       "50%     -0.007716    0.002422    0.006590  \n",
       "75%      0.023175    0.037391    0.044271  \n",
       "max      0.180295    0.238217    0.138474  "
      ]
     },
     "execution_count": 135,
     "metadata": {},
     "output_type": "execute_result"
    }
   ],
   "source": [
    "summary"
   ]
  },
  {
   "cell_type": "code",
   "execution_count": 136,
   "metadata": {},
   "outputs": [
    {
     "data": {
      "text/html": [
       "<script>requirejs.config({paths: { 'plotly': ['https://cdn.plot.ly/plotly-latest.min']},});if(!window.Plotly) {{require(['plotly'],function(plotly) {window.Plotly=plotly;});}}</script>"
      ],
      "text/vnd.plotly.v1+html": [
       "<script>requirejs.config({paths: { 'plotly': ['https://cdn.plot.ly/plotly-latest.min']},});if(!window.Plotly) {{require(['plotly'],function(plotly) {window.Plotly=plotly;});}}</script>"
      ]
     },
     "metadata": {},
     "output_type": "display_data"
    },
    {
     "data": {
      "application/vnd.plotly.v1+json": {
       "data": [
        {
         "marker": {
          "color": [
           0.07352655132268154,
           0.06462176952123193,
           0.10630963388130499,
           0.06482767980095357,
           0.1273936521056148,
           0.11516875103738244,
           0.11055357160893144,
           0.12836320613853291,
           0.06632598363944078,
           0.09704115013324768,
           0.10109909014210074,
           0.08440473570285156,
           0.061911075304888305,
           0.0706170804730941,
           0.0609625440557326
          ],
          "showscale": true,
          "size": 10
         },
         "mode": "markers",
         "type": "scatter",
         "uid": "7cd5aeca-ba2e-11e8-8c71-00e04c5f425b",
         "x": [
          "A",
          "B",
          "C",
          "D",
          "E",
          "F",
          "G",
          "H",
          "I",
          "J",
          "K",
          "L",
          "M",
          "N",
          "O"
         ],
         "y": [
          -0.006509437363935803,
          0.00020739009135603028,
          -0.0016074900552218658,
          -0.00577103489681657,
          -0.013051682984091205,
          -0.008456547185454518,
          -0.0034445030483537865,
          -0.015501295068970466,
          -0.0031391095427584326,
          -0.003797815617289046,
          -0.009861597735564713,
          0.00010398939194069314,
          -0.011265810977896166,
          0.0013643545329941327,
          0.0007649019152147105
         ]
        }
       ],
       "layout": {}
      },
      "text/html": [
       "<div id=\"5417dd73-831a-40f3-bbde-13a5ae7fe4bb\" style=\"height: 525px; width: 100%;\" class=\"plotly-graph-div\"></div><script type=\"text/javascript\">require([\"plotly\"], function(Plotly) { window.PLOTLYENV=window.PLOTLYENV || {};window.PLOTLYENV.BASE_URL=\"https://plot.ly\";\n",
       "        Plotly.plot(\n",
       "            '5417dd73-831a-40f3-bbde-13a5ae7fe4bb',\n",
       "            [{\"marker\": {\"color\": [0.07352655132268154, 0.06462176952123193, 0.10630963388130499, 0.06482767980095357, 0.1273936521056148, 0.11516875103738244, 0.11055357160893144, 0.12836320613853291, 0.06632598363944078, 0.09704115013324768, 0.10109909014210074, 0.08440473570285156, 0.061911075304888305, 0.0706170804730941, 0.0609625440557326], \"showscale\": true, \"size\": 10}, \"mode\": \"markers\", \"x\": [\"A\", \"B\", \"C\", \"D\", \"E\", \"F\", \"G\", \"H\", \"I\", \"J\", \"K\", \"L\", \"M\", \"N\", \"O\"], \"y\": [-0.006509437363935803, 0.00020739009135603028, -0.0016074900552218658, -0.00577103489681657, -0.013051682984091205, -0.008456547185454518, -0.0034445030483537865, -0.015501295068970466, -0.0031391095427584326, -0.003797815617289046, -0.009861597735564713, 0.00010398939194069314, -0.011265810977896166, 0.0013643545329941327, 0.0007649019152147105], \"type\": \"scatter\", \"uid\": \"7cd5aeca-ba2e-11e8-8c71-00e04c5f425b\"}],\n",
       "            {},\n",
       "            {\"showLink\": true, \"linkText\": \"Export to plot.ly\"}\n",
       "        ).then(function () {return Plotly.addFrames('5417dd73-831a-40f3-bbde-13a5ae7fe4bb',{});}).then(function(){Plotly.animate('5417dd73-831a-40f3-bbde-13a5ae7fe4bb');})\n",
       "        });</script>"
      ],
      "text/vnd.plotly.v1+html": [
       "<div id=\"5417dd73-831a-40f3-bbde-13a5ae7fe4bb\" style=\"height: 525px; width: 100%;\" class=\"plotly-graph-div\"></div><script type=\"text/javascript\">require([\"plotly\"], function(Plotly) { window.PLOTLYENV=window.PLOTLYENV || {};window.PLOTLYENV.BASE_URL=\"https://plot.ly\";\n",
       "        Plotly.plot(\n",
       "            '5417dd73-831a-40f3-bbde-13a5ae7fe4bb',\n",
       "            [{\"marker\": {\"color\": [0.07352655132268154, 0.06462176952123193, 0.10630963388130499, 0.06482767980095357, 0.1273936521056148, 0.11516875103738244, 0.11055357160893144, 0.12836320613853291, 0.06632598363944078, 0.09704115013324768, 0.10109909014210074, 0.08440473570285156, 0.061911075304888305, 0.0706170804730941, 0.0609625440557326], \"showscale\": true, \"size\": 10}, \"mode\": \"markers\", \"x\": [\"A\", \"B\", \"C\", \"D\", \"E\", \"F\", \"G\", \"H\", \"I\", \"J\", \"K\", \"L\", \"M\", \"N\", \"O\"], \"y\": [-0.006509437363935803, 0.00020739009135603028, -0.0016074900552218658, -0.00577103489681657, -0.013051682984091205, -0.008456547185454518, -0.0034445030483537865, -0.015501295068970466, -0.0031391095427584326, -0.003797815617289046, -0.009861597735564713, 0.00010398939194069314, -0.011265810977896166, 0.0013643545329941327, 0.0007649019152147105], \"type\": \"scatter\", \"uid\": \"7cd5aeca-ba2e-11e8-8c71-00e04c5f425b\"}],\n",
       "            {},\n",
       "            {\"showLink\": true, \"linkText\": \"Export to plot.ly\"}\n",
       "        ).then(function () {return Plotly.addFrames('5417dd73-831a-40f3-bbde-13a5ae7fe4bb',{});}).then(function(){Plotly.animate('5417dd73-831a-40f3-bbde-13a5ae7fe4bb');})\n",
       "        });</script>"
      ]
     },
     "metadata": {},
     "output_type": "display_data"
    }
   ],
   "source": [
    "#error의 평균 및 std값 visualization\n",
    "#Plotly PLot\n",
    "import plotly.offline as py\n",
    "import plotly.graph_objs as go\n",
    "py.init_notebook_mode(connected=True)\n",
    "\n",
    "x = summary.columns\n",
    "y = summary.iloc[1,:]\n",
    "\n",
    "c = summary.iloc[2,:]\n",
    "# s = xy['E']  + 2 \n",
    "data=[\n",
    "    go.Scatter(x=x,y=y,\n",
    "                mode = 'markers',\n",
    "                marker = dict(\n",
    "                size = 10,\n",
    "                color= c,\n",
    "                showscale=True\n",
    "                ),\n",
    "                )\n",
    "]\n",
    "layout=go.Layout()\n",
    "figure=go.Figure(data=data,layout=layout)\n",
    "py.iplot(figure)"
   ]
  },
  {
   "cell_type": "code",
   "execution_count": 137,
   "metadata": {},
   "outputs": [
    {
     "data": {
      "text/plain": [
       "LinearRegression(copy_X=True, fit_intercept=True, n_jobs=1, normalize=False)"
      ]
     },
     "execution_count": 137,
     "metadata": {},
     "output_type": "execute_result"
    }
   ],
   "source": [
    "# Fitting Linear Regression to the dataset\n",
    "from sklearn.linear_model import LinearRegression\n",
    "lin_reg = LinearRegression()\n",
    "lin_reg.fit(X_train,y_train)"
   ]
  },
  {
   "cell_type": "code",
   "execution_count": 138,
   "metadata": {},
   "outputs": [
    {
     "data": {
      "text/plain": [
       "LinearRegression(copy_X=True, fit_intercept=True, n_jobs=1, normalize=False)"
      ]
     },
     "execution_count": 138,
     "metadata": {},
     "output_type": "execute_result"
    }
   ],
   "source": [
    "\n",
    "# Fitting Polynominal Regression to the dataset\n",
    "from sklearn.preprocessing import PolynomialFeatures\n",
    "poly_reg = PolynomialFeatures(degree = 4)\n",
    "X_poly = poly_reg.fit_transform(X_test)\n",
    "# Must create new linear regresstion model\n",
    "lin_reg2 = LinearRegression()\n",
    "lin_reg2.fit(X_poly, y_test)"
   ]
  },
  {
   "cell_type": "code",
   "execution_count": 142,
   "metadata": {},
   "outputs": [
    {
     "name": "stdout",
     "output_type": "stream",
     "text": [
      "R2 - Train : 0.284, Test: 0.159\n"
     ]
    }
   ],
   "source": [
    "#결정계수 r2 score 계싼\n",
    "from sklearn.metrics import r2_score\n",
    "y__trainlinear_pred = lin_reg.predict(X_train)\n",
    "y_linear_pred = lin_reg.predict(X_test)\n",
    "\n",
    "r2_train = r2_score(y_train, y__trainlinear_pred)\n",
    "r2_test = r2_score(y_test, y_linear_pred)\n",
    "\n",
    "print('R2 - Train : %.3f, Test: %.3f' %(r2_train, r2_test))"
   ]
  },
  {
   "cell_type": "code",
   "execution_count": null,
   "metadata": {},
   "outputs": [],
   "source": []
  }
 ],
 "metadata": {
  "kernelspec": {
   "display_name": "mypython",
   "language": "python",
   "name": "myenv"
  },
  "language_info": {
   "codemirror_mode": {
    "name": "ipython",
    "version": 3
   },
   "file_extension": ".py",
   "mimetype": "text/x-python",
   "name": "python",
   "nbconvert_exporter": "python",
   "pygments_lexer": "ipython3",
   "version": "3.6.5"
  }
 },
 "nbformat": 4,
 "nbformat_minor": 2
}
