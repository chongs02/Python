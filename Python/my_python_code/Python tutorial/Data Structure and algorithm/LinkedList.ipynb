{
 "cells": [
  {
   "cell_type": "code",
   "execution_count": 1,
   "metadata": {},
   "outputs": [],
   "source": [
    "\n",
    "\n",
    "class Node:\n",
    "    def __init__(self, data, next=None):\n",
    "        self.data = data\n",
    "        self.next = None\n",
    "        "
   ]
  },
  {
   "cell_type": "code",
   "execution_count": 10,
   "metadata": {},
   "outputs": [],
   "source": [
    "#단방향 연결 리스트 구현\n",
    "\n",
    "class LinkedList:\n",
    "    def __init__(self):\n",
    "        HeadNode = Node('HEAD')\n",
    "        self.head = HeadNode\n",
    "        self.tail = HeadNode\n",
    "        self.NumOfData = 0\n",
    "        \n",
    "    def insert(self,data):\n",
    "        insertNode = Node(data)\n",
    "        self.tail.next = insertNode\n",
    "        self.tail = insertNode\n",
    "        self.NumOfData += 1\n",
    "        \n",
    "    def delete(self):\n",
    "        if self.NumOfData == 0:\n",
    "            print('List is empty!')\n",
    "            return false\n",
    "        elif self.NumOfData == 1:\n",
    "            delete_node = self.head.next\n",
    "            self.head.next = None\n",
    "            self.tail = self.head\n",
    "            self.NumOfData -= 1\n",
    "            print('리스트에서', delete_node.data,'데이터를 삭제하였습니다')\n",
    "            return delete_node.data\n",
    "        else:\n",
    "            delete_node = self.head.next\n",
    "            self.head.next = self.head.next.next\n",
    "            self.NumOfData -= 1\n",
    "            print('리스트에서', delete_node.data,'데이터를 삭제하였습니다.')\n",
    "            return delete_node.data\n",
    "        \n",
    "    def search(self,data):\n",
    "        check = self.head\n",
    "        for i in range(self.NumOfData):\n",
    "            if check.next.data == data:\n",
    "                print(data, '데이터는',i+1,'번째에 있습니다.')\n",
    "                return None\n",
    "            check = check.next\n",
    "        print(data,'데이터는 리스트에 없습니다.')\n",
    "        return None\n",
    "    \n",
    "    def listNum(self):\n",
    "        print('현재 리스트에는', self.NumOfData, '개의 요소가 있습니다.')\n",
    "        return self.NumOfData\n",
    "    \n",
    "    def printList(self):\n",
    "        current = self.head\n",
    "        if self.NumOfData == 0:\n",
    "            print('List is empty!')\n",
    "            return None\n",
    "        print('HEAD::', end='')\n",
    "        for i in range(self.NumOfData-1):\n",
    "            print(current.next.data,'->',end='')\n",
    "            current = current.next\n",
    "        print(current.next.data)\n",
    "      "
   ]
  },
  {
   "cell_type": "code",
   "execution_count": 11,
   "metadata": {},
   "outputs": [],
   "source": [
    "list = LinkedList()\n"
   ]
  },
  {
   "cell_type": "code",
   "execution_count": 12,
   "metadata": {},
   "outputs": [
    {
     "ename": "AttributeError",
     "evalue": "'function' object has no attribute 'HeadNode'",
     "output_type": "error",
     "traceback": [
      "\u001b[1;31m---------------------------------------------------------------------------\u001b[0m",
      "\u001b[1;31mAttributeError\u001b[0m                            Traceback (most recent call last)",
      "\u001b[1;32m<ipython-input-12-9d45bfc446cb>\u001b[0m in \u001b[0;36m<module>\u001b[1;34m()\u001b[0m\n\u001b[1;32m----> 1\u001b[1;33m \u001b[0mlist\u001b[0m\u001b[1;33m.\u001b[0m\u001b[0m__init__\u001b[0m\u001b[1;33m.\u001b[0m\u001b[0mHeadNode\u001b[0m\u001b[1;33m\u001b[0m\u001b[0m\n\u001b[0m",
      "\u001b[1;31mAttributeError\u001b[0m: 'function' object has no attribute 'HeadNode'"
     ]
    }
   ],
   "source": [
    "list.__init__.HeadNode"
   ]
  },
  {
   "cell_type": "code",
   "execution_count": 13,
   "metadata": {},
   "outputs": [
    {
     "name": "stdout",
     "output_type": "stream",
     "text": [
      "List is empty!\n"
     ]
    }
   ],
   "source": [
    "list.printList()"
   ]
  },
  {
   "cell_type": "code",
   "execution_count": 14,
   "metadata": {},
   "outputs": [],
   "source": [
    "list.insert(1)"
   ]
  },
  {
   "cell_type": "code",
   "execution_count": 15,
   "metadata": {},
   "outputs": [],
   "source": [
    "list.insert(2)"
   ]
  },
  {
   "cell_type": "code",
   "execution_count": 16,
   "metadata": {},
   "outputs": [
    {
     "name": "stdout",
     "output_type": "stream",
     "text": [
      "HEAD::1 ->2\n"
     ]
    }
   ],
   "source": [
    "list.printList()"
   ]
  },
  {
   "cell_type": "code",
   "execution_count": 17,
   "metadata": {},
   "outputs": [
    {
     "name": "stdout",
     "output_type": "stream",
     "text": [
      "리스트에서 1 데이터를 삭제하였습니다.\n"
     ]
    },
    {
     "data": {
      "text/plain": [
       "1"
      ]
     },
     "execution_count": 17,
     "metadata": {},
     "output_type": "execute_result"
    }
   ],
   "source": [
    "list.delete()"
   ]
  },
  {
   "cell_type": "code",
   "execution_count": 18,
   "metadata": {},
   "outputs": [
    {
     "name": "stdout",
     "output_type": "stream",
     "text": [
      "HEAD::2\n"
     ]
    }
   ],
   "source": [
    "list.printList()"
   ]
  },
  {
   "cell_type": "code",
   "execution_count": null,
   "metadata": {},
   "outputs": [],
   "source": []
  }
 ],
 "metadata": {
  "kernelspec": {
   "display_name": "mypython",
   "language": "python",
   "name": "myenv"
  },
  "language_info": {
   "codemirror_mode": {
    "name": "ipython",
    "version": 3
   },
   "file_extension": ".py",
   "mimetype": "text/x-python",
   "name": "python",
   "nbconvert_exporter": "python",
   "pygments_lexer": "ipython3",
   "version": "3.6.5"
  }
 },
 "nbformat": 4,
 "nbformat_minor": 2
}
