{
 "cells": [
  {
   "cell_type": "markdown",
   "metadata": {},
   "source": [
    "# codility - BinaryGap (시간복잡도 평가 추가)\n",
    "\n",
    "#### A binary gap within a positive integer N is any maximal sequence of consecutive zeros that is surrounded by ones at both ends in the binary representation of N.\n",
    "\n",
    "#### For example, number 9 has binary representation 1001 and contains a binary gap of length 2. The number 529 has binary representation 1000010001 and contains two binary gaps: one of length 4 and one of length 3. The number 20 has binary representation 10100 and contains one binary gap of length 1. The number 15 has binary representation 1111 and has no binary gaps.\n",
    "\n",
    "#### Write a function:\n",
    "\n",
    "#### def solution(N)\n",
    "\n",
    "#### **that, given a positive integer N, returns the length of its longest binary gap. The function should return 0 if N doesn’t contain a binary gap.\n",
    "\n",
    "#### For example, given N = 1041 the function should return 5, because N has binary representation 10000010001 and so its longest binary gap is of length 5.**\n",
    "\n",
    "#### Assume that:\n",
    "\n",
    "#### N is an integer within the range [1..2,147,483,647].\n",
    "\n",
    "#### Complexity:\n",
    "\n",
    "#### **expected worst-case time complexity is O(log(N));\n",
    "\n",
    "#### expected worst-case space complexity is O(1).**"
   ]
  },
  {
   "cell_type": "code",
   "execution_count": 78,
   "metadata": {},
   "outputs": [],
   "source": [
    "def solution(n):\n",
    "    return len(max(bin(n).split('1')[1:]    ))"
   ]
  },
  {
   "cell_type": "code",
   "execution_count": 25,
   "metadata": {},
   "outputs": [
    {
     "data": {
      "text/plain": [
       "0"
      ]
     },
     "execution_count": 25,
     "metadata": {},
     "output_type": "execute_result"
    }
   ],
   "source": [
    "solution(15)"
   ]
  },
  {
   "cell_type": "markdown",
   "metadata": {},
   "source": [
    "# codility - OddOccurrencesInArray\n",
    "\n",
    "#### A non-empty zero-indexed array A consisting of N integers is given. The array contains an odd number of elements, and each element of the array can be paired with another element that has the same value, except for one element that is left unpaired.\n",
    "\n",
    "#### For example, in array A such that:\n",
    "\n",
    "#### A[0] = 9 A[1] = 3 A[2] = 9 A[3] = 3 A[4] = 9 A[5] = 7 A[6] = 9 the elements at indexes 0 and 2 have value 9, the elements at indexes 1 and 3 have value 3, the elements at indexes 4 and 6 have value 9, the element at index 5 has value 7 and is unpaired. Write a function:\n",
    "\n",
    "#### def solution(A)\n",
    "\n",
    "#### that, given an array A consisting of N integers fulfilling the above conditions, returns the value of the unpaired element.\n",
    "\n",
    "#### For example, given array A such that:\n",
    "\n",
    "#### A[0] = 9 A[1] = 3 A[2] = 9 A[3] = 3 A[4] = 9 A[5] = 7 A[6] = 9 the function should return 7, as explained in the example above.\n",
    "\n",
    "#### Assume that:\n",
    "\n",
    "#### N is an odd integer within the range [1..1,000,000]; each element of array A is an integer within the range [1..1,000,000,000]; all but one of the values in A occur an even number of times. Complexity:\n",
    "\n",
    "#### expected worst-case time complexity is O(N); expected worst-case space complexity is O(1),\n",
    "\n",
    "#### beyond input storage (not counting the storage required for input arguments). Elements of input arrays can be modified."
   ]
  },
  {
   "cell_type": "code",
   "execution_count": 79,
   "metadata": {},
   "outputs": [],
   "source": [
    "import time"
   ]
  },
  {
   "cell_type": "code",
   "execution_count": 89,
   "metadata": {},
   "outputs": [],
   "source": [
    "def solution(a):\n",
    "    start = time.time()\n",
    "    for i in a:\n",
    "        if a.count(i)%2 ==1:\n",
    "            print('using time {}'.format(time.time()-start))\n",
    "            return i\n",
    "    \n",
    "        "
   ]
  },
  {
   "cell_type": "code",
   "execution_count": 90,
   "metadata": {},
   "outputs": [
    {
     "name": "stdout",
     "output_type": "stream",
     "text": [
      "using time 0.0\n"
     ]
    },
    {
     "data": {
      "text/plain": [
       "7"
      ]
     },
     "execution_count": 90,
     "metadata": {},
     "output_type": "execute_result"
    }
   ],
   "source": [
    "solution(a)"
   ]
  },
  {
   "cell_type": "code",
   "execution_count": 88,
   "metadata": {},
   "outputs": [],
   "source": [
    "# 짧게\n",
    "def solution(a):\n",
    "    return [i for i in a if a.count(i)%2 ==1]\n",
    "    "
   ]
  },
  {
   "cell_type": "markdown",
   "metadata": {},
   "source": [
    "# codility 4-4. MaxCounters\n",
    "\n",
    "#### You are given N counters, initially set to 0, and you have two possible operations on them:\n",
    "\n",
    "#### increase(X) − counter X is increased by 1,\n",
    "#### max counter − all counters are set to the maximum value of any counter.\n",
    "#### A non-empty zero-indexed array A of M integers is given. This array represents consecutive operations:\n",
    "\n",
    "#### if A[K] = X, such that 1 ≤ X ≤ N, then operation K is increase(X),\n",
    "#### if A[K] = N + 1 then operation K is max counter.\n",
    "#### For example, given integer N = 5 and array A such that:\n",
    "\n",
    "####    A[0] = 3\n",
    "####    A[1] = 4\n",
    "####    A[2] = 4\n",
    "####    A[3] = 6\n",
    "####    A[4] = 1\n",
    "####    A[5] = 4\n",
    "####    A[6] = 4\n",
    "#### the values of the counters after each consecutive operation will be:\n",
    "\n",
    "####    (0, 0, 1, 0, 0)\n",
    "####    (0, 0, 1, 1, 0)\n",
    "####    (0, 0, 1, 2, 0)\n",
    "####    (2, 2, 2, 2, 2)\n",
    "####    (3, 2, 2, 2, 2)\n",
    "####    (3, 2, 2, 3, 2)\n",
    "####    (3, 2, 2, 4, 2)\n",
    "#### The goal is to calculate the value of every counter after all operations.\n",
    "\n",
    "#### Write a function:\n",
    "\n",
    "#### def solution(N, A)\n",
    "#### that, given an integer N and a non-empty zero-indexed array A consisting of M integers, returns a sequence of integers representing the values of the counters.\n",
    "\n",
    "#### The sequence should be returned as:\n",
    "\n",
    "#### a structure Results (in C), or\n",
    "#### a vector of integers (in C++), or\n",
    "#### a record Results (in Pascal), or\n",
    "#### an array of integers (in any other programming language).\n",
    "#### For example, given:\n",
    "\n",
    "####    A[0] = 3\n",
    "####    A[1] = 4\n",
    "####    A[2] = 4\n",
    "####    A[3] = 6\n",
    "####    A[4] = 1\n",
    "####    A[5] = 4\n",
    "####    A[6] = 4\n",
    "#### the function should return [3, 2, 2, 4, 2], as explained above.\n",
    "\n",
    "#### Assume that:\n",
    "\n",
    "#### N and M are integers within the range [1..100,000];\n",
    "#### each element of array A is an integer within the range [1..N + 1].\n",
    "#### Complexity:\n",
    "\n",
    "#### expected worst-case time complexity is O(N+M);\n",
    "#### expected worst-case space complexity is O(N),\n",
    "#### beyond input storage (not counting the storage required for input arguments).\n",
    "#### Elements of input arrays can be modified."
   ]
  },
  {
   "cell_type": "code",
   "execution_count": null,
   "metadata": {},
   "outputs": [],
   "source": []
  }
 ],
 "metadata": {
  "kernelspec": {
   "display_name": "Python 3",
   "language": "python",
   "name": "python3"
  },
  "language_info": {
   "codemirror_mode": {
    "name": "ipython",
    "version": 3
   },
   "file_extension": ".py",
   "mimetype": "text/x-python",
   "name": "python",
   "nbconvert_exporter": "python",
   "pygments_lexer": "ipython3",
   "version": "3.7.3"
  }
 },
 "nbformat": 4,
 "nbformat_minor": 2
}
