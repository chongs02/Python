{
 "cells": [
  {
   "cell_type": "markdown",
   "metadata": {},
   "source": [
    "## TEST 3"
   ]
  },
  {
   "cell_type": "code",
   "execution_count": 1,
   "metadata": {},
   "outputs": [
    {
     "name": "stdout",
     "output_type": "stream",
     "text": [
      "5 10\n",
      "21\n"
     ]
    }
   ],
   "source": [
    "# 3번\n",
    "a, b = map(int,input().split())\n",
    "result = 0\n",
    "for i in range(a,b+1):\n",
    "    if i % 2 != 0:\n",
    "        result += i\n",
    "print(result)"
   ]
  },
  {
   "cell_type": "code",
   "execution_count": 2,
   "metadata": {},
   "outputs": [
    {
     "name": "stdout",
     "output_type": "stream",
     "text": [
      "원금과 이율을 입력하세요.: ex) 1000원 4%   -->1000원 4%\n",
      "18년차 예상금액 : 2025.816515378531\n"
     ]
    }
   ],
   "source": [
    "#4번\n",
    "money, rate = input('원금과 이율을 입력하세요.: ex) 1000원 4%   -->').split()\n",
    "\n",
    "money = int(money[:-1])\n",
    "rate = int(rate[:-1])/100\n",
    "\n",
    "target = 2*money\n",
    "year = 0\n",
    "\n",
    "while money < target :\n",
    "    year += 1\n",
    "    money = money +money*rate\n",
    "\n",
    "print('{}년차 예상금액 : {}'.format(year, money))\n"
   ]
  },
  {
   "cell_type": "code",
   "execution_count": 3,
   "metadata": {},
   "outputs": [
    {
     "name": "stdout",
     "output_type": "stream",
     "text": [
      "뷔\n",
      "['뷔', '정국']\n",
      "['슈가', '제이홉', '지민']\n",
      "['RM', '슈가', '지민', '정국']\n"
     ]
    }
   ],
   "source": [
    "#5번\n",
    "\n",
    "bts = ['RM','진','슈가','제이홉','지민','뷔','정국']\n",
    "\n",
    "print(bts[-2])\n",
    "print(bts[-2:])\n",
    "print(bts[2:5])\n",
    "print(bts[0::2])"
   ]
  },
  {
   "cell_type": "code",
   "execution_count": 4,
   "metadata": {},
   "outputs": [
    {
     "name": "stdout",
     "output_type": "stream",
     "text": [
      "수박:  15,000\n",
      "호박:   1,000\n",
      "가지:     800\n",
      "오이:     600\n",
      "깻잎:     500\n"
     ]
    }
   ],
   "source": [
    "#6번\n",
    "\n",
    "vegetables = {'가지':800, '오이':600, '수박':15000, '호박':1000, '깻잎':500}\n",
    "\n",
    "a = sorted(vegetables.items(), key = lambda x: x[1], reverse = True)\n",
    "for i in a:\n",
    "    print('{0}:{1:>8,}'.format(i[0],i[1]), sep=\"\")"
   ]
  },
  {
   "cell_type": "code",
   "execution_count": 5,
   "metadata": {},
   "outputs": [
    {
     "name": "stdout",
     "output_type": "stream",
     "text": [
      "x 는 995, y는 583\n"
     ]
    }
   ],
   "source": [
    "#7번\n",
    "result = []\n",
    "\n",
    "for i in range(100, 1001):\n",
    "    a = 0\n",
    "    for k in range(100, 1001):\n",
    "        a = str(i*k)\n",
    "        for l in range(len(a)//2):\n",
    "            \n",
    "            if a[l] == a[-1-l]:\n",
    "                if a[l+1] == a[-1-l-1] and a[l+2] == a[-1-l-2]:\n",
    "                \n",
    "                    result.append(a)\n",
    "                    result.append(i)\n",
    "                    result.append(k)\n",
    "            if a[l] != a[-1-l]:\n",
    "                a = '123456'\n",
    "\n",
    "                \n",
    "print('x 는 {}, y는 {}'.format(result[-2],result[-1]))         \n",
    "                    \n",
    "        \n",
    "    \n",
    "    "
   ]
  },
  {
   "cell_type": "code",
   "execution_count": 351,
   "metadata": {},
   "outputs": [
    {
     "data": {
      "text/plain": [
       "0"
      ]
     },
     "execution_count": 351,
     "metadata": {},
     "output_type": "execute_result"
    }
   ],
   "source": [
    "a.index(4)"
   ]
  },
  {
   "cell_type": "code",
   "execution_count": 376,
   "metadata": {},
   "outputs": [
    {
     "name": "stdout",
     "output_type": "stream",
     "text": [
      "변경전\n",
      "[4, 1, 2, 2, 3]\n",
      "[2, 3, 3, 2, 4]\n",
      "[4, 2, 3, 4, 4]\n",
      "[1, 2, 4, 1, 3]\n",
      "[4, 2, 1, 2, 4]\n",
      "\n",
      "변경후\n",
      "[4, 1, 2, 2, 3]\n",
      "[2, 3, 3, 2, 4]\n",
      "[4, 2, 3, 4, 4]\n",
      "[1, 2, 4, 1, 3]\n",
      "[4, 2, 1, 2, 4]\n"
     ]
    }
   ],
   "source": [
    "s = [[random.randint(1,4) for i  in range(5)] for k in range(5)]\n",
    "print('변경전')\n",
    "for i in s:\n",
    "    print(i)\n",
    "\n",
    "h = []\n",
    "for i,v in enumerate(s):\n",
    "    \n",
    "    inner = []\n",
    "    for j in range(len(v)-1):\n",
    "        if v[j] != v[j+1]:\n",
    "            continue\n",
    "        inner.append((i,j))\n",
    "    h.append(inner)\n",
    "        \n",
    "row = list(filter(lambda x: len(x) > 2 , h))\n",
    "for i in row:\n",
    "    i.append((i[-1][0], i[-1][1]+1))\n",
    "\n",
    "h = []\n",
    "col = []\n",
    "for i in range(5):\n",
    "    inner = []\n",
    "    for j in range(4):\n",
    "        if s[j][i] != s[j+1][i]:\n",
    "            continue\n",
    "        inner.append((j,i))\n",
    "    h.append(inner)\n",
    "col = list(filter(lambda x: len(x) > 2 , h))  \n",
    "for i in col:\n",
    "    i.append((i[-1][0]+1, i[-1][1]))\n",
    "\n",
    "\n",
    "for j in row:\n",
    "    for i,v in j:\n",
    "        s[i][v] = '*'\n",
    "    \n",
    "for j in col:\n",
    "    for i,v in j:\n",
    "        s[i][v] = '*'\n",
    "print()\n",
    "print('변경후')  \n",
    "for i in s:\n",
    "    print(i)"
   ]
  },
  {
   "cell_type": "code",
   "execution_count": 113,
   "metadata": {},
   "outputs": [
    {
     "name": "stdout",
     "output_type": "stream",
     "text": [
      "초기 타일판\n",
      "[2, 1, 2, 1, 4]\n",
      "[1, 1, 4, 3, 2]\n",
      "[4, 2, 4, 4, 4]\n",
      "[1, 1, 1, 1, 1]\n",
      "[3, 3, 4, 4, 3]\n"
     ]
    }
   ],
   "source": [
    "import random\n",
    "\n",
    "s = [[random.randint(1,4) for i  in range(5)] for k in range(5)]\n",
    "\n",
    "print('초기 타일판')\n",
    "for i in s:\n",
    "    print(i)\n",
    "\n",
    "# 가로\n",
    "for i in range(len(s)):\n",
    "    score =0\n",
    "    for k in range(1,5):\n",
    "        if s[i][k-1] == s[i][k] and s[i][k-1] == s[i][k-2]:\n",
    "            score += 1\n",
    "        \n",
    "        if score >1:\n",
    "            for l in range(score):\n",
    "                s[i][k-2] = '*'\n",
    "                s[i][k-1] = '*'\n",
    "                s[i][k] ='*'"
   ]
  },
  {
   "cell_type": "code",
   "execution_count": 114,
   "metadata": {},
   "outputs": [
    {
     "data": {
      "text/plain": [
       "[[2, 1, 2, 1, 4],\n",
       " [1, 1, 4, 3, 2],\n",
       " [4, 2, 4, 4, 4],\n",
       " ['*', '*', '*', 1, 1],\n",
       " [3, 3, 4, 4, 3]]"
      ]
     },
     "execution_count": 114,
     "metadata": {},
     "output_type": "execute_result"
    }
   ],
   "source": [
    "s"
   ]
  },
  {
   "cell_type": "code",
   "execution_count": 8,
   "metadata": {},
   "outputs": [
    {
     "name": "stdout",
     "output_type": "stream",
     "text": [
      "\n",
      "변경후 타일판\n",
      "[2, 4, 2, 2, 3]\n",
      "[3, 4, 3, 2, 1]\n",
      "[1, 2, '*', '*', '*']\n",
      "[3, 4, 2, 1, 3]\n",
      "['*', '*', '*', 2, 4]\n"
     ]
    }
   ],
   "source": [
    "\n",
    "\n",
    "#세로\n",
    "\n",
    "for k in range(5):\n",
    "    score = 0\n",
    "    for i in range(len(s2)-1):\n",
    "        if s2[i][k] == s2[i+1][k]:\n",
    "            score += 1\n",
    "            if score == 2:\n",
    "                s2[i-1][k] = '*'\n",
    "                s2[i][k] = '*'\n",
    "                s2[i+1][k] ='*'\n",
    "\n",
    "print()\n",
    "print('변경후 타일판')\n",
    "            \n",
    "for i in s2:\n",
    "    print(i)"
   ]
  },
  {
   "cell_type": "code",
   "execution_count": 7,
   "metadata": {},
   "outputs": [
    {
     "name": "stdout",
     "output_type": "stream",
     "text": [
      "[1, 9, 25, 49, 81]\n"
     ]
    }
   ],
   "source": [
    "#9번\n",
    "\n",
    "a = [1,3,5,7,9]\n",
    "\n",
    "b = list(map(lambda x:x**2, a))\n",
    "print(b)"
   ]
  }
 ],
 "metadata": {
  "kernelspec": {
   "display_name": "Python 3",
   "language": "python",
   "name": "python3"
  },
  "language_info": {
   "codemirror_mode": {
    "name": "ipython",
    "version": 3
   },
   "file_extension": ".py",
   "mimetype": "text/x-python",
   "name": "python",
   "nbconvert_exporter": "python",
   "pygments_lexer": "ipython3",
   "version": "3.7.3"
  }
 },
 "nbformat": 4,
 "nbformat_minor": 2
}
