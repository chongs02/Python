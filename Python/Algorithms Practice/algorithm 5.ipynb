{
 "cells": [
  {
   "cell_type": "markdown",
   "metadata": {},
   "source": [
    "#### 직사각형 만들기\n",
    "\n",
    "직사각형을 만드는 데 필요한 4개의 점 중 3개의 좌표가 주어질 때, 나머지 한 점의 좌표를 반환하는 solution 함수를 완성해 주세요. 단, 직사각형의 각 변은 x축, 혹은 y축에 평행하며, 반드시 직사각형을 만들 수 있는 경우만 입력으로 주어집니다.\n",
    "\n",
    "제한사항 좌표값 : 10억이하의 자연수 입출력 예\n",
    "\n",
    "v\t[[1, 4], [3, 4], [3, 10]] \n",
    "result [1, 10] \n",
    "v [[1, 1], [2, 2], [1, 2]] \n",
    "result [2, 1]\n",
    "\n",
    "입출력 예 설명 입출력 예 1 주어진 점의 좌표가 [[1, 4], [3, 4], [3, 10]] 일때, [1, 10]에 점이 위치하면 직사각형이 됩니다.\n",
    "\n",
    "입출력 예 2 주어진 점의 좌표가 [[1, 1], [2, 2], [1, 2]] 일때, [2, 1]에 점이 위치하면 직사각형이 됩니다."
   ]
  },
  {
   "cell_type": "code",
   "execution_count": 5,
   "metadata": {},
   "outputs": [],
   "source": [
    "axis = [[1,4], [3,4], [3,10]]"
   ]
  },
  {
   "cell_type": "code",
   "execution_count": 61,
   "metadata": {},
   "outputs": [],
   "source": [
    "def solution(axis):\n",
    "    x= {}\n",
    "    y= {}\n",
    "    \n",
    "    for i,v in axis:\n",
    "        if i in x:\n",
    "            del x[i]\n",
    "        else :\n",
    "            x[i] = True\n",
    "        if v in y:\n",
    "            del y[v]\n",
    "        else :\n",
    "            y[v] = True\n",
    "    return list(x.keys()) + list(y.keys())"
   ]
  },
  {
   "cell_type": "code",
   "execution_count": 9,
   "metadata": {},
   "outputs": [],
   "source": [
    "# XOR 풀이\n",
    "def solution(axis):\n",
    "    x = 0\n",
    "    y = 0\n",
    "    for i,v in axis:\n",
    "        x ^= i\n",
    "        y ^= v\n",
    "    return [x,y]\n",
    "        "
   ]
  },
  {
   "cell_type": "code",
   "execution_count": 10,
   "metadata": {},
   "outputs": [
    {
     "data": {
      "text/plain": [
       "[1, 10]"
      ]
     },
     "execution_count": 10,
     "metadata": {},
     "output_type": "execute_result"
    }
   ],
   "source": [
    "solution(axis)"
   ]
  },
  {
   "cell_type": "markdown",
   "metadata": {},
   "source": [
    "#### 팁스타운 코드챌린지 예선문제 1\n",
    "\n",
    "△△ 게임대회가 개최되었습니다. 이 대회는 N명이 참가하고, 토너먼트 형식으로 진행됩니다. N명의 참가자는 각각 1부터 N번을 차례대로 배정받습니다. 그리고, 1번↔2번, 3번↔4번, … , N-1번↔N번의 참가자끼리 게임을 진행합니다. 각 게임에서 이긴 사람은 다음 라운드에 진출할 수 있습니다. 이때, 다음 라운드에 진출할 참가자의 번호는 다시 1번부터 N/2번을 차례대로 배정받습니다. 만약 1번↔2번 끼리 겨루는 게임에서 2번이 승리했다면 다음 라운드에서 1번을 부여받고, 3번↔4번에서 겨루는 게임에서 3번이 승리했다면 다음 라운드에서 2번을 부여받게 됩니다. 게임은 최종 한 명이 남을 때까지 진행됩니다.\n",
    "\n",
    "이때, 처음 라운드에서 A번을 가진 참가자는 경쟁자로 생각하는 B번 참가자와 몇 번째 라운드에서 만나는지 궁금해졌습니다. 게임 참가자 수 N, 참가자 번호 A, 경쟁자 번호 B가 함수 solution의 매개변수로 주어질 때, 처음 라운드에서 A번을 가진 참가자는 경쟁자로 생각하는 B번 참가자와 몇 번째 라운드에서 만나는지 return 하는 solution 함수를 완성해 주세요. 단, A번 참가자와 B번 참가자는 서로 붙게 되기 전까지 항상 이긴다고 가정합니다.\n",
    "\n",
    "제한사항 N : 21 이상 220 이하인 자연수 (2의 지수 승으로 주어지므로 부전승은 발생하지 않습니다.) A, B : N 이하인 자연수 (단, A ≠ B 입니다.)"
   ]
  },
  {
   "cell_type": "code",
   "execution_count": 41,
   "metadata": {},
   "outputs": [],
   "source": [
    "def solution(N,A,B):\n",
    "    if A > B :\n",
    "        A, B = B, A\n",
    "    i = 1\n",
    "    while i < (N/2-1):\n",
    "        A = round(A/2 + 0.1)\n",
    "        B = round(B/2 + 0.1)\n",
    "\n",
    "        if A % 2 == 1 and B % 2 == 0 and B-A == 1:\n",
    "            return i\n",
    "        i += 1"
   ]
  },
  {
   "cell_type": "code",
   "execution_count": 43,
   "metadata": {},
   "outputs": [
    {
     "data": {
      "text/plain": [
       "2"
      ]
     },
     "execution_count": 43,
     "metadata": {},
     "output_type": "execute_result"
    }
   ],
   "source": [
    "N = 220\n",
    "A = 2\n",
    "B = 5\n",
    "\n",
    "solution(N,A,B)"
   ]
  },
  {
   "cell_type": "markdown",
   "metadata": {},
   "source": [
    "#### 팁스타운 코드챌린지 예선문제 2\n",
    "\n",
    "짝지어 제거하기는, 알파벳 소문자로 이루어진 문자열을 가지고 시작합니다. 먼저 문자열에서 같은 알파벳이 2개 붙어 있는 짝을 찾습니다. 그다음, 그 둘을 제거한 뒤, 앞뒤로 문자열을 이어 붙입니다. 이 과정을 반복해서 문자열을 모두 제거한다면 짝지어 제거하기가 종료됩니다. 문자열 S가 주어졌을 때, 짝지어 제거하기를 성공적으로 수행할 수 있는지 반환하는 함수를 완성해 주세요. 성공적으로 수행할 수 있으면 1을, 아닐 경우 0을 리턴해주면 됩니다.\n",
    "\n",
    "예를 들어, 문자열 S = baabaa 라면\n",
    "\n",
    "b aa baa → bb aa → aa →\n",
    "\n",
    "의 순서로 문자열을 모두 제거할 수 있으므로 1을 반환합니다.\n",
    "\n",
    "제한사항 문자열의 길이 : 1,000,000이하의 자연수 문자열은 모두 소문자로 이루어져 있습니다. 시간제한 : 1569ms"
   ]
  },
  {
   "cell_type": "code",
   "execution_count": 248,
   "metadata": {},
   "outputs": [],
   "source": [
    "s = 'bababaaab'"
   ]
  },
  {
   "cell_type": "code",
   "execution_count": 249,
   "metadata": {},
   "outputs": [],
   "source": [
    "def solution(s):\n",
    "    temp = [None]\n",
    "    s = list(s)\n",
    "    while s:\n",
    "        tmp = s.pop()\n",
    "        if temp[-1] == tmp:\n",
    "            del temp[-1]\n",
    "        else:\n",
    "            temp.append(tmp)\n",
    "    return temp[1:]\n"
   ]
  },
  {
   "cell_type": "code",
   "execution_count": 250,
   "metadata": {
    "scrolled": true
   },
   "outputs": [
    {
     "data": {
      "text/plain": [
       "['b', 'a', 'b', 'a', 'b', 'a', 'b']"
      ]
     },
     "execution_count": 250,
     "metadata": {},
     "output_type": "execute_result"
    }
   ],
   "source": [
    "solution(s)"
   ]
  },
  {
   "cell_type": "code",
   "execution_count": 251,
   "metadata": {},
   "outputs": [
    {
     "data": {
      "text/plain": [
       "0"
      ]
     },
     "execution_count": 251,
     "metadata": {},
     "output_type": "execute_result"
    }
   ],
   "source": [
    "## 초보몽키\n",
    "\n",
    "def solution(s):\n",
    "    result = []\n",
    "    for i in s:\n",
    "        if not result:\n",
    "            result.append(i)\n",
    "        elif result[-1] == i:\n",
    "            result.pop()\n",
    "        else:\n",
    "            result.append(i)\n",
    "    return int(not bool(result))\n",
    "\n",
    "solution(s)"
   ]
  },
  {
   "cell_type": "code",
   "execution_count": 59,
   "metadata": {},
   "outputs": [],
   "source": [
    "### XOR로 풀면 안됨\n",
    "\n",
    "# def solution(s):\n",
    "#     result = 0\n",
    "#     for i in s:\n",
    "#         result ^= ord(i)\n",
    "#         if not result:\n",
    "#             return 0\n",
    "#         else:\n",
    "#             return 1"
   ]
  },
  {
   "cell_type": "code",
   "execution_count": 147,
   "metadata": {},
   "outputs": [],
   "source": [
    "# from functools import reduce\n",
    "\n",
    "# def solution(s):\n",
    "#     li = map(ord, s)\n",
    "#     res = reduce(lambda x, y : x^y, li)\n",
    "#     if not res :\n",
    "#         return 0\n",
    "#     return 1"
   ]
  },
  {
   "cell_type": "markdown",
   "metadata": {},
   "source": [
    "#### 스택 시간복잡도 O(1)으로 최소값 구하기\n",
    "\n",
    "How would you design a stack which, in addition to push and pop, also has a function min which returns the minimum element? \n",
    "Push, pop, and min should all operate in O(1) time."
   ]
  },
  {
   "cell_type": "code",
   "execution_count": 98,
   "metadata": {},
   "outputs": [],
   "source": [
    "class Stack:\n",
    "    \n",
    "    def __init__(self):\n",
    "        self.stack = []\n",
    "        self.min_value = None\n",
    "        \n",
    "    def push(self,data):\n",
    "        self.stack.append(data)\n",
    "        if not self.min_value:\n",
    "            self.min_value = data\n",
    "        self.set_min(data)\n",
    "    \n",
    "    def pop(self):\n",
    "        temp = self.stack[-1]\n",
    "        del self.stack[-1]\n",
    "        return temp\n",
    "    \n",
    "    def set_min(self,data):\n",
    "        if self.min_value > data:\n",
    "            self.min_value = data\n",
    "        else :\n",
    "            self.min_value\n",
    "    \n",
    "    def min(self):\n",
    "        return self.min_value\n",
    "        \n",
    "        "
   ]
  },
  {
   "cell_type": "code",
   "execution_count": 99,
   "metadata": {},
   "outputs": [],
   "source": [
    "stack = Stack()"
   ]
  },
  {
   "cell_type": "code",
   "execution_count": 100,
   "metadata": {},
   "outputs": [],
   "source": [
    "stack.push(5)\n",
    "stack.push(6)"
   ]
  },
  {
   "cell_type": "code",
   "execution_count": 101,
   "metadata": {},
   "outputs": [
    {
     "data": {
      "text/plain": [
       "[5, 6]"
      ]
     },
     "execution_count": 101,
     "metadata": {},
     "output_type": "execute_result"
    }
   ],
   "source": [
    "stack.stack"
   ]
  },
  {
   "cell_type": "code",
   "execution_count": 102,
   "metadata": {},
   "outputs": [
    {
     "data": {
      "text/plain": [
       "5"
      ]
     },
     "execution_count": 102,
     "metadata": {},
     "output_type": "execute_result"
    }
   ],
   "source": [
    "stack.min()"
   ]
  },
  {
   "cell_type": "code",
   "execution_count": 103,
   "metadata": {},
   "outputs": [
    {
     "data": {
      "text/plain": [
       "6"
      ]
     },
     "execution_count": 103,
     "metadata": {},
     "output_type": "execute_result"
    }
   ],
   "source": [
    "stack.pop()"
   ]
  },
  {
   "cell_type": "markdown",
   "metadata": {},
   "source": [
    "#### lambda함수 를 활용한 구구단 생성\n",
    "람다함수와 리스트 컴프리헨션을 사용해 한 줄로 구구단의 결과를 갖는 리스트를 생성해본다."
   ]
  },
  {
   "cell_type": "code",
   "execution_count": 217,
   "metadata": {},
   "outputs": [
    {
     "data": {
      "text/plain": [
       "[1,\n",
       " 2,\n",
       " 3,\n",
       " 4,\n",
       " 5,\n",
       " 6,\n",
       " 7,\n",
       " 8,\n",
       " 9,\n",
       " 2,\n",
       " 4,\n",
       " 6,\n",
       " 8,\n",
       " 10,\n",
       " 12,\n",
       " 14,\n",
       " 16,\n",
       " 18,\n",
       " 3,\n",
       " 6,\n",
       " 9,\n",
       " 12,\n",
       " 15,\n",
       " 18,\n",
       " 21,\n",
       " 24,\n",
       " 27,\n",
       " 4,\n",
       " 8,\n",
       " 12,\n",
       " 16,\n",
       " 20,\n",
       " 24,\n",
       " 28,\n",
       " 32,\n",
       " 36,\n",
       " 5,\n",
       " 10,\n",
       " 15,\n",
       " 20,\n",
       " 25,\n",
       " 30,\n",
       " 35,\n",
       " 40,\n",
       " 45,\n",
       " 6,\n",
       " 12,\n",
       " 18,\n",
       " 24,\n",
       " 30,\n",
       " 36,\n",
       " 42,\n",
       " 48,\n",
       " 54,\n",
       " 7,\n",
       " 14,\n",
       " 21,\n",
       " 28,\n",
       " 35,\n",
       " 42,\n",
       " 49,\n",
       " 56,\n",
       " 63,\n",
       " 8,\n",
       " 16,\n",
       " 24,\n",
       " 32,\n",
       " 40,\n",
       " 48,\n",
       " 56,\n",
       " 64,\n",
       " 72,\n",
       " 9,\n",
       " 18,\n",
       " 27,\n",
       " 36,\n",
       " 45,\n",
       " 54,\n",
       " 63,\n",
       " 72,\n",
       " 81]"
      ]
     },
     "execution_count": 217,
     "metadata": {},
     "output_type": "execute_result"
    }
   ],
   "source": [
    "[(lambda x, y: x * y)(i,j) for i in range(1,10) for j in range(1,10)]"
   ]
  },
  {
   "cell_type": "code",
   "execution_count": 218,
   "metadata": {},
   "outputs": [
    {
     "data": {
      "text/plain": [
       "['2x1=2',\n",
       " '2x2=4',\n",
       " '2x3=6',\n",
       " '2x4=8',\n",
       " '2x5=10',\n",
       " '2x6=12',\n",
       " '2x7=14',\n",
       " '2x8=16',\n",
       " '2x9=18',\n",
       " '3x1=3',\n",
       " '3x2=6',\n",
       " '3x3=9',\n",
       " '3x4=12',\n",
       " '3x5=15',\n",
       " '3x6=18',\n",
       " '3x7=21',\n",
       " '3x8=24',\n",
       " '3x9=27',\n",
       " '4x1=4',\n",
       " '4x2=8',\n",
       " '4x3=12',\n",
       " '4x4=16',\n",
       " '4x5=20',\n",
       " '4x6=24',\n",
       " '4x7=28',\n",
       " '4x8=32',\n",
       " '4x9=36',\n",
       " '5x1=5',\n",
       " '5x2=10',\n",
       " '5x3=15',\n",
       " '5x4=20',\n",
       " '5x5=25',\n",
       " '5x6=30',\n",
       " '5x7=35',\n",
       " '5x8=40',\n",
       " '5x9=45',\n",
       " '6x1=6',\n",
       " '6x2=12',\n",
       " '6x3=18',\n",
       " '6x4=24',\n",
       " '6x5=30',\n",
       " '6x6=36',\n",
       " '6x7=42',\n",
       " '6x8=48',\n",
       " '6x9=54',\n",
       " '7x1=7',\n",
       " '7x2=14',\n",
       " '7x3=21',\n",
       " '7x4=28',\n",
       " '7x5=35',\n",
       " '7x6=42',\n",
       " '7x7=49',\n",
       " '7x8=56',\n",
       " '7x9=63',\n",
       " '8x1=8',\n",
       " '8x2=16',\n",
       " '8x3=24',\n",
       " '8x4=32',\n",
       " '8x5=40',\n",
       " '8x6=48',\n",
       " '8x7=56',\n",
       " '8x8=64',\n",
       " '8x9=72',\n",
       " '9x1=9',\n",
       " '9x2=18',\n",
       " '9x3=27',\n",
       " '9x4=36',\n",
       " '9x5=45',\n",
       " '9x6=54',\n",
       " '9x7=63',\n",
       " '9x8=72',\n",
       " '9x9=81']"
      ]
     },
     "execution_count": 218,
     "metadata": {},
     "output_type": "execute_result"
    }
   ],
   "source": [
    "[(lambda x,y : '{}x{}={}'.format(x, y, x*y))(x, y) for x in range(2,10) for y in range(1,10)]"
   ]
  },
  {
   "cell_type": "markdown",
   "metadata": {},
   "source": [
    "#### Self Number (python)\n",
    "\n",
    "어떤 자연수 n이 있을 때, d(n)을 n의 각 자릿수 숫자들과 n 자신을 더한 숫자라고 정의하자. \n",
    "예를 들어 \n",
    "d(91) = 9 + 1 + 91 = 101 \n",
    "이 때, n을 d(n)의 제네레이터(generator)라고 한다. 위의 예에서 91은 101의 제네레이터이다. \n",
    "어떤 숫자들은 하나 이상의 제네레이터를 가지고 있는데, 101의 제네레이터는 91 뿐 아니라 100도 있다. \n",
    "그런데 반대로, 제네레이터가 없는 숫자들도 있으며, 이런 숫자를 인도의 수학자 Kaprekar가 셀프 넘버(self-number)라 이름 붙였다. \n",
    "예를 들어 1, 3, 5, 7, 9, 20, 31 은 셀프 넘버 들이다. \n",
    "1 이상이고 5000 보다 작은 모든 셀프 넘버들의 합을 구하라."
   ]
  },
  {
   "cell_type": "code",
   "execution_count": 305,
   "metadata": {},
   "outputs": [],
   "source": [
    "import time"
   ]
  },
  {
   "cell_type": "code",
   "execution_count": 471,
   "metadata": {},
   "outputs": [
    {
     "name": "stdout",
     "output_type": "stream",
     "text": [
      "46.1 ns ± 0.233 ns per loop (mean ± std. dev. of 7 runs, 10000000 loops each)\n"
     ]
    }
   ],
   "source": [
    "%%timeit\n",
    "def self_number():\n",
    "    gens = []\n",
    "    for s in range(1,5000):\n",
    "        gens.append(sum([int(i) for i in str(s)]) + int(s))\n",
    "    self_sum = 0\n",
    "    for i in range(1,5000):\n",
    "        if i not in gens:\n",
    "            self_sum += i\n",
    "    return self_sum"
   ]
  },
  {
   "cell_type": "code",
   "execution_count": 307,
   "metadata": {},
   "outputs": [
    {
     "data": {
      "text/plain": [
       "1227365"
      ]
     },
     "execution_count": 307,
     "metadata": {},
     "output_type": "execute_result"
    }
   ],
   "source": [
    "self_sum"
   ]
  },
  {
   "cell_type": "code",
   "execution_count": 391,
   "metadata": {},
   "outputs": [],
   "source": [
    "\n",
    "def self_number():\n",
    "    li = []\n",
    "    for i in range(1,5001):\n",
    "        li.append(i + sum([int(j) for j in str(i)]))\n",
    "\n",
    "    return sum(set(range(1,5001)) - set(li))"
   ]
  },
  {
   "cell_type": "code",
   "execution_count": 392,
   "metadata": {},
   "outputs": [
    {
     "data": {
      "text/plain": [
       "1227365"
      ]
     },
     "execution_count": 392,
     "metadata": {},
     "output_type": "execute_result"
    }
   ],
   "source": [
    "self_number()"
   ]
  },
  {
   "cell_type": "code",
   "execution_count": 390,
   "metadata": {},
   "outputs": [
    {
     "data": {
      "text/plain": [
       "1227365"
      ]
     },
     "execution_count": 390,
     "metadata": {},
     "output_type": "execute_result"
    }
   ],
   "source": [
    "\n",
    "sum(set(range(1, 5000)) - {x + sum([int(a) for a in str(x)]) for x in range(1, 5000)})"
   ]
  },
  {
   "cell_type": "markdown",
   "metadata": {},
   "source": [
    "#### two some\n",
    "\n",
    "Given an array of integers, return indices of the two numbers such that they add up to a specific target.\n",
    "\n",
    "You may assume that each input would have exactly one solution, and you may not use the same element twice.\n",
    "\n",
    "Example:\n",
    "Given nums = [2, 7, 11, 15], target = 9,\n",
    "\n",
    "Because nums[0] + nums[1] = 2 + 7 = 9,\n",
    "return [0, 1].\n"
   ]
  },
  {
   "cell_type": "code",
   "execution_count": 538,
   "metadata": {},
   "outputs": [
    {
     "name": "stdout",
     "output_type": "stream",
     "text": [
      "47.1 ns ± 0.167 ns per loop (mean ± std. dev. of 7 runs, 10000000 loops each)\n"
     ]
    }
   ],
   "source": [
    "%%timeit\n",
    "def two_some(nums, target):\n",
    "    \n",
    "    for i,v in enumerate(nums):\n",
    "        for j,l in enumerate(nums[i+1:]):\n",
    "    #         print(i,j)\n",
    "            k = v+l\n",
    "            if k == target:\n",
    "                return i, j+1"
   ]
  },
  {
   "cell_type": "code",
   "execution_count": 539,
   "metadata": {},
   "outputs": [
    {
     "data": {
      "text/plain": [
       "(0, 1)"
      ]
     },
     "execution_count": 539,
     "metadata": {},
     "output_type": "execute_result"
    }
   ],
   "source": [
    "nums = [2,7,11,15]\n",
    "target = 9\n",
    "two_some(nums,target)"
   ]
  },
  {
   "cell_type": "code",
   "execution_count": 384,
   "metadata": {},
   "outputs": [
    {
     "name": "stdout",
     "output_type": "stream",
     "text": [
      "46.3 ns ± 0.443 ns per loop (mean ± std. dev. of 7 runs, 10000000 loops each)\n"
     ]
    }
   ],
   "source": [
    "%%timeit\n",
    "def two_sum(nums, target):\n",
    "    for idx, num in enumerate(nums):\n",
    "        if target - num in nums:\n",
    "            return idx, nums.index(target-num)"
   ]
  },
  {
   "cell_type": "code",
   "execution_count": 380,
   "metadata": {},
   "outputs": [
    {
     "data": {
      "text/plain": [
       "(0, 1)"
      ]
     },
     "execution_count": 380,
     "metadata": {},
     "output_type": "execute_result"
    }
   ],
   "source": [
    "nums = [2,7,11,15]\n",
    "target = 9\n",
    "two_some(nums,target)"
   ]
  },
  {
   "cell_type": "code",
   "execution_count": 383,
   "metadata": {},
   "outputs": [
    {
     "name": "stdout",
     "output_type": "stream",
     "text": [
      "45.3 ns ± 0.192 ns per loop (mean ± std. dev. of 7 runs, 10000000 loops each)\n"
     ]
    }
   ],
   "source": [
    "%%timeit\n",
    "def two_sum(nums,target):\n",
    "    dic = {}\n",
    "    i = 0\n",
    "    for num in nums:\n",
    "        if target - num in dic:\n",
    "            return dic[target-num], i\n",
    "        d[num] = i\n",
    "        i += 1"
   ]
  },
  {
   "cell_type": "code",
   "execution_count": 382,
   "metadata": {},
   "outputs": [
    {
     "data": {
      "text/plain": [
       "(0, 1)"
      ]
     },
     "execution_count": 382,
     "metadata": {},
     "output_type": "execute_result"
    }
   ],
   "source": [
    "nums = [2,7,11,15]\n",
    "target = 9\n",
    "two_some(nums,target)"
   ]
  },
  {
   "cell_type": "markdown",
   "metadata": {},
   "source": [
    "#### Hamming Distance\n",
    "\n",
    "The Hamming distance between two integers is the number of positions at which the corresponding bits are different.\n",
    "\n",
    "Given two integers x and y, calculate the Hamming distance.\n",
    "\n",
    "Note:\n",
    "0 ≤ x, y < 2**31.\n",
    "\n",
    "Example:\n",
    "\n",
    "Input: x = 1, y = 4\n",
    "\n",
    "Output: 2\n",
    "\n",
    "Explanation:  \n",
    "1   (0 0 0 1)  \n",
    "4   (0 1 0 0)   \n",
    "      ↑   ↑\n",
    "\n",
    "The above arrows point to positions where the corresponding bits are different."
   ]
  },
  {
   "cell_type": "code",
   "execution_count": 496,
   "metadata": {},
   "outputs": [
    {
     "data": {
      "text/plain": [
       "10.0"
      ]
     },
     "execution_count": 496,
     "metadata": {},
     "output_type": "execute_result"
    }
   ],
   "source": [
    "600/60"
   ]
  },
  {
   "cell_type": "code",
   "execution_count": 430,
   "metadata": {},
   "outputs": [],
   "source": [
    "x=1\n",
    "y=4"
   ]
  },
  {
   "cell_type": "code",
   "execution_count": 468,
   "metadata": {},
   "outputs": [],
   "source": [
    "def solution(a,b):\n",
    "    stand = len(bin(2**31))-1\n",
    "    a = '0' + bin(a)[2:]\n",
    "    a = '0'*(stand-len(a)) + a\n",
    "\n",
    "    b = '0' + bin(b)[2:]\n",
    "    b = '0'*(stand-len(b)) + b\n",
    "\n",
    "    k = {}\n",
    "    for i,v in enumerate(a):\n",
    "        k[i]= int(v)\n",
    "\n",
    "    l = {}\n",
    "    for j,s in enumerate(b):\n",
    "        l[j] = int(s)\n",
    "\n",
    "    new = []\n",
    "    for i in range(33):\n",
    "        if k[i] != l[i]:\n",
    "            new.append(i)\n",
    "    return len(new)"
   ]
  },
  {
   "cell_type": "code",
   "execution_count": 470,
   "metadata": {},
   "outputs": [
    {
     "data": {
      "text/plain": [
       "2"
      ]
     },
     "execution_count": 470,
     "metadata": {},
     "output_type": "execute_result"
    }
   ],
   "source": [
    "solution(x,y)"
   ]
  },
  {
   "cell_type": "code",
   "execution_count": 485,
   "metadata": {},
   "outputs": [],
   "source": [
    "def solution(x,y):\n",
    "    return bin(x^y).count('1')"
   ]
  },
  {
   "cell_type": "code",
   "execution_count": 486,
   "metadata": {},
   "outputs": [
    {
     "data": {
      "text/plain": [
       "2"
      ]
     },
     "execution_count": 486,
     "metadata": {},
     "output_type": "execute_result"
    }
   ],
   "source": [
    "solution(x,y)"
   ]
  },
  {
   "cell_type": "code",
   "execution_count": 487,
   "metadata": {},
   "outputs": [],
   "source": [
    "def hamming_distance(x, y):\n",
    "    bin_x = format(x, \"032b\")\n",
    "    bin_y = format(y, \"032b\")\n",
    "    result = 0\n",
    "    for i in range(32):\n",
    "        if bin_x[i] != bin_y[i]:\n",
    "            result += 1\n",
    "    return result\n",
    "\n",
    "\n",
    "# >>> format(10, '010b')\n",
    "# # '0000001010'\n",
    "# >>> format(10, 'b')\n",
    "# # '1010'\n",
    "# >>> format(10, '#b')\n",
    "# # '0b1010'"
   ]
  },
  {
   "cell_type": "code",
   "execution_count": 489,
   "metadata": {},
   "outputs": [
    {
     "data": {
      "text/plain": [
       "2"
      ]
     },
     "execution_count": 489,
     "metadata": {},
     "output_type": "execute_result"
    }
   ],
   "source": [
    "solution(x,y)"
   ]
  },
  {
   "cell_type": "markdown",
   "metadata": {},
   "source": [
    "#### Judge Route Circle\n",
    "\n",
    "Initially, there is a Robot at position (0, 0). Given a sequence of its moves, judge if this robot makes a circle, which means it moves back to the original place.\n",
    "\n",
    "The move sequence is represented by a string. And each move is represent by a character. The valid robot moves are R (Right), L (Left), U (Up) and D (down). The output should be true or false representing whether the robot makes a circle.\n",
    "\n",
    "Example 1:\n",
    "\n",
    "Input: \"UD\"\n",
    "Output: true\n",
    "\n",
    "Example 2:\n",
    "\n",
    "Input: \"LL\"\n",
    "Output: false"
   ]
  },
  {
   "cell_type": "code",
   "execution_count": 534,
   "metadata": {},
   "outputs": [
    {
     "name": "stdout",
     "output_type": "stream",
     "text": [
      "45.2 ns ± 0.264 ns per loop (mean ± std. dev. of 7 runs, 10000000 loops each)\n"
     ]
    }
   ],
   "source": [
    "%%timeit\n",
    "def judge_circle(s):\n",
    "    U = ord('U')\n",
    "    D = -U\n",
    "    R = ord('R')\n",
    "    L = - R\n",
    "    result = 0\n",
    "    for i in s:\n",
    "        result += eval(i)\n",
    "\n",
    "    return not result"
   ]
  },
  {
   "cell_type": "code",
   "execution_count": 535,
   "metadata": {},
   "outputs": [
    {
     "data": {
      "text/plain": [
       "True"
      ]
     },
     "execution_count": 535,
     "metadata": {},
     "output_type": "execute_result"
    }
   ],
   "source": [
    "s='UDLR'\n",
    "judge_circle(s)"
   ]
  },
  {
   "cell_type": "code",
   "execution_count": 536,
   "metadata": {},
   "outputs": [
    {
     "name": "stdout",
     "output_type": "stream",
     "text": [
      "45.6 ns ± 0.106 ns per loop (mean ± std. dev. of 7 runs, 10000000 loops each)\n"
     ]
    }
   ],
   "source": [
    "%%timeit\n",
    "def judge_circle(moves):\n",
    "    \"\"\"\n",
    "    :type moves: str\n",
    "    :rtype: bool\n",
    "    \"\"\"\n",
    "    return moves.count(\"U\")==moves.count(\"D\") and moves.count(\"L\")==moves.count(\"R\")"
   ]
  },
  {
   "cell_type": "code",
   "execution_count": 537,
   "metadata": {},
   "outputs": [
    {
     "data": {
      "text/plain": [
       "True"
      ]
     },
     "execution_count": 537,
     "metadata": {},
     "output_type": "execute_result"
    }
   ],
   "source": [
    "s='UDLR'\n",
    "judge_circle(s)"
   ]
  },
  {
   "cell_type": "markdown",
   "metadata": {},
   "source": [
    "#### Finding the percentage\n",
    "\n",
    "You have a record of  students. Each record contains the student's name, and their percent marks in Maths, Physics and Chemistry. The marks can be floating values. The user enters some integer  followed by the names and marks for  students. You are required to save the record in a dictionary data type. The user then enters a student's name. Output the average percentage marks obtained by that student, correct to two decimal places.\n",
    "\n",
    "Input Format\n",
    "\n",
    "The first line contains the integer , the number of students. The next  lines contains the name and marks obtained by that student separated by a space. The final line contains the name of a particular student previously listed.\n",
    "\n",
    "Constraints\n",
    "\n",
    "Output Format\n",
    "\n",
    "Print one line: The average of the marks obtained by the particular student correct to 2 decimal places.\n",
    "\n",
    "Sample Input\n",
    "\n",
    "3\n",
    "Krishna 67 68 69  \n",
    "Arjun 70 98 63  \n",
    "Malika 52 56 60  \n",
    "Malika  \n",
    "Sample Output\n",
    "\n",
    "56.00\n",
    "\n"
   ]
  },
  {
   "cell_type": "code",
   "execution_count": 606,
   "metadata": {},
   "outputs": [
    {
     "name": "stdout",
     "output_type": "stream",
     "text": [
      "67,68,69\n",
      "진원\n",
      "68.00\n"
     ]
    }
   ],
   "source": [
    "def finding_the_percentage():\n",
    "    score = input()\n",
    "    name = input()\n",
    "    score = score.split(',')\n",
    "    dictionary = {}\n",
    "    score = [int(i) for i in score]\n",
    "    dictionary[name] = score\n",
    "    average_score = sum(dictionary[name])/len(dictionary[name])\n",
    "    return \"%0.2f\" % average_score\n"
   ]
  },
  {
   "cell_type": "code",
   "execution_count": 564,
   "metadata": {},
   "outputs": [],
   "source": [
    "def finding_the_percentage(key):\n",
    "    students_score = {'Krishna':[67,68,69],'Arjun': [70, 98, 63],'Malika': [52, 56, 60]}\n",
    "    \n",
    "    "
   ]
  },
  {
   "cell_type": "code",
   "execution_count": 565,
   "metadata": {},
   "outputs": [
    {
     "data": {
      "text/plain": [
       "'56.00'"
      ]
     },
     "execution_count": 565,
     "metadata": {},
     "output_type": "execute_result"
    }
   ],
   "source": [
    "finding_the_percentage('Malika')"
   ]
  },
  {
   "cell_type": "markdown",
   "metadata": {},
   "source": [
    "#### hackerrank - Nested Lists\n",
    "\n",
    "Given the names and grades for each student in a Physics class of  students, store them in a nested list and print the name(s) of any student(s) having the second lowest grade.\n",
    "\n",
    "Note: If there are multiple students with the same grade, order their names alphabetically and print each name on a new line.\n",
    "\n",
    "Input Format\n",
    "\n",
    "The first line contains an integer, , the number of students.\n",
    "The  subsequent lines describe each student over  lines; the first line contains a student's name, and the second line contains their grade.\n",
    "\n",
    "Constraints\n",
    "\n",
    "There will always be one or more students having the second lowest grade.\n",
    "Output Format\n",
    "\n",
    "Print the name(s) of any student(s) having the second lowest grade in Physics; if there are multiple students, order their names alphabetically and print each one on a new line.\n",
    "\n",
    "Sample Input\n",
    "\n",
    "5\n",
    "Harry\n",
    "37.21\n",
    "Berry\n",
    "37.21\n",
    "Tina\n",
    "37.2\n",
    "Akriti\n",
    "41\n",
    "Harsh\n",
    "39\n",
    "Sample Output\n",
    "\n",
    "Berry\n",
    "Harry"
   ]
  },
  {
   "cell_type": "code",
   "execution_count": 691,
   "metadata": {},
   "outputs": [],
   "source": [
    "def solution():\n",
    "    n = input()\n",
    "    n = int(n)\n",
    "    li = []\n",
    "    for i in range(n):\n",
    "        students = input()\n",
    "        grade = input()\n",
    "        li.append([students, float(grade)])\n",
    "    rank = sorted(li, key = lambda x : x[1])\n",
    "    i = 0\n",
    "    while rank:\n",
    "        tem = rank.pop(0)\n",
    "        if tem[1] == rank[0][1]:\n",
    "            break\n",
    "        i += 1\n",
    "    return tem, rank[0]"
   ]
  },
  {
   "cell_type": "code",
   "execution_count": 693,
   "metadata": {},
   "outputs": [
    {
     "name": "stdout",
     "output_type": "stream",
     "text": [
      "5\n",
      "Harry\n",
      "37.21\n",
      "Berry\n",
      "37.21\n",
      "Harsh\n",
      "39\n",
      "Tina\n",
      "37.2\n",
      "Akriti\n",
      "41\n"
     ]
    },
    {
     "data": {
      "text/plain": [
       "(['Harry', 37.21], ['Berry', 37.21])"
      ]
     },
     "execution_count": 693,
     "metadata": {},
     "output_type": "execute_result"
    }
   ],
   "source": [
    "solution()"
   ]
  },
  {
   "cell_type": "code",
   "execution_count": null,
   "metadata": {},
   "outputs": [],
   "source": []
  }
 ],
 "metadata": {
  "kernelspec": {
   "display_name": "Python 3",
   "language": "python",
   "name": "python3"
  },
  "language_info": {
   "codemirror_mode": {
    "name": "ipython",
    "version": 3
   },
   "file_extension": ".py",
   "mimetype": "text/x-python",
   "name": "python",
   "nbconvert_exporter": "python",
   "pygments_lexer": "ipython3",
   "version": "3.7.3"
  }
 },
 "nbformat": 4,
 "nbformat_minor": 2
}
