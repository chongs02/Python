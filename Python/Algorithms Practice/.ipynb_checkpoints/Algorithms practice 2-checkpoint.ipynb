{
 "cells": [
  {
   "cell_type": "markdown",
   "metadata": {},
   "source": [
    "# 요일 구하기\n",
    "\n",
    "### 2016년 1월 1일은 금요일입니다. \n",
    "### 2016년 A월 B일은 무슨 요일일까요?\n",
    "### 두 수 A,B를 입력받아 A월 B일이 무슨 요일인지 출력하는 getDayName 함수를 완성하세요. \n",
    "### 요일의 이름은 일요일부터 토요일까지 각각\n",
    "\n",
    "### SUN,MON,TUE,WED,THU,FRI,SAT\n",
    "\n",
    "### 를 출력해주면 됩니다. \n",
    "### 예를 들어 A=5, B=24가 입력된다면 5월 24일은 화요일이므로 TUE를 반환하면 됩니다."
   ]
  },
  {
   "cell_type": "code",
   "execution_count": 18,
   "metadata": {},
   "outputs": [],
   "source": [
    "import datetime\n",
    "def getDayName(A,B):\n",
    "    days = ['MON','TUE','WED','THU','FRI','SAT','SUN']\n",
    "    return days[datetime.date(2016, A, B).weekday()]\n",
    "    "
   ]
  },
  {
   "cell_type": "code",
   "execution_count": 20,
   "metadata": {},
   "outputs": [
    {
     "name": "stdout",
     "output_type": "stream",
     "text": [
      "1\n"
     ]
    },
    {
     "data": {
      "text/plain": [
       "'TUE'"
      ]
     },
     "execution_count": 20,
     "metadata": {},
     "output_type": "execute_result"
    }
   ],
   "source": [
    "getDayName(5,24)"
   ]
  },
  {
   "cell_type": "markdown",
   "metadata": {},
   "source": [
    "# 하샤드 수\n",
    "\n",
    "### 양의 정수 x가 하샤드 수이려면 x의 자릿수의 합으로 x가 나누어져야 합니다.\n",
    "### 예를들어 18의 자릿수 합은 1+8=9이고, 18은 9로 나누어 떨어지므로 18은 하샤드 수입니다.\n",
    "\n",
    "### Harshad함수는 양의 정수 n을 매개변수로 입력받습니다. \n",
    "### 이 n이 하샤드수인지 아닌지 판단하는 함수를 완성하세요.\n",
    "### 예를들어 n이 10, 12, 18이면 True를 리턴 11, 13이면 False를 리턴하면 됩니다."
   ]
  },
  {
   "cell_type": "code",
   "execution_count": 62,
   "metadata": {},
   "outputs": [],
   "source": [
    "def Harshad(n):\n",
    "    if n%sum([int(i) for i in str(n)]) == 0:\n",
    "        return True \n",
    "    return False\n",
    "    "
   ]
  },
  {
   "cell_type": "code",
   "execution_count": 60,
   "metadata": {},
   "outputs": [
    {
     "data": {
      "text/plain": [
       "True"
      ]
     },
     "execution_count": 60,
     "metadata": {},
     "output_type": "execute_result"
    }
   ],
   "source": [
    "Harshad(10)"
   ]
  },
  {
   "cell_type": "code",
   "execution_count": 61,
   "metadata": {},
   "outputs": [
    {
     "data": {
      "text/plain": [
       "False"
      ]
     },
     "execution_count": 61,
     "metadata": {},
     "output_type": "execute_result"
    }
   ],
   "source": [
    "Harshad(11)"
   ]
  },
  {
   "cell_type": "code",
   "execution_count": null,
   "metadata": {},
   "outputs": [],
   "source": [
    "# 다른사람 풀이\n",
    "def Harshad(n):\n",
    "\tsum = 0\n",
    "\tfor i in str(n):\n",
    "\t\tsum = int(i) + sum\n",
    "\treturn False if n % sum else True\n"
   ]
  },
  {
   "cell_type": "code",
   "execution_count": null,
   "metadata": {},
   "outputs": [],
   "source": []
  },
  {
   "cell_type": "markdown",
   "metadata": {},
   "source": [
    "# JadenCase 문자열 만들기\n",
    "\n",
    "### Jaden_Case함수는 문자열 s을 매개변수로 입력받습니다. \n",
    "### s에 모든 단어의 첫 알파벳이 대문자이고, 그 외의 알파벳은 소문자인 문자열을 리턴하도록 함수를 완성하세요 \n",
    "### 예를들어 s가 “3people unFollowed me for the last week”라면 “3people Unfollowed Me For The Last Week”를 리턴하면 됩니다."
   ]
  },
  {
   "cell_type": "code",
   "execution_count": 103,
   "metadata": {},
   "outputs": [],
   "source": [
    "def Jaden_Case(s):\n",
    "    return ' '.join([i.capitalize() for i in s.lower().split(' ') ])"
   ]
  },
  {
   "cell_type": "code",
   "execution_count": 104,
   "metadata": {},
   "outputs": [],
   "source": [
    "s = \"3people unFollowed me for the last week\""
   ]
  },
  {
   "cell_type": "code",
   "execution_count": 105,
   "metadata": {},
   "outputs": [
    {
     "data": {
      "text/plain": [
       "'3people Unfollowed Me For The Last Week'"
      ]
     },
     "execution_count": 105,
     "metadata": {},
     "output_type": "execute_result"
    }
   ],
   "source": [
    "Jaden_Case(s)"
   ]
  },
  {
   "cell_type": "code",
   "execution_count": 106,
   "metadata": {},
   "outputs": [],
   "source": [
    "# 다른사람 풀이\n",
    "def Jaden_Case(s):\n",
    "    return s.title()"
   ]
  },
  {
   "cell_type": "code",
   "execution_count": null,
   "metadata": {},
   "outputs": [],
   "source": []
  },
  {
   "cell_type": "markdown",
   "metadata": {},
   "source": [
    "# 자연수를 뒤집어 리스트로 만들기\n",
    "\n",
    "### digit_reverse함수는 양의 정수 n을 매개변수로 입력받습니다. \n",
    "### n을 뒤집어 숫자 하나하나를 list로 표현해주세요 \n",
    "### 예를들어 n이 12345이면 [5,4,3,2,1]을 리턴하면 됩니다."
   ]
  },
  {
   "cell_type": "code",
   "execution_count": 116,
   "metadata": {},
   "outputs": [],
   "source": [
    "def digit_reverser(n):\n",
    "    return sorted([int(i) for i in str(n)], reverse = True)"
   ]
  },
  {
   "cell_type": "code",
   "execution_count": 117,
   "metadata": {},
   "outputs": [],
   "source": [
    "n =12345"
   ]
  },
  {
   "cell_type": "code",
   "execution_count": 119,
   "metadata": {},
   "outputs": [
    {
     "data": {
      "text/plain": [
       "[9, 8, 7, 6]"
      ]
     },
     "execution_count": 119,
     "metadata": {},
     "output_type": "execute_result"
    }
   ],
   "source": [
    "digit_reverser(6789)"
   ]
  },
  {
   "cell_type": "code",
   "execution_count": 126,
   "metadata": {},
   "outputs": [],
   "source": [
    "#다른 사람 풀이\n",
    "def digit_reverse(n):\n",
    "    return list(map(int, reversed(str(n))))\n",
    "\n",
    "# map(function, iterable)"
   ]
  },
  {
   "cell_type": "code",
   "execution_count": null,
   "metadata": {},
   "outputs": [],
   "source": []
  },
  {
   "cell_type": "markdown",
   "metadata": {},
   "source": [
    "# 이상한 문자 만들기\n",
    "\n",
    "### toWeirdCase함수는 문자열 s를 매개변수로 입력받습니다. \n",
    "### 문자열 s에 각 단어의 짝수번째 인덱스 문자는 대문자로, 홀수번째 인덱스 문자는 소문자로 바꾼 문자열을 리턴하도록 함수를 완성하세요. \n",
    "### 예를 들어 s가 “try hello world”라면 첫 번째 단어는 “TrY”, 두 번째 단어는 “HeLlO”, 세 번째 단어는 “WoRlD”로 바꿔 “TrY HeLlO WoRlD”를 리턴하면 됩니다.\n",
    "\n",
    "### 주의 문자열 전체의 짝/홀수 인덱스가 아니라, 단어(공백을 기준)별로 짝/홀수 인덱스를 판단합니다."
   ]
  },
  {
   "cell_type": "code",
   "execution_count": 166,
   "metadata": {},
   "outputs": [],
   "source": [
    "def toWeirdCase(s):\n",
    "    s = s.split(' ')\n",
    "    a = [[i[j].upper() if j%2 ==0 else (i[j].lower()) for j in range(len(i)) ]for i in spl]\n",
    "    return ' '.join([''.join(i) for i in a])"
   ]
  },
  {
   "cell_type": "code",
   "execution_count": 169,
   "metadata": {},
   "outputs": [
    {
     "data": {
      "text/plain": [
       "'TrY HeLlO WoRlD'"
      ]
     },
     "execution_count": 169,
     "metadata": {},
     "output_type": "execute_result"
    }
   ],
   "source": [
    "toWeirdCase('try hello world')"
   ]
  },
  {
   "cell_type": "code",
   "execution_count": null,
   "metadata": {},
   "outputs": [],
   "source": [
    "# 다른사람 풀이\n",
    "def toWeirdCase(s):\n",
    "    def change(t):\n",
    "        result = \"\"\n",
    "        for i, v in enumerate(t):\n",
    "            if i % 2:  # 홀수\n",
    "                result += v.lower()\n",
    "            else:  # 짝수\n",
    "                result += v.upper()\n",
    "        return result\n",
    "    return ' '.join(list(map(change, s.split())))\n",
    "\n",
    "\n",
    "# 아래는 테스트로 출력해 보기 위한 코드입니다.\n",
    "print(\"결과 : {}\".format(toWeirdCase(\"try hello world\")));"
   ]
  },
  {
   "cell_type": "code",
   "execution_count": null,
   "metadata": {},
   "outputs": [],
   "source": []
  },
  {
   "cell_type": "markdown",
   "metadata": {},
   "source": [
    "# 두 정수 사이의 합\n",
    "\n",
    "### adder함수는 정수 a, b를 매개변수로 입력받습니다. \n",
    "### 두 수와 두 수 사이에 있는 모든 정수를 더해서 리턴하도록 함수를 완성하세요. \n",
    "### a와 b가 같은 경우는 둘 중 아무 수나 리턴하세요. 예를들어 a가 3, b가 5이면 12를 리턴하면 됩니다.\n",
    "\n",
    "### a, b는 음수나 0, 양수일 수 있으며 둘의 대소 관계도 정해져 있지 않습니다."
   ]
  },
  {
   "cell_type": "code",
   "execution_count": 191,
   "metadata": {},
   "outputs": [],
   "source": [
    "def adder(a,b):\n",
    "    if a == b:\n",
    "        return a\n",
    "    elif a > b:\n",
    "        return sum([i for i in range(a,b-1,-1)])\n",
    "        \n",
    "    else:\n",
    "        return sum([i for i in range(a,b+1)])"
   ]
  },
  {
   "cell_type": "code",
   "execution_count": 189,
   "metadata": {},
   "outputs": [
    {
     "data": {
      "text/plain": [
       "12"
      ]
     },
     "execution_count": 189,
     "metadata": {},
     "output_type": "execute_result"
    }
   ],
   "source": [
    "adder(5,3)"
   ]
  },
  {
   "cell_type": "code",
   "execution_count": 177,
   "metadata": {},
   "outputs": [],
   "source": [
    "a = 5\n",
    "b = 3"
   ]
  },
  {
   "cell_type": "code",
   "execution_count": 192,
   "metadata": {},
   "outputs": [],
   "source": [
    "# 다른사람 풀이\n",
    "def adder(a, b):\n",
    "    if a > b : a, b = b, a\n",
    "    return sum(list(range(a, b+1)))"
   ]
  },
  {
   "cell_type": "code",
   "execution_count": null,
   "metadata": {},
   "outputs": [],
   "source": []
  },
  {
   "cell_type": "markdown",
   "metadata": {},
   "source": [
    "# 콜라츠 추측\n",
    "\n",
    "### 1937년 Collatz란 사람에 의해 제기된 이 추측은, 입력된 수가 짝수라면 2로 나누고, 홀수라면 3을 곱하고 1을 더한 다음, 결과로 나온 수에 같은 작업을 1이 될 때까지 반복할 경우 모든 수가 1이 된다는 추측입니다. \n",
    "### 예를 들어, 입력된 수가 6이라면 6→3→10→5→16→8→4→2→1 이 되어 총 8번 만에 1이 됩니다. \n",
    "### collatz 함수를 만들어 입력된 수가 몇 번 만에 1이 되는지 반환해 주세요. \n",
    "### 단, 500번을 반복해도 1이 되지 않는다면 –1을 반환해 주세요."
   ]
  },
  {
   "cell_type": "code",
   "execution_count": 33,
   "metadata": {},
   "outputs": [],
   "source": [
    "def collatz(a):\n",
    "    i=0\n",
    "    while(i<=500):\n",
    "        if a == 1:\n",
    "            return(print('{} 번째에 반환되었습니다.'.format(i)))\n",
    "        elif a % 2 == 0:\n",
    "            a = a/2\n",
    "        elif  a % 2 == 1:\n",
    "            a = a*3 +1\n",
    "        elif i==500:\n",
    "            return(-1)\n",
    "            \n",
    "        i += 1     "
   ]
  },
  {
   "cell_type": "code",
   "execution_count": 34,
   "metadata": {},
   "outputs": [
    {
     "name": "stdout",
     "output_type": "stream",
     "text": [
      "8 번째에 반환되었습니다.\n"
     ]
    }
   ],
   "source": [
    "collatz(6)"
   ]
  },
  {
   "cell_type": "code",
   "execution_count": 35,
   "metadata": {},
   "outputs": [],
   "source": [
    "# 다른사람 풀이\n",
    "def collatz(num):\n",
    "    i = 0\n",
    "    while num > 1:\n",
    "        num = num * 3 + 1 if num % 2 else num / 2\n",
    "        i += 1\n",
    "    return i if i < 500 else -1"
   ]
  },
  {
   "cell_type": "code",
   "execution_count": null,
   "metadata": {},
   "outputs": [],
   "source": []
  },
  {
   "cell_type": "markdown",
   "metadata": {},
   "source": [
    "# 소수찾기\n",
    "\n",
    "### numberOfPrime 메소드는 정수 n을 매개변수로 입력받습니다.\n",
    "### 1부터 입력받은 숫자 n 사이에 있는 소수의 개수를 반환하도록 numberOfPrime 메소드를 만들어 보세요.\n",
    "## 소수는 1과 자기 자신으로만 나누어지는 수를 의미합니다. (1은 소수가 아닙니다.)\n",
    "### 10을 입력받았다면, 1부터 10 사이의 소수는 [2,3,5,7] 4개가 존재하므로 4를 반환 5를 입력받았다면, 1부터 5 사이의 소수는 [2,3,5] 3개가 존재하므로 3를 반환"
   ]
  },
  {
   "cell_type": "code",
   "execution_count": 119,
   "metadata": {},
   "outputs": [],
   "source": [
    "def numberOfPrime(n):\n",
    "    count = [[j for j in range(1,i+1) if i%j ==0] for i in range(1,n+1)]\n",
    "    return len([c[1] for c in count if len(c) ==2])\n"
   ]
  },
  {
   "cell_type": "code",
   "execution_count": 120,
   "metadata": {},
   "outputs": [
    {
     "data": {
      "text/plain": [
       "4"
      ]
     },
     "execution_count": 120,
     "metadata": {},
     "output_type": "execute_result"
    }
   ],
   "source": [
    "numberOfPrime(10)"
   ]
  },
  {
   "cell_type": "code",
   "execution_count": 121,
   "metadata": {},
   "outputs": [
    {
     "name": "stdout",
     "output_type": "stream",
     "text": [
      "4\n"
     ]
    }
   ],
   "source": [
    "#다른사람 풀이\n",
    "# 소수인지 판단\n",
    "def is_prime(n):\n",
    "    return all([(n%j) for j in range(2, int(n**0.5)+1)]) and n>1 # bool 값 리턴\n",
    "\n",
    "## all() : all() 내장함수 : all(x)은 반복 가능한(iterable) 자료형 x를 입력 인수로 받으며, \n",
    "##         이 x가 모두 참이면 True, 거짓이 하나라도 있으면 False를 리턴한다.\n",
    "\n",
    "# 소수의 갯수 리턴\n",
    "def numberOfPrime(n):\n",
    "    return [is_prime(x) for x in range(1, n+1)].count(True)  \n",
    "  # return len(list(filter(is_prime, range(1, n+1))))\n",
    "\n",
    "# 아래는 테스트로 출력해 보기 위한 코드입니다.\n",
    "print(numberOfPrime(10))"
   ]
  },
  {
   "cell_type": "code",
   "execution_count": null,
   "metadata": {},
   "outputs": [],
   "source": []
  },
  {
   "cell_type": "markdown",
   "metadata": {},
   "source": [
    "# 괄호 확인하기\n",
    "\n",
    "### is_pair함수는 문자열 s를 매개변수로 입력받습니다. \n",
    "### s에 괄호가 알맞게 짝지어져 있으면 True를 아니면 False를 리턴하는 함수를 완성하세요. \n",
    "### 예를들어 s가 “(hello)()”면 True이고, “)(“이면 False입니다. s가 빈 문자열(““)인 경우는 없습니다."
   ]
  },
  {
   "cell_type": "code",
   "execution_count": 168,
   "metadata": {},
   "outputs": [],
   "source": [
    "def is_pair(s):\n",
    "    a=[]\n",
    "    b=[]\n",
    "    for i,v in enumerate(s):\n",
    "        if '(' in s[i]:\n",
    "            a.append(i)\n",
    "        elif ')'in s[i]:\n",
    "            b.append(i)\n",
    "\n",
    "    if len(a) == len(b) and a[0]<b[0] and a[len(a)-1]<b[len(b)-1]:\n",
    "        return True\n",
    "    else:\n",
    "        return False"
   ]
  },
  {
   "cell_type": "code",
   "execution_count": 166,
   "metadata": {},
   "outputs": [],
   "source": [
    "s = '(hello)()'"
   ]
  },
  {
   "cell_type": "code",
   "execution_count": 169,
   "metadata": {},
   "outputs": [],
   "source": [
    "s = ')('"
   ]
  },
  {
   "cell_type": "code",
   "execution_count": 170,
   "metadata": {},
   "outputs": [
    {
     "data": {
      "text/plain": [
       "False"
      ]
     },
     "execution_count": 170,
     "metadata": {},
     "output_type": "execute_result"
    }
   ],
   "source": [
    "is_pair(s)"
   ]
  },
  {
   "cell_type": "code",
   "execution_count": null,
   "metadata": {},
   "outputs": [],
   "source": []
  },
  {
   "cell_type": "code",
   "execution_count": 171,
   "metadata": {},
   "outputs": [],
   "source": [
    "# 다른사람 풀이\n",
    "\n",
    "def is_pair(s):\n",
    "    stack = []\n",
    "    for ch in s:\n",
    "        if ch == \"(\":\n",
    "            stack.append(ch)\n",
    "        elif ch == \")\":\n",
    "            try:\n",
    "                stack.pop()\n",
    "            except IndexError:\n",
    "                return False\n",
    "\n",
    "    return len(stack) == 0"
   ]
  },
  {
   "cell_type": "code",
   "execution_count": null,
   "metadata": {},
   "outputs": [],
   "source": []
  },
  {
   "cell_type": "code",
   "execution_count": null,
   "metadata": {},
   "outputs": [],
   "source": []
  },
  {
   "cell_type": "markdown",
   "metadata": {},
   "source": [
    "# 가장 긴 팰린드롬\n",
    "### 앞뒤를 뒤집어도 똑같은 문자열을 palindrome이라고 합니다. \n",
    "### longest_palindrom함수는 문자열 s를 매개변수로 입력받습니다. \n",
    "### s의 부분문자열중 가장 긴 palindrom의 길이를 리턴하는 함수를 완성하세요. \n",
    "### 예를들어 s가 “토마토맛토마토”이면 7을 리턴하고 “토마토맛있어”이면 3을 리턴합니다."
   ]
  },
  {
   "cell_type": "code",
   "execution_count": 335,
   "metadata": {},
   "outputs": [],
   "source": [
    "def longest_palindrom(s):\n",
    "    a=[]\n",
    "    b=[]\n",
    "    answera = 0\n",
    "    answerb = 0\n",
    "    for i,v in zip(s, reversed(s)):\n",
    "        a.append(i)\n",
    "        b.append(v)\n",
    "        if a == list(reversed(a)):\n",
    "            if isinstance(a,list):\n",
    "                answera = len(a)\n",
    "        elif b == list(reversed(b)):\n",
    "            if isinstance(a,list):\n",
    "                answerb = len(b)\n",
    "    return max(answera, answerb)    \n"
   ]
  },
  {
   "cell_type": "code",
   "execution_count": 336,
   "metadata": {},
   "outputs": [
    {
     "data": {
      "text/plain": [
       "7"
      ]
     },
     "execution_count": 336,
     "metadata": {},
     "output_type": "execute_result"
    }
   ],
   "source": [
    "longest_palindrom('토마토맛토마토')"
   ]
  },
  {
   "cell_type": "code",
   "execution_count": 337,
   "metadata": {},
   "outputs": [
    {
     "name": "stdout",
     "output_type": "stream",
     "text": [
      "7\n",
      "3\n",
      "3\n"
     ]
    }
   ],
   "source": [
    "#다른사람 풀이\n",
    "def longest_palindrom(s):\n",
    "    list_s = list(s)\n",
    "    if list_s == list_s[::-1]:\n",
    "        return len(list_s)\n",
    "\n",
    "    result = []\n",
    "    for idx, item in enumerate(list_s):\n",
    "        if item in list_s[idx+1:]:\n",
    "            idx2 = list_s[idx+1:].index(item) + idx+2\n",
    "\n",
    "            if list_s[idx:idx2] == (list_s[idx:idx2])[::-1]:\n",
    "                result.append(len(list_s[idx:idx2]))\n",
    "\n",
    "    if len(result) == 0:\n",
    "        return 1\n",
    "    return max(result)\n",
    "\n",
    "print(longest_palindrom(\"토마토맛토마토\")) # 7\n",
    "print(longest_palindrom(\"토마토맛있어\")) # 3\n",
    "print(longest_palindrom(\"맛있어토마토\")) # 3"
   ]
  },
  {
   "cell_type": "code",
   "execution_count": null,
   "metadata": {},
   "outputs": [],
   "source": []
  },
  {
   "cell_type": "code",
   "execution_count": null,
   "metadata": {},
   "outputs": [],
   "source": []
  },
  {
   "cell_type": "code",
   "execution_count": null,
   "metadata": {},
   "outputs": [],
   "source": []
  },
  {
   "cell_type": "code",
   "execution_count": null,
   "metadata": {},
   "outputs": [],
   "source": []
  }
 ],
 "metadata": {
  "kernelspec": {
   "display_name": "mypython",
   "language": "python",
   "name": "myenv"
  },
  "language_info": {
   "codemirror_mode": {
    "name": "ipython",
    "version": 3
   },
   "file_extension": ".py",
   "mimetype": "text/x-python",
   "name": "python",
   "nbconvert_exporter": "python",
   "pygments_lexer": "ipython3",
   "version": "3.6.5"
  }
 },
 "nbformat": 4,
 "nbformat_minor": 2
}
