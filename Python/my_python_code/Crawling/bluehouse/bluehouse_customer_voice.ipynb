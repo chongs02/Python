{
 "cells": [
  {
   "cell_type": "code",
   "execution_count": 27,
   "metadata": {},
   "outputs": [],
   "source": [
    "from urllib.request import urlopen\n",
    "from bs4 import BeautifulSoup"
   ]
  },
  {
   "cell_type": "code",
   "execution_count": 92,
   "metadata": {},
   "outputs": [],
   "source": [
    "#6/20 - 7/20\n",
    "num_page =[]\n",
    "for i in range(500000,580993):\n",
    "    num_page.append(i)"
   ]
  },
  {
   "cell_type": "code",
   "execution_count": 95,
   "metadata": {},
   "outputs": [],
   "source": [
    "url = 'https://www1.president.go.kr/petitions/'"
   ]
  },
  {
   "cell_type": "code",
   "execution_count": 100,
   "metadata": {},
   "outputs": [],
   "source": [
    "\n",
    "urls = []\n",
    "for i in range(len(num_page)):\n",
    "    url = 'https://www1.president.go.kr/petitions/'+str(num_page[i])\n",
    "    urls.append(url)"
   ]
  },
  {
   "cell_type": "code",
   "execution_count": 105,
   "metadata": {},
   "outputs": [],
   "source": [
    "a =[]\n",
    "for i in urls:\n",
    "    page = urlopen(i)\n",
    "\n",
    "    document = page.read()\n",
    "    soup = BeautifulSoup(document, 'html5lib')\n",
    "    div_tag=soup.find_all('div',class_='View_write')\n",
    "    \n",
    "    for title in div_tag:\n",
    "        a.append(title.get_text())"
   ]
  },
  {
   "cell_type": "code",
   "execution_count": 109,
   "metadata": {},
   "outputs": [],
   "source": [
    "import pandas as pd\n",
    "df = pd.DataFrame(a)\n",
    "\n",
    "df.to_csv(\"filename.csv\", mode='w')"
   ]
  }
 ],
 "metadata": {
  "kernelspec": {
   "display_name": "Python 3",
   "language": "python",
   "name": "python3"
  },
  "language_info": {
   "codemirror_mode": {
    "name": "ipython",
    "version": 3
   },
   "file_extension": ".py",
   "mimetype": "text/x-python",
   "name": "python",
   "nbconvert_exporter": "python",
   "pygments_lexer": "ipython3",
   "version": "3.7.3"
  }
 },
 "nbformat": 4,
 "nbformat_minor": 2
}
