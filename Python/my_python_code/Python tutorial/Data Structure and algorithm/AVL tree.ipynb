{
 "cells": [
  {
   "cell_type": "code",
   "execution_count": 88,
   "metadata": {},
   "outputs": [],
   "source": [
    "class Node:\n",
    "    \n",
    "    def __init__(self,data):\n",
    "        self.data = data\n",
    "        self.height = 0\n",
    "        self.leftchild = None\n",
    "        self.rightchild = None\n",
    "        \n",
    "class AVLtree:\n",
    "    \n",
    "    def __init__(self):\n",
    "        self.root = None\n",
    "        \n",
    "    def insert(self,data):\n",
    "        self.root = self.insert_node(data, self.root)\n",
    "        \n",
    "    def insert_node(self, data, node):\n",
    "        if not node:\n",
    "            return Node(data)\n",
    "        \n",
    "        if data < node.data:\n",
    "            node.leftchild = self.insert_node(data, node.leftchild)\n",
    "            \n",
    "        if data > node.data:\n",
    "            node.rightchild = self.insert_node(data, node.rightchild)\n",
    "        \n",
    "        node.height = max(self.cal_height(node.leftchild), self.cal_height(node.rightchild)) + 1\n",
    "        \n",
    "        return self.settle_violation(data,node)\n",
    "    \n",
    "    def settle_violation(self, data, node):\n",
    "        \n",
    "        balance = self.cal_balance(node)\n",
    "        \n",
    "        if balance > 1 and data < node.leftchild.data:\n",
    "            print('Left left heavy situation...')\n",
    "            return self.rotate_right(node)\n",
    "        \n",
    "        if balance < - 1 and data > node.rightchild.data:\n",
    "            print('Rigt right heavy situation')\n",
    "            return self.rotate_left(node)\n",
    "        \n",
    "        if balance > 1 and data > node.leftchild.data:\n",
    "            print('left right heavy situation')\n",
    "            node.leftchild = self.rotate_left(node.leftchild)\n",
    "            return self.rotate_right(node)\n",
    "        \n",
    "        if balance < - 1 and data < node.rightchild.data:\n",
    "            print('right left heavy situation')\n",
    "            node.rightchild = self.rotate_right(node.rightchild)\n",
    "            return self.rotate_left(node)\n",
    "        \n",
    "        return node\n",
    "    \n",
    "    def remove(self,data):\n",
    "        self.root = self.remove_node(data, self.root) \n",
    "    \n",
    "    def remove_node(self,data,node):\n",
    "        if not node:\n",
    "            return node\n",
    "        \n",
    "        if data < node.data:\n",
    "            node.leftchild = self.remove_node(data, node.leftchild)\n",
    "            \n",
    "        elif data > node.data:\n",
    "            node.rightchild = self.remove_node(data, node.rightchild)\n",
    "        \n",
    "        else:\n",
    "            \n",
    "            if not node.leftchild and not node.rightchild:\n",
    "                del node\n",
    "                return None\n",
    "            \n",
    "            if not node.leftchild:\n",
    "                tempnode = node.rightchild\n",
    "                del node\n",
    "                return tempnode\n",
    "            \n",
    "            elif not node.rightchild:\n",
    "                tempnode = node.leftchild\n",
    "                del node\n",
    "                return tempnode\n",
    "            \n",
    "            tempnode = self.get_predessor(node.leftchild)\n",
    "            node.data = tempnode.data\n",
    "            node.leftchild = self.remove_node(tempnode.data, node.leftchild)\n",
    "            \n",
    "        \n",
    "            \n",
    "        node.height = max( self.cal_height(node.leftchild), self.cal_height(node.rightchild)) +1\n",
    "        \n",
    "        balance = self.cal_balance(node)\n",
    "        \n",
    "        # doubly left heavy\n",
    "        if balance > 1 and self.cal_balance(node.leftchild) >=0:\n",
    "            return self.rotate_right(node)\n",
    "        \n",
    "        # left right case\n",
    "        if balance > 1 and self.cal_balance(node.leftchild) < 0:\n",
    "            node.leftchild = self.rotate_left(node.leftchild)\n",
    "            return self.rotate_right(node)\n",
    "        \n",
    "        # right right case\n",
    "        if balance < -1 and self.cal_balance(node.rightchild) <= 0:\n",
    "            return self.rotate_left(node)\n",
    "        \n",
    "        # right left case\n",
    "        if balance < -1 and self.cal_balance(node.rightchild) < 0:\n",
    "            node.rightchild = self.rotate_right(node.rightchild)\n",
    "            return self.rotate_left(node)\n",
    "        \n",
    "        return node\n",
    "        \n",
    "    def get_predessor(self, node):\n",
    "        \n",
    "        if node.rightchild:\n",
    "            return self.get_predessor(node.rightchild)\n",
    "        \n",
    "        return node         \n",
    "        \n",
    "    def cal_height(self, node):\n",
    "        \n",
    "        if not node:\n",
    "            return -1\n",
    "        \n",
    "        return node.height\n",
    "    \n",
    "    def cal_balance(self,node):\n",
    "        \n",
    "        if not node:\n",
    "            return 0\n",
    "        \n",
    "        return self.cal_height(node.leftchild) - self.cal_height(node.rightchild)\n",
    "    \n",
    "    def traverse(self):\n",
    "        if self.root:\n",
    "            self.traverse_in_order(self.root)\n",
    "    \n",
    "    def traverse_in_order(self,node):\n",
    "        \n",
    "        if node.leftchild:\n",
    "            self.traverse_in_order(node.leftchild)\n",
    "            \n",
    "        print(node.data)\n",
    "        \n",
    "        if node.rightchild:\n",
    "            self.traverse_in_order(node.rightchild)\n",
    "    \n",
    "    def rotate_right(self, node):\n",
    "        \n",
    "        print('Rotating to the right', node.data)\n",
    "        \n",
    "        templeftchild = node.leftchild\n",
    "        t = templeftchild.rightchild\n",
    "        \n",
    "        templeftchild.rightchild = node\n",
    "        \n",
    "        node.leftchild = t\n",
    "        \n",
    "        node.height = max(self.cal_height(node.leftchild), self.cal_height(node.rightchild)) +1\n",
    "        templeftchild.height = max(self.cal_height(templeftchild.leftchild), self.cal_height(templeftchild.rightchild)) +1\n",
    "    \n",
    "        return templeftchild\n",
    "    \n",
    "    def rotate_left(self,node):\n",
    "    \n",
    "        print('Rotating to the left', node.data)\n",
    "        \n",
    "        temprightchild = node.rightchild\n",
    "        t = temprightchild.leftchild\n",
    "        \n",
    "        temprightchild.leftchild = node\n",
    "        \n",
    "        node.rightchild = t\n",
    "        \n",
    "        node.height = max(self.cal_height(node.leftchild), self.cal_height(node.rightchild)) +1\n",
    "        temprightchild.height = max(self.cal_height(temprightchild.leftchild), self.cal_height(temprightchild.rightchild)) +1\n",
    "    \n",
    "        return temprightchild\n",
    "    \n",
    "    \n",
    "    \n",
    "    \n",
    "    \n",
    "    "
   ]
  },
  {
   "cell_type": "code",
   "execution_count": 89,
   "metadata": {},
   "outputs": [],
   "source": [
    "a = AVLtree()"
   ]
  },
  {
   "cell_type": "code",
   "execution_count": null,
   "metadata": {},
   "outputs": [],
   "source": []
  },
  {
   "cell_type": "code",
   "execution_count": 90,
   "metadata": {},
   "outputs": [],
   "source": [
    "a.insert(40)\n",
    "a.insert(30)\n",
    "a.insert(60)\n",
    "a.insert(70)"
   ]
  },
  {
   "cell_type": "code",
   "execution_count": 91,
   "metadata": {},
   "outputs": [
    {
     "data": {
      "text/plain": [
       "['__class__',\n",
       " '__delattr__',\n",
       " '__dict__',\n",
       " '__dir__',\n",
       " '__doc__',\n",
       " '__eq__',\n",
       " '__format__',\n",
       " '__ge__',\n",
       " '__getattribute__',\n",
       " '__gt__',\n",
       " '__hash__',\n",
       " '__init__',\n",
       " '__init_subclass__',\n",
       " '__le__',\n",
       " '__lt__',\n",
       " '__module__',\n",
       " '__ne__',\n",
       " '__new__',\n",
       " '__reduce__',\n",
       " '__reduce_ex__',\n",
       " '__repr__',\n",
       " '__setattr__',\n",
       " '__sizeof__',\n",
       " '__str__',\n",
       " '__subclasshook__',\n",
       " '__weakref__',\n",
       " 'cal_balance',\n",
       " 'cal_height',\n",
       " 'get_predessor',\n",
       " 'insert',\n",
       " 'insert_node',\n",
       " 'remove',\n",
       " 'remove_node',\n",
       " 'root',\n",
       " 'rotate_left',\n",
       " 'rotate_right',\n",
       " 'settle_violation',\n",
       " 'traverse',\n",
       " 'traverse_in_order']"
      ]
     },
     "execution_count": 91,
     "metadata": {},
     "output_type": "execute_result"
    }
   ],
   "source": [
    "dir(a)"
   ]
  },
  {
   "cell_type": "code",
   "execution_count": 80,
   "metadata": {},
   "outputs": [
    {
     "data": {
      "text/plain": [
       "0"
      ]
     },
     "execution_count": 80,
     "metadata": {},
     "output_type": "execute_result"
    }
   ],
   "source": [
    "a.cal_height(Node(60))"
   ]
  },
  {
   "cell_type": "code",
   "execution_count": 95,
   "metadata": {},
   "outputs": [
    {
     "name": "stdout",
     "output_type": "stream",
     "text": [
      "30\n",
      "60\n",
      "70\n"
     ]
    }
   ],
   "source": [
    "a.traverse()"
   ]
  },
  {
   "cell_type": "code",
   "execution_count": 94,
   "metadata": {},
   "outputs": [
    {
     "name": "stdout",
     "output_type": "stream",
     "text": [
      "Rotating to the left 30\n"
     ]
    }
   ],
   "source": [
    "a.remove(40)"
   ]
  },
  {
   "cell_type": "code",
   "execution_count": null,
   "metadata": {},
   "outputs": [],
   "source": []
  }
 ],
 "metadata": {
  "kernelspec": {
   "display_name": "mypython",
   "language": "python",
   "name": "myenv"
  },
  "language_info": {
   "codemirror_mode": {
    "name": "ipython",
    "version": 3
   },
   "file_extension": ".py",
   "mimetype": "text/x-python",
   "name": "python",
   "nbconvert_exporter": "python",
   "pygments_lexer": "ipython3",
   "version": "3.6.5"
  }
 },
 "nbformat": 4,
 "nbformat_minor": 2
}
