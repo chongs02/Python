{
 "cells": [
  {
   "cell_type": "markdown",
   "metadata": {},
   "source": [
    "앞에서부터 읽을 때나 뒤에서부터 읽을 때나 모양이 같은 수를 대칭수(palindrome)라고 부른다.  \n",
    "두 자리 수를 곱해 만들 수 있는 대칭수 중 가장 큰 수는 9009 (= 91 × 99) 이다.  \n",
    "세 자리 수를 곱해 만들 수 있는 가장 큰 대칭수는 얼마인가?  \n"
   ]
  },
  {
   "cell_type": "code",
   "execution_count": 96,
   "metadata": {},
   "outputs": [],
   "source": [
    "a = [str(i*j) for i in range(100,1000) for j in range(999,100,-1)]\n",
    "\n",
    "b = []\n",
    "for v in a:\n",
    "    for i in range(len(v)//2-1):\n",
    "        if v[i] == v[-1-i] and v[i+1] == v[-2-i]:\n",
    "            b.append(v)\n",
    "            \n",
    "            "
   ]
  },
  {
   "cell_type": "markdown",
   "metadata": {},
   "source": [
    "시저 암호는, 고대 로마의 황제 줄리어스 시저가 만들어 낸 암호인데,예를 들어 알파벳 A를 입력했을 때, 그 알파벳의 n개 뒤에 오는 알파벳이 출력되는 것이다.\n",
    "예를 들어 바꾸려는 단어가 'CAT\"고, n을 5로 지정하였을 때 \"HFY\"가 되는 것이다.\n",
    "어떠한 암호를 만들 문장과 n을 입력했을 때 암호를 만들어 출력하는 프로그램을 작성하시오.\n",
    "- 입력 : 화면에서 문자열과 n값을 입력받는다. (예: ROSE 5)\n",
    "- 출력 : 암호화된 문자열을 출력"
   ]
  },
  {
   "cell_type": "code",
   "execution_count": 110,
   "metadata": {},
   "outputs": [
    {
     "name": "stdout",
     "output_type": "stream",
     "text": [
      "5\n",
      "CAT\n"
     ]
    },
    {
     "data": {
      "text/plain": [
       "'HFY'"
      ]
     },
     "execution_count": 110,
     "metadata": {},
     "output_type": "execute_result"
    }
   ],
   "source": [
    "n = int(input('숫자를 넣으세요'))\n",
    "alpha = input('알파벳을 넣으세요')\n",
    "\n",
    "''.join(list(map(chr,[ord(i)+n for i in alpha])))"
   ]
  },
  {
   "cell_type": "markdown",
   "metadata": {},
   "source": [
    "Linux 명령어인 grep 을 윈도우스에서 만들어 보시오.\n",
    "입력 형태\n",
    "찾을 문자열: public\n",
    "찾을 파일명: f:/Workspace/Egov/xxx.java\n",
    "\n",
    "출력 형태\n",
    "13: public class ClassA {\n",
    "16: public int number;\n"
   ]
  },
  {
   "cell_type": "code",
   "execution_count": 3,
   "metadata": {},
   "outputs": [
    {
     "name": "stdout",
     "output_type": "stream",
     "text": [
      "1 :   한줄public\n",
      "3 :   세줄 public\n"
     ]
    }
   ],
   "source": [
    "with open('test.txt', 'r') as f:\n",
    "    line = None  \n",
    "    i = 1\n",
    "    while line != '':\n",
    "        line = f.readline()\n",
    "        if 'public' in line:\n",
    "            print(i,':  ',line.strip('\\n')) \n",
    "        i+=1"
   ]
  },
  {
   "cell_type": "markdown",
   "metadata": {},
   "source": [
    "텍스트를 파일에서 읽어 단어의 개수를 세는 프로그램 Word Count를 작성하시오.  \n",
    "입력은 텍스트 파일이고, 구분자는 마침표(‘.’), 쉽표(‘,’), 공백(‘ ‘)이다.  \n",
    "출력은 총 단어수와 가장 많이 나온 순서대로 단어 10개와 그 단어의 빈도이다.  "
   ]
  },
  {
   "cell_type": "code",
   "execution_count": 121,
   "metadata": {},
   "outputs": [
    {
     "name": "stdout",
     "output_type": "stream",
     "text": [
      "[('txt', 16), ('3', 12), ('2,', 12), ('작성하시오.', 12), ('1,', 12), ('인', 12), ('폴더', 12), ('파일은', 12), ('high', 12), (',', 12)]\n"
     ]
    }
   ],
   "source": [
    "with open('ex3_5.txt', 'r') as f:\n",
    "    line = f.readlines() \n",
    "\n",
    "word = [i.split() for i in line]\n",
    "word = sum(word,[])\n",
    "set_word = set(word)\n",
    "\n",
    "for i in set_word:\n",
    "    count_dict.setdefault(i,0)\n",
    "    \n",
    "for i in count_dict.keys():\n",
    "    for j in word:\n",
    "        if i == j:\n",
    "            count_dict[i] +=1\n",
    "result = sorted(count_dict.items(), key=lambda x:x[1], reverse = True)\n",
    "print(result[0:10])\n"
   ]
  },
  {
   "cell_type": "markdown",
   "metadata": {},
   "source": [
    "Binary 파일을 16진수 값으로 출력하는 HexaDump 프로그램을 작성하시오.\n",
    "\n",
    "입력 형태  \n",
    "찾을 파일명: C:/Temp/james.p  \n",
    "\n",
    "출력 형태  \n",
    "00000000:  00 01 44 E4 00 01 64 E4  41 42 43 11 00 61 F4 E4  ..D...d. ABC..a..  \n",
    "00000010:  41 42 63 13 00 62 F4 E5  00 01 46 E9 FF 01 65 E2  ABc..b.. ..F...e.  \n",
    "00000020:  "
   ]
  },
  {
   "cell_type": "code",
   "execution_count": 348,
   "metadata": {},
   "outputs": [],
   "source": [
    "import os\n",
    "os.chdir('D:\\\\git_ec\\\\Python\\\\Python\\\\Algorithms Practice')"
   ]
  },
  {
   "cell_type": "code",
   "execution_count": 375,
   "metadata": {},
   "outputs": [
    {
     "name": "stdout",
     "output_type": "stream",
     "text": [
      "0 <class 'str'> 222000\n",
      "1000100010000000000000 :     22 22 20 00 00 \n",
      "1 <class 'str'> 244481\n",
      "1001000100010010000001 :     24 44 44 48 81 \n",
      "2 <class 'str'> 110400\n",
      "100010000010000000000 :     11 10 04 40 00 \n",
      "3 <class 'str'> 20805c\n",
      "1000001000000001011100 :     20 08 80 05 5c \n",
      "4 <class 'str'> 11083c\n",
      "100010000100000111100 :     11 10 08 83 3c \n",
      "5 <class 'str'> 22200\n",
      "100010001000000000 :     2 2 2 0 \n",
      "6 <class 'str'> 10880\n",
      "10000100010000000 :     1 0 8 8 \n",
      "7 <class 'str'> 4104\n",
      "100000100000100 :     41 10 04 \n",
      "8 <class 'str'> 2084\n",
      "10000010000100 :     20 08 84 \n",
      "9 <class 'str'> 800\n",
      "100000000000 :     8 0 \n",
      "10 <class 'str'> 240\n",
      "1001000000 :     2 4 \n",
      "11 <class 'str'> 110\n",
      "100010000 :     1 1 \n",
      "12 <class 'str'> 218\n",
      "1000011000 :     2 1 \n",
      "13 <class 'str'> 128\n",
      "100101000 :     1 2 \n",
      "14 <class 'str'> 94\n",
      "10010100 :     94 \n",
      "15 <class 'str'> 22\n",
      "100010 :     22 \n",
      "16 <class 'str'> 8\n",
      "1000 :     \n",
      "17 <class 'str'> 4\n",
      "100 :     \n",
      "18 <class 'str'> 2\n",
      "10 :     \n",
      "19 <class 'str'> 1\n",
      "1 :     \n",
      "20 <class 'str'> f\n",
      "1111 :     \n"
     ]
    }
   ],
   "source": [
    "binary_number = []\n",
    "line_ = []\n",
    "with open('ex3_7.txt', 'r') as f:\n",
    "    line = None\n",
    "    while line != '':\n",
    "        line = f.readline()\n",
    "        line_.append(line)\n",
    "        line2 = '0b'+line\n",
    "        \n",
    "        line2 = line.strip('\\n')\n",
    "        binary_number.append(line2)\n",
    "binary_number = binary_number[:-1]\n",
    "list_ = []\n",
    "for i in binary_number:\n",
    "    hex_number = hex(int(i,2))\n",
    "    hex_number = hex_number[2:]\n",
    "    list_.append(hex_number)\n",
    "for idx, num in enumerate(list_):\n",
    "    a = ''\n",
    "    print(idx,type(num),num)\n",
    "    for i in range(len(num)-1):\n",
    "        if len(num)%2 !=0:\n",
    "            a += num[i] + ' '\n",
    "        elif len(num)%2 ==0:  \n",
    "            a += num[i]+num[i + 1] + ' '\n",
    "            \n",
    "    print(binary_number[idx],':    ',a)"
   ]
  },
  {
   "cell_type": "markdown",
   "metadata": {},
   "source": [
    "다음의 지시대로 폴더와 파일을 프로그램에서 만드시오.\n",
    "랜덤으로 1, 2, 3 중 하나를 내용으로 갖는 txt 파일100개를 하나의 디렉토리(c:/Temp/Ex04) 안에 생성하는 코드를 작성하시오.   \n",
    "(파일 제목은 4자리 정수를 랜덤으로 할당. ex - 1382.txt , 0201.txt , 9012.txt , ......... )  \n",
    "제목이 0000~3333 인 txt 파일은 low 폴더로, 3334~6666인 txt 파일은 mid 폴더로, 6667~9999 인 파일은 high 폴더로 이동시키는 코드를 작성하시오.  \n",
    "low, mid, high 폴더 안에 제목이 1, 2, 3 인 폴더를 각각 만들고, txt 파일 안의 내용에 따라 txt파일을 폴더안으로 이동시켜 분류하시오.  \n",
    "결론적으로 c:/Temp/Ex04 폴더 밑에는 low, mid, high 폴더 3개가 생기고, 이 각각의 폴더에는 1, 2, 3 폴더가 각각 생기고 이 폴더밑에 파일이 들어 있어야 함."
   ]
  },
  {
   "cell_type": "code",
   "execution_count": 243,
   "metadata": {},
   "outputs": [],
   "source": []
  },
  {
   "cell_type": "code",
   "execution_count": 342,
   "metadata": {},
   "outputs": [
    {
     "name": "stdout",
     "output_type": "stream",
     "text": [
      "8548\n",
      "1\n",
      "8548 3\n",
      "['1', '2', '3']\n",
      "['1']\n",
      "<_io.TextIOWrapper name='8548.txt' mode='at' encoding='utf-8'>\n",
      "['1']\n",
      "['1']\n"
     ]
    }
   ],
   "source": [
    "import random\n",
    "import os\n",
    "os.chdir('D:\\\\git_ec\\\\Python\\\\Python\\\\coding dojang')\n",
    "\n",
    "wd = os.getcwd()\n",
    "content = random.randint(1,3)\n",
    "# os.mkdir(wd+'/low/')\n",
    "# os.mkdir(wd+'/low/1/')\n",
    "# os.mkdir(wd+'/low/2/')\n",
    "# os.mkdir(wd+'/low/3/')\n",
    "# os.mkdir(wd+'/mid/')\n",
    "# os.mkdir(wd+'/mid/1')\n",
    "# os.mkdir(wd+'/mid/2')\n",
    "# os.mkdir(wd+'/mid/3')\n",
    "# os.mkdir(wd+'/high/')\n",
    "# os.mkdir(wd+'/high/1')\n",
    "# os.mkdir(wd+'/high/2')\n",
    "# os.mkdir(wd+'/high/3')\n",
    "\n",
    "filename = random.randint(1000,9999)\n",
    "print(filename)\n",
    "print(content)\n",
    "if filename <= 3333:\n",
    "    os.chdir('D:\\\\git_ec\\\\Python\\\\Python\\\\coding dojang\\\\low')\n",
    "    folderlist = os.listdir(os.getcwd())\n",
    "    for i in folderlist:\n",
    "        fn = os.path.splitext(i)[0]\n",
    "        b = [str(content)]\n",
    "        if str(content) == fn:\n",
    "            os.chdir(os.getcwd()+\"\\\\\"+str(fn))\n",
    "            a = open(str(filename)+'.txt', mode='at', encoding='utf-8')\n",
    "            a.writelines(b)\n",
    "            a.close()    \n",
    "elif filename > 3333 and filename < 6667:\n",
    "    print(filename,'2')\n",
    "    os.chdir('D:\\\\git_ec\\\\Python\\\\Python\\\\coding dojang\\\\mid')\n",
    "    folderlist = os.listdir(os.getcwd())\n",
    "    for i in folderlist:\n",
    "        fn = os.path.splitext(i)[0]\n",
    "        b = [str(content)]\n",
    "        if str(content) == fn:\n",
    "            os.chdir(os.getcwd()+\"\\\\\"+str(fn))\n",
    "            a = open(str(filename)+'.txt', mode='at', encoding='utf-8')\n",
    "            a.writelines(b)\n",
    "            a.close()  \n",
    "else:\n",
    "    os.chdir('D:\\\\git_ec\\\\Python\\\\Python\\\\coding dojang\\\\high')\n",
    "    folderlist = os.listdir(os.getcwd())\n",
    "    for i in folderlist:\n",
    "        fn = os.path.splitext(i)[0]\n",
    "        b = [str(content)]\n",
    "        if str(content) == fn:\n",
    "            os.chdir(os.getcwd()+\"\\\\\"+str(fn))\n",
    "            a = open(str(filename)+'.txt', mode='at', encoding='utf-8')\n",
    "            a.writelines(b)\n",
    "            a.close()  "
   ]
  },
  {
   "cell_type": "code",
   "execution_count": null,
   "metadata": {},
   "outputs": [],
   "source": []
  }
 ],
 "metadata": {
  "kernelspec": {
   "display_name": "Python 3",
   "language": "python",
   "name": "python3"
  },
  "language_info": {
   "codemirror_mode": {
    "name": "ipython",
    "version": 3
   },
   "file_extension": ".py",
   "mimetype": "text/x-python",
   "name": "python",
   "nbconvert_exporter": "python",
   "pygments_lexer": "ipython3",
   "version": "3.7.3"
  }
 },
 "nbformat": 4,
 "nbformat_minor": 2
}
