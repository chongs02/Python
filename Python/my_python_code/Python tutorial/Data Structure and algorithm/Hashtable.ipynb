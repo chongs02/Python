{
 "cells": [
  {
   "cell_type": "markdown",
   "metadata": {},
   "source": [
    "Linear probing implementation"
   ]
  },
  {
   "cell_type": "code",
   "execution_count": 13,
   "metadata": {},
   "outputs": [],
   "source": [
    "class HashTable:\n",
    "    \n",
    "    def __init__(self):\n",
    "        self.size = 10\n",
    "        self.keys = [None] * self.size\n",
    "        self.values = [None] * self.size\n",
    "        \n",
    "    def hash_function(self, key):\n",
    "        sum = 0\n",
    "        for pos in range(len(key)):\n",
    "            sum = sum + ord(key[pos])\n",
    "            #ord() 문자열을 ascii number로 만들어줌\n",
    "        return sum % self.size\n",
    "    \n",
    "    def put(self, key, data):\n",
    "        \n",
    "        index = self.hash_function(key)\n",
    "        \n",
    "        while self.keys[index] is not None:\n",
    "            if self.keys[index] == key:\n",
    "                self.values[index] = data # update\n",
    "                return\n",
    "            \n",
    "            # return try to find another slot\n",
    "            index = (index + 1) % self.size\n",
    "            \n",
    "        #insert\n",
    "        self.keys[index] = key\n",
    "        self.values[index] = data\n",
    "        \n",
    "    def get(self,key):\n",
    "        \n",
    "        index = self.hash_function(key)\n",
    "        \n",
    "        while self.keys[index] is not None:\n",
    "            if self.keys[index] == key:\n",
    "                return self.values[index]\n",
    "            \n",
    "            index= (index +1)%self.size\n",
    "        \n",
    "        return None\n",
    "            \n",
    "    \n",
    "    \n",
    "        "
   ]
  },
  {
   "cell_type": "code",
   "execution_count": 14,
   "metadata": {},
   "outputs": [],
   "source": [
    "table = HashTable()"
   ]
  },
  {
   "cell_type": "code",
   "execution_count": 15,
   "metadata": {},
   "outputs": [],
   "source": [
    "table.put('apple',10)\n",
    "table.put('orange',20)\n",
    "table.put('car',30)\n",
    "table.put('table',40)"
   ]
  },
  {
   "cell_type": "code",
   "execution_count": 19,
   "metadata": {},
   "outputs": [
    {
     "name": "stdout",
     "output_type": "stream",
     "text": [
      "None\n"
     ]
    }
   ],
   "source": [
    "print(table.get('kevin'))"
   ]
  },
  {
   "cell_type": "code",
   "execution_count": null,
   "metadata": {},
   "outputs": [],
   "source": []
  }
 ],
 "metadata": {
  "kernelspec": {
   "display_name": "mypython",
   "language": "python",
   "name": "myenv"
  },
  "language_info": {
   "codemirror_mode": {
    "name": "ipython",
    "version": 3
   },
   "file_extension": ".py",
   "mimetype": "text/x-python",
   "name": "python",
   "nbconvert_exporter": "python",
   "pygments_lexer": "ipython3",
   "version": "3.6.5"
  }
 },
 "nbformat": 4,
 "nbformat_minor": 2
}
