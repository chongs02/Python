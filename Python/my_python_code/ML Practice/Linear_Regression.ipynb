{
 "cells": [
  {
   "cell_type": "code",
   "execution_count": 1,
   "metadata": {},
   "outputs": [],
   "source": [
    "import pandas as pd\n",
    "import matplotlib.pyplot as plt\n",
    "import numpy as np\n",
    "import datetime as dt\n",
    "%matplotlib inline\n"
   ]
  },
  {
   "cell_type": "code",
   "execution_count": 2,
   "metadata": {},
   "outputs": [],
   "source": [
    "#DATA preprocessing\n",
    "#Load dataset\n",
    "x_data = pd.read_csv(r'C:\\Users\\chongs\\BDANALYSIS\\furnace_bd.csv')\n",
    "x_data = x_data.iloc[:,2:]\n",
    "#epoch time 수정\n",
    "x_data['3'] = x_data['3'].astype(str).str[:-3].astype(np.int64)\n",
    "x_data['3'] = x_data['3'].astype(str).str[4:].astype(np.int64)"
   ]
  },
  {
   "cell_type": "code",
   "execution_count": 3,
   "metadata": {},
   "outputs": [],
   "source": [
    "#구간 선택\n",
    "x_data = x_data[x_data['3'].values > 890472]\n",
    "x_data = x_data[x_data['3'].values < 899000]"
   ]
  },
  {
   "cell_type": "code",
   "execution_count": 4,
   "metadata": {},
   "outputs": [],
   "source": [
    "#pivot table 사용 query 진행\n",
    "x_data = x_data.pivot_table(index = x_data['3'],columns = x_data['1'])\n",
    "#dataframe 재설정\n",
    "x_data = x_data['2'][['temp_zone7_10', 'temp_zone7_12', 'temp_zone7_14', 'temp_zone7_16', 'temp_zone7_4', 'temp_zone7_6', 'temp_zone7_8', 'temp_zone7_top', 'temp_zone8_25', 'temp_zone8_27', 'temp_zone8_29', 'temp_zone8_31', 'temp_zone8_33', 'temp_zone8_35', 'temp_zone8_37', 'temp_zone8_top']]\n",
    "x_data = x_data.interpolate()"
   ]
  },
  {
   "cell_type": "code",
   "execution_count": 5,
   "metadata": {},
   "outputs": [],
   "source": [
    "y_data = pd.read_csv(r\"C:\\Users\\chongs\\BDANALYSIS\\14_Gls_org.csv\", engine = 'python', index_col = False)\n",
    "#원하는 columns 선택\n",
    "\n",
    "y_data['time'] = y_data['날짜'] + ' ' + y_data['시간']\n",
    "\n",
    "#시간 delay 수정 및 epoch 시간으로 convert\n",
    "total_delay = dt.timedelta(minutes = 8, seconds=5)\n",
    "\n",
    "y_data['time']=(pd.to_datetime(y_data['time']) - total_delay).apply(dt.datetime.timestamp).astype(np.int64)\n",
    "y_data['time'] = y_data['time'].astype(str).str[4:].astype(np.int64)\n",
    "\n",
    "y_data = y_data[['time','A', 'B', 'C', 'D', 'E', 'F', 'G', 'H', 'I', 'J','K', 'L', 'M', 'N', 'O']]\n",
    "\n",
    "y_data.set_index('time', inplace = True)\n"
   ]
  },
  {
   "cell_type": "code",
   "execution_count": 6,
   "metadata": {},
   "outputs": [],
   "source": [
    "# X, Y data의 index를 y_data의 인덱스에 맞춰 Join 실행(NaN 값 : drop)\n",
    "xy = pd.concat([x_data, y_data], axis=1, join='inner', join_axes = [x_data.index] )\n",
    "xy.dropna(inplace=True)"
   ]
  },
  {
   "cell_type": "code",
   "execution_count": 7,
   "metadata": {},
   "outputs": [],
   "source": [
    "#x,y값 재추출\n",
    "x = xy[['temp_zone7_10', 'temp_zone7_12', 'temp_zone7_14', 'temp_zone7_16',\n",
    "       'temp_zone7_6', 'temp_zone7_8','temp_zone8_25', 'temp_zone8_27', 'temp_zone8_29', 'temp_zone8_31',\n",
    "       'temp_zone8_33', 'temp_zone8_35']]\n",
    "# y = xy[['A', 'B', 'C', 'D', 'E', 'F', 'G', 'H', 'I', 'J','K', 'L', 'M', 'N', 'O']]\n",
    "y = xy[['E']]"
   ]
  },
  {
   "cell_type": "code",
   "execution_count": 8,
   "metadata": {},
   "outputs": [],
   "source": []
  },
  {
   "cell_type": "code",
   "execution_count": 9,
   "metadata": {},
   "outputs": [],
   "source": [
    "st = StandardScaler()"
   ]
  },
  {
   "cell_type": "code",
   "execution_count": 11,
   "metadata": {},
   "outputs": [],
   "source": [
    "b = st.fit(x)"
   ]
  },
  {
   "cell_type": "code",
   "execution_count": 16,
   "metadata": {},
   "outputs": [],
   "source": [
    "b = st.fit_transform(X)"
   ]
  },
  {
   "cell_type": "code",
   "execution_count": 19,
   "metadata": {},
   "outputs": [],
   "source": [
    "a = st.fit_transform(y)"
   ]
  },
  {
   "cell_type": "code",
   "execution_count": null,
   "metadata": {},
   "outputs": [],
   "source": []
  },
  {
   "cell_type": "code",
   "execution_count": 20,
   "metadata": {},
   "outputs": [
    {
     "data": {
      "text/html": [
       "<table class=\"simpletable\">\n",
       "<caption>OLS Regression Results</caption>\n",
       "<tr>\n",
       "  <th>Dep. Variable:</th>            <td>y</td>        <th>  R-squared:         </th> <td>   0.221</td>\n",
       "</tr>\n",
       "<tr>\n",
       "  <th>Model:</th>                   <td>OLS</td>       <th>  Adj. R-squared:    </th> <td>   0.210</td>\n",
       "</tr>\n",
       "<tr>\n",
       "  <th>Method:</th>             <td>Least Squares</td>  <th>  F-statistic:       </th> <td>   19.61</td>\n",
       "</tr>\n",
       "<tr>\n",
       "  <th>Date:</th>             <td>Tue, 16 Oct 2018</td> <th>  Prob (F-statistic):</th> <td>6.21e-38</td>\n",
       "</tr>\n",
       "<tr>\n",
       "  <th>Time:</th>                 <td>20:12:28</td>     <th>  Log-Likelihood:    </th> <td> -1089.6</td>\n",
       "</tr>\n",
       "<tr>\n",
       "  <th>No. Observations:</th>      <td>   842</td>      <th>  AIC:               </th> <td>   2205.</td>\n",
       "</tr>\n",
       "<tr>\n",
       "  <th>Df Residuals:</th>          <td>   829</td>      <th>  BIC:               </th> <td>   2267.</td>\n",
       "</tr>\n",
       "<tr>\n",
       "  <th>Df Model:</th>              <td>    12</td>      <th>                     </th>     <td> </td>   \n",
       "</tr>\n",
       "<tr>\n",
       "  <th>Covariance Type:</th>      <td>nonrobust</td>    <th>                     </th>     <td> </td>   \n",
       "</tr>\n",
       "</table>\n",
       "<table class=\"simpletable\">\n",
       "<tr>\n",
       "    <td></td>       <th>coef</th>     <th>std err</th>      <th>t</th>      <th>P>|t|</th>  <th>[0.025</th>    <th>0.975]</th>  \n",
       "</tr>\n",
       "<tr>\n",
       "  <th>const</th> <td>-8.448e-15</td> <td>    0.031</td> <td>-2.76e-13</td> <td> 1.000</td> <td>   -0.060</td> <td>    0.060</td>\n",
       "</tr>\n",
       "<tr>\n",
       "  <th>x1</th>    <td> 1.314e-15</td> <td> 1.08e-15</td> <td>    1.213</td> <td> 0.225</td> <td>-8.12e-16</td> <td> 3.44e-15</td>\n",
       "</tr>\n",
       "<tr>\n",
       "  <th>x2</th>    <td>    0.7050</td> <td>    0.466</td> <td>    1.512</td> <td> 0.131</td> <td>   -0.210</td> <td>    1.620</td>\n",
       "</tr>\n",
       "<tr>\n",
       "  <th>x3</th>    <td>   -0.6906</td> <td>    0.464</td> <td>   -1.487</td> <td> 0.137</td> <td>   -1.602</td> <td>    0.221</td>\n",
       "</tr>\n",
       "<tr>\n",
       "  <th>x4</th>    <td>    0.2291</td> <td>    0.511</td> <td>    0.448</td> <td> 0.654</td> <td>   -0.774</td> <td>    1.232</td>\n",
       "</tr>\n",
       "<tr>\n",
       "  <th>x5</th>    <td>   -0.3820</td> <td>    0.313</td> <td>   -1.219</td> <td> 0.223</td> <td>   -0.997</td> <td>    0.233</td>\n",
       "</tr>\n",
       "<tr>\n",
       "  <th>x6</th>    <td>   -0.1374</td> <td>    0.558</td> <td>   -0.246</td> <td> 0.806</td> <td>   -1.233</td> <td>    0.958</td>\n",
       "</tr>\n",
       "<tr>\n",
       "  <th>x7</th>    <td>    0.7261</td> <td>    0.601</td> <td>    1.207</td> <td> 0.228</td> <td>   -0.454</td> <td>    1.906</td>\n",
       "</tr>\n",
       "<tr>\n",
       "  <th>x8</th>    <td>    2.6782</td> <td>    0.617</td> <td>    4.343</td> <td> 0.000</td> <td>    1.468</td> <td>    3.889</td>\n",
       "</tr>\n",
       "<tr>\n",
       "  <th>x9</th>    <td>   -0.6097</td> <td>    0.744</td> <td>   -0.819</td> <td> 0.413</td> <td>   -2.070</td> <td>    0.851</td>\n",
       "</tr>\n",
       "<tr>\n",
       "  <th>x10</th>   <td>    0.5550</td> <td>    0.170</td> <td>    3.262</td> <td> 0.001</td> <td>    0.221</td> <td>    0.889</td>\n",
       "</tr>\n",
       "<tr>\n",
       "  <th>x11</th>   <td>   -0.7201</td> <td>    0.195</td> <td>   -3.691</td> <td> 0.000</td> <td>   -1.103</td> <td>   -0.337</td>\n",
       "</tr>\n",
       "<tr>\n",
       "  <th>x12</th>   <td>   -0.0521</td> <td>    0.201</td> <td>   -0.259</td> <td> 0.796</td> <td>   -0.447</td> <td>    0.343</td>\n",
       "</tr>\n",
       "<tr>\n",
       "  <th>x13</th>   <td>   -1.9091</td> <td>    0.404</td> <td>   -4.730</td> <td> 0.000</td> <td>   -2.701</td> <td>   -1.117</td>\n",
       "</tr>\n",
       "</table>\n",
       "<table class=\"simpletable\">\n",
       "<tr>\n",
       "  <th>Omnibus:</th>       <td>129.219</td> <th>  Durbin-Watson:     </th> <td>   0.120</td>\n",
       "</tr>\n",
       "<tr>\n",
       "  <th>Prob(Omnibus):</th> <td> 0.000</td>  <th>  Jarque-Bera (JB):  </th> <td> 194.822</td>\n",
       "</tr>\n",
       "<tr>\n",
       "  <th>Skew:</th>          <td>-1.047</td>  <th>  Prob(JB):          </th> <td>4.95e-43</td>\n",
       "</tr>\n",
       "<tr>\n",
       "  <th>Kurtosis:</th>      <td> 4.080</td>  <th>  Cond. No.          </th> <td>2.95e+16</td>\n",
       "</tr>\n",
       "</table><br/><br/>Warnings:<br/>[1] Standard Errors assume that the covariance matrix of the errors is correctly specified.<br/>[2] The smallest eigenvalue is 1.01e-29. This might indicate that there are<br/>strong multicollinearity problems or that the design matrix is singular."
      ],
      "text/plain": [
       "<class 'statsmodels.iolib.summary.Summary'>\n",
       "\"\"\"\n",
       "                            OLS Regression Results                            \n",
       "==============================================================================\n",
       "Dep. Variable:                      y   R-squared:                       0.221\n",
       "Model:                            OLS   Adj. R-squared:                  0.210\n",
       "Method:                 Least Squares   F-statistic:                     19.61\n",
       "Date:                Tue, 16 Oct 2018   Prob (F-statistic):           6.21e-38\n",
       "Time:                        20:12:28   Log-Likelihood:                -1089.6\n",
       "No. Observations:                 842   AIC:                             2205.\n",
       "Df Residuals:                     829   BIC:                             2267.\n",
       "Df Model:                          12                                         \n",
       "Covariance Type:            nonrobust                                         \n",
       "==============================================================================\n",
       "                 coef    std err          t      P>|t|      [0.025      0.975]\n",
       "------------------------------------------------------------------------------\n",
       "const      -8.448e-15      0.031  -2.76e-13      1.000      -0.060       0.060\n",
       "x1          1.314e-15   1.08e-15      1.213      0.225   -8.12e-16    3.44e-15\n",
       "x2             0.7050      0.466      1.512      0.131      -0.210       1.620\n",
       "x3            -0.6906      0.464     -1.487      0.137      -1.602       0.221\n",
       "x4             0.2291      0.511      0.448      0.654      -0.774       1.232\n",
       "x5            -0.3820      0.313     -1.219      0.223      -0.997       0.233\n",
       "x6            -0.1374      0.558     -0.246      0.806      -1.233       0.958\n",
       "x7             0.7261      0.601      1.207      0.228      -0.454       1.906\n",
       "x8             2.6782      0.617      4.343      0.000       1.468       3.889\n",
       "x9            -0.6097      0.744     -0.819      0.413      -2.070       0.851\n",
       "x10            0.5550      0.170      3.262      0.001       0.221       0.889\n",
       "x11           -0.7201      0.195     -3.691      0.000      -1.103      -0.337\n",
       "x12           -0.0521      0.201     -0.259      0.796      -0.447       0.343\n",
       "x13           -1.9091      0.404     -4.730      0.000      -2.701      -1.117\n",
       "==============================================================================\n",
       "Omnibus:                      129.219   Durbin-Watson:                   0.120\n",
       "Prob(Omnibus):                  0.000   Jarque-Bera (JB):              194.822\n",
       "Skew:                          -1.047   Prob(JB):                     4.95e-43\n",
       "Kurtosis:                       4.080   Cond. No.                     2.95e+16\n",
       "==============================================================================\n",
       "\n",
       "Warnings:\n",
       "[1] Standard Errors assume that the covariance matrix of the errors is correctly specified.\n",
       "[2] The smallest eigenvalue is 1.01e-29. This might indicate that there are\n",
       "strong multicollinearity problems or that the design matrix is singular.\n",
       "\"\"\""
      ]
     },
     "execution_count": 20,
     "metadata": {},
     "output_type": "execute_result"
    }
   ],
   "source": [
    "import statsmodels.api as sm\n",
    "X = sm.add_constant(b)\n",
    "model = sm.OLS(a,X)\n",
    "results = model.fit()\n",
    "results.summary()"
   ]
  },
  {
   "cell_type": "code",
   "execution_count": null,
   "metadata": {},
   "outputs": [],
   "source": []
  },
  {
   "cell_type": "code",
   "execution_count": null,
   "metadata": {},
   "outputs": [],
   "source": []
  },
  {
   "cell_type": "code",
   "execution_count": null,
   "metadata": {},
   "outputs": [],
   "source": []
  },
  {
   "cell_type": "code",
   "execution_count": 8,
   "metadata": {},
   "outputs": [
    {
     "name": "stderr",
     "output_type": "stream",
     "text": [
      "C:\\Users\\chongs\\Anaconda3\\envs\\mypython\\lib\\site-packages\\sklearn\\cross_validation.py:41: DeprecationWarning: This module was deprecated in version 0.18 in favor of the model_selection module into which all the refactored classes and functions are moved. Also note that the interface of the new CV iterators are different from that of this module. This module will be removed in 0.20.\n",
      "  \"This module will be removed in 0.20.\", DeprecationWarning)\n"
     ]
    }
   ],
   "source": [
    "# Train / Test set 나누기\n",
    "from sklearn.cross_validation import train_test_split\n",
    "X_train, X_test, y_train, y_test = train_test_split(x, y, test_size=0.33, random_state=100)"
   ]
  },
  {
   "cell_type": "code",
   "execution_count": 9,
   "metadata": {},
   "outputs": [
    {
     "data": {
      "text/plain": [
       "LinearRegression(copy_X=True, fit_intercept=True, n_jobs=1, normalize=False)"
      ]
     },
     "execution_count": 9,
     "metadata": {},
     "output_type": "execute_result"
    }
   ],
   "source": [
    "# Fitting Linear Regression to the dataset\n",
    "from sklearn.linear_model import LinearRegression\n",
    "lin_reg = LinearRegression()\n",
    "lin_reg.fit(X_train,y_train)"
   ]
  },
  {
   "cell_type": "code",
   "execution_count": 10,
   "metadata": {},
   "outputs": [
    {
     "data": {
      "text/plain": [
       "LinearRegression(copy_X=True, fit_intercept=True, n_jobs=1, normalize=False)"
      ]
     },
     "execution_count": 10,
     "metadata": {},
     "output_type": "execute_result"
    }
   ],
   "source": [
    "# Fitting Polynominal Regression to the dataset\n",
    "from sklearn.preprocessing import PolynomialFeatures\n",
    "poly_reg = PolynomialFeatures(degree = 5)\n",
    "X_train_poly = poly_reg.fit_transform(X_train)\n",
    "X_test_poly = poly_reg.fit_transform(X_test)\n",
    "# Must create new linear regresstion model\n",
    "lin_reg2 = LinearRegression()\n",
    "lin_reg2.fit(X_train_poly, y_train)"
   ]
  },
  {
   "cell_type": "code",
   "execution_count": 11,
   "metadata": {},
   "outputs": [
    {
     "data": {
      "text/plain": [
       "(564, 12)"
      ]
     },
     "execution_count": 11,
     "metadata": {},
     "output_type": "execute_result"
    }
   ],
   "source": [
    "X_train.shape"
   ]
  },
  {
   "cell_type": "code",
   "execution_count": 12,
   "metadata": {},
   "outputs": [
    {
     "data": {
      "text/plain": [
       "(564, 6188)"
      ]
     },
     "execution_count": 12,
     "metadata": {},
     "output_type": "execute_result"
    }
   ],
   "source": [
    "X_train_poly.shape"
   ]
  },
  {
   "cell_type": "code",
   "execution_count": 13,
   "metadata": {},
   "outputs": [
    {
     "data": {
      "text/plain": [
       "array([[1.00000000e+00, 7.25000000e+02, 7.25000000e+02, ...,\n",
       "        2.14310124e+14, 2.14407361e+14, 2.14504642e+14],\n",
       "       [1.00000000e+00, 7.20000000e+02, 7.20000000e+02, ...,\n",
       "        2.07307159e+14, 2.07307159e+14, 2.07307159e+14],\n",
       "       [1.00000000e+00, 7.25000000e+02, 7.25000000e+02, ...,\n",
       "        2.07307159e+14, 2.07307159e+14, 2.07307159e+14],\n",
       "       ...,\n",
       "       [1.00000000e+00, 7.25000000e+02, 7.25000000e+02, ...,\n",
       "        2.13921353e+14, 2.14212799e+14, 2.14504642e+14],\n",
       "       [1.00000000e+00, 7.25000000e+02, 7.25000000e+02, ...,\n",
       "        2.15088725e+14, 2.14796485e+14, 2.14504642e+14],\n",
       "       [1.00000000e+00, 7.20000000e+02, 7.20000000e+02, ...,\n",
       "        2.08729503e+14, 2.08017115e+14, 2.07307159e+14]])"
      ]
     },
     "execution_count": 13,
     "metadata": {},
     "output_type": "execute_result"
    }
   ],
   "source": [
    "X_train_poly"
   ]
  },
  {
   "cell_type": "code",
   "execution_count": 14,
   "metadata": {},
   "outputs": [
    {
     "name": "stdout",
     "output_type": "stream",
     "text": [
      "R2 - Train : 0.990, Test: -48333.100\n"
     ]
    }
   ],
   "source": [
    "\n",
    "#결정계수 r2 score 계싼\n",
    "from sklearn.metrics import r2_score\n",
    "y_train_poly_pred = lin_reg2.predict(X_train_poly)\n",
    "y_test_poly_pred = lin_reg2.predict(X_test_poly)\n",
    "\n",
    "r2_train_poly = r2_score(y_train, y_train_poly_pred)\n",
    "r2_test_poly = r2_score(y_test, y_test_poly_pred)\n",
    "\n",
    "print('R2 - Train : %.3f, Test: %.3f' %(r2_train_poly, r2_test_poly))\n"
   ]
  },
  {
   "cell_type": "code",
   "execution_count": 15,
   "metadata": {},
   "outputs": [
    {
     "name": "stdout",
     "output_type": "stream",
     "text": [
      "maximum score :  0.7454221044347324\n",
      "max scored degree :  [2]\n"
     ]
    },
    {
     "data": {
      "image/png": "[encoded data removed]",
      "text/plain": [
       "<Figure size 432x288 with 1 Axes>"
      ]
     },
     "metadata": {},
     "output_type": "display_data"
    }
   ],
   "source": [
    "from sklearn.preprocessing import PolynomialFeatures\n",
    "from sklearn.metrics import r2_score\n",
    "from sklearn import metrics\n",
    "from sklearn.multioutput import MultiOutputRegressor\n",
    "# poly_reg = PolynomialFeatures(degree = 5)\n",
    "# X_train_poly = poly_reg.fit_transform(X_train)\n",
    "# X_test_poly = poly_reg.fit_transform(X_test)\n",
    "# # Must create new linear regresstion model\n",
    "# lin_reg2 = LinearRegression()\n",
    "# lin_reg2.fit(X_train_poly, y_train)\n",
    "# Must create new linear regresstion model\n",
    "\n",
    "\n",
    "degrees = np.arange(1, 10, 1)\n",
    "scores = []\n",
    "for n in degrees:\n",
    "    poly_reg = PolynomialFeatures(degree = 1)\n",
    "    poly_reg.set_params(degree = n)\n",
    "    X_train_poly = poly_reg.fit_transform(X_train)\n",
    "    X_test_poly = poly_reg.fit_transform(X_test)\n",
    "    \n",
    "    lin_reg2 = MultiOutputRegressor(LinearRegression())\n",
    "    lin_reg2.fit(X_train_poly, y_train)\n",
    "    \n",
    "    scores.append(lin_reg2.score(X_test_poly, y_test))\n",
    "\n",
    "plt.title(\"Effect of degree_test_set\")\n",
    "plt.xlabel(\"degree\")\n",
    "plt.ylabel(\"score\")\n",
    "plt.plot(degrees, scores)\n",
    "print('maximum score : ', np.max(scores))\n",
    "print('max scored degree : ', degrees[np.where(scores == np.max(scores))])\n",
    "#degree : 2 에서 최적의 score를 얻을 수있다."
   ]
  },
  {
   "cell_type": "code",
   "execution_count": 16,
   "metadata": {},
   "outputs": [
    {
     "name": "stdout",
     "output_type": "stream",
     "text": [
      "maximum score :  0.9895819014932105\n",
      "max scored degree :  [7]\n"
     ]
    },
    {
     "data": {
      "image/png": "[encoded data removed]",
      "text/plain": [
       "<Figure size 432x288 with 1 Axes>"
      ]
     },
     "metadata": {},
     "output_type": "display_data"
    }
   ],
   "source": [
    "from sklearn.preprocessing import PolynomialFeatures\n",
    "from sklearn.metrics import r2_score\n",
    "from sklearn import metrics\n",
    "from sklearn.multioutput import MultiOutputRegressor\n",
    "# poly_reg = PolynomialFeatures(degree = 5)\n",
    "# X_train_poly = poly_reg.fit_transform(X_train)\n",
    "# X_test_poly = poly_reg.fit_transform(X_test)\n",
    "# # Must create new linear regresstion model\n",
    "# lin_reg2 = LinearRegression()\n",
    "# lin_reg2.fit(X_train_poly, y_train)\n",
    "\n",
    "\n",
    "degrees = np.arange(1, 10, 1)\n",
    "scores = []\n",
    "for n in degrees:\n",
    "    poly_reg = PolynomialFeatures(degree = 1)\n",
    "    poly_reg.set_params(degree = n)\n",
    "    X_train_poly = poly_reg.fit_transform(X_train)\n",
    "    X_test_poly = poly_reg.fit_transform(X_test)\n",
    "    \n",
    "    lin_reg2 = MultiOutputRegressor(LinearRegression())\n",
    "    lin_reg2.fit(X_train_poly, y_train)\n",
    "    \n",
    "    scores.append(lin_reg2.score(X_train_poly, y_train))\n",
    "\n",
    "plt.title(\"Effect of degree_train_set\")\n",
    "plt.xlabel(\"degree\")\n",
    "plt.ylabel(\"score\")\n",
    "plt.plot(degrees, scores)\n",
    "print('maximum score : ', np.max(scores))\n",
    "print('max scored degree : ', degrees[np.where(scores == np.max(scores))])\n",
    "#degree : 2 에서 최적의 score를 얻을 수있다."
   ]
  },
  {
   "cell_type": "code",
   "execution_count": 17,
   "metadata": {},
   "outputs": [
    {
     "name": "stdout",
     "output_type": "stream",
     "text": [
      "R2 - Train : 0.554, Test: 0.328\n"
     ]
    }
   ],
   "source": [
    "#x,y값 재추출\n",
    "x = xy[['temp_zone7_10', 'temp_zone7_12', 'temp_zone7_14', 'temp_zone7_16',\n",
    "       'temp_zone7_6', 'temp_zone7_8','temp_zone8_25', 'temp_zone8_27', 'temp_zone8_29', 'temp_zone8_31',\n",
    "       'temp_zone8_33', 'temp_zone8_35']]\n",
    "y = xy[['A', 'B', 'C', 'D', 'E', 'F', 'G', 'H', 'I', 'J','K', 'L', 'M', 'N', 'O']]\n",
    "\n",
    "# Train / Test set 나누기\n",
    "from sklearn.cross_validation import train_test_split\n",
    "X_train, X_test, y_train, y_test = train_test_split(x, y, test_size=0.33, random_state=100)\n",
    "# Fitting Polynominal Regression to the dataset\n",
    "from sklearn.preprocessing import PolynomialFeatures\n",
    "poly_reg = PolynomialFeatures(degree = 2)\n",
    "X_train_poly = poly_reg.fit_transform(X_train)\n",
    "X_test_poly = poly_reg.fit_transform(X_test)\n",
    "# Must create new linear regresstion model\n",
    "from sklearn.multioutput import MultiOutputRegressor\n",
    "from sklearn.linear_model import Ridge\n",
    "lin_reg2 = MultiOutputRegressor(Ridge(alpha = 10))\n",
    "lin_reg2.fit(X_train_poly, y_train)\n",
    "\n",
    "\n",
    "#Score\n",
    "r2_train_poly = lin_reg2.score(X_train_poly, y_train)\n",
    "r2_test_poly = lin_reg2.score(X_test_poly, y_test)\n",
    "\n",
    "print('R2 - Train : %.3f, Test: %.3f' %(r2_train_poly, r2_test_poly))"
   ]
  },
  {
   "cell_type": "code",
   "execution_count": 18,
   "metadata": {},
   "outputs": [
    {
     "name": "stderr",
     "output_type": "stream",
     "text": [
      "C:\\Users\\chongs\\Anaconda3\\envs\\mypython\\lib\\site-packages\\sklearn\\linear_model\\coordinate_descent.py:491: ConvergenceWarning: Objective did not converge. You might want to increase the number of iterations. Fitting data with very small alpha may cause precision problems.\n",
      "  ConvergenceWarning)\n",
      "C:\\Users\\chongs\\Anaconda3\\envs\\mypython\\lib\\site-packages\\sklearn\\linear_model\\coordinate_descent.py:491: ConvergenceWarning: Objective did not converge. You might want to increase the number of iterations. Fitting data with very small alpha may cause precision problems.\n",
      "  ConvergenceWarning)\n",
      "C:\\Users\\chongs\\Anaconda3\\envs\\mypython\\lib\\site-packages\\sklearn\\linear_model\\coordinate_descent.py:491: ConvergenceWarning: Objective did not converge. You might want to increase the number of iterations. Fitting data with very small alpha may cause precision problems.\n",
      "  ConvergenceWarning)\n",
      "C:\\Users\\chongs\\Anaconda3\\envs\\mypython\\lib\\site-packages\\sklearn\\linear_model\\coordinate_descent.py:491: ConvergenceWarning: Objective did not converge. You might want to increase the number of iterations. Fitting data with very small alpha may cause precision problems.\n",
      "  ConvergenceWarning)\n",
      "C:\\Users\\chongs\\Anaconda3\\envs\\mypython\\lib\\site-packages\\sklearn\\linear_model\\coordinate_descent.py:491: ConvergenceWarning: Objective did not converge. You might want to increase the number of iterations. Fitting data with very small alpha may cause precision problems.\n",
      "  ConvergenceWarning)\n",
      "C:\\Users\\chongs\\Anaconda3\\envs\\mypython\\lib\\site-packages\\sklearn\\linear_model\\coordinate_descent.py:491: ConvergenceWarning: Objective did not converge. You might want to increase the number of iterations. Fitting data with very small alpha may cause precision problems.\n",
      "  ConvergenceWarning)\n",
      "C:\\Users\\chongs\\Anaconda3\\envs\\mypython\\lib\\site-packages\\sklearn\\linear_model\\coordinate_descent.py:491: ConvergenceWarning: Objective did not converge. You might want to increase the number of iterations. Fitting data with very small alpha may cause precision problems.\n",
      "  ConvergenceWarning)\n",
      "C:\\Users\\chongs\\Anaconda3\\envs\\mypython\\lib\\site-packages\\sklearn\\linear_model\\coordinate_descent.py:491: ConvergenceWarning: Objective did not converge. You might want to increase the number of iterations. Fitting data with very small alpha may cause precision problems.\n",
      "  ConvergenceWarning)\n",
      "C:\\Users\\chongs\\Anaconda3\\envs\\mypython\\lib\\site-packages\\sklearn\\linear_model\\coordinate_descent.py:491: ConvergenceWarning: Objective did not converge. You might want to increase the number of iterations. Fitting data with very small alpha may cause precision problems.\n",
      "  ConvergenceWarning)\n",
      "C:\\Users\\chongs\\Anaconda3\\envs\\mypython\\lib\\site-packages\\sklearn\\linear_model\\coordinate_descent.py:491: ConvergenceWarning: Objective did not converge. You might want to increase the number of iterations. Fitting data with very small alpha may cause precision problems.\n",
      "  ConvergenceWarning)\n",
      "C:\\Users\\chongs\\Anaconda3\\envs\\mypython\\lib\\site-packages\\sklearn\\linear_model\\coordinate_descent.py:491: ConvergenceWarning: Objective did not converge. You might want to increase the number of iterations. Fitting data with very small alpha may cause precision problems.\n",
      "  ConvergenceWarning)\n",
      "C:\\Users\\chongs\\Anaconda3\\envs\\mypython\\lib\\site-packages\\sklearn\\linear_model\\coordinate_descent.py:491: ConvergenceWarning: Objective did not converge. You might want to increase the number of iterations. Fitting data with very small alpha may cause precision problems.\n",
      "  ConvergenceWarning)\n"
     ]
    },
    {
     "name": "stdout",
     "output_type": "stream",
     "text": [
      "R2 - Train : 0.241, Test: 0.131\n"
     ]
    },
    {
     "name": "stderr",
     "output_type": "stream",
     "text": [
      "C:\\Users\\chongs\\Anaconda3\\envs\\mypython\\lib\\site-packages\\sklearn\\linear_model\\coordinate_descent.py:491: ConvergenceWarning: Objective did not converge. You might want to increase the number of iterations. Fitting data with very small alpha may cause precision problems.\n",
      "  ConvergenceWarning)\n",
      "C:\\Users\\chongs\\Anaconda3\\envs\\mypython\\lib\\site-packages\\sklearn\\linear_model\\coordinate_descent.py:491: ConvergenceWarning: Objective did not converge. You might want to increase the number of iterations. Fitting data with very small alpha may cause precision problems.\n",
      "  ConvergenceWarning)\n",
      "C:\\Users\\chongs\\Anaconda3\\envs\\mypython\\lib\\site-packages\\sklearn\\linear_model\\coordinate_descent.py:491: ConvergenceWarning: Objective did not converge. You might want to increase the number of iterations. Fitting data with very small alpha may cause precision problems.\n",
      "  ConvergenceWarning)\n"
     ]
    }
   ],
   "source": [
    "#Lasso\n",
    "\n",
    "#x,y값 재추출\n",
    "x = xy[['temp_zone7_10', 'temp_zone7_12', 'temp_zone7_14', 'temp_zone7_16',\n",
    "       'temp_zone7_6', 'temp_zone7_8','temp_zone8_25', 'temp_zone8_27', 'temp_zone8_29', 'temp_zone8_31',\n",
    "       'temp_zone8_33', 'temp_zone8_35']]\n",
    "y = xy[['A', 'B', 'C', 'D', 'E', 'F', 'G', 'H', 'I', 'J','K', 'L', 'M', 'N', 'O']]\n",
    "\n",
    "# Train / Test set 나누기\n",
    "from sklearn.cross_validation import train_test_split\n",
    "X_train, X_test, y_train, y_test = train_test_split(x, y, test_size=0.33, random_state=100)\n",
    "# Fitting Polynominal Regression to the dataset\n",
    "from sklearn.preprocessing import PolynomialFeatures\n",
    "poly_reg = PolynomialFeatures(degree = 2)\n",
    "X_train_poly = poly_reg.fit_transform(X_train)\n",
    "X_test_poly = poly_reg.fit_transform(X_test)\n",
    "# Must create new linear regresstion model\n",
    "from sklearn.multioutput import MultiOutputRegressor\n",
    "from sklearn.linear_model import Lasso\n",
    "lin_reg2 = MultiOutputRegressor(Lasso(alpha = 0.1))\n",
    "lin_reg2.fit(X_train_poly, y_train)\n",
    "\n",
    "\n",
    "#Score\n",
    "r2_train_poly = lin_reg2.score(X_train_poly, y_train)\n",
    "r2_test_poly = lin_reg2.score(X_test_poly, y_test)\n",
    "\n",
    "print('R2 - Train : %.3f, Test: %.3f' %(r2_train_poly, r2_test_poly))"
   ]
  },
  {
   "cell_type": "code",
   "execution_count": 19,
   "metadata": {},
   "outputs": [
    {
     "name": "stdout",
     "output_type": "stream",
     "text": [
      "R2 - Train : 0.787, Test: 0.701\n"
     ]
    }
   ],
   "source": [
    "#x,y값 재추출\n",
    "x = xy[['temp_zone7_10', 'temp_zone7_12', 'temp_zone7_14', 'temp_zone7_16',\n",
    "       'temp_zone7_6', 'temp_zone7_8','temp_zone8_25', 'temp_zone8_27', 'temp_zone8_29', 'temp_zone8_31',\n",
    "       'temp_zone8_33', 'temp_zone8_35']]\n",
    "y = xy[['A', 'B', 'C', 'D', 'E', 'F', 'G', 'H', 'I', 'J','K', 'L', 'M', 'N', 'O']]\n",
    "\n",
    "# Train / Test set 나누기\n",
    "from sklearn.cross_validation import train_test_split\n",
    "X_train, X_test, y_train, y_test = train_test_split(x, y, test_size=0.33, random_state=100)\n",
    "# Fitting Polynominal Regression to the dataset\n",
    "from sklearn.preprocessing import PolynomialFeatures\n",
    "poly_reg = PolynomialFeatures(degree = 2)\n",
    "X_train_poly = poly_reg.fit_transform(X_train)\n",
    "X_test_poly = poly_reg.fit_transform(X_test)\n",
    "# Must create new linear regresstion model\n",
    "from sklearn.multioutput import MultiOutputRegressor\n",
    "from sklearn.linear_model import LinearRegression\n",
    "lin_reg2 = MultiOutputRegressor(LinearRegression())\n",
    "lin_reg2.fit(X_train_poly, y_train)\n",
    "\n",
    "\n",
    "#Score\n",
    "r2_train_poly = lin_reg2.score(X_train_poly, y_train)\n",
    "r2_test_poly = lin_reg2.score(X_test_poly, y_test)\n",
    "\n",
    "print('R2 - Train : %.3f, Test: %.3f' %(r2_train_poly, r2_test_poly))\n"
   ]
  },
  {
   "cell_type": "code",
   "execution_count": 20,
   "metadata": {},
   "outputs": [
    {
     "name": "stdout",
     "output_type": "stream",
     "text": [
      "(array([89], dtype=int64),)\n",
      "[0.20960358]\n",
      "        temp_zone7_10  temp_zone7_12  temp_zone7_14  temp_zone7_16  \\\n",
      "3                                                                    \n",
      "899662          725.0          725.0          725.0          725.0   \n",
      "\n",
      "        temp_zone7_6  temp_zone7_8  temp_zone8_25  temp_zone8_27  \\\n",
      "3                                                                  \n",
      "899662         725.0         725.0          736.0          736.0   \n",
      "\n",
      "        temp_zone8_29  temp_zone8_31  temp_zone8_33  temp_zone8_35  \n",
      "3                                                                   \n",
      "899662          730.0          730.0          735.0          736.0  \n",
      "std :  0.16717399425786786\n",
      "min :  0.02722728355547588\n",
      "max :  0.6473078269418693\n",
      "mean :  0.3450760432706829\n",
      "Y :  [[0.31249821 0.45328138 0.64730783 0.37194942 0.50184077 0.35077028\n",
      "  0.02722728 0.25276767 0.03502832 0.40571437 0.24566572 0.51331225\n",
      "  0.50063606 0.21084243 0.34729867]]\n",
      "(array([39], dtype=int64),)\n",
      "[0.26516642]\n",
      "        temp_zone7_10  temp_zone7_12  temp_zone7_14  temp_zone7_16  \\\n",
      "3                                                                    \n",
      "899662          725.0          725.0          725.0          725.0   \n",
      "\n",
      "        temp_zone7_6  temp_zone7_8  temp_zone8_25  temp_zone8_27  \\\n",
      "3                                                                  \n",
      "899662         725.0         725.0          736.0          736.0   \n",
      "\n",
      "        temp_zone8_29  temp_zone8_31  temp_zone8_33  temp_zone8_35  \n",
      "3                                                                   \n",
      "899662          730.0          730.0          735.0          736.0  \n",
      "std :  0.18803064301305178\n",
      "min :  -0.14333445951524482\n",
      "max :  0.5575564757027678\n",
      "mean :  0.27951034181543644\n",
      "Y :  [[ 0.29890755  0.39513248  0.55755648  0.39025643  0.42916462  0.33647417\n",
      "  -0.14333446  0.21382204 -0.07613534  0.3473883   0.16259298  0.48768196\n",
      "   0.39872573  0.16253544  0.23188674]]\n",
      "(array([39], dtype=int64),)\n",
      "[0.26516642]\n",
      "        temp_zone7_10  temp_zone7_12  temp_zone7_14  temp_zone7_16  \\\n",
      "3                                                                    \n",
      "899662          725.0          725.0          725.0          725.0   \n",
      "\n",
      "        temp_zone7_6  temp_zone7_8  temp_zone8_25  temp_zone8_27  \\\n",
      "3                                                                  \n",
      "899662         725.0         725.0          736.0          736.0   \n",
      "\n",
      "        temp_zone8_29  temp_zone8_31  temp_zone8_33  temp_zone8_35  \n",
      "3                                                                   \n",
      "899662          730.0          730.0          735.0          736.0  \n",
      "std :  0.18803064301305178\n",
      "min :  -0.14333445951524482\n",
      "max :  0.5575564757027678\n",
      "mean :  0.27951034181543644\n",
      "Y :  [[ 0.29890755  0.39513248  0.55755648  0.39025643  0.42916462  0.33647417\n",
      "  -0.14333446  0.21382204 -0.07613534  0.3473883   0.16259298  0.48768196\n",
      "   0.39872573  0.16253544  0.23188674]]\n"
     ]
    }
   ],
   "source": [
    "#x,y값 재추출\n",
    "x = xy[['temp_zone7_10', 'temp_zone7_12', 'temp_zone7_14', 'temp_zone7_16',\n",
    "       'temp_zone7_6', 'temp_zone7_8','temp_zone8_25', 'temp_zone8_27', 'temp_zone8_29', 'temp_zone8_31',\n",
    "       'temp_zone8_33', 'temp_zone8_35']]\n",
    "y = xy[['A', 'B', 'C', 'D', 'E', 'F', 'G', 'H', 'I', 'J','K', 'L', 'M', 'N', 'O']]\n",
    "\n",
    "\n",
    "# # Fitting Polynominal Regression to the dataset\n",
    "# from sklearn.preprocessing import PolynomialFeatures\n",
    "# from sklearn.pipeline import make_pipeline\n",
    "# from sklearn.multioutput import MultiOutputRegressor\n",
    "# from sklearn.linear_model import LinearRegression\n",
    "\n",
    "\n",
    "# Fitting Polynominal Regression to the dataset\n",
    "from sklearn.preprocessing import PolynomialFeatures\n",
    "poly_reg = PolynomialFeatures(degree = 2)\n",
    "X_train_poly = poly_reg.fit_transform(X_train)\n",
    "X_test_poly = poly_reg.fit_transform(X_test)\n",
    "# Must create new linear regresstion model\n",
    "from sklearn.multioutput import MultiOutputRegressor\n",
    "from sklearn.linear_model import LinearRegression\n",
    "lin_reg2 = MultiOutputRegressor(LinearRegression())\n",
    "lin_reg2.fit(X_train_poly, y_train)\n",
    "\n",
    "y_test_pred_mor = lin_reg2.predict(X_test_poly)\n",
    "#MSE를 통한 최적조건\n",
    "result = []\n",
    "\n",
    "for i in range(len(X_test)):\n",
    "   \n",
    "    mean = np.mean(y_test_pred_mor[i])\n",
    "    sqrerr = np.asarray(mean - y_test_pred_mor[i])**2\n",
    "    cost = (1/2)*np.sum(sqrerr)\n",
    "    result = np.append(result, cost)\n",
    "\n",
    "print(np.where(result == np.min(result)))\n",
    "print(result[np.where(result == np.min(result))])\n",
    "print(X_test.iloc[result[np.where(result == np.min(result))],:])\n",
    "print('std : ',np.std(y_test_pred_mor[np.where(result == np.min(result))]))\n",
    "print('min : ',np.min(y_test_pred_mor[np.where(result == np.min(result))]))\n",
    "print('max : ',np.max(y_test_pred_mor[np.where(result == np.min(result))]))\n",
    "print('mean : ',np.mean(y_test_pred_mor[np.where(result == np.min(result))]))\n",
    "print('Y : ',y_test_pred_mor[np.where(result == np.min(result))])\n",
    "\n",
    "\n",
    "#Mean를 통한 최적조건\n",
    "result2 = []\n",
    "for i in range(len(X_test)):\n",
    "    mean = np.mean(y_test_pred_mor[i])\n",
    "    \n",
    "    result2 = np.append(result2, mean)\n",
    "\n",
    "print(np.where(result2 == np.min(result2)))\n",
    "print(result[np.where(result2 == np.min(result2))])\n",
    "print(X_test.iloc[result[np.where(result2 == np.min(result2))],:])\n",
    "print('std : ',np.std(y_test_pred_mor[np.where(result2 == np.min(result2))]))\n",
    "print('min : ',np.min(y_test_pred_mor[np.where(result2 == np.min(result2))]))\n",
    "print('max : ',np.max(y_test_pred_mor[np.where(result2 == np.min(result2))]))\n",
    "print('mean : ',np.mean(y_test_pred_mor[np.where(result2 == np.min(result2))]))\n",
    "print('Y : ',y_test_pred_mor[np.where(result2 == np.min(result2))])\n",
    "\n",
    "#Max를 통한 최적조건\n",
    "result3 = []\n",
    "for i in range(len(X_test)):\n",
    "    pred_max = np.max(np.abs(y_test_pred_mor[i]))\n",
    "    \n",
    "    result3 = np.append(result3, pred_max)\n",
    "\n",
    "print(np.where(result3 == np.min(result3)))\n",
    "print(result[np.where(result3 == np.min(result3))])\n",
    "print(X_test.iloc[result[np.where(result3 == np.min(result3))],:])\n",
    "print('std : ',np.std(y_test_pred_mor[np.where(result3 == np.min(result3))]))\n",
    "print('min : ',np.min(y_test_pred_mor[np.where(result3 == np.min(result3))]))\n",
    "print('max : ',np.max(y_test_pred_mor[np.where(result3 == np.min(result3))]))\n",
    "print('mean : ',np.mean(y_test_pred_mor[np.where(result3 == np.min(result3))]))\n",
    "print('Y : ',y_test_pred_mor[np.where(result3 == np.min(result3))])\n",
    "\n",
    "\n"
   ]
  },
  {
   "cell_type": "code",
   "execution_count": 21,
   "metadata": {},
   "outputs": [
    {
     "data": {
      "text/plain": [
       "array([1.47513668, 1.04949764, 0.58193189, 0.60808757, 1.05007074,\n",
       "       1.60041305, 1.41400096, 0.8558424 , 1.30581244, 1.95680931,\n",
       "       0.69710961, 0.69736311, 1.20346511, 0.550198  , 1.4250334 ,\n",
       "       0.89054656, 1.44713068, 0.43305361, 1.3504885 , 0.70092687,\n",
       "       0.56119243, 1.33192291, 1.1186173 , 0.67362051, 1.75425781,\n",
       "       0.67046043, 1.60446166, 1.03602872, 0.40594394, 1.71877606,\n",
       "       1.55171428, 1.36777385, 1.48823485, 0.49254425, 1.2380258 ,\n",
       "       0.61468767, 0.36718906, 1.55251587, 1.47609502, 0.26516642,\n",
       "       0.31234016, 1.04800193, 0.59063027, 1.17579551, 0.82349074,\n",
       "       1.0857507 , 0.82641558, 0.54581025, 1.65085367, 1.61921284,\n",
       "       0.5154137 , 0.73084245, 0.48718361, 1.13315055, 1.04078422,\n",
       "       0.57935395, 0.950036  , 0.80924184, 1.48286471, 1.32867278,\n",
       "       0.61486023, 0.32875124, 0.65538081, 0.58193189, 1.03955353,\n",
       "       1.27016244, 0.35791225, 0.29838635, 0.83615747, 0.68430753,\n",
       "       0.92458128, 1.29490785, 1.44461323, 1.76684278, 1.27568836,\n",
       "       0.58370506, 0.67670002, 0.91482007, 0.73954206, 1.38233693,\n",
       "       0.87483748, 0.33795073, 0.31973269, 1.1833528 , 0.23774667,\n",
       "       1.30612794, 0.23858585, 1.3866637 , 0.93182857, 0.20960358,\n",
       "       0.65364026, 1.67818272, 0.40594394, 1.78552549, 0.47890384,\n",
       "       0.4678335 , 0.93083599, 0.6424594 , 1.32221207, 1.70827723,\n",
       "       1.49019184, 0.91771399, 0.21860272, 1.2045176 , 1.62485476,\n",
       "       0.47512757, 0.53797867, 0.42146101, 0.6857368 , 1.49004322,\n",
       "       0.47003561, 0.38270183, 1.40782944, 1.44713068, 0.24097287,\n",
       "       0.21659266, 0.85758937, 0.68879588, 0.56413357, 1.60446166,\n",
       "       1.03714173, 1.15237649, 1.32815947, 0.68245996, 0.30428505,\n",
       "       0.92444367, 1.22788427, 0.69878679, 2.11628592, 0.98232667,\n",
       "       0.90348252, 0.80369877, 0.62071086, 0.75986996, 0.7558029 ,\n",
       "       0.66135955, 1.46162233, 1.47513668, 0.65666391, 0.74339777,\n",
       "       0.40323576, 0.59804124, 0.94125135, 0.52482485, 1.0130079 ,\n",
       "       0.42424533, 1.89575303, 0.79878055, 1.04771317, 1.57060434,\n",
       "       0.61720768, 0.58193189, 1.07874708, 1.02194102, 0.22956837,\n",
       "       0.40594394, 1.3866637 , 0.69879928, 1.19799035, 0.54257295,\n",
       "       1.58957231, 0.55933102, 0.60269283, 0.49882503, 0.69026205,\n",
       "       0.94125135, 0.96009639, 0.84394734, 0.33672663, 0.60808757,\n",
       "       1.53675716, 0.7564507 , 1.82510251, 0.52417143, 1.16400519,\n",
       "       0.53773011, 1.45645257, 0.89981626, 1.42265486, 0.23858585,\n",
       "       1.44713068, 0.22956837, 1.28333766, 0.55041487, 0.22956837,\n",
       "       0.96180191, 0.80799009, 1.04771317, 1.09806099, 1.07238728,\n",
       "       0.4961178 , 0.91518308, 1.24396059, 1.02587371, 0.60445828,\n",
       "       0.90021981, 0.68164802, 0.60808757, 0.33705759, 1.27568836,\n",
       "       0.79338154, 1.13315055, 0.48973699, 1.68791113, 0.50798204,\n",
       "       0.59897141, 1.33192291, 0.40594394, 0.5537737 , 1.04771317,\n",
       "       1.79066782, 0.30815802, 1.47671107, 1.04771317, 1.39388706,\n",
       "       0.44545102, 1.84905551, 0.47890384, 0.85526504, 0.4812998 ,\n",
       "       1.0857507 , 1.5341971 , 0.59035254, 1.11009199, 1.77216014,\n",
       "       0.60989952, 1.19129433, 1.19228069, 1.44625432, 0.77669635,\n",
       "       1.13440388, 0.58193189, 0.80799009, 0.58417389, 0.60808757,\n",
       "       0.42023873, 0.3865186 , 0.22956837, 0.52875339, 0.32096625,\n",
       "       0.86233023, 0.86310157, 0.75890074, 0.72297539, 1.0857507 ,\n",
       "       0.45214626, 1.27568836, 0.39384313, 1.06380219, 0.63032648,\n",
       "       1.27709379, 1.07419378, 1.37171581, 1.0857507 , 1.04771317,\n",
       "       1.40652272, 0.60808757, 0.23490753, 1.23660523, 0.67203105,\n",
       "       0.97271041, 0.6424594 , 0.66597   , 1.51121967, 0.66325591,\n",
       "       0.46281418, 1.31586263, 0.22956837, 0.26566351, 1.10238764,\n",
       "       0.61811607, 1.02735543, 2.02109745, 0.87069041, 1.40374526,\n",
       "       0.71922872, 0.91963119, 1.21716979])"
      ]
     },
     "execution_count": 21,
     "metadata": {},
     "output_type": "execute_result"
    }
   ],
   "source": [
    "result"
   ]
  },
  {
   "cell_type": "code",
   "execution_count": 9,
   "metadata": {},
   "outputs": [
    {
     "name": "stderr",
     "output_type": "stream",
     "text": [
      "C:\\Users\\chongs\\Anaconda3\\envs\\mypython\\lib\\site-packages\\sklearn\\cross_validation.py:41: DeprecationWarning: This module was deprecated in version 0.18 in favor of the model_selection module into which all the refactored classes and functions are moved. Also note that the interface of the new CV iterators are different from that of this module. This module will be removed in 0.20.\n",
      "  \"This module will be removed in 0.20.\", DeprecationWarning)\n",
      "C:\\Users\\chongs\\Anaconda3\\envs\\mypython\\lib\\site-packages\\sklearn\\linear_model\\ridge.py:112: LinAlgWarning: scipy.linalg.solve\n",
      "Ill-conditioned matrix detected. Result is not guaranteed to be accurate.\n",
      "Reciprocal condition number3.092080e-29\n",
      "  overwrite_a=True).T\n"
     ]
    },
    {
     "name": "stdout",
     "output_type": "stream",
     "text": [
      "R2 - Train : 0.681, Test: 0.698\n"
     ]
    },
    {
     "data": {
      "image/png": "[encoded data removed]",
      "text/plain": [
       "<Figure size 432x288 with 1 Axes>"
      ]
     },
     "metadata": {},
     "output_type": "display_data"
    }
   ],
   "source": [
    "#x,y값 재추출\n",
    "# x = xy[['temp_zone7_10', 'temp_zone7_12', 'temp_zone7_14', 'temp_zone7_16',\n",
    "#        'temp_zone7_6', 'temp_zone7_8','temp_zone8_25', 'temp_zone8_27', 'temp_zone8_29', 'temp_zone8_31',\n",
    "#        'temp_zone8_33', 'temp_zone8_35']]\n",
    "x = xy[['temp_zone8_31']]\n",
    "y = xy[['H']]\n",
    "\n",
    "# Train / Test set 나누기\n",
    "from sklearn.cross_validation import train_test_split\n",
    "X_train, X_test, y_train, y_test = train_test_split(x, y, test_size=0.33, random_state=100)\n",
    "\n",
    "# Fitting Polynominal Regression to the dataset\n",
    "from sklearn.preprocessing import PolynomialFeatures\n",
    "poly_reg = PolynomialFeatures(degree = 5)\n",
    "X_train_poly = poly_reg.fit_transform(X_train)\n",
    "X_test_poly = poly_reg.fit_transform(X_test)\n",
    "# Must create new linear regresstion model\n",
    "from sklearn.linear_model import Ridge\n",
    "lin_reg2 = Ridge(alpha=1)\n",
    "lin_reg2.fit(X_train_poly, y_train)\n",
    "\n",
    "\n",
    "#Score\n",
    "r2_train_poly = lin_reg2.score(X_train_poly, y_train)\n",
    "r2_test_poly = lin_reg2.score(X_test_poly, y_test)\n",
    "\n",
    "print('R2 - Train : %.3f, Test: %.3f' %(r2_train_poly, r2_test_poly))\n",
    "\n",
    "prediction = lin_reg2.predict(X_test_poly)\n",
    "\n",
    "# Visualising the Polynomial Regression result\n",
    "X_grid = np.arange(np.min(X_train), np.max(X_train), 1)\n",
    "X_grid = X_grid.reshape((len(X_grid),1))\n",
    "#X_grid:그래프를 좀더 스무스하게 만들어줌\n",
    "plt.scatter(x,y, color = 'red')\n",
    "plt.plot(X_grid, lin_reg2.predict(poly_reg.fit_transform(X_grid)))\n",
    "plt.title(\"(Polynomial Regression)\")\n",
    "plt.xlabel(\"temp_zone8_31\")\n",
    "plt.ylabel(\"Surface Curvature\")\n",
    "plt.show()"
   ]
  },
  {
   "cell_type": "code",
   "execution_count": 10,
   "metadata": {},
   "outputs": [
    {
     "name": "stdout",
     "output_type": "stream",
     "text": [
      "R2 - Train : 0.681, Test: 0.698\n"
     ]
    },
    {
     "data": {
      "image/png": "[encoded data removed]",
      "text/plain": [
       "<Figure size 432x288 with 1 Axes>"
      ]
     },
     "metadata": {},
     "output_type": "display_data"
    }
   ],
   "source": [
    "#x,y값 재추출\n",
    "# x = xy[['temp_zone7_10', 'temp_zone7_12', 'temp_zone7_14', 'temp_zone7_16',\n",
    "#        'temp_zone7_6', 'temp_zone7_8','temp_zone8_25', 'temp_zone8_27', 'temp_zone8_29', 'temp_zone8_31',\n",
    "#        'temp_zone8_33', 'temp_zone8_35']]\n",
    "x = xy[['temp_zone8_31']]\n",
    "y = xy[['H']]\n",
    "\n",
    "# Train / Test set 나누기\n",
    "from sklearn.cross_validation import train_test_split\n",
    "X_train, X_test, y_train, y_test = train_test_split(x, y, test_size=0.33, random_state=100)\n",
    "\n",
    "# Fitting Polynominal Regression to the dataset\n",
    "from sklearn.preprocessing import PolynomialFeatures\n",
    "poly_reg = PolynomialFeatures(degree = 5)\n",
    "X_train_poly = poly_reg.fit_transform(X_train)\n",
    "X_test_poly = poly_reg.fit_transform(X_test)\n",
    "# Must create new linear regresstion model\n",
    "from sklearn.linear_model import LinearRegression\n",
    "lin_reg2 = LinearRegression()\n",
    "lin_reg2.fit(X_train_poly, y_train)\n",
    "\n",
    "\n",
    "#Score\n",
    "r2_train_poly = lin_reg2.score(X_train_poly, y_train)\n",
    "r2_test_poly = lin_reg2.score(X_test_poly, y_test)\n",
    "\n",
    "print('R2 - Train : %.3f, Test: %.3f' %(r2_train_poly, r2_test_poly))\n",
    "\n",
    "prediction = lin_reg2.predict(X_test_poly)\n",
    "\n",
    "# Visualising the Polynomial Regression result\n",
    "X_grid = np.arange(np.min(X_train), np.max(X_train), 1)\n",
    "X_grid = X_grid.reshape((len(X_grid),1))\n",
    "#X_grid:그래프를 좀더 스무스하게 만들어줌\n",
    "plt.scatter(x,y, color = 'red')\n",
    "plt.plot(X_grid, lin_reg2.predict(poly_reg.fit_transform(X_grid)))\n",
    "plt.title(\"(Polynomial Regression)\")\n",
    "plt.xlabel(\"temp_zone8_31\")\n",
    "plt.ylabel(\"Surface Curvature\")\n",
    "plt.show()"
   ]
  },
  {
   "cell_type": "code",
   "execution_count": 24,
   "metadata": {},
   "outputs": [
    {
     "name": "stdout",
     "output_type": "stream",
     "text": [
      "R2 - Train : 0.054, Test: 0.074\n"
     ]
    },
    {
     "data": {
      "image/png": "[encoded data removed]",
      "text/plain": [
       "<Figure size 432x288 with 1 Axes>"
      ]
     },
     "metadata": {},
     "output_type": "display_data"
    }
   ],
   "source": [
    "#x,y값 재추출\n",
    "# x = xy[['temp_zone7_10', 'temp_zone7_12', 'temp_zone7_14', 'temp_zone7_16',\n",
    "#        'temp_zone7_6', 'temp_zone7_8','temp_zone8_25', 'temp_zone8_27', 'temp_zone8_29', 'temp_zone8_31',\n",
    "#        'temp_zone8_33', 'temp_zone8_35']]\n",
    "x = xy[['temp_zone8_25']]\n",
    "y = xy[['B']]\n",
    "\n",
    "# Train / Test set 나누기\n",
    "from sklearn.cross_validation import train_test_split\n",
    "X_train, X_test, y_train, y_test = train_test_split(x, y, test_size=0.33, random_state=100)\n",
    "\n",
    "# Fitting Polynominal Regression to the dataset\n",
    "from sklearn.preprocessing import PolynomialFeatures\n",
    "poly_reg = PolynomialFeatures(degree = 8)\n",
    "X_train_poly = poly_reg.fit_transform(X_train)\n",
    "X_test_poly = poly_reg.fit_transform(X_test)\n",
    "# Must create new linear regresstion model\n",
    "from sklearn.linear_model import LinearRegression\n",
    "lin_reg2 = LinearRegression()\n",
    "lin_reg2.fit(X_train_poly, y_train)\n",
    "\n",
    "\n",
    "#Score\n",
    "r2_train_poly = lin_reg2.score(X_train_poly, y_train)\n",
    "r2_test_poly = lin_reg2.score(X_test_poly, y_test)\n",
    "\n",
    "print('R2 - Train : %.3f, Test: %.3f' %(r2_train_poly, r2_test_poly))\n",
    "\n",
    "prediction = lin_reg2.predict(X_test_poly)\n",
    "\n",
    "# Visualising the Polynomial Regression result\n",
    "X_grid = np.arange(np.min(X_train), np.max(X_train), 1)\n",
    "X_grid = X_grid.reshape((len(X_grid),1))\n",
    "#X_grid:그래프를 좀더 스무스하게 만들어줌\n",
    "plt.scatter(x,y, color = 'red')\n",
    "plt.plot(X_grid, lin_reg2.predict(poly_reg.fit_transform(X_grid)))\n",
    "plt.title(\"(Polynomial Regression)\")\n",
    "plt.xlabel(\"temp_zone8_31\")\n",
    "plt.ylabel(\"Surface Curvature\")\n",
    "plt.show()"
   ]
  },
  {
   "cell_type": "code",
   "execution_count": null,
   "metadata": {},
   "outputs": [],
   "source": []
  },
  {
   "cell_type": "code",
   "execution_count": null,
   "metadata": {},
   "outputs": [],
   "source": []
  }
 ],
 "metadata": {
  "kernelspec": {
   "display_name": "mypython",
   "language": "python",
   "name": "myenv"
  },
  "language_info": {
   "codemirror_mode": {
    "name": "ipython",
    "version": 3
   },
   "file_extension": ".py",
   "mimetype": "text/x-python",
   "name": "python",
   "nbconvert_exporter": "python",
   "pygments_lexer": "ipython3",
   "version": "3.6.5"
  }
 },
 "nbformat": 4,
 "nbformat_minor": 2
}
