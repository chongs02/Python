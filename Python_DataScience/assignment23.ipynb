{
 "cells": [
  {
   "cell_type": "code",
   "execution_count": 1,
   "metadata": {},
   "outputs": [],
   "source": [
    "import pandas as pd\n",
    "import sqlite3"
   ]
  },
  {
   "cell_type": "markdown",
   "metadata": {},
   "source": [
    "1. 투수들의 기록중에서 평균자책점(ERA), 투구인닝(IP), 탈삼진(SO) 기록을 찾아서  Pitcher_stats 란 테이블을 만들고, Eagles 테이블과 Join 하여 백넘버, 선수명, 포지션, 투구인닝, 평균자책점, 탈삼진 필드를 갖는 데이터 프레임을 만들어서 Join 한 결과를 입력하고, 그 결과를 보이시오.\n"
   ]
  },
  {
   "cell_type": "code",
   "execution_count": 4,
   "metadata": {},
   "outputs": [],
   "source": [
    " # Table 지우기\n",
    "conn = sqlite3.connect('Users.db') \n",
    "cur = conn.cursor()\n",
    "cur.execute('DROP TABLE Users') \n",
    "conn.commit()\n",
    "conn.close()"
   ]
  },
  {
   "cell_type": "code",
   "execution_count": 3,
   "metadata": {},
   "outputs": [],
   "source": [
    "def create_connection(db_file):\n",
    "    \"\"\" create a database connection to a SQLite database \"\"\"\n",
    "    try:\n",
    "        conn = sqlite3.connect(db_file)\n",
    "        print(sqlite3.version)\n",
    "    except Error as e:\n",
    "        print(e)\n",
    "    finally:\n",
    "        conn.close()\n",
    " \n",
    "create_connection(\"Eagles.db\")"
   ]
  },
  {
   "cell_type": "code",
   "execution_count": 5,
   "metadata": {},
   "outputs": [
    {
     "name": "stdout",
     "output_type": "stream",
     "text": [
      "[(17, '김범수', '투수', '좌투좌타', '천안북일고', 181), (38, '안영명', '투수', '우투우타', '천안북일고', 183), (36, '장민재', '투수', '우투우타', '광주제일고', 184), (13, '최재훈', '포수', '우투우타', '덕수고', 178), (52, '김태균', '내야수', '우투우타', '천안북일고', 185)]\n"
     ]
    }
   ],
   "source": [
    "conn = sqlite3.connect('Eagles.db')\n",
    "cur = conn.cursor()\n",
    "cur.execute('CREATE TABLE Eagles (back_no INT NOT NULL, player TEXT, position TEXT, hands TEXT, highschool TEXT,height INT);')\n",
    "\n",
    "sql = \"insert into Eagles (back_no, player, position, hands, highschool,height) values (?,?,?,?,?,?)\"\n",
    "\n",
    "df = pd.read_csv('hitter.csv', engine='python')\n",
    "\n",
    "for i in range(5):\n",
    "    cur.execute(sql, (df.values[i]))\n",
    "conn.commit()    \n",
    "\n",
    "cur.execute('SELECT * FROM Eagles')\n",
    "print(cur.fetchall())"
   ]
  },
  {
   "cell_type": "code",
   "execution_count": 15,
   "metadata": {},
   "outputs": [
    {
     "name": "stdout",
     "output_type": "stream",
     "text": [
      "[(17, '김범수', '투수', '좌투좌타', '천안북일고', 181), (38, '안영명', '투수', '우투우타', '천안북일고', 183), (36, '장민재', '투수', '우투우타', '광주제일고', 184), (13, '최재훈', '포수', '우투우타', '덕수고', 178), (52, '김태균', '내야수', '우투우타', '천안북일고', 185)]\n"
     ]
    }
   ],
   "source": [
    "conn = sqlite3.connect('Eagles.db')\n",
    "cur = conn.cursor()\n",
    "cur.execute('CREATE TABLE Pitcher (player TEXT, position TEXT, ERA FLOAT, IP TEXT,SO INT);')\n",
    "\n",
    "sql = \"insert into Pitcher (player, position, ERA, IP,SO) values (?,?,?,?,?)\"\n",
    "\n",
    "df = pd.read_csv('pitcher.csv', engine='python')\n",
    "\n",
    "for i in range(24):\n",
    "    cur.execute(sql, (df.values[i]))\n",
    "conn.commit()    \n",
    "\n",
    "cur.execute('SELECT * FROM Eagles')\n",
    "print(cur.fetchall())"
   ]
  },
  {
   "cell_type": "code",
   "execution_count": 23,
   "metadata": {},
   "outputs": [
    {
     "data": {
      "text/html": [
       "<div>\n",
       "<style scoped>\n",
       "    .dataframe tbody tr th:only-of-type {\n",
       "        vertical-align: middle;\n",
       "    }\n",
       "\n",
       "    .dataframe tbody tr th {\n",
       "        vertical-align: top;\n",
       "    }\n",
       "\n",
       "    .dataframe thead th {\n",
       "        text-align: right;\n",
       "    }\n",
       "</style>\n",
       "<table border=\"1\" class=\"dataframe\">\n",
       "  <thead>\n",
       "    <tr style=\"text-align: right;\">\n",
       "      <th></th>\n",
       "      <th>0</th>\n",
       "      <th>1</th>\n",
       "      <th>2</th>\n",
       "      <th>3</th>\n",
       "      <th>4</th>\n",
       "      <th>5</th>\n",
       "      <th>6</th>\n",
       "      <th>7</th>\n",
       "      <th>8</th>\n",
       "      <th>9</th>\n",
       "      <th>10</th>\n",
       "    </tr>\n",
       "  </thead>\n",
       "  <tbody>\n",
       "    <tr>\n",
       "      <th>0</th>\n",
       "      <td>17</td>\n",
       "      <td>김범수</td>\n",
       "      <td>투수</td>\n",
       "      <td>좌투좌타</td>\n",
       "      <td>천안북일고</td>\n",
       "      <td>181</td>\n",
       "      <td>김범수</td>\n",
       "      <td>투수</td>\n",
       "      <td>5.67</td>\n",
       "      <td>81</td>\n",
       "      <td>65</td>\n",
       "    </tr>\n",
       "    <tr>\n",
       "      <th>1</th>\n",
       "      <td>38</td>\n",
       "      <td>안영명</td>\n",
       "      <td>투수</td>\n",
       "      <td>우투우타</td>\n",
       "      <td>천안북일고</td>\n",
       "      <td>183</td>\n",
       "      <td>안영명</td>\n",
       "      <td>투수</td>\n",
       "      <td>3.43</td>\n",
       "      <td>44 2/3</td>\n",
       "      <td>35</td>\n",
       "    </tr>\n",
       "    <tr>\n",
       "      <th>2</th>\n",
       "      <td>36</td>\n",
       "      <td>장민재</td>\n",
       "      <td>투수</td>\n",
       "      <td>우투우타</td>\n",
       "      <td>광주제일고</td>\n",
       "      <td>184</td>\n",
       "      <td>장민재</td>\n",
       "      <td>투수</td>\n",
       "      <td>4.81</td>\n",
       "      <td>91 2/3</td>\n",
       "      <td>84</td>\n",
       "    </tr>\n",
       "  </tbody>\n",
       "</table>\n",
       "</div>"
      ],
      "text/plain": [
       "   0    1   2     3      4    5    6   7     8       9   10\n",
       "0  17  김범수  투수  좌투좌타  천안북일고  181  김범수  투수  5.67  81      65\n",
       "1  38  안영명  투수  우투우타  천안북일고  183  안영명  투수  3.43  44 2/3  35\n",
       "2  36  장민재  투수  우투우타  광주제일고  184  장민재  투수  4.81  91 2/3  84"
      ]
     },
     "execution_count": 23,
     "metadata": {},
     "output_type": "execute_result"
    }
   ],
   "source": [
    "conn = sqlite3.connect('Eagles.db')\n",
    "cur = conn.cursor()\n",
    "cur.execute('SELECT * FROM Eagles JOIN Pitcher ON Eagles.player LIKE Pitcher.player')\n",
    "list_  = cur.fetchall()\n",
    "pd.DataFrame(list_)"
   ]
  },
  {
   "cell_type": "code",
   "execution_count": 24,
   "metadata": {},
   "outputs": [],
   "source": [
    "conn.close()"
   ]
  },
  {
   "attachments": {
    "image.png": {
     "image/png": "[encoded data removed]"
    }
   },
   "cell_type": "markdown",
   "metadata": {},
   "source": [
    "\n",
    "![image.png](attachment:image.png)"
   ]
  },
  {
   "cell_type": "code",
   "execution_count": 25,
   "metadata": {},
   "outputs": [
    {
     "name": "stdout",
     "output_type": "stream",
     "text": [
      "2.6.0\n"
     ]
    }
   ],
   "source": [
    "def create_connection(db_file):\n",
    "    \"\"\" create a database connection to a SQLite database \"\"\"\n",
    "    try:\n",
    "        conn = sqlite3.connect(db_file)\n",
    "        print(sqlite3.version)\n",
    "    except Error as e:\n",
    "        print(e)\n",
    "    finally:\n",
    "        conn.close()\n",
    " \n",
    "create_connection(\"Singer.db\")"
   ]
  },
  {
   "cell_type": "code",
   "execution_count": 43,
   "metadata": {},
   "outputs": [],
   "source": [
    "girlgroup = pd.read_csv('girl_group.csv',engine = 'python')"
   ]
  },
  {
   "cell_type": "code",
   "execution_count": 44,
   "metadata": {},
   "outputs": [],
   "source": [
    "song = pd.read_csv('song.csv',engine = 'python')"
   ]
  },
  {
   "cell_type": "code",
   "execution_count": 50,
   "metadata": {},
   "outputs": [
    {
     "name": "stdout",
     "output_type": "stream",
     "text": [
      "[(101, '원더걸스', '2007-02-10', 5, 'jyp'), (102, '소녀시대', '2007-08-02', 8, 'sm'), (103, '카라', '2009-07-30', 5, 'sec'), (104, '브라운아이드걸스', '2008-01-17', 4, 'melon'), (105, '다비치', '2009-02-27', 2, 'samsung'), (107, '2NE1', '2009-07-08', 4, 'yg'), (109, 'f(x)', '2011-04-20', 4, 'sm'), (110, '시크릿', '2011-01-06', 5, 'lg')]\n"
     ]
    }
   ],
   "source": [
    "conn = sqlite3.connect('Singer.db')\n",
    "cur = conn.cursor()\n",
    "cur.execute('CREATE TABLE girlgroup (id INT NOT NULL, group_name TEXT, debut DATETIME, member INT, company TEXT, PRIMARY KEY(id));')\n",
    "\n",
    "sql = \"insert into girlgroup (id, group_name, debut, member, company) values (?,?,?,?,?)\"\n",
    "\n",
    "for i in range(8):\n",
    "    cur.execute(sql, (girlgroup.values[i]))\n",
    "conn.commit()    \n",
    "\n",
    "cur.execute('SELECT * FROM girlgroup')\n",
    "print(cur.fetchall())"
   ]
  },
  {
   "cell_type": "code",
   "execution_count": 51,
   "metadata": {},
   "outputs": [
    {
     "name": "stdout",
     "output_type": "stream",
     "text": [
      "[(1, 101, 'Tell Me', 'tell me tell me tetetete tel me', 'sec', 2008), (2, 102, 'Gee', 'GEE GEE GEE GEE GEE BABY BABY', 'sec', 2009), (3, 103, '미스터', '이름이 뭐야 미스터', 'jyp', 2010), (4, 104, 'Abracadabra', '이러다 미쳐 내가 여리여리', 'psy', 2007), (5, 105, '8282', 'Give me a call Baby baby', 'lsm', 2006), (6, 106, '기대해', '기대해', 'lsm', 2010), (7, 107, \"I Don't car\", '다른 여자들의 다리를', 'sec', 2008), (8, 108, 'Bad Girl Good Girl', '앞에선 한 마디 말도', 'jyp', 2007), (9, 109, '피노키오', '뉴예삐오', 'psy', 2012), (10, 110, '별빛달빛', '너는 내 별빛 내 마음의 별빛', 'sec', 2011), (11, 111, 'A', 'A 워오우 워오우워 우우우', 'sec', 2013), (12, 112, '나혼자', '나 혼자 밥을 먹고 나 혼자 영화 보고', 'jyp', 2010), (13, 113, 'LUV', '설레이나요', 'sec', 2015), (14, 114, '짧은치마', '짧은 치마를 입고 내가 길을 걸으면', 'jyp', 2014), (15, 115, '위아래', '위 아래 위위 아래', 'psy', 2016), (16, 116, 'Dumb Dumb', '너 땜에 하루종일', 'sec', 2016)]\n"
     ]
    }
   ],
   "source": [
    "conn = sqlite3.connect('Singer.db')\n",
    "cur = conn.cursor()\n",
    "cur.execute('CREATE TABLE song (songid INT NOT NULL,goupid INT, song_name TEXT, lyric TEXT, writer TEXT, year INT, PRIMARY KEY(songid));')\n",
    "\n",
    "sql = \"insert into song (songid,goupid, song_name, lyric, writer, year) values (?,?,?,?,?,?)\"\n",
    "\n",
    "for i in range(16):\n",
    "    cur.execute(sql, (song.values[i]))\n",
    "conn.commit()    \n",
    "\n",
    "cur.execute('SELECT * FROM song')\n",
    "print(cur.fetchall())"
   ]
  },
  {
   "cell_type": "code",
   "execution_count": 53,
   "metadata": {},
   "outputs": [
    {
     "data": {
      "text/html": [
       "<div>\n",
       "<style scoped>\n",
       "    .dataframe tbody tr th:only-of-type {\n",
       "        vertical-align: middle;\n",
       "    }\n",
       "\n",
       "    .dataframe tbody tr th {\n",
       "        vertical-align: top;\n",
       "    }\n",
       "\n",
       "    .dataframe thead th {\n",
       "        text-align: right;\n",
       "    }\n",
       "</style>\n",
       "<table border=\"1\" class=\"dataframe\">\n",
       "  <thead>\n",
       "    <tr style=\"text-align: right;\">\n",
       "      <th></th>\n",
       "      <th>0</th>\n",
       "      <th>1</th>\n",
       "      <th>2</th>\n",
       "      <th>3</th>\n",
       "      <th>4</th>\n",
       "      <th>5</th>\n",
       "      <th>6</th>\n",
       "      <th>7</th>\n",
       "      <th>8</th>\n",
       "      <th>9</th>\n",
       "      <th>10</th>\n",
       "    </tr>\n",
       "  </thead>\n",
       "  <tbody>\n",
       "    <tr>\n",
       "      <th>0</th>\n",
       "      <td>101</td>\n",
       "      <td>원더걸스</td>\n",
       "      <td>2007-02-10</td>\n",
       "      <td>5</td>\n",
       "      <td>jyp</td>\n",
       "      <td>1</td>\n",
       "      <td>101</td>\n",
       "      <td>Tell Me</td>\n",
       "      <td>tell me tell me tetetete tel me</td>\n",
       "      <td>sec</td>\n",
       "      <td>2008</td>\n",
       "    </tr>\n",
       "    <tr>\n",
       "      <th>1</th>\n",
       "      <td>102</td>\n",
       "      <td>소녀시대</td>\n",
       "      <td>2007-08-02</td>\n",
       "      <td>8</td>\n",
       "      <td>sm</td>\n",
       "      <td>2</td>\n",
       "      <td>102</td>\n",
       "      <td>Gee</td>\n",
       "      <td>GEE GEE GEE GEE GEE BABY BABY</td>\n",
       "      <td>sec</td>\n",
       "      <td>2009</td>\n",
       "    </tr>\n",
       "    <tr>\n",
       "      <th>2</th>\n",
       "      <td>103</td>\n",
       "      <td>카라</td>\n",
       "      <td>2009-07-30</td>\n",
       "      <td>5</td>\n",
       "      <td>sec</td>\n",
       "      <td>3</td>\n",
       "      <td>103</td>\n",
       "      <td>미스터</td>\n",
       "      <td>이름이 뭐야 미스터</td>\n",
       "      <td>jyp</td>\n",
       "      <td>2010</td>\n",
       "    </tr>\n",
       "    <tr>\n",
       "      <th>3</th>\n",
       "      <td>104</td>\n",
       "      <td>브라운아이드걸스</td>\n",
       "      <td>2008-01-17</td>\n",
       "      <td>4</td>\n",
       "      <td>melon</td>\n",
       "      <td>4</td>\n",
       "      <td>104</td>\n",
       "      <td>Abracadabra</td>\n",
       "      <td>이러다 미쳐 내가 여리여리</td>\n",
       "      <td>psy</td>\n",
       "      <td>2007</td>\n",
       "    </tr>\n",
       "    <tr>\n",
       "      <th>4</th>\n",
       "      <td>105</td>\n",
       "      <td>다비치</td>\n",
       "      <td>2009-02-27</td>\n",
       "      <td>2</td>\n",
       "      <td>samsung</td>\n",
       "      <td>5</td>\n",
       "      <td>105</td>\n",
       "      <td>8282</td>\n",
       "      <td>Give me a call Baby baby</td>\n",
       "      <td>lsm</td>\n",
       "      <td>2006</td>\n",
       "    </tr>\n",
       "    <tr>\n",
       "      <th>5</th>\n",
       "      <td>107</td>\n",
       "      <td>2NE1</td>\n",
       "      <td>2009-07-08</td>\n",
       "      <td>4</td>\n",
       "      <td>yg</td>\n",
       "      <td>7</td>\n",
       "      <td>107</td>\n",
       "      <td>I Don't car</td>\n",
       "      <td>다른 여자들의 다리를</td>\n",
       "      <td>sec</td>\n",
       "      <td>2008</td>\n",
       "    </tr>\n",
       "    <tr>\n",
       "      <th>6</th>\n",
       "      <td>109</td>\n",
       "      <td>f(x)</td>\n",
       "      <td>2011-04-20</td>\n",
       "      <td>4</td>\n",
       "      <td>sm</td>\n",
       "      <td>9</td>\n",
       "      <td>109</td>\n",
       "      <td>피노키오</td>\n",
       "      <td>뉴예삐오</td>\n",
       "      <td>psy</td>\n",
       "      <td>2012</td>\n",
       "    </tr>\n",
       "    <tr>\n",
       "      <th>7</th>\n",
       "      <td>110</td>\n",
       "      <td>시크릿</td>\n",
       "      <td>2011-01-06</td>\n",
       "      <td>5</td>\n",
       "      <td>lg</td>\n",
       "      <td>10</td>\n",
       "      <td>110</td>\n",
       "      <td>별빛달빛</td>\n",
       "      <td>너는 내 별빛 내 마음의 별빛</td>\n",
       "      <td>sec</td>\n",
       "      <td>2011</td>\n",
       "    </tr>\n",
       "  </tbody>\n",
       "</table>\n",
       "</div>"
      ],
      "text/plain": [
       "    0         1           2   3        4   5    6            7   \\\n",
       "0  101      원더걸스  2007-02-10   5      jyp   1  101      Tell Me   \n",
       "1  102      소녀시대  2007-08-02   8       sm   2  102          Gee   \n",
       "2  103        카라  2009-07-30   5      sec   3  103          미스터   \n",
       "3  104  브라운아이드걸스  2008-01-17   4    melon   4  104  Abracadabra   \n",
       "4  105       다비치  2009-02-27   2  samsung   5  105         8282   \n",
       "5  107      2NE1  2009-07-08   4       yg   7  107  I Don't car   \n",
       "6  109      f(x)  2011-04-20   4       sm   9  109         피노키오   \n",
       "7  110       시크릿  2011-01-06   5       lg  10  110         별빛달빛   \n",
       "\n",
       "                                8    9     10  \n",
       "0  tell me tell me tetetete tel me  sec  2008  \n",
       "1    GEE GEE GEE GEE GEE BABY BABY  sec  2009  \n",
       "2                       이름이 뭐야 미스터  jyp  2010  \n",
       "3                   이러다 미쳐 내가 여리여리  psy  2007  \n",
       "4         Give me a call Baby baby  lsm  2006  \n",
       "5                      다른 여자들의 다리를  sec  2008  \n",
       "6                             뉴예삐오  psy  2012  \n",
       "7                 너는 내 별빛 내 마음의 별빛  sec  2011  "
      ]
     },
     "execution_count": 53,
     "metadata": {},
     "output_type": "execute_result"
    }
   ],
   "source": [
    "conn = sqlite3.connect('Singer.db')\n",
    "cur = conn.cursor()\n",
    "cur.execute('SELECT * FROM girlgroup JOIN song ON girlgroup.id LIKE song.goupid')\n",
    "list_  = cur.fetchall()\n",
    "pd.DataFrame(list_)"
   ]
  },
  {
   "attachments": {
    "image.png": {
     "image/png": "[encoded data removed]"
    }
   },
   "cell_type": "markdown",
   "metadata": {},
   "source": [
    "![image.png](attachment:image.png)"
   ]
  },
  {
   "cell_type": "code",
   "execution_count": 5,
   "metadata": {},
   "outputs": [
    {
     "name": "stdout",
     "output_type": "stream",
     "text": [
      "2.6.0\n"
     ]
    }
   ],
   "source": [
    "def create_connection(db_file):\n",
    "    \"\"\" create a database connection to a SQLite database \"\"\"\n",
    "    try:\n",
    "        conn = sqlite3.connect(db_file)\n",
    "        print(sqlite3.version)\n",
    "    except Error as e:\n",
    "        print(e)\n",
    "    finally:\n",
    "        conn.close()\n",
    " \n",
    "create_connection(\"Users.db\")"
   ]
  },
  {
   "cell_type": "code",
   "execution_count": 6,
   "metadata": {},
   "outputs": [],
   "source": [
    "conn = sqlite3.connect('Users.db')\n",
    "cur = conn.cursor()\n",
    "cur.execute('CREATE TABLE Users (id TEXT, pw TEXT,PRIMARY KEY(id));')\n",
    "\n",
    "sql = \"insert into Users (id,pw) values (?,?)\"\n",
    "\n",
    "cur.execute(sql, ('신은총', '잘생김'))\n",
    "cur.execute(sql, ('박진원','못생김'))\n",
    "\n",
    "\n",
    "conn.commit()"
   ]
  },
  {
   "cell_type": "code",
   "execution_count": 11,
   "metadata": {},
   "outputs": [
    {
     "name": "stdout",
     "output_type": "stream",
     "text": [
      "[('신은총', '잘생김'), ('박진원', '못생김')]\n"
     ]
    }
   ],
   "source": [
    "conn = sqlite3.connect('Users.db')\n",
    "cur = conn.cursor()\n",
    "cur.execute('SELECT * FROM Users')\n",
    "print(cur.fetchall())"
   ]
  },
  {
   "cell_type": "code",
   "execution_count": 54,
   "metadata": {},
   "outputs": [],
   "source": [
    "def login(id_,password):\n",
    "    conn = sqlite3.connect('Users.db')\n",
    "    cur = conn.cursor()\n",
    "    cur.execute(\"SELECT * FROM Users WHERE id=?\",[id_])\n",
    "    user = cur.fetchone()\n",
    "    if user[1] != password:\n",
    "        return print('로그인에 실패하셨습니다.')\n",
    "    \n",
    "    print('축하합니다! 로그인에 성공하셨습니다!')"
   ]
  },
  {
   "cell_type": "code",
   "execution_count": 57,
   "metadata": {},
   "outputs": [
    {
     "name": "stdout",
     "output_type": "stream",
     "text": [
      "축하합니다! 로그인에 성공하셨습니다!\n"
     ]
    }
   ],
   "source": [
    "login('박진원', '못생김')"
   ]
  },
  {
   "cell_type": "code",
   "execution_count": 58,
   "metadata": {},
   "outputs": [
    {
     "name": "stdout",
     "output_type": "stream",
     "text": [
      "로그인에 실패하셨습니다.\n"
     ]
    }
   ],
   "source": [
    "login('신은총', '못생김')"
   ]
  },
  {
   "cell_type": "code",
   "execution_count": null,
   "metadata": {},
   "outputs": [],
   "source": []
  }
 ],
 "metadata": {
  "kernelspec": {
   "display_name": "Python 3",
   "language": "python",
   "name": "python3"
  },
  "language_info": {
   "codemirror_mode": {
    "name": "ipython",
    "version": 3
   },
   "file_extension": ".py",
   "mimetype": "text/x-python",
   "name": "python",
   "nbconvert_exporter": "python",
   "pygments_lexer": "ipython3",
   "version": "3.7.3"
  }
 },
 "nbformat": 4,
 "nbformat_minor": 2
}
