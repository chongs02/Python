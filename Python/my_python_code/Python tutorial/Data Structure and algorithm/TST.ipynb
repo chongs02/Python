{
 "cells": [
  {
   "cell_type": "code",
   "execution_count": 27,
   "metadata": {},
   "outputs": [],
   "source": [
    "class Node:\n",
    "    \n",
    "    def __init__(self, character):\n",
    "        self.character = character\n",
    "        self.leftnode = None\n",
    "        self.middlenode = None\n",
    "        self.rightnode = None\n",
    "        self.value = 0\n",
    "        \n",
    "class TST:\n",
    "    \n",
    "    def __init__(self):\n",
    "        self.rootnode = None\n",
    "        \n",
    "    def put(self, key, value):\n",
    "        self.rootnode = self.put_data(self.rootnode, key, value, 0)\n",
    "            \n",
    "    def put_data(self, node, key, value, index):\n",
    "        \n",
    "        c = key[index]\n",
    "        \n",
    "        if node == None:\n",
    "            node = Node(c)\n",
    "            \n",
    "        if c < node.character:\n",
    "            node.leftnode = self.put_data(node.leftnode, key, value, index)\n",
    "            \n",
    "        elif c > node.character:\n",
    "            node.rightnode = self.put_data(node.rightnode,key, value, index)\n",
    "            \n",
    "        elif index < len(key) -1 :\n",
    "            node.middlenode = self.put_data(node.middlenode,key,value, index+1)\n",
    "            \n",
    "        else:\n",
    "            node.value = value\n",
    "            \n",
    "        return node\n",
    "    \n",
    "    def get(self, key):\n",
    "        \n",
    "        node = self.get_data(self.rootnode, key, 0)\n",
    "        \n",
    "        if node == None:\n",
    "            return -1\n",
    "        return node.value\n",
    "    \n",
    "    def get_data(self, node, key, index):\n",
    "        \n",
    "        if node == None:\n",
    "            return None\n",
    "        \n",
    "        c = key[index]\n",
    "        \n",
    "        if c < node.character:\n",
    "            return self.get_data(node.leftnode, key, index)\n",
    "        \n",
    "        elif c > node.character:\n",
    "            return self.get_data(node.rightnode,key,index)\n",
    "        \n",
    "        elif index < len(key) - 1:\n",
    "            return self.get_data(node.middlenode,key,index+1)\n",
    "        \n",
    "        else:\n",
    "            return node\n",
    "            \n",
    "        "
   ]
  },
  {
   "cell_type": "code",
   "execution_count": 28,
   "metadata": {},
   "outputs": [],
   "source": [
    "tst = TST()\n"
   ]
  },
  {
   "cell_type": "code",
   "execution_count": 29,
   "metadata": {},
   "outputs": [],
   "source": [
    "tst.put('apple',10)\n",
    "tst.put('orange',20)\n",
    "tst.put('car',30)\n",
    "tst.put('table',40)"
   ]
  },
  {
   "cell_type": "code",
   "execution_count": 30,
   "metadata": {},
   "outputs": [
    {
     "name": "stdout",
     "output_type": "stream",
     "text": [
      "10\n"
     ]
    }
   ],
   "source": [
    "print(tst.get('apple'))"
   ]
  },
  {
   "cell_type": "code",
   "execution_count": null,
   "metadata": {},
   "outputs": [],
   "source": []
  },
  {
   "cell_type": "code",
   "execution_count": null,
   "metadata": {},
   "outputs": [],
   "source": []
  }
 ],
 "metadata": {
  "kernelspec": {
   "display_name": "mypython",
   "language": "python",
   "name": "myenv"
  },
  "language_info": {
   "codemirror_mode": {
    "name": "ipython",
    "version": 3
   },
   "file_extension": ".py",
   "mimetype": "text/x-python",
   "name": "python",
   "nbconvert_exporter": "python",
   "pygments_lexer": "ipython3",
   "version": "3.6.5"
  }
 },
 "nbformat": 4,
 "nbformat_minor": 2
}
