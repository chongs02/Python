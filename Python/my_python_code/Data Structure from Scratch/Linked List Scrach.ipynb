{
 "cells": [
  {
   "cell_type": "markdown",
   "metadata": {},
   "source": [
    "# 3. Linked List\n",
    "\n",
    "<hr>\n",
    "\n",
    "###### 1.1 Concept\n",
    "\n",
    "Array List와 다르게 엘리먼트와 엘리먼트 간의 연결(Link)을 이용하여 리스트를 구현한 것\n",
    "\n",
    "###### 1.2 function\n",
    "\n",
    "```insert_front()``` : 앞에 자료를 붙인다.  \n",
    "```insert_end()``` : 마지막에 자료를 붙인다.  \n",
    "```delete(data)``` : 자료를 삭제한다.  \n",
    "```size_list()``` : 리스트의 자료 갯수를 반환한다.  \n",
    "```print_list()``` : 리스트의 모든 자료를 반환한다."
   ]
  },
  {
   "cell_type": "code",
   "execution_count": 1,
   "metadata": {},
   "outputs": [],
   "source": [
    "class Node:\n",
    "    \n",
    "    def __init__(self,data, next_ = None):\n",
    "        self.data = data\n",
    "        self.next_ = next_\n",
    "        \n",
    "class LinkedList:\n",
    "    \n",
    "    def __init__(self):\n",
    "        \n",
    "        self.size = 0\n",
    "        self.head = None\n",
    "     \n",
    "    # 자료를 앞에 붙이기\n",
    "    def insert_front(self,data):\n",
    "        new_node = Node(data)\n",
    "        self.size = self.size + 1\n",
    "        \n",
    "        if self.head == None:              # head node가 없을 경우\n",
    "            self.head = new_node\n",
    "        else:                              # 신규 node가 새로운 head가 됨\n",
    "            new_node.next_ = self.head\n",
    "            self.head = new_node\n",
    "            print(self.head.data)\n",
    "            \n",
    "    \n",
    "    def insert_end(self,data):\n",
    "        new_node = Node(data)\n",
    "        self.size = self.size + 1\n",
    "        \n",
    "        current_node = self.head\n",
    "        \n",
    "        while current_node.next_ is not None:              # 마지막 node 찾기\n",
    "            current_node = current_node.next_\n",
    "            \n",
    "        current_node.next_ = new_node\n",
    "        \n",
    " \n",
    "    def delete(self,data):\n",
    "        current_node = self.head\n",
    "        \n",
    "        while data:\n",
    "            \n",
    "            current_node = current_node.next_\n",
    "            \n",
    "            if current_node.next_.data % data == 0:        # node의 데이터와 data가 일치할 때까지 반복\n",
    "                break\n",
    "        tempnode = current_node.next_.next_  \n",
    "        del current_node.next_\n",
    "        current_node.next_ = tempnode\n",
    "        \n",
    "\n",
    "        \n",
    "    def size_list(self):\n",
    "        return self.size\n",
    "    \n",
    "    def print_list(self):\n",
    "        \n",
    "        current_node = self.head\n",
    "        \n",
    "        while current_node is not None:\n",
    "            print(current_node.data)            \n",
    "            current_node = current_node.next_\n",
    "            if current_node is None:\n",
    "                break\n",
    "            \n",
    "        \n",
    "    "
   ]
  },
  {
   "cell_type": "code",
   "execution_count": 2,
   "metadata": {},
   "outputs": [],
   "source": [
    "ll = LinkedList()"
   ]
  },
  {
   "cell_type": "code",
   "execution_count": 3,
   "metadata": {},
   "outputs": [
    {
     "name": "stdout",
     "output_type": "stream",
     "text": [
      "6\n",
      "3\n",
      "5\n",
      "6\n",
      "3\n"
     ]
    }
   ],
   "source": [
    "ll.insert_front(5)\n",
    "ll.insert_front(6)\n",
    "ll.insert_front(3)\n",
    "ll.insert_front(5)\n",
    "ll.insert_front(6)\n",
    "ll.insert_front(3)"
   ]
  },
  {
   "cell_type": "code",
   "execution_count": 4,
   "metadata": {},
   "outputs": [
    {
     "name": "stdout",
     "output_type": "stream",
     "text": [
      "3\n",
      "6\n",
      "5\n",
      "3\n",
      "6\n",
      "5\n"
     ]
    }
   ],
   "source": [
    "ll.print_list()"
   ]
  },
  {
   "cell_type": "code",
   "execution_count": 5,
   "metadata": {},
   "outputs": [
    {
     "data": {
      "text/plain": [
       "6"
      ]
     },
     "execution_count": 5,
     "metadata": {},
     "output_type": "execute_result"
    }
   ],
   "source": [
    "ll.size_list()"
   ]
  },
  {
   "cell_type": "code",
   "execution_count": 6,
   "metadata": {},
   "outputs": [],
   "source": [
    "ll.insert_end(5)"
   ]
  },
  {
   "cell_type": "code",
   "execution_count": 7,
   "metadata": {},
   "outputs": [
    {
     "name": "stdout",
     "output_type": "stream",
     "text": [
      "3\n",
      "6\n",
      "5\n",
      "3\n",
      "6\n",
      "5\n",
      "5\n"
     ]
    }
   ],
   "source": [
    "ll.print_list()"
   ]
  },
  {
   "cell_type": "code",
   "execution_count": 8,
   "metadata": {},
   "outputs": [
    {
     "data": {
      "text/plain": [
       "7"
      ]
     },
     "execution_count": 8,
     "metadata": {},
     "output_type": "execute_result"
    }
   ],
   "source": [
    "ll.size_list()"
   ]
  },
  {
   "cell_type": "code",
   "execution_count": 9,
   "metadata": {},
   "outputs": [],
   "source": [
    "ll.delete(5)"
   ]
  },
  {
   "cell_type": "code",
   "execution_count": 10,
   "metadata": {},
   "outputs": [
    {
     "name": "stdout",
     "output_type": "stream",
     "text": [
      "3\n",
      "6\n",
      "3\n",
      "6\n",
      "5\n",
      "5\n"
     ]
    }
   ],
   "source": [
    "ll.print_list()"
   ]
  }
 ],
 "metadata": {
  "kernelspec": {
   "display_name": "Python 3",
   "language": "python",
   "name": "python3"
  },
  "language_info": {
   "codemirror_mode": {
    "name": "ipython",
    "version": 3
   },
   "file_extension": ".py",
   "mimetype": "text/x-python",
   "name": "python",
   "nbconvert_exporter": "python",
   "pygments_lexer": "ipython3",
   "version": "3.7.3"
  }
 },
 "nbformat": 4,
 "nbformat_minor": 2
}
