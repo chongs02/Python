{
 "cells": [
  {
   "cell_type": "code",
   "execution_count": 260,
   "metadata": {},
   "outputs": [],
   "source": [
    "class Node:\n",
    "    \n",
    "    def __init__(self,data):\n",
    "        self.data = data\n",
    "        self.adjacency_list = []\n",
    "        self.visited = False\n",
    "        self.predecessor = None\n",
    "        \n",
    "        \n",
    "class BreadthFirstSearch:\n",
    "    \n",
    "    def bfs(self, start_node):\n",
    "        \n",
    "        queue = []\n",
    "        queue.append(start_node)\n",
    "        start_node.visited = True\n",
    "        \n",
    "        while queue:\n",
    "            \n",
    "            actual_node = queue.pop(0)\n",
    "            print(actual_node.data)\n",
    "            for n in actual_node.adjacency_list:\n",
    "\n",
    "                if not n.visited:\n",
    "                    n.visited = True\n",
    "                    queue.append(n)\n",
    "                    \n",
    "        \n",
    "    "
   ]
  },
  {
   "cell_type": "code",
   "execution_count": 261,
   "metadata": {},
   "outputs": [],
   "source": [
    "node1 = Node('B')\n",
    "node2 = Node('A')\n",
    "node3 = Node('D')\n",
    "node4 = Node('F')\n",
    "node5 = Node('Q')\n",
    "node6 = Node('F')"
   ]
  },
  {
   "cell_type": "code",
   "execution_count": 262,
   "metadata": {},
   "outputs": [],
   "source": [
    "node1.adjacency_list.append(node2)\n",
    "node1.adjacency_list.append(node3)\n",
    "node2.adjacency_list.append(node4)\n",
    "node3.adjacency_list.append(node5)\n",
    "node4.adjacency_list.append(node6)"
   ]
  },
  {
   "cell_type": "code",
   "execution_count": 263,
   "metadata": {},
   "outputs": [],
   "source": [
    "bfs = BreadthFirstSearch()"
   ]
  },
  {
   "cell_type": "code",
   "execution_count": 264,
   "metadata": {},
   "outputs": [
    {
     "name": "stdout",
     "output_type": "stream",
     "text": [
      "B\n",
      "A\n",
      "D\n",
      "A\n",
      "D\n",
      "D\n",
      "F\n",
      "F\n",
      "Q\n",
      "Q\n",
      "F\n"
     ]
    }
   ],
   "source": [
    "bfs.bfs(node1)"
   ]
  },
  {
   "cell_type": "code",
   "execution_count": null,
   "metadata": {},
   "outputs": [],
   "source": []
  }
 ],
 "metadata": {
  "kernelspec": {
   "display_name": "mypython",
   "language": "python",
   "name": "myenv"
  },
  "language_info": {
   "codemirror_mode": {
    "name": "ipython",
    "version": 3
   },
   "file_extension": ".py",
   "mimetype": "text/x-python",
   "name": "python",
   "nbconvert_exporter": "python",
   "pygments_lexer": "ipython3",
   "version": "3.6.5"
  }
 },
 "nbformat": 4,
 "nbformat_minor": 2
}
