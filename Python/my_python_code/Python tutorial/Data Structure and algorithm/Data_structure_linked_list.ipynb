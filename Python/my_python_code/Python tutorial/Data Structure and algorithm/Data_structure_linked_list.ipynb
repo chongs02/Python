{
 "cells": [
  {
   "cell_type": "markdown",
   "metadata": {},
   "source": [
    "O(1) - (상수) Constant\n",
    "입력되는 데이터양과 상관없이 일정한 실행 시간을 가진다.\n",
    "알고리즘이 문제를 해결하는데 오직 한 단계만 거친다.\n",
    "\n",
    "O(logN) Logarithmic\n",
    "데이터양이 많아져도, 시간이 조금씩 늘어난다.\n",
    "시간에 비례하여, 탐색 가능한 데이터양이 2의 n승이 된다.\n",
    "문제를 해결하는데 필요한 단계들이 연산마다 특정 요인에 의해 줄어든다.\n",
    "만약 입력 자료의 수에 따라 실행 시간이 이 log N 의 관계를 만족한다면 N이 증가함에 따라 실행시간이 조금씩 늘어난다. 이 유형은 주로 커다란 문제를 일정한 크기를 갖는 작은 문제로 쪼갤때 나타나는 유형이다.\n",
    "Binary Search\n",
    "\n",
    "O(N) Linear\n",
    "데이터양에 따라 시간이 정비례한다.\n",
    "linear search, for 문을 통한 탐색을 생각하면 되겠다.\n",
    "\n",
    "O(N log N) log linear\n",
    "데이터양이 N배 많이 진다면, 실행 시간은 N배 보다 조금더 많아 진다. (정비례 하지 않는다.)\n",
    "이 유형은 커다란 문제를 독립적인 작은 문제로 쪼개어 각각에 대해 독립적으로 해결하고,나중에 다시 그것들을 하나로 모으는 경우에 나타난다. N이 두배로 늘어나면 실행 시간은 2배보다 약간 더 많이 늘어난다.\n",
    "퀵소트, 머지소트\n",
    "\n",
    "O(N^2) Quadratic\n",
    "데이터양에 따라 걸리는 시간은 제곱에 비례한다. (효율이 좋지 않음, 사용하면 안된다)\n",
    "이 유형은 이중루프내에서 입력 자료를 처리 하는 경우에 나타난다. N값이 큰값이 되면 실행 시간은 감당하지 못할 정도로 커지게 된다.\n",
    "문제를 해결하기 위한 단계의 수는 입력값 n의 제곱\n",
    "2중 for 문을 사용하는 버블소트, 삽입정렬(insertion sort)"
   ]
  },
  {
   "cell_type": "code",
   "execution_count": 137,
   "metadata": {},
   "outputs": [],
   "source": [
    "#노드 객체 생성\n",
    "class Node:\n",
    "    \n",
    "    def __init__(self,data):\n",
    "        self.data = data\n",
    "        self.next_node = None\n",
    "\n",
    "class LinkedList:\n",
    "    \n",
    "    def __init__(self):\n",
    "        self.head_node = None\n",
    "        self.size = 0\n",
    "\n",
    "    # 맨 앞에 추가하기 ()\n",
    "    def insert_bigining(self,data):\n",
    "        self.size = self.size + 1\n",
    "        new_node = Node(data)\n",
    "        \n",
    "        if self.head_node == None:\n",
    "            self.head_node = new_node\n",
    "        \n",
    "        else:\n",
    "            new_node.next_node = self.head_node\n",
    "            self.head_node = new_node\n",
    "    \n",
    "    def size(self):\n",
    "        return self.size\n",
    "    \n",
    "    # 맨 뒤에 추가하기 O(N)\n",
    "    def insert_end(self, data):\n",
    "        current_node = self.head_node\n",
    "        \n",
    "        while current_node:\n",
    "            if not current_node.next_node:\n",
    "                self.size += 1\n",
    "                current_node.next_node = Node(data)\n",
    "                break\n",
    "            \n",
    "            current_node = current_node.next_node\n",
    "    \n",
    "    # 현재 linked list 프린트\n",
    "    def print_node(self,data):\n",
    "        \n",
    "        current_node = self.head_node\n",
    "        \n",
    "        while current_node is not None:\n",
    "            print(current_node.data)\n",
    "            current_node = current_node.next_node\n",
    "        \n"
   ]
  },
  {
   "cell_type": "code",
   "execution_count": 138,
   "metadata": {},
   "outputs": [],
   "source": [
    "a = LinkedList()"
   ]
  },
  {
   "cell_type": "code",
   "execution_count": 139,
   "metadata": {},
   "outputs": [],
   "source": [
    "a.insert_bigining(1)\n",
    "a.insert_bigining(2)\n",
    "a.insert_bigining(3)\n",
    "a.insert_bigining(4)"
   ]
  },
  {
   "cell_type": "code",
   "execution_count": 140,
   "metadata": {},
   "outputs": [],
   "source": [
    "a.insert_end(2)"
   ]
  },
  {
   "cell_type": "code",
   "execution_count": 141,
   "metadata": {},
   "outputs": [
    {
     "name": "stdout",
     "output_type": "stream",
     "text": [
      "4\n",
      "3\n",
      "2\n",
      "1\n",
      "2\n"
     ]
    }
   ],
   "source": [
    "a.print_node(2)"
   ]
  },
  {
   "cell_type": "code",
   "execution_count": null,
   "metadata": {},
   "outputs": [],
   "source": []
  }
 ],
 "metadata": {
  "kernelspec": {
   "display_name": "mypython",
   "language": "python",
   "name": "myenv"
  },
  "language_info": {
   "codemirror_mode": {
    "name": "ipython",
    "version": 3
   },
   "file_extension": ".py",
   "mimetype": "text/x-python",
   "name": "python",
   "nbconvert_exporter": "python",
   "pygments_lexer": "ipython3",
   "version": "3.6.5"
  }
 },
 "nbformat": 4,
 "nbformat_minor": 2
}
