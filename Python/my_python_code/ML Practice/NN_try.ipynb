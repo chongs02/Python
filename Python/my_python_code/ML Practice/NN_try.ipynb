{
 "cells": [
  {
   "cell_type": "code",
   "execution_count": 1,
   "metadata": {},
   "outputs": [],
   "source": [
    "# (no of inputs + no of outputs)^0.5 + (1 to 10). \n",
    "# to fix the constant value (last part, 0 to 10), \n",
    "#use trial and error and find the optimal no of hidden layer neurons for the min MSE."
   ]
  },
  {
   "cell_type": "code",
   "execution_count": 2,
   "metadata": {},
   "outputs": [
    {
     "data": {
      "text/plain": [
       "8.60555127546399"
      ]
     },
     "execution_count": 2,
     "metadata": {},
     "output_type": "execute_result"
    }
   ],
   "source": [
    "13 **0.5 +5"
   ]
  },
  {
   "cell_type": "code",
   "execution_count": 3,
   "metadata": {},
   "outputs": [],
   "source": [
    "import pandas as pd\n",
    "import matplotlib.pyplot as plt\n",
    "import numpy as np\n",
    "import datetime as dt\n",
    "%matplotlib inline\n"
   ]
  },
  {
   "cell_type": "code",
   "execution_count": 4,
   "metadata": {},
   "outputs": [],
   "source": [
    "#DATA preprocessing\n",
    "#Load dataset\n",
    "x_data = pd.read_csv(r'C:\\Users\\chongs\\BDANALYSIS\\furnace_bd.csv')\n",
    "x_data = x_data.iloc[:,2:]\n",
    "#epoch time 수정\n",
    "x_data['3'] = x_data['3'].astype(str).str[:-3].astype(np.int64)\n",
    "x_data['3'] = x_data['3'].astype(str).str[4:].astype(np.int64)"
   ]
  },
  {
   "cell_type": "code",
   "execution_count": 5,
   "metadata": {},
   "outputs": [],
   "source": [
    "#구간 선택\n",
    "x_data = x_data[x_data['3'].values > 890472]\n",
    "x_data = x_data[x_data['3'].values < 901000]"
   ]
  },
  {
   "cell_type": "code",
   "execution_count": 6,
   "metadata": {},
   "outputs": [],
   "source": [
    "#pivot table 사용 query 진행\n",
    "x_data = x_data.pivot_table(index = x_data['3'],columns = x_data['1'])\n",
    "#dataframe 재설정\n",
    "x_data = x_data['2'][['temp_zone7_10', 'temp_zone7_12', 'temp_zone7_14', 'temp_zone7_16', 'temp_zone7_4', 'temp_zone7_6', 'temp_zone7_8', 'temp_zone7_top', 'temp_zone8_25', 'temp_zone8_27', 'temp_zone8_29', 'temp_zone8_31', 'temp_zone8_33', 'temp_zone8_35', 'temp_zone8_37', 'temp_zone8_top']]\n",
    "x_data = x_data.interpolate()"
   ]
  },
  {
   "cell_type": "code",
   "execution_count": 7,
   "metadata": {},
   "outputs": [],
   "source": [
    "y_data = pd.read_csv(r\"C:\\Users\\chongs\\BDANALYSIS\\14_Gls_org.csv\", engine = 'python', index_col = False)\n",
    "#원하는 columns 선택\n",
    "\n",
    "y_data['time'] = y_data['날짜'] + ' ' + y_data['시간']\n",
    "\n",
    "#시간 delay 수정 및 epoch 시간으로 convert\n",
    "total_delay = dt.timedelta(minutes = 8, seconds=5)\n",
    "\n",
    "y_data['time']=(pd.to_datetime(y_data['time']) - total_delay).apply(dt.datetime.timestamp).astype(np.int64)\n",
    "y_data['time'] = y_data['time'].astype(str).str[4:].astype(np.int64)\n",
    "\n",
    "y_data = y_data[['time','A', 'B', 'C', 'D', 'E', 'F', 'G', 'H', 'I', 'J','K', 'L', 'M', 'N', 'O']]\n",
    "\n",
    "y_data.set_index('time', inplace = True)\n"
   ]
  },
  {
   "cell_type": "code",
   "execution_count": 8,
   "metadata": {},
   "outputs": [],
   "source": [
    "# X, Y data의 index를 y_data의 인덱스에 맞춰 Join 실행(NaN 값 : drop)\n",
    "xy = pd.concat([x_data, y_data], axis=1, join='inner', join_axes = [x_data.index] )\n",
    "xy.dropna(inplace=True)"
   ]
  },
  {
   "cell_type": "code",
   "execution_count": 9,
   "metadata": {},
   "outputs": [],
   "source": [
    "#x,y값 재추출\n",
    "x = xy[['temp_zone7_10', 'temp_zone7_12', 'temp_zone7_14', 'temp_zone7_16',\n",
    "       'temp_zone7_6', 'temp_zone7_8','temp_zone8_25', 'temp_zone8_27', 'temp_zone8_29', 'temp_zone8_31',\n",
    "       'temp_zone8_33', 'temp_zone8_35']].values\n",
    "y = xy[['A', 'B', 'C', 'D', 'E', 'F', 'G', 'H', 'I', 'J','K', 'L', 'M', 'N', 'O']].values\n",
    "# y = xy[['H']].values"
   ]
  },
  {
   "cell_type": "code",
   "execution_count": null,
   "metadata": {},
   "outputs": [],
   "source": []
  },
  {
   "cell_type": "code",
   "execution_count": 10,
   "metadata": {},
   "outputs": [
    {
     "name": "stderr",
     "output_type": "stream",
     "text": [
      "C:\\Users\\chongs\\Anaconda3\\envs\\mypython\\lib\\site-packages\\sklearn\\cross_validation.py:41: DeprecationWarning: This module was deprecated in version 0.18 in favor of the model_selection module into which all the refactored classes and functions are moved. Also note that the interface of the new CV iterators are different from that of this module. This module will be removed in 0.20.\n",
      "  \"This module will be removed in 0.20.\", DeprecationWarning)\n"
     ]
    }
   ],
   "source": [
    "# Train / Test set 나누기\n",
    "from sklearn.cross_validation import train_test_split\n",
    "X_train, X_test, y_train, y_test = train_test_split(x, y, test_size=0.33, random_state=100)"
   ]
  },
  {
   "cell_type": "code",
   "execution_count": 11,
   "metadata": {},
   "outputs": [],
   "source": [
    "from sklearn.preprocessing import StandardScaler\n",
    "sc_X = StandardScaler()\n",
    "X_train = sc_X.fit_transform(X_train)\n",
    "X_test = sc_X.transform(X_test)\n",
    "sc_y = StandardScaler()\n",
    "y_train = sc_y.fit_transform(y_train)"
   ]
  },
  {
   "cell_type": "code",
   "execution_count": 17,
   "metadata": {},
   "outputs": [
    {
     "data": {
      "text/plain": [
       "array([[1.11811783, 1.11909859, 1.00895636, ..., 1.56014947, 1.28170021,\n",
       "        1.42088715],\n",
       "       [0.35815343, 0.35935265, 0.19703105, ..., 0.8232973 , 0.57142861,\n",
       "        0.58326571],\n",
       "       [1.11811783, 1.11909859, 1.00895636, ..., 0.8232973 , 0.57142861,\n",
       "        0.58326571],\n",
       "       ...,\n",
       "       [1.11811783, 1.11909859, 1.17134143, ..., 1.56014947, 1.18023284,\n",
       "        1.42088715],\n",
       "       [1.11811783, 1.11909859, 1.00895636, ..., 1.7075199 , 1.48463495,\n",
       "        1.42088715],\n",
       "       [0.35815343, 0.35935265, 0.19703105, ..., 0.8232973 , 0.95193125,\n",
       "        0.58326571]])"
      ]
     },
     "execution_count": 17,
     "metadata": {},
     "output_type": "execute_result"
    }
   ],
   "source": [
    "X_train"
   ]
  },
  {
   "cell_type": "code",
   "execution_count": 13,
   "metadata": {},
   "outputs": [
    {
     "data": {
      "text/plain": [
       "564"
      ]
     },
     "execution_count": 13,
     "metadata": {},
     "output_type": "execute_result"
    }
   ],
   "source": [
    "len(y_train)"
   ]
  },
  {
   "cell_type": "code",
   "execution_count": 20,
   "metadata": {},
   "outputs": [
    {
     "name": "stdout",
     "output_type": "stream",
     "text": [
      "[[0.5189853  0.654647   0.59804    ... 0.39384007 0.56286544 0.26427934]\n",
      " [0.5189853  0.654647   0.59804    ... 0.39384007 0.56286544 0.26427934]\n",
      " [0.33457422 0.9206155  0.7490387  ... 0.24209407 0.37214765 0.5960575 ]\n",
      " ...\n",
      " [0.33457422 0.9206155  0.7490387  ... 0.24209407 0.37214765 0.5960575 ]\n",
      " [0.33457422 0.9206155  0.7490387  ... 0.24209407 0.3721477  0.5960575 ]\n",
      " [0.5189853  0.654647   0.59804    ... 0.39384007 0.56286544 0.26427934]]\n",
      "MSE: 0.670688\n",
      "-5.386190399697093\n"
     ]
    },
    {
     "data": {
      "image/png": "[encoded data removed]",
      "text/plain": [
       "<Figure size 432x288 with 1 Axes>"
      ]
     },
     "metadata": {},
     "output_type": "display_data"
    }
   ],
   "source": [
    "import tensorflow as tf\n",
    "from sklearn.metrics import r2_score\n",
    "\n",
    "# layer parameters\n",
    "n_nodes_hl1 = 9\n",
    "n_nodes_hl2 = 9\n",
    "n_nodes_hl3 = 9\n",
    "no_features = 12\n",
    "learning_rate = 0.01\n",
    "epochs = 1000\n",
    "y_label = y_train.shape[1]\n",
    "\n",
    "\n",
    "cost_history = np.empty(shape=[1], dtype=float)\n",
    "\n",
    "\n",
    "X = tf.placeholder(tf.float32)\n",
    "Y = tf.placeholder(tf.float32)\n",
    "\n",
    "# defining weights for each layer taken from a normal distribution with variance 2/n\n",
    "hl1_weight = tf.Variable(tf.random_normal([no_features, n_nodes_hl1], -1.0, 1.0))\n",
    "hl2_weight = tf.Variable(tf.random_normal([n_nodes_hl1, n_nodes_hl2],-1.0,1.0))\n",
    "hl3_weight = tf.Variable(tf.random_normal([n_nodes_hl2, n_nodes_hl3],-1.0, 1.0))\n",
    "output_weight = tf.Variable(tf.random_normal([n_nodes_hl2, y_label]))\n",
    "\n",
    "# defining biases for each layer\n",
    "hl1_bias = tf.Variable(tf.random_uniform([n_nodes_hl1], -1.0, 1.0))\n",
    "hl2_bias = tf.Variable(tf.random_uniform([n_nodes_hl2], -1.0, 1.0))\n",
    "hl3_bias = tf.Variable(tf.random_uniform([n_nodes_hl3], -1.0, 1.0))\n",
    "output_bias = tf.Variable(tf.random_uniform([y_label], -1.0, 1.0))\n",
    "\n",
    "# defining activation functions for each layer\n",
    "hl1 = tf.nn.relu(tf.matmul(X, hl1_weight) + hl1_bias)\n",
    "hl2 = tf.nn.relu(tf.matmul(hl1, hl2_weight) + hl2_bias)\n",
    "hl3 = tf.nn.relu(tf.matmul(hl2, hl3_weight) + hl3_bias)\n",
    "output = tf.sigmoid(tf.matmul(hl3, output_weight) + output_bias)\n",
    "\n",
    "# using mean squared error cost function\n",
    "cost  = tf.reduce_mean(tf.square(output - Y))\n",
    "\n",
    "# using Gradient Descent algorithm\n",
    "optimizer = tf.train.GradientDescentOptimizer(learning_rate).minimize(cost)\n",
    "\n",
    "\n",
    "init = tf.global_variables_initializer()\n",
    "\n",
    "# running the network\n",
    "with tf.Session() as sess:\n",
    "    sess.run(init)\n",
    "\n",
    "    for step in np.arange(epochs):\n",
    "        sess.run(optimizer, feed_dict={X:X_train, Y:y_train})\n",
    "        if sess.run(cost, feed_dict={X:X_train, Y:y_train})%10 == 0 :\n",
    "            print (sess.run(cost, feed_dict={X:X_train, Y:y_train}))\n",
    "        cost_history = np.append(cost_history, sess.run(cost,feed_dict={X:X_train, Y:y_train}))\n",
    "\n",
    "    pred_y = sess.run(output, feed_dict={X:X_test})\n",
    "    print (sess.run(output, feed_dict={X:X_test}))\n",
    "    mse = tf.reduce_mean(tf.square(pred_y - y_test))\n",
    "    print(\"MSE: %4f\" % sess.run(mse))\n",
    "    print(r2_score(y_test, pred_y))\n",
    "    \n",
    "\n",
    "    \n",
    "\n",
    "# # Launch graph\n",
    "# with tf.Session() as sess:\n",
    "#     # tensorboard --logdir=./logs/xor_logs\n",
    "#     merged_summary = tf.summary.merge_all()\n",
    "#     writer = tf.summary.FileWriter(r\"C:\\Users\\chongs\\tensorflow\\./logs/xor_logs_r0_01\")\n",
    "#     writer.add_graph(sess.graph)  # Show the graph\n",
    "\n",
    "#     # Initialize TensorFlow variables\n",
    "#     sess.run(tf.global_variables_initializer())\n",
    "\n",
    "#     for step in range(10001):\n",
    "#         summary, _ = sess.run([merged_summary, optimizer], feed_dict={X: X_train, Y: y_train})\n",
    "#         writer.add_summary(summary, global_step=step)\n",
    "\n",
    "#         if step % 100 == 0:\n",
    "#             print(step, sess.run(cost, feed_dict={\n",
    "#                   X: x_data, Y: y_data}), sess.run([W1, W2]))\n",
    "\n",
    "#     # Accuracy report\n",
    "#     h, c, a = sess.run([hypothesis, predicted, accuracy],\n",
    "#                        feed_dict={X: x_data, Y: y_data})\n",
    "#     print(\"\\nHypothesis: \", h, \"\\nCorrect: \", c, \"\\nAccuracy: \", a)\n",
    " \n",
    "\n",
    "\n",
    "\n",
    "# plotting the cost history\n",
    "plt.plot(range(len(cost_history)), cost_history)\n",
    "plt.axis([0, epochs, 0, np.max(cost_history)])\n",
    "plt.show()"
   ]
  },
  {
   "cell_type": "code",
   "execution_count": null,
   "metadata": {},
   "outputs": [],
   "source": [
    "https://github.com/rajatgupta310198/Machine_Learning/blob/master/Deep%20Learning/yah.py\n",
    "\n",
    "\n",
    "\n",
    "def neural_net_model(X_data,input_dim):\n",
    "    W_1 = tf.Variable(tf.random_uniform([input_dim,10]))\n",
    "    b_1 = tf.Variable(tf.zeros([10]))\n",
    "    layer_1 = tf.add(tf.matmul(X_data,W_1), b_1)\n",
    "    layer_1 = tf.nn.tanh(layer_1)\n",
    "\n",
    "    W_2 = tf.Variable(tf.random_uniform([10,10]))\n",
    "    b_2 = tf.Variable(tf.zeros([10]))\n",
    "    layer_2 = tf.add(tf.matmul(layer_1,W_2), b_2)\n",
    "    layer_2 = tf.nn.tanh(layer_2)\n",
    "\n",
    "    W_O = tf.Variable(tf.random_uniform([10,1]))\n",
    "    b_O = tf.Variable(tf.zeros([1]))\n",
    "    output = tf.add(tf.matmul(layer_2,W_O), b_O)\n",
    "\n",
    "    return output,W_O\n",
    "\n",
    "xs = tf.placeholder(\"float\")\n",
    "ys = tf.placeholder(\"float\")\n",
    "\n",
    "output,W_O = neural_net_model(xs,3)\n",
    "\n",
    "cost = tf.reduce_mean(tf.square(output-ys))\n",
    "train = tf.train.AdamOptimizer(0.001).minimize(cost)\n",
    "\n",
    "correct_pred = tf.argmax(output, 1)\n",
    "accuracy = tf.reduce_mean(tf.cast(correct_pred,tf.float32))\n",
    "\n",
    "c_t = []\n",
    "c_test = []\n",
    "\n",
    "\n",
    "with tf.Session() as sess:\n",
    "    sess.run(tf.initialize_all_variables())\n",
    "\n",
    "    saver = tf.train.Saver()\n",
    "    y_t = denormalize(df_train,y_train)\n",
    "    fig = plt.figure()\n",
    "    ax = fig.add_subplot(1,1,1)\n",
    "    plt.xlabel('Days')\n",
    "    plt.ylabel('Stock Value INR')\n",
    "    plt.title('Nify Stock Index Prediction')\n",
    "    ax.plot(range(len(y_train)), y_t,label='Original')\n",
    "    plt.ion()\n",
    "\n",
    "    #saver.restore(sess,'yahoo_dataset.ckpt')\n",
    "    for i in range(100):\n",
    "        #sess.run([cost,train],feed_dict={xs:X_train, ys:y_train})\n",
    "        for j in range(X_train.shape[0]):\n",
    "            sess.run([cost,train],feed_dict={xs:X_train[j,:].reshape(1,3), ys:y_train[j]})\n",
    "\n",
    "        try:\n",
    "            ax.lines.remove(lines[0])\n",
    "        except Exception:\n",
    "            pass\n",
    "        pred = sess.run(output, feed_dict={xs:X_train})\n",
    "        pred = denormalize(df_train,pred)\n",
    "        lines = ax.plot(range(len(y_train)), pred,'r-',label='Prediction')\n",
    "        plt.legend(loc='best')\n",
    "        plt.pause(0.1)\n",
    "\n",
    "        c_t.append(sess.run(cost, feed_dict={xs:X_train,ys:y_train}))\n",
    "        c_test.append(sess.run(cost, feed_dict={xs:X_test,ys:y_test}))\n",
    "        print('Epoch :',i,'Cost :',c_t[i])\n",
    "\n",
    "    pred = sess.run(output, feed_dict={xs:X_test})\n",
    "    for i in range(y_test.shape[0]):\n",
    "        print('Original :',y_test[i],'Predicted :',pred[i])\n",
    "\n",
    "    #plt.plot(range(50),c_t)\n",
    "    #plt.plot(range(50),c_test)\n",
    "    #plt.show()\n",
    "\n",
    "    print('Cost :',sess.run(cost, feed_dict={xs:X_test,ys:y_test}))\n",
    "    y_test = denormalize(df_test,y_test)\n",
    "    pred = denormalize(df_test,pred)\n",
    "    plt.plot(range(y_test.shape[0]),y_test,label=\"Original Data\")\n",
    "    plt.plot(range(y_test.shape[0]),pred,label=\"Predicted Data\")\n",
    "    plt.legend(loc='best')\n",
    "    \"\"\"plt.ylabel('Stock Value')\n",
    "    plt.xlabel('Days')\n",
    "    plt.title('Stock Market Nifty')\"\"\"\n",
    "    #plt.show()\n",
    "    if input('Save model ? [Y/N]') == 'Y':\n",
    "        import os\n",
    "        saver.save(sess, os.getcwd() + '/yahoo_dataset.ckpt')\n",
    "        print('Model Saved')"
   ]
  },
  {
   "cell_type": "code",
   "execution_count": null,
   "metadata": {},
   "outputs": [],
   "source": []
  }
 ],
 "metadata": {
  "kernelspec": {
   "display_name": "mypython",
   "language": "python",
   "name": "myenv"
  },
  "language_info": {
   "codemirror_mode": {
    "name": "ipython",
    "version": 3
   },
   "file_extension": ".py",
   "mimetype": "text/x-python",
   "name": "python",
   "nbconvert_exporter": "python",
   "pygments_lexer": "ipython3",
   "version": "3.6.5"
  }
 },
 "nbformat": 4,
 "nbformat_minor": 2
}
