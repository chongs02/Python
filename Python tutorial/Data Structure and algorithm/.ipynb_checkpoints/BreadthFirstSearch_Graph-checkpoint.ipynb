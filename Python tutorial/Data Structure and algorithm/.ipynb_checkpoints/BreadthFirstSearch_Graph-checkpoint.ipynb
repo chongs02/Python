{
 "cells": [
  {
   "cell_type": "markdown",
   "metadata": {},
   "source": [
    "\n",
    "        "
   ]
  },
  {
   "cell_type": "code",
   "execution_count": null,
   "metadata": {},
   "outputs": [],
   "source": [
    "\n",
    "\n",
    "capacity = 10\n",
    "\n",
    "class Heap:\n",
    "    \n",
    "    def __init__(self):\n",
    "        self.heap = [0] * capacity\n",
    "        self.heap_size = 0\n",
    "        \n",
    "    def insert(self,data):"
   ]
  }
 ],
 "metadata": {
  "kernelspec": {
   "display_name": "mypython",
   "language": "python",
   "name": "myenv"
  },
  "language_info": {
   "codemirror_mode": {
    "name": "ipython",
    "version": 3
   },
   "file_extension": ".py",
   "mimetype": "text/x-python",
   "name": "python",
   "nbconvert_exporter": "python",
   "pygments_lexer": "ipython3",
   "version": "3.6.5"
  }
 },
 "nbformat": 4,
 "nbformat_minor": 2
}
