{
 "cells": [
  {
   "cell_type": "markdown",
   "metadata": {},
   "source": [
    "# 1. Stack\n",
    "\n",
    "<hr>\n",
    "\n",
    "###### 1.1 Concept\n",
    "\n",
    "한쪽 끝에서만 자료를 넣고 뺄 수 있는 **LIFO(Last In First Out)** 자료구조\n",
    "\n",
    "###### 1.2 function\n",
    "\n",
    "```pop()``` : 맨 마지막의 자료를 빼낸다.  \n",
    "```peek()``` : 맨 마지막의 자료를 반환한다.  \n",
    "```push(data)``` : 자료를 스택에 입력한다.  \n",
    "```is_empty()``` : 스택이 비어있을 때 True를 출력한다.  \n",
    "```size_stack()``` : 스택의 자료 갯수를 반환한다.  \n",
    "```print_stack()``` : 스택의 모든 자료를 반환한다.  \n"
   ]
  },
  {
   "cell_type": "code",
   "execution_count": 21,
   "metadata": {},
   "outputs": [],
   "source": [
    "class Stack:\n",
    "    \n",
    "    def __init__(self, data = None):\n",
    "        self.stack = []\n",
    "        self.data = data\n",
    "        \n",
    "    def push(self,data):\n",
    "        self.stack.append(data)\n",
    "        \n",
    "    def pop(self):\n",
    "        target = self.stack[-1]\n",
    "        del self.stack[-1]\n",
    "        return target\n",
    "    \n",
    "    def peek(self):\n",
    "        target = self.stack[-1]\n",
    "        return self.stack[-1]\n",
    "    \n",
    "    def size_stack(self):\n",
    "        return len(self.stack)\n",
    "    \n",
    "    def is_empty(self):\n",
    "        return self.stack == []\n",
    "    \n",
    "    def print_stack(self):\n",
    "        return self.stack"
   ]
  },
  {
   "cell_type": "code",
   "execution_count": 22,
   "metadata": {},
   "outputs": [],
   "source": [
    "stack = Stack()"
   ]
  },
  {
   "cell_type": "code",
   "execution_count": 13,
   "metadata": {},
   "outputs": [
    {
     "data": {
      "text/plain": [
       "True"
      ]
     },
     "execution_count": 13,
     "metadata": {},
     "output_type": "execute_result"
    }
   ],
   "source": [
    "stack.is_empty()"
   ]
  },
  {
   "cell_type": "code",
   "execution_count": 14,
   "metadata": {},
   "outputs": [],
   "source": [
    "stack.push(5)\n",
    "stack.push(4)\n",
    "stack.push(6)\n",
    "stack.push(3)\n",
    "stack.push(1)"
   ]
  },
  {
   "cell_type": "code",
   "execution_count": 15,
   "metadata": {},
   "outputs": [
    {
     "data": {
      "text/plain": [
       "[5, 4, 6, 3, 1]"
      ]
     },
     "execution_count": 15,
     "metadata": {},
     "output_type": "execute_result"
    }
   ],
   "source": [
    "stack.print_stack()"
   ]
  },
  {
   "cell_type": "code",
   "execution_count": 17,
   "metadata": {},
   "outputs": [
    {
     "data": {
      "text/plain": [
       "1"
      ]
     },
     "execution_count": 17,
     "metadata": {},
     "output_type": "execute_result"
    }
   ],
   "source": [
    "stack.peek()"
   ]
  },
  {
   "cell_type": "code",
   "execution_count": 18,
   "metadata": {},
   "outputs": [
    {
     "data": {
      "text/plain": [
       "1"
      ]
     },
     "execution_count": 18,
     "metadata": {},
     "output_type": "execute_result"
    }
   ],
   "source": [
    "stack.pop()"
   ]
  },
  {
   "cell_type": "code",
   "execution_count": 19,
   "metadata": {},
   "outputs": [
    {
     "data": {
      "text/plain": [
       "[5, 4, 6, 3]"
      ]
     },
     "execution_count": 19,
     "metadata": {},
     "output_type": "execute_result"
    }
   ],
   "source": [
    "stack.print_stack()"
   ]
  },
  {
   "cell_type": "code",
   "execution_count": 20,
   "metadata": {},
   "outputs": [
    {
     "data": {
      "text/plain": [
       "4"
      ]
     },
     "execution_count": 20,
     "metadata": {},
     "output_type": "execute_result"
    }
   ],
   "source": [
    "stack.size_stack()"
   ]
  },
  {
   "cell_type": "code",
   "execution_count": null,
   "metadata": {},
   "outputs": [],
   "source": []
  }
 ],
 "metadata": {
  "kernelspec": {
   "display_name": "Python 3",
   "language": "python",
   "name": "python3"
  },
  "language_info": {
   "codemirror_mode": {
    "name": "ipython",
    "version": 3
   },
   "file_extension": ".py",
   "mimetype": "text/x-python",
   "name": "python",
   "nbconvert_exporter": "python",
   "pygments_lexer": "ipython3",
   "version": "3.7.3"
  }
 },
 "nbformat": 4,
 "nbformat_minor": 2
}
