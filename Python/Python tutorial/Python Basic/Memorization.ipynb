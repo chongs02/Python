{
 "cells": [
  {
   "cell_type": "code",
   "execution_count": null,
   "metadata": {},
   "outputs": [],
   "source": [
    "**memori"
   ]
  },
  {
   "cell_type": "code",
   "execution_count": 13,
   "metadata": {},
   "outputs": [],
   "source": [
    "import time\n",
    "\n",
    "ef_cache = {}\n",
    "\n",
    "def expensive_func(num):\n",
    "    print('computing {}...'.format(num))\n",
    "    time.sleep(1)\n",
    "  \n",
    "    return num*num"
   ]
  },
  {
   "cell_type": "code",
   "execution_count": 14,
   "metadata": {},
   "outputs": [
    {
     "name": "stdout",
     "output_type": "stream",
     "text": [
      "computing 4...\n",
      "16\n",
      "computing 10...\n",
      "100\n",
      "computing 4...\n",
      "16\n",
      "computing 10...\n",
      "100\n"
     ]
    }
   ],
   "source": [
    "result = expensive_func(4)\n",
    "print(result)\n",
    "\n",
    "result = expensive_func(10)\n",
    "print(result)\n",
    "\n",
    "result = expensive_func(4)\n",
    "print(result)\n",
    "\n",
    "result = expensive_func(10)\n",
    "print(result)"
   ]
  },
  {
   "cell_type": "markdown",
   "metadata": {},
   "source": [
    "**간단한 딕셔너리생성하여 Memorization을 통해 연산 시간을 단축시킬 수 있다.**"
   ]
  },
  {
   "cell_type": "code",
   "execution_count": 19,
   "metadata": {},
   "outputs": [],
   "source": [
    "import time\n",
    "\n",
    "ef_cache = {}\n",
    "\n",
    "def expensive_func(num):\n",
    "    if num in ef_cache:\n",
    "        return ef_cache[num]\n",
    "    \n",
    "    print('computing {}...'.format(num))\n",
    "    time.sleep(1)\n",
    "    result = num*num\n",
    "    ef_cache[num] = result\n",
    "    \n",
    "    return result"
   ]
  },
  {
   "cell_type": "code",
   "execution_count": 18,
   "metadata": {},
   "outputs": [
    {
     "name": "stdout",
     "output_type": "stream",
     "text": [
      "computing 4...\n",
      "16\n",
      "computing 10...\n",
      "100\n",
      "16\n",
      "100\n"
     ]
    }
   ],
   "source": [
    "result = expensive_func(4)\n",
    "print(result)\n",
    "\n",
    "result = expensive_func(10)\n",
    "print(result)\n",
    "\n",
    "result = expensive_func(4)\n",
    "print(result)\n",
    "\n",
    "result = expensive_func(10)\n",
    "print(result)\n"
   ]
  },
  {
   "cell_type": "code",
   "execution_count": null,
   "metadata": {},
   "outputs": [],
   "source": []
  }
 ],
 "metadata": {
  "kernelspec": {
   "display_name": "mypython",
   "language": "python",
   "name": "myenv"
  },
  "language_info": {
   "codemirror_mode": {
    "name": "ipython",
    "version": 3
   },
   "file_extension": ".py",
   "mimetype": "text/x-python",
   "name": "python",
   "nbconvert_exporter": "python",
   "pygments_lexer": "ipython3",
   "version": "3.6.5"
  }
 },
 "nbformat": 4,
 "nbformat_minor": 2
}
