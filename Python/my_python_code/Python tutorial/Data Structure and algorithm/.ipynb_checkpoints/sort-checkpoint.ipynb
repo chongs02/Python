{
 "cells": [
  {
   "cell_type": "markdown",
   "metadata": {},
   "source": [
    "Bubble sort\n",
    "\n",
    "performance : O(N^2)"
   ]
  },
  {
   "cell_type": "code",
   "execution_count": 2,
   "metadata": {},
   "outputs": [],
   "source": [
    "def bubble_sort(nums):\n",
    "    \n",
    "    for i in range(len(nums)-1):\n",
    "        for j in range(0,len(nums)-1-i,1):\n",
    "            if nums[j] > nums[j+1]:\n",
    "                swap(nums,j,j+1)\n",
    "                \n",
    "    return nums\n",
    "\n",
    "def swap(nums, i, j):\n",
    "    temp = nums[i]\n",
    "    nums[i] = nums[j]\n",
    "    nums[j] = temp"
   ]
  },
  {
   "cell_type": "code",
   "execution_count": 3,
   "metadata": {},
   "outputs": [
    {
     "data": {
      "text/plain": [
       "[1, 2, 3, 4, 5, 7, 8]"
      ]
     },
     "execution_count": 3,
     "metadata": {},
     "output_type": "execute_result"
    }
   ],
   "source": [
    "a = [1,5,3,2,4,8,7]\n",
    "bubble_sort(a)"
   ]
  },
  {
   "cell_type": "markdown",
   "metadata": {},
   "source": [
    "Selection sort\n",
    "\n",
    "performance : O(N^2)"
   ]
  },
  {
   "cell_type": "code",
   "execution_count": 15,
   "metadata": {},
   "outputs": [],
   "source": [
    "def selection_sort(nums):\n",
    "    \n",
    "    for i in range(len(nums)-1):\n",
    "        index = i\n",
    "        print(i)\n",
    "        \n",
    "        for j in range(i+1,len(nums),1):\n",
    "            if nums[j]<nums[index]:\n",
    "                index= j\n",
    "#                 print(j)\n",
    "            \n",
    "        if index != i:\n",
    "            swap(nums, index,i)\n",
    "            \n",
    "    return nums\n",
    "\n",
    "def swap(nums, i, j):\n",
    "    temp = nums[i]\n",
    "    nums[i] = nums[j]\n",
    "    nums[j] = temp"
   ]
  },
  {
   "cell_type": "code",
   "execution_count": 16,
   "metadata": {},
   "outputs": [
    {
     "name": "stdout",
     "output_type": "stream",
     "text": [
      "0\n",
      "1\n",
      "2\n",
      "3\n",
      "4\n",
      "5\n"
     ]
    },
    {
     "data": {
      "text/plain": [
       "[0, 1, 2, 5, 6, 7, 8]"
      ]
     },
     "execution_count": 16,
     "metadata": {},
     "output_type": "execute_result"
    }
   ],
   "source": [
    "nums = [5,2,1,7,6,8,0]\n",
    "selection_sort(nums)"
   ]
  },
  {
   "cell_type": "markdown",
   "metadata": {},
   "source": [
    "Insertion sort\n",
    "\n",
    "performance : O(N^2)"
   ]
  },
  {
   "cell_type": "code",
   "execution_count": 17,
   "metadata": {},
   "outputs": [],
   "source": [
    "def insertion_sort(nums):\n",
    "    \n",
    "    for i in range(len(nums)):\n",
    "        \n",
    "        j = i\n",
    "        \n",
    "        while j>0 and nums[j-1] > nums[j]:\n",
    "            swap(nums, j, j-1)\n",
    "            j = j -1\n",
    "    return nums\n",
    "\n",
    "def swap(nums, i, j):\n",
    "    temp = nums[i]\n",
    "    nums[i] = nums[j]\n",
    "    nums[j] = temp\n",
    "\n",
    "        "
   ]
  },
  {
   "cell_type": "code",
   "execution_count": 18,
   "metadata": {},
   "outputs": [
    {
     "data": {
      "text/plain": [
       "[0, 1, 2, 5, 6, 7, 8]"
      ]
     },
     "execution_count": 18,
     "metadata": {},
     "output_type": "execute_result"
    }
   ],
   "source": [
    "nums = [5,2,1,7,6,8,0]\n",
    "insertion_sort(nums)"
   ]
  },
  {
   "cell_type": "markdown",
   "metadata": {},
   "source": [
    "Quick sort\n",
    "\n",
    "inplace = yes  \n",
    "stable = no  \n",
    "usually fast\n",
    "o(n^2) sometimes\n"
   ]
  },
  {
   "cell_type": "code",
   "execution_count": 32,
   "metadata": {},
   "outputs": [],
   "source": [
    "def quick_sort(nums, low, high):\n",
    "    if low >= high:\n",
    "        return\n",
    "    \n",
    "    pivot_index = partition(nums,low, high)\n",
    "    quick_sort(nums, low, pivot_index -1)\n",
    "    quick_sort(nums, pivot_index+1, high)\n",
    "\n",
    "def partition(nums, low, high):\n",
    "    \n",
    "    pivot_index = (low + high)//2\n",
    "    swap(nums,pivot_index,high)\n",
    "    \n",
    "    i = low\n",
    "    \n",
    "    for j in range(low,high,1):\n",
    "        if nums[j] <= nums[high]:   ## decending >\n",
    "            swap(nums, i, j)\n",
    "            i = i + 1\n",
    "    swap(nums, i, high)\n",
    "    \n",
    "    return i\n",
    "    \n",
    "def swap(nums, i, j):\n",
    "    temp = nums[i]\n",
    "    nums[i] = nums[j]\n",
    "    nums[j] = temp\n",
    "\n",
    "            "
   ]
  },
  {
   "cell_type": "code",
   "execution_count": 33,
   "metadata": {},
   "outputs": [
    {
     "name": "stdout",
     "output_type": "stream",
     "text": [
      "[0, 1, 2, 5, 6, 7, 8]\n"
     ]
    }
   ],
   "source": [
    "nums = [5,2,1,7,6,8,0]\n",
    "quick_sort(nums,0,len(nums)-1)\n",
    "print(nums)"
   ]
  },
  {
   "cell_type": "markdown",
   "metadata": {},
   "source": [
    "Merge sort  \n",
    "performance : O(N logN)  \n",
    "inplace : no\n",
    "stable : yes"
   ]
  },
  {
   "cell_type": "code",
   "execution_count": 40,
   "metadata": {},
   "outputs": [],
   "source": [
    "def merge_sort(nums):\n",
    "    \n",
    "    if len(nums) == 1:\n",
    "        print(nums)\n",
    "        return\n",
    "    \n",
    "    middle_index = len(nums)//2\n",
    "    \n",
    "    left_half = nums[:middle_index]\n",
    "    right_half = nums[middle_index:]\n",
    "    \n",
    "    merge_sort(left_half)\n",
    "    merge_sort(right_half)\n",
    "    \n",
    "    i=0\n",
    "    j=0\n",
    "    k=0\n",
    "    \n",
    "    while i <len(left_half) and j < len(right_half):\n",
    "        if left_half[i] < right_half[j]:\n",
    "            nums[k] = left_half[i]\n",
    "            i = i + 1\n",
    "        else:\n",
    "            nums[k] = right_half[j]\n",
    "            j = j+ 1\n",
    "        k = k+1\n",
    "    \n",
    "    while i< len(left_half):\n",
    "        nums[k] = left_half[i]\n",
    "        k = k+1\n",
    "        i = i+1\n",
    "    \n",
    "    while j < len(right_half):\n",
    "        nums[k] = right_half[j]\n",
    "        k = k +1\n",
    "        j = j+1\n",
    "        "
   ]
  },
  {
   "cell_type": "code",
   "execution_count": 41,
   "metadata": {},
   "outputs": [
    {
     "name": "stdout",
     "output_type": "stream",
     "text": [
      "[2]\n",
      "[5]\n",
      "[4]\n",
      "[-1]\n",
      "[0]\n",
      "[1]\n"
     ]
    }
   ],
   "source": [
    "nums = [2,5,4,-1,0,1]\n",
    "merge_sort(nums)"
   ]
  },
  {
   "cell_type": "code",
   "execution_count": 48,
   "metadata": {},
   "outputs": [
    {
     "data": {
      "text/plain": [
       "[-1, 0, 1, 2, 4, 5]"
      ]
     },
     "execution_count": 48,
     "metadata": {},
     "output_type": "execute_result"
    }
   ],
   "source": [
    "nums"
   ]
  },
  {
   "cell_type": "markdown",
   "metadata": {},
   "source": [
    "그외 하이브리드 알고리즘\n",
    "intro sort : quick sort + heap sort  \n",
    "tim sort : insertion sort + mergesort  \n",
    "\n",
    "Non-comparison based sorting  \n",
    "--> counting sort : int만 정렬 가능  \n",
    "    ==> array의 max min 차이를 찾아서 countarray를 만들어 index를 만들어 index별로 카운트  \n",
    "\n",
    "radix sort : string sort 알고리즘  1. lsd string sorting, 2. MSD string sorting\n",
    "\n"
   ]
  },
  {
   "cell_type": "code",
   "execution_count": 59,
   "metadata": {},
   "outputs": [],
   "source": [
    "# iterator\n",
    "a = iter(nums) "
   ]
  },
  {
   "cell_type": "code",
   "execution_count": 60,
   "metadata": {},
   "outputs": [
    {
     "data": {
      "text/plain": [
       "4"
      ]
     },
     "execution_count": 60,
     "metadata": {},
     "output_type": "execute_result"
    }
   ],
   "source": [
    "next(a)\n",
    "next(a)\n",
    "next(a)\n",
    "next(a)\n",
    "next(a)\n"
   ]
  },
  {
   "cell_type": "code",
   "execution_count": 62,
   "metadata": {},
   "outputs": [
    {
     "name": "stdout",
     "output_type": "stream",
     "text": [
      "0\n",
      "1\n",
      "2\n",
      "3\n",
      "4\n"
     ]
    }
   ],
   "source": [
    "def generator(n):\n",
    "\n",
    "    i = 0\n",
    "\n",
    "    while i < n:\n",
    "\n",
    "        yield i\n",
    "\n",
    "        i += 1\n",
    "\n",
    "\n",
    "\n",
    "for x in generator(5):\n",
    "\n",
    "    print (x)\n",
    "\n",
    "\n"
   ]
  },
  {
   "cell_type": "code",
   "execution_count": 68,
   "metadata": {},
   "outputs": [
    {
     "data": {
      "text/plain": [
       "0"
      ]
     },
     "execution_count": 68,
     "metadata": {},
     "output_type": "execute_result"
    }
   ],
   "source": [
    "next(generator(5))"
   ]
  },
  {
   "cell_type": "code",
   "execution_count": null,
   "metadata": {},
   "outputs": [],
   "source": []
  },
  {
   "cell_type": "code",
   "execution_count": 58,
   "metadata": {},
   "outputs": [
    {
     "data": {
      "text/plain": [
       "['__call__',\n",
       " '__class__',\n",
       " '__delattr__',\n",
       " '__dir__',\n",
       " '__doc__',\n",
       " '__eq__',\n",
       " '__format__',\n",
       " '__ge__',\n",
       " '__getattribute__',\n",
       " '__gt__',\n",
       " '__hash__',\n",
       " '__init__',\n",
       " '__init_subclass__',\n",
       " '__le__',\n",
       " '__lt__',\n",
       " '__module__',\n",
       " '__name__',\n",
       " '__ne__',\n",
       " '__new__',\n",
       " '__qualname__',\n",
       " '__reduce__',\n",
       " '__reduce_ex__',\n",
       " '__repr__',\n",
       " '__self__',\n",
       " '__setattr__',\n",
       " '__sizeof__',\n",
       " '__str__',\n",
       " '__subclasshook__',\n",
       " '__text_signature__']"
      ]
     },
     "execution_count": 58,
     "metadata": {},
     "output_type": "execute_result"
    }
   ],
   "source": [
    "dir(next)"
   ]
  },
  {
   "cell_type": "code",
   "execution_count": 49,
   "metadata": {},
   "outputs": [
    {
     "name": "stdout",
     "output_type": "stream",
     "text": [
      "-1\n",
      "0\n",
      "1\n",
      "2\n",
      "4\n",
      "5\n"
     ]
    }
   ],
   "source": [
    "for i in nums:\n",
    "    print(i)"
   ]
  },
  {
   "cell_type": "code",
   "execution_count": 53,
   "metadata": {},
   "outputs": [
    {
     "name": "stdout",
     "output_type": "stream",
     "text": [
      "0\n",
      "1\n",
      "2\n",
      "3\n",
      "4\n"
     ]
    }
   ],
   "source": [
    "for i in iter(range(5)):\n",
    "    print(i)"
   ]
  },
  {
   "cell_type": "code",
   "execution_count": null,
   "metadata": {},
   "outputs": [],
   "source": []
  }
 ],
 "metadata": {
  "kernelspec": {
   "display_name": "mypython",
   "language": "python",
   "name": "myenv"
  },
  "language_info": {
   "codemirror_mode": {
    "name": "ipython",
    "version": 3
   },
   "file_extension": ".py",
   "mimetype": "text/x-python",
   "name": "python",
   "nbconvert_exporter": "python",
   "pygments_lexer": "ipython3",
   "version": "3.6.5"
  }
 },
 "nbformat": 4,
 "nbformat_minor": 2
}
