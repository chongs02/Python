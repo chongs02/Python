{
 "cells": [
  {
   "cell_type": "markdown",
   "metadata": {},
   "source": [
    "# 다음 큰 숫자\n",
    "\n",
    "### 어떤 수 N(1≤N≤1,000,000) 이 주어졌을 때, N의 다음 큰 숫자는 다음과 같습니다.\n",
    "### N의 다음 큰 숫자는 N을 2진수로 바꾸었을 때의 1의 개수와 같은 개수로 이루어진 수입니다.\n",
    "### 1번째 조건을 만족하는 숫자들 중 N보다 큰 수 중에서 가장 작은 숫자를 찾아야 합니다. \n",
    "### 예를 들어, 78을 2진수로 바꾸면 1001110 이며, 78의 다음 큰 숫자는 83으로 2진수는 1010011 입니다. \n",
    "### N이 주어질 때, N의 다음 큰 숫자를 찾는 nextBigNumber 함수를 완성하세요."
   ]
  },
  {
   "cell_type": "code",
   "execution_count": 1,
   "metadata": {},
   "outputs": [
    {
     "data": {
      "text/plain": [
       "'0b1001110'"
      ]
     },
     "execution_count": 1,
     "metadata": {},
     "output_type": "execute_result"
    }
   ],
   "source": [
    "bin(78)"
   ]
  },
  {
   "cell_type": "code",
   "execution_count": 2,
   "metadata": {},
   "outputs": [
    {
     "data": {
      "text/plain": [
       "'0b1010011'"
      ]
     },
     "execution_count": 2,
     "metadata": {},
     "output_type": "execute_result"
    }
   ],
   "source": [
    "bin(83)"
   ]
  },
  {
   "cell_type": "code",
   "execution_count": 3,
   "metadata": {},
   "outputs": [
    {
     "data": {
      "text/plain": [
       "str"
      ]
     },
     "execution_count": 3,
     "metadata": {},
     "output_type": "execute_result"
    }
   ],
   "source": [
    "type(bin(1000000))"
   ]
  },
  {
   "cell_type": "code",
   "execution_count": 4,
   "metadata": {},
   "outputs": [],
   "source": [
    "def nextBigNumber(n):\n",
    "    result =[]\n",
    "    for i in range(n+1,1000001):\n",
    "        if bin(n).count('1') == bin(i).count('1'):\n",
    "            result.append(i)\n",
    "    return min(result)"
   ]
  },
  {
   "cell_type": "code",
   "execution_count": 5,
   "metadata": {},
   "outputs": [
    {
     "data": {
      "text/plain": [
       "83"
      ]
     },
     "execution_count": 5,
     "metadata": {},
     "output_type": "execute_result"
    }
   ],
   "source": [
    "nextBigNumber(78)"
   ]
  },
  {
   "cell_type": "code",
   "execution_count": 6,
   "metadata": {},
   "outputs": [],
   "source": [
    "#bin(), oct(), hex() 내장함수를 통해 정수를 각 2진수, 8진수, 16진수로 바꿀 수 있다."
   ]
  },
  {
   "cell_type": "code",
   "execution_count": null,
   "metadata": {},
   "outputs": [],
   "source": []
  },
  {
   "cell_type": "markdown",
   "metadata": {},
   "source": [
    "# 야근 지수\n",
    "\n",
    "### 야근 지수 회사원인 수민이는 많은 일이 쌓여 있습니다. \n",
    "### 수민이는 야근을 최소화하기 위해 남은 일의 작업량을 숫자로 메기고, 일에 대한 야근 지수를 줄이기로 결정했습니다. \n",
    "### 야근 지수는 남은 일의 작업량을 제곱하여 더한 값을 의미합니다. \n",
    "### 수민이는 1시간 동안 남은 일 중 하나를 골라 작업량 1만큼 처리할 수 있습니다. \n",
    "### 수민이의 퇴근까지 남은 N 시간과 각 일에 대한 작업량이 있을 때, noOvertime 함수를 제작하여 수민이의 야근 지수를 최소화 한 결과를 출력해 주세요. \n",
    "### 예를 들어, N=4 일 때, 남은 일의 작업량이 [4, 3, 3] 이라면 야근 지수를 최소화하기 위해 일을 한 결과는 [2, 2, 2]가 되고 야근 지수는 22 + 22 + 22 = 12가 되어 12를 반환해 줍니다."
   ]
  },
  {
   "cell_type": "code",
   "execution_count": 7,
   "metadata": {},
   "outputs": [],
   "source": [
    "def noOvertime(n):\n",
    "    return"
   ]
  },
  {
   "cell_type": "code",
   "execution_count": 9,
   "metadata": {},
   "outputs": [],
   "source": [
    "def noOvertime(n,list):\n",
    "    result = []\n",
    "    f=0\n",
    "    for i in range(4):\n",
    "        a = list.index(max(list))\n",
    "        list[a] = list[a]-1\n",
    "    for j,k in enumerate(list):\n",
    "        f = f+k**2\n",
    "    return f"
   ]
  },
  {
   "cell_type": "code",
   "execution_count": 10,
   "metadata": {},
   "outputs": [
    {
     "data": {
      "text/plain": [
       "12"
      ]
     },
     "execution_count": 10,
     "metadata": {},
     "output_type": "execute_result"
    }
   ],
   "source": [
    "noOvertime(4, [4,3,3])"
   ]
  },
  {
   "cell_type": "markdown",
   "metadata": {},
   "source": [
    "# 피보나치 수열 구하기\n",
    "\n",
    "### 피보나치 수열이란, 첫 번째 항의 값이 0이고 두 번째 항의 값이 1일 때, 이후의 항들은 이전의 두 항을 더한 값으로 이루어지는 수열을 말한다.\n",
    "### 예) 0, 1, 1, 2, 3, 5, 8, 13\n",
    "### 인풋을 정수 n으로 받았을때, n 이하까지의 피보나치 수열을 출력하는 프로그램을 작성하세요"
   ]
  },
  {
   "cell_type": "code",
   "execution_count": 129,
   "metadata": {},
   "outputs": [],
   "source": [
    "def fib(n):\n",
    "    a1 = 0\n",
    "    a2 = 1\n",
    "    for i in range(n-2):\n",
    "        a2 , a1 = a2+a1, a2\n",
    "    return a2"
   ]
  },
  {
   "cell_type": "code",
   "execution_count": 131,
   "metadata": {},
   "outputs": [
    {
     "data": {
      "text/plain": [
       "3"
      ]
     },
     "execution_count": 131,
     "metadata": {},
     "output_type": "execute_result"
    }
   ],
   "source": [
    "fib(3)"
   ]
  },
  {
   "cell_type": "code",
   "execution_count": 122,
   "metadata": {},
   "outputs": [
    {
     "ename": "SyntaxError",
     "evalue": "invalid syntax (<ipython-input-122-6bb148625c67>, line 4)",
     "output_type": "error",
     "traceback": [
      "\u001b[1;36m  File \u001b[1;32m\"<ipython-input-122-6bb148625c67>\"\u001b[1;36m, line \u001b[1;32m4\u001b[0m\n\u001b[1;33m    [a2, a1 = a2+a1, a2 for i in range(n-2)]\u001b[0m\n\u001b[1;37m            ^\u001b[0m\n\u001b[1;31mSyntaxError\u001b[0m\u001b[1;31m:\u001b[0m invalid syntax\n"
     ]
    }
   ],
   "source": [
    "def fib(n):\n",
    "    a1 = 0\n",
    "    a2 = 1\n",
    "    [a2, a1 = a2+a1, a2 for i in range(n-2)]\n",
    "    return a2"
   ]
  },
  {
   "cell_type": "markdown",
   "metadata": {},
   "source": [
    "# 멀리 뛰기\n",
    "\n",
    "### 효진이는 멀리 뛰기를 연습하고 있습니다.\n",
    "### 효진이는 한번에 1칸, 또는 2칸을 뛸 수 있습니다. \n",
    "### 칸이 총 4개 있을 때, 효진이는 (1칸, 1칸, 1칸, 1칸) (1칸, 2칸, 1칸) (1칸, 1칸, 2칸) (2칸, 1칸, 1칸) (2칸, 2칸) 의 5가지 방법으로 맨 끝 칸에 도달할 수 있습니다.\n",
    "### 멀리뛰기에 사용될 칸의 수 n이 주어질 때, 효진이가 끝에 도달하는 방법이 몇 가지인지 출력하는 jumpCase 함수를 완성하세요. 예를 들어 4가 입력된다면, 5를 반환해 주면 됩니다."
   ]
  },
  {
   "cell_type": "code",
   "execution_count": 30,
   "metadata": {},
   "outputs": [],
   "source": [
    "def jumpCase(n):\n",
    "    def fib(n):\n",
    "        a1 = 0\n",
    "        a2 = 1\n",
    "        for i in range(n):\n",
    "            a2 , a1 = a2+a1, a2\n",
    "        return a2\n",
    "    return fib(n)"
   ]
  },
  {
   "cell_type": "code",
   "execution_count": 31,
   "metadata": {},
   "outputs": [
    {
     "data": {
      "text/plain": [
       "5"
      ]
     },
     "execution_count": 31,
     "metadata": {},
     "output_type": "execute_result"
    }
   ],
   "source": [
    "jumpCase(4)"
   ]
  },
  {
   "cell_type": "code",
   "execution_count": 22,
   "metadata": {},
   "outputs": [],
   "source": [
    "n = 4"
   ]
  },
  {
   "cell_type": "code",
   "execution_count": 33,
   "metadata": {},
   "outputs": [
    {
     "name": "stdout",
     "output_type": "stream",
     "text": [
      "5\n"
     ]
    }
   ],
   "source": [
    "# 다른사람 풀이\n",
    "def jumpCase(num):\n",
    "    result = [1, 2]\n",
    "    i = 0\n",
    "    while len(result) < num:\n",
    "        result.append(result[i] + result[i+1])\n",
    "        i += 1\n",
    "\n",
    "    return result[num-1]\n",
    "\n",
    "#아래는 테스트로 출력해 보기 위한 코드입니다.\n",
    "print(jumpCase(4))"
   ]
  },
  {
   "cell_type": "code",
   "execution_count": null,
   "metadata": {},
   "outputs": [],
   "source": []
  },
  {
   "cell_type": "markdown",
   "metadata": {},
   "source": [
    "# 시저암호\n",
    "\n",
    "### 어떤 문장의 각 알파벳을 일정한 거리만큼 밀어서 다른 알파벳으로 바꾸는 암호화 방식을 시저 암호라고 합니다.\n",
    "### A를 3만큼 밀면 D가 되고 z를 1만큼 밀면 a가 됩니다.\n",
    "### 공백은 수정하지 않습니다. \n",
    "### 보낼 문자열 s와 얼마나 밀지 알려주는 n을 입력받아 암호문을 만드는 ceasar 함수를 완성해 보세요. \n",
    "### “a B z”,4를 입력받았다면 “e F d”를 리턴합니다."
   ]
  },
  {
   "cell_type": "code",
   "execution_count": 111,
   "metadata": {},
   "outputs": [],
   "source": [
    "import string\n",
    "\n",
    "def ceasar(a,n):\n",
    "    alphabet = list(string.ascii_uppercase) + list(string.ascii_lowercase)\n",
    "    k=[]\n",
    "    a = a.split(' ')\n",
    "    for i in a:\n",
    "        if alphabet.index(i)+ n > 51:\n",
    "            new = alphabet.index(i)+ n - 52\n",
    "            k.append(alphabet[new])\n",
    "        else :\n",
    "            k.append(alphabet[alphabet.index(i)+n])\n",
    "    return k\n",
    "    "
   ]
  },
  {
   "cell_type": "code",
   "execution_count": 114,
   "metadata": {},
   "outputs": [
    {
     "data": {
      "text/plain": [
       "['e', 'F', 'D']"
      ]
     },
     "execution_count": 114,
     "metadata": {},
     "output_type": "execute_result"
    }
   ],
   "source": [
    "ceasar(a,4)"
   ]
  },
  {
   "cell_type": "code",
   "execution_count": 115,
   "metadata": {},
   "outputs": [
    {
     "name": "stdout",
     "output_type": "stream",
     "text": [
      "s는 \"a B z\", n은 4인 경우: e F d\n"
     ]
    }
   ],
   "source": [
    "# 다른사람 풀이\n",
    "\n",
    "def caesar(plain, no):\n",
    "    result = \"\"\n",
    "    for k in plain:\n",
    "        if k.isalpha():\n",
    "            if k.islower():\n",
    "                result += chr((ord(k) - ord(\"a\") + no) % 26 + ord(\"a\"))\n",
    "            else:\n",
    "                result += chr((ord(k) - ord(\"A\") + no) % 26 + ord(\"A\"))\n",
    "        else:\n",
    "            result += k\n",
    "    return result\n",
    "\n",
    "# 실행을 위한 테스트코드입니다.\n",
    "print('s는 \"a B z\", n은 4인 경우: ' + caesar(\"a B z\", 4))\n",
    "\n",
    "\n",
    "## chr(x) 을 통해서 ascii 코드 10진수, 16진수를 문자로 바꿀 수 있다.\n",
    "## ord(x) 를 통해서 axcii 문자를 10진수로 바꿀 수 있다."
   ]
  },
  {
   "cell_type": "code",
   "execution_count": null,
   "metadata": {},
   "outputs": [],
   "source": []
  },
  {
   "cell_type": "code",
   "execution_count": null,
   "metadata": {},
   "outputs": [],
   "source": []
  },
  {
   "cell_type": "code",
   "execution_count": null,
   "metadata": {},
   "outputs": [],
   "source": []
  },
  {
   "cell_type": "code",
   "execution_count": null,
   "metadata": {},
   "outputs": [],
   "source": []
  },
  {
   "cell_type": "code",
   "execution_count": null,
   "metadata": {},
   "outputs": [],
   "source": []
  },
  {
   "cell_type": "code",
   "execution_count": null,
   "metadata": {},
   "outputs": [],
   "source": []
  },
  {
   "cell_type": "code",
   "execution_count": null,
   "metadata": {},
   "outputs": [],
   "source": []
  },
  {
   "cell_type": "code",
   "execution_count": null,
   "metadata": {},
   "outputs": [],
   "source": []
  },
  {
   "cell_type": "code",
   "execution_count": null,
   "metadata": {},
   "outputs": [],
   "source": []
  },
  {
   "cell_type": "code",
   "execution_count": null,
   "metadata": {},
   "outputs": [],
   "source": []
  }
 ],
 "metadata": {
  "kernelspec": {
   "display_name": "Python 3",
   "language": "python",
   "name": "python3"
  },
  "language_info": {
   "codemirror_mode": {
    "name": "ipython",
    "version": 3
   },
   "file_extension": ".py",
   "mimetype": "text/x-python",
   "name": "python",
   "nbconvert_exporter": "python",
   "pygments_lexer": "ipython3",
   "version": "3.7.3"
  }
 },
 "nbformat": 4,
 "nbformat_minor": 2
}
