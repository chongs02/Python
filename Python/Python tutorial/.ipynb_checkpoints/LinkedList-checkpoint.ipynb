{
 "cells": [
  {
   "cell_type": "code",
   "execution_count": 2,
   "metadata": {},
   "outputs": [],
   "source": [
    "\n",
    "\n",
    "class Node:\n",
    "    def __init__(self, data, next=None):\n",
    "        self.data = data\n",
    "        self.next = None\n",
    "        "
   ]
  },
  {
   "cell_type": "code",
   "execution_count": 5,
   "metadata": {},
   "outputs": [],
   "source": [
    "#단방향 연결 리스트 구현\n",
    "\n",
    "class LinkedList:\n",
    "    def __init__(self):\n",
    "        HeadNode = Node('HEAD')\n",
    "        self.head = HeadNode\n",
    "        self.tail = HeadNode\n",
    "        self.NumOfData = 0\n",
    "        \n",
    "    def insert(self,data):\n",
    "        insertNode = Node(data)\n",
    "        self.tail.next = insertNode\n",
    "        self.tail = insertNode\n",
    "        self.NumOfData += 1\n",
    "        \n",
    "    def delete(self):\n",
    "        if self.NumOfData == 0:\n",
    "            print('List is empty!')\n",
    "            return false\n",
    "        elif self.NumOfData == 1:\n",
    "            delete_node = self.head.next\n",
    "            self.head.next = None\n",
    "            self.tail = self.head\n",
    "            self.NumOfData -= 1\n",
    "            print('리스트에서', delete_node.data,'데이터를 삭제하였습니다')\n",
    "            return delete_node.data\n",
    "        else:\n",
    "            delete_node = self.head.next\n",
    "            self.head.next = self.head.next.next\n",
    "            self.NumOfData -= 1\n",
    "            print('리스트에서', delete_node.data,'데이터를 삭제하였습니다.')\n",
    "            return delete_node.data\n",
    "        \n",
    "    def search(self,data):\n",
    "        check = self.head\n",
    "        for i in range(self.NumOfData):\n",
    "            if check.next.data == data:\n",
    "                print(data, '데이터는',i+1,'번째에 있습니다.')\n",
    "                return None\n",
    "            check = check.next\n",
    "        print(data,'데이터는 리스트에 없습니다.')\n",
    "        return None\n",
    "    \n",
    "    def listNum(self):\n",
    "        print('현재 리스트에는', self.NumOfData, '개의 요소가 있습니다.')\n",
    "        return self.NumOfData\n",
    "    \n",
    "    def printList(self):\n",
    "        current = self.head\n",
    "        if self.NumOfData == 0:\n",
    "            print('List is empty!')\n",
    "            return None\n",
    "        print('HEAD::', end='')\n",
    "        for i in range(self.NumOfData-1):\n",
    "            print(current.next.data,'->',end='')\n",
    "            current = current.next\n",
    "        print(current.next.data)\n",
    "      "
   ]
  },
  {
   "cell_type": "code",
   "execution_count": 7,
   "metadata": {},
   "outputs": [],
   "source": [
    "list = LinkedList()\n"
   ]
  },
  {
   "cell_type": "code",
   "execution_count": 8,
   "metadata": {},
   "outputs": [
    {
     "name": "stdout",
     "output_type": "stream",
     "text": [
      "List is empty!\n"
     ]
    }
   ],
   "source": [
    "list.printList()"
   ]
  },
  {
   "cell_type": "code",
   "execution_count": 9,
   "metadata": {},
   "outputs": [],
   "source": [
    "list.insert(1)"
   ]
  },
  {
   "cell_type": "code",
   "execution_count": 14,
   "metadata": {},
   "outputs": [],
   "source": [
    "list.insert(2)"
   ]
  },
  {
   "cell_type": "code",
   "execution_count": 15,
   "metadata": {},
   "outputs": [
    {
     "name": "stdout",
     "output_type": "stream",
     "text": [
      "HEAD::1 ->2\n"
     ]
    }
   ],
   "source": [
    "list.printList()"
   ]
  },
  {
   "cell_type": "code",
   "execution_count": 17,
   "metadata": {},
   "outputs": [
    {
     "name": "stdout",
     "output_type": "stream",
     "text": [
      "리스트에서 1 데이터를 삭제하였습니다.\n"
     ]
    },
    {
     "data": {
      "text/plain": [
       "1"
      ]
     },
     "execution_count": 17,
     "metadata": {},
     "output_type": "execute_result"
    }
   ],
   "source": [
    "list.delete()"
   ]
  },
  {
   "cell_type": "code",
   "execution_count": 18,
   "metadata": {},
   "outputs": [
    {
     "name": "stdout",
     "output_type": "stream",
     "text": [
      "HEAD::2\n"
     ]
    }
   ],
   "source": [
    "list.printList()"
   ]
  },
  {
   "cell_type": "code",
   "execution_count": null,
   "metadata": {},
   "outputs": [],
   "source": []
  }
 ],
 "metadata": {
  "kernelspec": {
   "display_name": "Python 3",
   "language": "python",
   "name": "python3"
  },
  "language_info": {
   "codemirror_mode": {
    "name": "ipython",
    "version": 3
   },
   "file_extension": ".py",
   "mimetype": "text/x-python",
   "name": "python",
   "nbconvert_exporter": "python",
   "pygments_lexer": "ipython3",
   "version": "3.7.3"
  }
 },
 "nbformat": 4,
 "nbformat_minor": 2
}
