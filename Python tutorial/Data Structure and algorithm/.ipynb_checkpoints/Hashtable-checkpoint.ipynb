{
 "cells": [
  {
   "cell_type": "code",
   "execution_count": 1,
   "metadata": {},
   "outputs": [],
   "source": [
    "capacity = 10\n",
    "\n",
    "class Heap:\n",
    "    \n",
    "    def __init__(self):\n",
    "        self.heap = [0]*capacity\n",
    "        self.heap_size = 0\n",
    "        \n",
    "    def insert(self, data):\n",
    "        if capacity == self.heap_size:\n",
    "            print(' capacity is full man~')\n",
    "            return\n",
    "        \n",
    "        self.heap[self.heap_size] = data\n",
    "        self.heap_size = self.heap_size + 1\n",
    "        \n",
    "        self.fix_up(self.heap_size - 1)\n",
    "\n",
    "        \n",
    "    def fix_up(self, index):\n",
    "        \n",
    "        parent_index = (index-1)//2\n",
    "        if index > 0 and self.heap[parent_index] < self.heap[index]:\n",
    "            self.swap(parent_index, index)\n",
    "            self.fix_up(parent_index)\n",
    "            \n",
    "    def swap(self, index1, index2):\n",
    "        self.heap[index1], self.heap[index2] = self.heap[index2], self.heap[index1]\n",
    "            \n",
    "    def get_max(self):\n",
    "        return self.heap[0]\n",
    "    \n",
    "    def heap_sort(self):\n",
    "        size = self.heap_size\n",
    "        \n",
    "        for i in range(size):\n",
    "            max = self.poll()\n",
    "            print(max)\n",
    "            \n",
    "    \n",
    "    def poll(self):\n",
    "        max = self.get_max()\n",
    "        \n",
    "        self.swap(0,self.heap_size-1)\n",
    "        self.heap_size = self.heap_size - 1\n",
    "        self.fix_down(0)\n",
    "        \n",
    "        return max\n",
    "            \n",
    "                   \n",
    "    def fix_down(self, index):\n",
    "        left_index = 2*index + 1\n",
    "        right_index = 2*index +2\n",
    "        \n",
    "        index_largest = index\n",
    "        \n",
    "        if left_index < self.heap_size and self.heap[left_index] > self.heap[index]:\n",
    "            index_largest = left_index\n",
    "            \n",
    "        if right_index < self.heap_size and self.heap[right_index] > self.heap[index]:\n",
    "            index_largest = right_index\n",
    "            \n",
    "        if index_largest != index:\n",
    "            self.swap(index, index_largest)\n",
    "            self.fix_down(index_largest)\n",
    "        \n",
    "        \n",
    "    "
   ]
  },
  {
   "cell_type": "code",
   "execution_count": 2,
   "metadata": {},
   "outputs": [],
   "source": [
    "heap = Heap()"
   ]
  },
  {
   "cell_type": "code",
   "execution_count": 3,
   "metadata": {},
   "outputs": [],
   "source": [
    "heap.insert(10)\n",
    "heap.insert(9)\n",
    "heap.insert(8)\n",
    "heap.insert(7)\n",
    "heap.insert(106)\n",
    "heap.insert(5)\n",
    "heap.insert(12)"
   ]
  },
  {
   "cell_type": "code",
   "execution_count": 4,
   "metadata": {},
   "outputs": [
    {
     "data": {
      "text/plain": [
       "106"
      ]
     },
     "execution_count": 4,
     "metadata": {},
     "output_type": "execute_result"
    }
   ],
   "source": [
    "heap.get_max()"
   ]
  },
  {
   "cell_type": "code",
   "execution_count": 5,
   "metadata": {},
   "outputs": [
    {
     "name": "stdout",
     "output_type": "stream",
     "text": [
      "106\n",
      "12\n",
      "8\n",
      "10\n",
      "9\n",
      "7\n",
      "5\n"
     ]
    }
   ],
   "source": [
    "heap.heap_sort()"
   ]
  },
  {
   "cell_type": "code",
   "execution_count": null,
   "metadata": {},
   "outputs": [],
   "source": []
  }
 ],
 "metadata": {
  "kernelspec": {
   "display_name": "mypython",
   "language": "python",
   "name": "myenv"
  },
  "language_info": {
   "codemirror_mode": {
    "name": "ipython",
    "version": 3
   },
   "file_extension": ".py",
   "mimetype": "text/x-python",
   "name": "python",
   "nbconvert_exporter": "python",
   "pygments_lexer": "ipython3",
   "version": "3.6.5"
  }
 },
 "nbformat": 4,
 "nbformat_minor": 2
}
