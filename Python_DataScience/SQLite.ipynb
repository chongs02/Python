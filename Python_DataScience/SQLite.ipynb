{
 "cells": [
  {
   "cell_type": "code",
   "execution_count": 1,
   "metadata": {},
   "outputs": [],
   "source": [
    "import sqlite3"
   ]
  },
  {
   "cell_type": "code",
   "execution_count": 2,
   "metadata": {},
   "outputs": [],
   "source": [
    "# conn = sqlite3.connect(':memory:') # 메모리 DB 접속(일회성)"
   ]
  },
  {
   "cell_type": "code",
   "execution_count": 3,
   "metadata": {},
   "outputs": [],
   "source": [
    "conn = sqlite3.connect('test.db') # 파일 DB 접속\n",
    "cur = conn.cursor()"
   ]
  },
  {
   "cell_type": "code",
   "execution_count": 48,
   "metadata": {},
   "outputs": [],
   "source": [
    " # Table 생성\n",
    "cur = conn.cursor()\n",
    "cur.execute('CREATE TABLE IF NOT EXISTS Eagles (back_no INT NOT NULL,name TEXT,position TEXT,PRIMARY KEY(back_no));')\n",
    "conn.commit()\n"
   ]
  },
  {
   "cell_type": "code",
   "execution_count": 45,
   "metadata": {},
   "outputs": [],
   "source": [
    " # Table 지우기\n",
    "cur = conn.cursor()\n",
    "cur.execute('DROP TABLE Eagles') \n",
    "conn.commit()\n",
    "# conn.close()"
   ]
  },
  {
   "cell_type": "code",
   "execution_count": 40,
   "metadata": {},
   "outputs": [],
   "source": []
  },
  {
   "cell_type": "code",
   "execution_count": 49,
   "metadata": {},
   "outputs": [],
   "source": [
    "# Insert Items into Table\n",
    "sql = \"insert into Eagles(back_no,name,position) values (?, ?, ?)\"\n",
    "cur.execute(sql, (1, '홍길동', '서울'))\n",
    "cur.execute(sql, (2, '신은총', '익산'))\n",
    "cur.execute(sql, (4, '박진원', '전주'))\n",
    "cur.execute(sql, (99, '푸른산', '전주'))\n",
    "cur.execute(sql, (38, '권재', '대전'))\n",
    "conn.commit()\n",
    "# conn.close()"
   ]
  },
  {
   "cell_type": "code",
   "execution_count": 53,
   "metadata": {},
   "outputs": [
    {
     "name": "stdout",
     "output_type": "stream",
     "text": [
      "(1, '홍길동', '서울')\n",
      "(2, '신은총', '익산')\n",
      "(4, '박진원', '전주')\n",
      "(99, '푸른산', '전주')\n",
      "(38, '권재', '대전')\n"
     ]
    }
   ],
   "source": [
    "# Table 모두 조회\n",
    "cur = conn.cursor()\n",
    "cur.execute('SELECT * FROM Eagles')\n",
    "rows = cur.fetchall()\n",
    "for row in rows:\n",
    "    print(row)"
   ]
  },
  {
   "cell_type": "code",
   "execution_count": 56,
   "metadata": {},
   "outputs": [
    {
     "name": "stdout",
     "output_type": "stream",
     "text": [
      "(1, '홍길동', '서울')\n",
      "(2, '신은총', '익산')\n",
      "(4, '박진원', '전주')\n",
      "(99, '푸른산', '전주')\n",
      "(38, '권재', '대전')\n"
     ]
    }
   ],
   "source": [
    "#with 문 이용\n",
    "\n",
    "with conn:\n",
    "    cur = conn.cursor()\n",
    "    cur.execute(\"SELECT * FROM Eagles\")\n",
    "    rows = cur.fetchall()\n",
    "    for row in rows:\n",
    "        print(row)"
   ]
  },
  {
   "cell_type": "code",
   "execution_count": 59,
   "metadata": {},
   "outputs": [
    {
     "name": "stdout",
     "output_type": "stream",
     "text": [
      "(1, '홍길동', '서울')\n"
     ]
    }
   ],
   "source": [
    "# 1건 조회\n",
    "cur = conn.cursor()\n",
    "cur.execute('SELECT * FROM Eagles')\n",
    "row = cur.fetchone()\n",
    "print(row)\n"
   ]
  },
  {
   "cell_type": "code",
   "execution_count": 62,
   "metadata": {},
   "outputs": [
    {
     "name": "stdout",
     "output_type": "stream",
     "text": [
      "[(1, '홍길동', '서울'), (2, '신은총', '익산')]\n"
     ]
    }
   ],
   "source": [
    "# 다건 조회\n",
    "cur = conn.cursor()\n",
    "cur.execute('SELECT * FROM Eagles')\n",
    "rows = cur.fetchmany(2)\n",
    "print(rows)"
   ]
  },
  {
   "cell_type": "code",
   "execution_count": 64,
   "metadata": {},
   "outputs": [
    {
     "name": "stdout",
     "output_type": "stream",
     "text": [
      "('권재',)\n",
      "('푸른산',)\n"
     ]
    }
   ],
   "source": [
    "# 필요한 column만 조회\n",
    "cur = conn.cursor()\n",
    "cur.execute(\"SELECT name FROM Eagles WHERE back_no > 10\")\n",
    "rows = cur.fetchall();\n",
    "for row in rows:\n",
    "    print(row)"
   ]
  },
  {
   "cell_type": "code",
   "execution_count": 66,
   "metadata": {},
   "outputs": [
    {
     "name": "stdout",
     "output_type": "stream",
     "text": [
      "홍길동\n"
     ]
    }
   ],
   "source": [
    "# 원하는 순서 및 갯수\n",
    "cur.execute(\"SELECT * FROM Eagles ORDER BY name\")\n",
    "cur.execute(\"SELECT * FROM Eagles ORDER BY name DESC\")\n",
    "cur.execute(\"SELECT * FROM Eagles ORDER BY name DESC LIMIT 1\")\n",
    "row = cur.fetchone()\n",
    "print(row[1])"
   ]
  },
  {
   "cell_type": "code",
   "execution_count": 69,
   "metadata": {},
   "outputs": [
    {
     "name": "stdout",
     "output_type": "stream",
     "text": [
      "(5,)\n"
     ]
    }
   ],
   "source": [
    "# 집계 함수\n",
    "cur.execute(\"SELECT count(*) FROM Eagles\")\n",
    "count = cur.fetchone()\n",
    "print(count)\n",
    "# max(column), min(column), sum(column), avg(column)"
   ]
  },
  {
   "cell_type": "code",
   "execution_count": 70,
   "metadata": {},
   "outputs": [
    {
     "name": "stdout",
     "output_type": "stream",
     "text": [
      "(4, '박진원', '전주')\n",
      "(99, '푸른산', '전주')\n"
     ]
    }
   ],
   "source": [
    "# 기본 스트링 쿼리\n",
    "cur = conn.cursor()\n",
    "cur.execute(\"SELECT * FROM Eagles WHERE position='전주';\")\n",
    "rows = cur.fetchall();\n",
    "for row in rows:\n",
    "    print(row)"
   ]
  },
  {
   "cell_type": "code",
   "execution_count": 73,
   "metadata": {},
   "outputs": [
    {
     "name": "stdout",
     "output_type": "stream",
     "text": [
      "(99, '푸른산', '전주')\n",
      "99\n"
     ]
    }
   ],
   "source": [
    "# Placeholder\n",
    "cur = conn.cursor()\n",
    "back_no = 99\n",
    "cur.execute(\"SELECT * FROM Eagles WHERE back_no=?;\", (back_no,))\n",
    "player = cur.fetchone()\n",
    "print(player)\n",
    "print(player[0])"
   ]
  },
  {
   "cell_type": "code",
   "execution_count": 74,
   "metadata": {},
   "outputs": [
    {
     "name": "stdout",
     "output_type": "stream",
     "text": [
      "('대전', 1)\n",
      "('서울', 1)\n",
      "('익산', 1)\n",
      "('전주', 2)\n"
     ]
    }
   ],
   "source": [
    "# Grouping\n",
    "cur = conn.cursor()\n",
    "sql = \"SELECT position, count(*) FROM Eagles GROUP BY position\"\n",
    "cur.execute(sql)\n",
    "rows = cur.fetchall()\n",
    "for row in rows:\n",
    "    print(row)"
   ]
  },
  {
   "cell_type": "code",
   "execution_count": 81,
   "metadata": {},
   "outputs": [],
   "source": [
    "# 데이터 변경\n",
    "position = '외야수'\n",
    "back_no = 8\n",
    "cur.execute(\"UPDATE Eagles SET position=? WHERE back_no=?;\",(position, back_no))\n",
    "cur.execute(\"SELECT * FROM Eagles WHERE back_no=?\", (back_no,))\n",
    "cur.fetchone()\n",
    "data = ((1995,1), (1986,57))\n",
    "sql = \"UPDATE Eagles SET position=? WHERE back_no=?\"\n",
    "cur.executemany(sql, data)\n",
    "conn.commit()"
   ]
  },
  {
   "cell_type": "code",
   "execution_count": 84,
   "metadata": {},
   "outputs": [],
   "source": [
    "#데이터 삭제\n",
    "cur = conn.cursor()\n",
    "cur.execute(\"DELETE FROM Eagles WHERE back_no=1\");"
   ]
  },
  {
   "cell_type": "code",
   "execution_count": 85,
   "metadata": {},
   "outputs": [
    {
     "name": "stdout",
     "output_type": "stream",
     "text": [
      "(2, '신은총', '익산')\n",
      "(4, '박진원', '전주')\n",
      "(99, '푸른산', '전주')\n",
      "(38, '권재', '대전')\n"
     ]
    }
   ],
   "source": [
    "with conn:\n",
    "    cur = conn.cursor()\n",
    "    cur.execute(\"SELECT * FROM Eagles\")\n",
    "    rows = cur.fetchall()\n",
    "    for row in rows:\n",
    "        print(row)"
   ]
  },
  {
   "cell_type": "code",
   "execution_count": 5,
   "metadata": {},
   "outputs": [
    {
     "ename": "OperationalError",
     "evalue": "duplicate column name: birth",
     "output_type": "error",
     "traceback": [
      "\u001b[1;31m---------------------------------------------------------------------------\u001b[0m",
      "\u001b[1;31mOperationalError\u001b[0m                          Traceback (most recent call last)",
      "\u001b[1;32m<ipython-input-5-a505f0f82824>\u001b[0m in \u001b[0;36m<module>\u001b[1;34m\u001b[0m\n\u001b[0;32m      1\u001b[0m \u001b[1;31m#테이블 변경\u001b[0m\u001b[1;33m\u001b[0m\u001b[1;33m\u001b[0m\u001b[1;33m\u001b[0m\u001b[0m\n\u001b[1;32m----> 2\u001b[1;33m \u001b[0mcur\u001b[0m\u001b[1;33m.\u001b[0m\u001b[0mexecute\u001b[0m\u001b[1;33m(\u001b[0m\u001b[1;34m\"ALTER TABLE Eagles ADD COLUMN birth INTEGER\"\u001b[0m\u001b[1;33m)\u001b[0m\u001b[1;33m\u001b[0m\u001b[1;33m\u001b[0m\u001b[0m\n\u001b[0m\u001b[0;32m      3\u001b[0m \u001b[0mconn\u001b[0m\u001b[1;33m.\u001b[0m\u001b[0mcommit\u001b[0m\u001b[1;33m(\u001b[0m\u001b[1;33m)\u001b[0m\u001b[1;33m\u001b[0m\u001b[1;33m\u001b[0m\u001b[0m\n",
      "\u001b[1;31mOperationalError\u001b[0m: duplicate column name: birth"
     ]
    }
   ],
   "source": [
    "#테이블 변경\n",
    "cur.execute(\"ALTER TABLE Eagles ADD COLUMN birth INTEGER\")\n",
    "conn.commit()"
   ]
  },
  {
   "cell_type": "code",
   "execution_count": 7,
   "metadata": {},
   "outputs": [
    {
     "name": "stdout",
     "output_type": "stream",
     "text": [
      "(2, '신은총', '익산', None)\n",
      "(4, '박진원', '전주', None)\n",
      "(99, '푸른산', '전주', None)\n",
      "(38, '권재', '대전', None)\n"
     ]
    }
   ],
   "source": [
    "with conn:\n",
    "    cur = conn.cursor()\n",
    "    cur.execute(\"SELECT * FROM Eagles\")\n",
    "    rows = cur.fetchall()\n",
    "    for row in rows:\n",
    "        print(row)"
   ]
  },
  {
   "cell_type": "code",
   "execution_count": null,
   "metadata": {},
   "outputs": [],
   "source": []
  },
  {
   "cell_type": "code",
   "execution_count": 6,
   "metadata": {},
   "outputs": [],
   "source": [
    "conn.commit()"
   ]
  },
  {
   "cell_type": "code",
   "execution_count": 87,
   "metadata": {},
   "outputs": [],
   "source": [
    "conn.close()"
   ]
  },
  {
   "cell_type": "code",
   "execution_count": null,
   "metadata": {},
   "outputs": [],
   "source": []
  }
 ],
 "metadata": {
  "kernelspec": {
   "display_name": "Python 3",
   "language": "python",
   "name": "python3"
  },
  "language_info": {
   "codemirror_mode": {
    "name": "ipython",
    "version": 3
   },
   "file_extension": ".py",
   "mimetype": "text/x-python",
   "name": "python",
   "nbconvert_exporter": "python",
   "pygments_lexer": "ipython3",
   "version": "3.7.3"
  }
 },
 "nbformat": 4,
 "nbformat_minor": 2
}
