{
 "cells": [
  {
   "cell_type": "code",
   "execution_count": 7,
   "metadata": {},
   "outputs": [],
   "source": [
    "import numpy as np\n",
    "import pandas as pd\n",
    "import xlrd\n",
    "import os\n",
    "%matplotlib inline"
   ]
  },
  {
   "cell_type": "code",
   "execution_count": 12,
   "metadata": {},
   "outputs": [],
   "source": [
    "def converter():\n",
    "    xls = input() #file directory and with \".xls\" \n",
    "    html = os.path.splitext(xls)[0]+'.html'\n",
    "    os.rename(xls,html) # \".xls\" to \".html\"\n",
    "    df = pd.read_html(r\"C:\\Users\\chongs\\Monthly Yield calculator\\V6\\Z_SGS_ANALYSIS_PATTERN.html\", skiprows = 2)[0]\n",
    "    col_name = pd.read_html(r\"C:\\Users\\chongs\\Monthly Yield calculator\\V6\\Z_SGS_ANALYSIS_PATTERN.html\")[2]   \n",
    "    col1 = col_name.iloc[0,:]\n",
    "    col2 = col_name.iloc[1,:]\n",
    "    col2.iloc[4:] = col1.shift(+2)   \n",
    "    df.columns = col2.values\n",
    "    df.iloc[:,4:] = df.iloc[:,4:].convert_objects(convert_numeric=True)\n",
    "    return df"
   ]
  },
  {
   "cell_type": "code",
   "execution_count": null,
   "metadata": {},
   "outputs": [],
   "source": [
    "converter()\n",
    "\n"
   ]
  },
  {
   "cell_type": "code",
   "execution_count": null,
   "metadata": {},
   "outputs": [],
   "source": []
  }
 ],
 "metadata": {
  "kernelspec": {
   "display_name": "datacontrol",
   "language": "python",
   "name": "datacontrol"
  },
  "language_info": {
   "codemirror_mode": {
    "name": "ipython",
    "version": 3
   },
   "file_extension": ".py",
   "mimetype": "text/x-python",
   "name": "python",
   "nbconvert_exporter": "python",
   "pygments_lexer": "ipython3",
   "version": "3.5.5"
  }
 },
 "nbformat": 4,
 "nbformat_minor": 2
}
