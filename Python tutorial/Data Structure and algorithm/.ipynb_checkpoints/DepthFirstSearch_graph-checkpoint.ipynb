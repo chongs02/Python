{
 "cells": [
  {
   "cell_type": "code",
   "execution_count": 9,
   "metadata": {},
   "outputs": [],
   "source": [
    "class Node:\n",
    "    \n",
    "    def __init__(self, data):\n",
    "        self.data = data\n",
    "        self.adjacency_list = []\n",
    "        self.visited = False\n",
    "        self.predecessor = None\n",
    "        \n",
    "class DepthFirstSearch:\n",
    "    \n",
    "    def dfs(self,node):\n",
    "        node.visited = True\n",
    "        print(node.data)\n",
    "        \n",
    "        for n in node.adjacency_list:\n",
    "            if not n.visited:\n",
    "                self.dfs(n)\n",
    "                \n",
    "        "
   ]
  },
  {
   "cell_type": "code",
   "execution_count": 15,
   "metadata": {},
   "outputs": [],
   "source": [
    "\n",
    "node1 = Node('A')\n",
    "node2 = Node('B')\n",
    "node3 = Node('C')\n",
    "node4 = Node('D')\n",
    "node5 = Node('E')\n",
    "node6 = Node('F')"
   ]
  },
  {
   "cell_type": "code",
   "execution_count": 16,
   "metadata": {},
   "outputs": [],
   "source": [
    "node1.adjacency_list.append(node2)\n",
    "node1.adjacency_list.append(node3)\n",
    "node2.adjacency_list.append(node4)\n",
    "node3.adjacency_list.append(node5)\n",
    "node4.adjacency_list.append(node6)"
   ]
  },
  {
   "cell_type": "code",
   "execution_count": 17,
   "metadata": {},
   "outputs": [],
   "source": [
    "dfs = DepthFirstSearch()"
   ]
  },
  {
   "cell_type": "code",
   "execution_count": 18,
   "metadata": {},
   "outputs": [
    {
     "name": "stdout",
     "output_type": "stream",
     "text": [
      "A\n",
      "B\n",
      "D\n",
      "F\n",
      "C\n",
      "E\n"
     ]
    }
   ],
   "source": [
    "dfs.dfs(node1)"
   ]
  },
  {
   "cell_type": "markdown",
   "metadata": {},
   "source": [
    "# stack으로 dfs 구현해보기"
   ]
  },
  {
   "cell_type": "code",
   "execution_count": 24,
   "metadata": {},
   "outputs": [],
   "source": [
    "class Node:\n",
    "    \n",
    "    def __init__(self, data):\n",
    "        self.data = data\n",
    "        self.link = []\n",
    "        self.visited = False\n",
    "        \n",
    "class DepthFirstSearch:\n",
    "    \n",
    "    def dfs(self,start_node):\n",
    "        stack = []\n",
    "        stack.append(start_node)\n",
    "        \n",
    "        \n",
    "        while stack:\n",
    "            current = stack.pop()\n",
    "            print(current.data)\n",
    "            current.visit = True\n",
    "            for i in current.link:\n",
    "                if not i.visited:\n",
    "                    stack.append(i)\n",
    "\n",
    "        "
   ]
  },
  {
   "cell_type": "code",
   "execution_count": 25,
   "metadata": {},
   "outputs": [],
   "source": [
    "\n",
    "node1 = Node('A')\n",
    "node2 = Node('B')\n",
    "node3 = Node('C')\n",
    "node4 = Node('D')\n",
    "node5 = Node('E')\n",
    "node6 = Node('F')"
   ]
  },
  {
   "cell_type": "code",
   "execution_count": 26,
   "metadata": {},
   "outputs": [],
   "source": [
    "node1.link.append(node2)\n",
    "node1.link.append(node3)\n",
    "node2.link.append(node4)\n",
    "node2.link.append(node5)\n",
    "node3.link.append(node6)"
   ]
  },
  {
   "cell_type": "code",
   "execution_count": 27,
   "metadata": {},
   "outputs": [],
   "source": [
    "dfs = DepthFirstSearch()"
   ]
  },
  {
   "cell_type": "code",
   "execution_count": 28,
   "metadata": {},
   "outputs": [
    {
     "name": "stdout",
     "output_type": "stream",
     "text": [
      "A\n",
      "C\n",
      "F\n",
      "B\n",
      "E\n",
      "D\n"
     ]
    }
   ],
   "source": [
    "dfs.dfs(node1)"
   ]
  },
  {
   "cell_type": "code",
   "execution_count": null,
   "metadata": {},
   "outputs": [],
   "source": []
  }
 ],
 "metadata": {
  "kernelspec": {
   "display_name": "Python 3",
   "language": "python",
   "name": "python3"
  },
  "language_info": {
   "codemirror_mode": {
    "name": "ipython",
    "version": 3
   },
   "file_extension": ".py",
   "mimetype": "text/x-python",
   "name": "python",
   "nbconvert_exporter": "python",
   "pygments_lexer": "ipython3",
   "version": "3.7.3"
  }
 },
 "nbformat": 4,
 "nbformat_minor": 2
}
